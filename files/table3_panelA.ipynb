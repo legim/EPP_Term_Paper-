{
 "cells": [
  {
   "cell_type": "code",
   "execution_count": 2,
   "metadata": {},
   "outputs": [],
   "source": [
    "import pandas as pd\n",
    "import numpy as np\n",
    "import seaborn as sns; sns.set_theme()\n",
    "import operator\n",
    "import os\n",
    "from pathlib import Path\n",
    "cwd = os.getcwd() # get path of current working directory\n",
    "main_folder = str(Path(cwd).parents[0]) # main folder is the lowest level in project"
   ]
  },
  {
   "cell_type": "code",
   "execution_count": 3,
   "metadata": {},
   "outputs": [],
   "source": [
    "#all steps as in the figure1_table1-2.ipynb, thus use already derived file\n",
    "cex84_02_div = pd.read_stata('cex84_02_div.dta')\n",
    "cex84_02_div = cex84_02_div.drop(columns=['gambling', 'toiletry', 'housuppl'])\n",
    "#cex84_02_div"
   ]
  },
  {
   "cell_type": "code",
   "execution_count": 4,
   "metadata": {},
   "outputs": [],
   "source": [
    "#Aggregate some small expenses with similar expenses\n",
    "cex84_02_div['foodout'] = cex84_02_div['foodout'] + cex84_02_div['foodwork'] \n",
    "cex84_02_div['renthome'] = cex84_02_div['renthome'] + cex84_02_div['rentothr']\n",
    "cex84_02_div['pubs'] = cex84_02_div['pubs'] + cex84_02_div['books']\n",
    "cex84_02_div['hospital'] = cex84_02_div['hospital'] + cex84_02_div['nurshome']\n",
    "cex84_02_div['masstran'] = cex84_02_div['masstran'] + cex84_02_div['tolls']\n",
    "cex84_02_div = cex84_02_div.drop(columns=['foodwork', 'rentothr', 'books', 'nurshome', 'tolls'])\n",
    "\n",
    "cex84_02_div['single'] = 1\n",
    "cex84_02_div.loc[cex84_02_div['wife_ed'] >=1, 'single'] = 0 \n",
    "cex84_02_div['wifeH'] = 0\n",
    "cex84_02_div.loc[cex84_02_div['wife_ed'] >=2, 'wifeH'] = 1 #/*spouse with some college, wife_ed with college ==3*/\n",
    "cex84_02_div['sex'] = cex84_02_div['sex'] - 1\n",
    "#cex84_02_div"
   ]
  },
  {
   "cell_type": "code",
   "execution_count": 5,
   "metadata": {},
   "outputs": [],
   "source": [
    "cex84_02_div.to_stata(\"sampleUS\")"
   ]
  },
  {
   "cell_type": "code",
   "execution_count": 6,
   "metadata": {
    "scrolled": true
   },
   "outputs": [],
   "source": [
    "cex84_02_div2 = cex84_02_div[cex84_02_div.single == 1]\n",
    "cex84_02_div2\n",
    "cex84_02_div2.to_stata(\"single\")\n",
    "\n",
    "cex84_02_div3 = cex84_02_div.loc[operator.and_(cex84_02_div['single'] == 0, cex84_02_div['wifeH'] == 0)]\n",
    "cex84_02_div3\n",
    "cex84_02_div3.to_stata(\"wifelessH\")\n",
    "\n",
    "cex84_02_div4 = cex84_02_div.loc[operator.and_(cex84_02_div['single'] == 0, cex84_02_div['wifeH'] == 1)]\n",
    "cex84_02_div4\n",
    "cex84_02_div4.to_stata(\"wifemoreH\")"
   ]
  },
  {
   "cell_type": "code",
   "execution_count": 7,
   "metadata": {},
   "outputs": [
    {
     "name": "stderr",
     "output_type": "stream",
     "text": [
      "C:\\Users\\gimat\\anaconda3\\lib\\site-packages\\pandas\\core\\frame.py:4296: SettingWithCopyWarning: \n",
      "A value is trying to be set on a copy of a slice from a DataFrame\n",
      "\n",
      "See the caveats in the documentation: https://pandas.pydata.org/pandas-docs/stable/user_guide/indexing.html#returning-a-view-versus-a-copy\n",
      "  return super().rename(\n"
     ]
    }
   ],
   "source": [
    "#shares\n",
    "cex84_02_div4.rename(columns={'foodhome':'share1', 'foodout':'share2', 'tobacco':'share3', 'alcohol':'share4', \n",
    "                             'niteclub':'share5', 'clothes':'share6','tailors':'share7', 'jewelry':'share8', \n",
    "                             'hlthbeau':'share9', 'renthome':'share10', 'furnish':'share11', 'elect':'share12', \n",
    "                             'gas':'share13','water':'share14', 'homefuel':'share15','telephon':'share16', \n",
    "                             'servants':'share17', 'drugs':'share18', 'orthopd':'share19', 'doctors':'share20', \n",
    "                             'hospital':'share21', 'helthins':'share22', 'busiserv':'share23', 'lifeins':'share24',\n",
    "                             'parts':'share25','carservs':'share26', 'gasoline':'share27', 'autoins':'share28', \n",
    "                             'masstran':'share29', 'othtrans':'share30', 'airfare':'share31', 'pubs':'share32', \n",
    "                             'recsport':'share33', 'othrec':'share34', 'highedu':'share35','lowedu':'share36', \n",
    "                             'othedu':'share37', 'charity':'share38'}, inplace=True)"
   ]
  },
  {
   "cell_type": "code",
   "execution_count": 8,
   "metadata": {},
   "outputs": [],
   "source": [
    "cex84_02_div4 = cex84_02_div4[['share1', 'share2', 'share3', 'share4', 'share5', 'share6', 'share7', 'share8', 'share9',\n",
    "                               'share10', 'share11', 'share12', 'share13', 'share14', 'share15', 'share16', 'share17', \n",
    "                               'share18', 'share19', 'share20', 'share21', 'share22', 'share23', 'share24', 'share25',\n",
    "                               'share26', 'share27', 'share28', 'share29', 'share30', 'share31', 'share32', 'share33', \n",
    "                               'share34', 'share35', 'share36', 'share37', 'share38', 'ltotexp', 'age', 'ee', 'sex', \n",
    "                               'nchild', 'meanee']]\n",
    "cex84_02_div4['id'] = np.arange(1, len(cex84_02_div4)+1)\n",
    "cex84_02_div4 = cex84_02_div4.reset_index().drop(columns=['index'])\n",
    "#cex84_02_div4"
   ]
  },
  {
   "cell_type": "code",
   "execution_count": 9,
   "metadata": {},
   "outputs": [],
   "source": [
    "new_cex84_02_div4 = pd.wide_to_long(cex84_02_div4, [\"share\"], i='id', j=\"ind\")\n",
    "new_cex84_02_div4 = new_cex84_02_div4.sort_values(by=['id','ind'])\n",
    "#new_cex84_02_div4"
   ]
  },
  {
   "cell_type": "code",
   "execution_count": 10,
   "metadata": {},
   "outputs": [
    {
     "name": "stderr",
     "output_type": "stream",
     "text": [
      "<ipython-input-10-c85b2b94a882>:1: FutureWarning: Indexing with multiple keys (implicitly converted to a tuple of keys) will be deprecated, use a list instead.\n",
      "  shares_cex84_02_div4 = new_cex84_02_div4.groupby('ind')['share', 'meanee'].mean()\n"
     ]
    }
   ],
   "source": [
    "shares_cex84_02_div4 = new_cex84_02_div4.groupby('ind')['share', 'meanee'].mean()"
   ]
  },
  {
   "cell_type": "code",
   "execution_count": 11,
   "metadata": {},
   "outputs": [],
   "source": [
    "shares_cex84_02_div4.to_stata(\"shares3A\")"
   ]
  },
  {
   "cell_type": "code",
   "execution_count": 12,
   "metadata": {
    "scrolled": false
   },
   "outputs": [],
   "source": [
    "shares_reg = pd.read_stata('shares_reg1.dta')\n",
    "shares_reg['id'] = np.arange(1, len(shares_reg)+1)\n",
    "shares_reg_long = pd.wide_to_long(shares_reg,[\"bdum\", \"gdum\", \"sbdum\", \"sgdum\"], i='id', j=\"ind\")\n",
    "\n",
    "shares = pd.read_stata('shares3A')\n",
    "\n",
    "shares_joint = pd.merge(shares_reg_long, shares, on='ind')\n",
    "shares_joint.rename(columns={'bdum':'incomebeta', 'gdum':'educbeta', 'share':'meansh'}, inplace=True)\n",
    "shares_joint['sigmaincome'] = shares_joint['sbdum'] \n",
    "shares_joint['sigmaedu'] = shares_joint['sgdum'] \n",
    "#shares_joint"
   ]
  },
  {
   "cell_type": "code",
   "execution_count": 13,
   "metadata": {},
   "outputs": [],
   "source": [
    "shares_joint['elastincome'] = (shares_joint['incomebeta']/shares_joint['meansh'])+1\n",
    "shares_joint['elastedu'] = (shares_joint['educbeta']*shares_joint['meanee'])/shares_joint['meansh']\n",
    "\n",
    "shares_joint = shares_joint[['ind', 'elastedu', 'elastincome', 'meansh']]\n",
    "shares_joint.rename(columns={'elastedu':'elasteduH', 'elastincome':'elastincomeH', 'meansh':'meanshH'}, inplace=True)\n",
    "#shares_joint"
   ]
  },
  {
   "cell_type": "code",
   "execution_count": 14,
   "metadata": {},
   "outputs": [],
   "source": [
    "shares_joint.to_stata(\"elastH\")"
   ]
  },
  {
   "cell_type": "code",
   "execution_count": 15,
   "metadata": {},
   "outputs": [],
   "source": [
    "#single families\n",
    "single = pd.read_stata('single')\n",
    "single.rename(columns={'foodhome':'share1', 'foodout':'share2', 'tobacco':'share3', 'alcohol':'share4', 'niteclub':'share5', 'clothes':'share6','tailors':'share7', 'jewelry':'share8', 'hlthbeau':'share9', 'renthome':'share10', 'furnish':'share11', 'elect':'share12', 'gas':'share13','water':'share14', 'homefuel':'share15','telephon':'share16', 'servants':'share17', 'drugs':'share18', 'orthopd':'share19', 'doctors':'share20', 'hospital':'share21', 'helthins':'share22', 'busiserv':'share23', 'lifeins':'share24', 'parts':'share25','carservs':'share26', 'gasoline':'share27', 'autoins':'share28', 'masstran':'share29', 'othtrans':'share30', 'airfare':'share31', 'pubs':'share32', 'recsport':'share33', 'othrec':'share34', 'highedu':'share35','lowedu':'share36', 'othedu':'share37', 'charity':'share38'}, inplace=True)\n",
    "#single"
   ]
  },
  {
   "cell_type": "code",
   "execution_count": 16,
   "metadata": {},
   "outputs": [],
   "source": [
    "filter_col = [col for col in single if col.startswith('share')]"
   ]
  },
  {
   "cell_type": "code",
   "execution_count": 17,
   "metadata": {},
   "outputs": [],
   "source": [
    "single = single[['share1', 'share2','share3', 'share4','share5', 'share6','share7', 'share8','share9', 'share10','share11',\n",
    "                 'share12','share13', 'share14','share15', 'share16','share17', 'share18','share19', 'share20','share21',\n",
    "                 'share22','share23', 'share24','share25', 'share26','share27', 'share28','share29', 'share30','share31',\n",
    "                 'share32','share33', 'share34','share35', 'share36','share37', 'share38','ltotexp', 'age', 'ee', 'sex',\n",
    "                 'nchild', 'meanee']]\n",
    "single['id'] = np.arange(1, len(single)+1)\n",
    "#single"
   ]
  },
  {
   "cell_type": "code",
   "execution_count": 18,
   "metadata": {},
   "outputs": [],
   "source": [
    "#wide to long\n",
    "shares_wtl= pd.wide_to_long(single,['share'], i='id', j=\"ind\")\n",
    "#shares_wtl"
   ]
  },
  {
   "cell_type": "code",
   "execution_count": 19,
   "metadata": {},
   "outputs": [
    {
     "name": "stderr",
     "output_type": "stream",
     "text": [
      "<ipython-input-19-d6fbe7443a57>:1: FutureWarning: Indexing with multiple keys (implicitly converted to a tuple of keys) will be deprecated, use a list instead.\n",
      "  wl1 = shares_wtl.groupby('ind')['share', 'meanee'].mean()\n"
     ]
    }
   ],
   "source": [
    "wl1 = shares_wtl.groupby('ind')['share', 'meanee'].mean()\n",
    "wl2 = shares_wtl.groupby('ind')['share'].agg(['std'])\n",
    "wl3 = pd.merge(wl1, wl2, on='ind').rename(columns={'std': 'sigmash'})\n",
    "#wl3"
   ]
  },
  {
   "cell_type": "code",
   "execution_count": 20,
   "metadata": {},
   "outputs": [],
   "source": [
    "wl3.to_stata('shares1')"
   ]
  },
  {
   "cell_type": "code",
   "execution_count": 21,
   "metadata": {},
   "outputs": [],
   "source": [
    "shares_reg2 = pd.read_stata('shares_reg2.dta')\n",
    "#shares_reg2"
   ]
  },
  {
   "cell_type": "code",
   "execution_count": 22,
   "metadata": {},
   "outputs": [],
   "source": [
    "shares_reg2['id'] = np.arange(1, len(shares_reg2)+1)"
   ]
  },
  {
   "cell_type": "code",
   "execution_count": 23,
   "metadata": {},
   "outputs": [],
   "source": [
    "shares_reg2_long = pd.wide_to_long(shares_reg2,[\"bdum\", \"sbdum\", \"gdum\",\"sgdum\"], i='id', j=\"ind\")\n",
    "#shares_reg2_long "
   ]
  },
  {
   "cell_type": "code",
   "execution_count": 24,
   "metadata": {},
   "outputs": [],
   "source": [
    "shares = pd.read_stata('shares1')\n",
    "shares_joint = pd.merge(shares_reg2_long, shares, on='ind')\n",
    "shares_joint.rename(columns={'bdum':'incomebeta', 'gdum':'educbeta', 'share':'meansh'}, inplace=True)\n",
    "shares_joint['elastincome'] = (shares_joint['incomebeta']/shares_joint['meansh'])+1\n",
    "shares_joint['elastedu'] = (shares_joint['educbeta']*shares_joint['meanee'])/shares_joint['meansh']\n",
    "#shares_joint"
   ]
  },
  {
   "cell_type": "code",
   "execution_count": 25,
   "metadata": {
    "scrolled": true
   },
   "outputs": [],
   "source": [
    "shares_joint = shares_joint[['ind', 'elastedu', 'elastincome', 'meansh']]\n",
    "shares_joint.rename(columns={'elastedu':'elasteduS', 'elastincome':'elastincomeS', 'meansh':'meanshS'}, inplace=True)\n",
    "#shares_joint"
   ]
  },
  {
   "cell_type": "code",
   "execution_count": 26,
   "metadata": {},
   "outputs": [],
   "source": [
    "shares_joint.to_stata('elastS')"
   ]
  },
  {
   "cell_type": "code",
   "execution_count": 27,
   "metadata": {},
   "outputs": [],
   "source": [
    "#Spouse less than college\n",
    "wifelessH = pd.read_stata('wifelessH')\n",
    "wifelessH.rename(columns={'foodhome':'share1', 'foodout':'share2', 'tobacco':'share3', 'alcohol':'share4', 'niteclub':'share5', 'clothes':'share6','tailors':'share7', 'jewelry':'share8', 'hlthbeau':'share9', 'renthome':'share10', 'furnish':'share11', 'elect':'share12', 'gas':'share13','water':'share14', 'homefuel':'share15','telephon':'share16', 'servants':'share17', 'drugs':'share18', 'orthopd':'share19', 'doctors':'share20', 'hospital':'share21', 'helthins':'share22', 'busiserv':'share23', 'lifeins':'share24', 'parts':'share25','carservs':'share26', 'gasoline':'share27', 'autoins':'share28', 'masstran':'share29', 'othtrans':'share30', 'airfare':'share31', 'pubs':'share32', 'recsport':'share33', 'othrec':'share34', 'highedu':'share35','lowedu':'share36', 'othedu':'share37', 'charity':'share38'}, inplace=True)\n",
    "wifelessH = wifelessH[['share1', 'share2', 'share3', 'share4', 'share5', 'share6', 'share7', 'share8', 'share9', 'share10',\n",
    " 'share11', 'share12', 'share13', 'share14', 'share15', 'share16', 'share17', 'share18', 'share19', 'share20', 'share21', \n",
    "'share22', 'share23', 'share24', 'share25', 'share26', 'share27', 'share28', 'share29', 'share30', 'share31', 'share32',\n",
    " 'share33', 'share34', 'share35', 'share36', 'share37', 'share38','ltotexp', 'age', 'ee', 'sex', 'nchild', 'meanee']]\n",
    "wifelessH['id'] = np.arange(1, len(wifelessH)+1)\n",
    "#wide to long\n",
    "wifelessH_wtl= pd.wide_to_long(wifelessH,['share'], i='id', j=\"ind\")\n",
    "#wifelessH_wtl"
   ]
  },
  {
   "cell_type": "code",
   "execution_count": 28,
   "metadata": {},
   "outputs": [],
   "source": [
    "wifelessH_reg = pd.read_stata('wifelessH_reg.dta')\n",
    "wifelessH_reg['id'] = np.arange(1, len(shares_reg2)+1)\n",
    "#wifelessH_reg"
   ]
  },
  {
   "cell_type": "code",
   "execution_count": 29,
   "metadata": {},
   "outputs": [],
   "source": [
    "wifelessH_reg_long = pd.wide_to_long(wifelessH_reg,[\"bdum\", \"sbdum\", \"gdum\",\"sgdum\"], i='id', j=\"ind\")\n",
    "wifelessH_joint = pd.merge(wifelessH_reg_long, shares, on='ind')\n",
    "wifelessH_joint.rename(columns={'bdum':'incomebeta', 'gdum':'educbeta', 'share':'meansh'}, inplace=True)\n",
    "wifelessH_joint['elastincome'] = (wifelessH_joint['incomebeta']/wifelessH_joint['meansh'])+1\n",
    "wifelessH_joint['elastedu'] = (wifelessH_joint['educbeta']*wifelessH_joint['meanee'])/wifelessH_joint['meansh']\n",
    "wifelessH_joint\n",
    "\n",
    "wifelessH_joint = wifelessH_joint[['ind', 'elastedu', 'elastincome', 'meansh']]\n",
    "wifelessH_joint.rename(columns={'elastedu':'elasteduL', 'elastincome':'elastincomeL', 'meansh':'meanshL'}, inplace=True)\n",
    "#wifelessH_joint"
   ]
  },
  {
   "cell_type": "code",
   "execution_count": 30,
   "metadata": {},
   "outputs": [],
   "source": [
    "wifelessH_joint.to_stata('elastL')"
   ]
  },
  {
   "cell_type": "code",
   "execution_count": 31,
   "metadata": {},
   "outputs": [],
   "source": [
    "elastH = pd.read_stata('elastH')\n",
    "elastS = pd.read_stata('elastS')\n",
    "elastL = pd.read_stata('elastL')\n",
    "elastLH = pd.merge(elastL, elastH, on='ind')\n",
    "elarst_merged = pd.merge(elastLH, elastS, on='ind')\n",
    "elarst_merged = elarst_merged.drop(columns=['index', 'index_y','index_x'])\n",
    "#elarst_merged"
   ]
  },
  {
   "cell_type": "code",
   "execution_count": 32,
   "metadata": {},
   "outputs": [],
   "source": [
    "#TABLE3"
   ]
  },
  {
   "cell_type": "code",
   "execution_count": 33,
   "metadata": {},
   "outputs": [],
   "source": [
    "import seaborn as sns; sns.set_theme()\n",
    "import matplotlib.pyplot as plt"
   ]
  },
  {
   "cell_type": "code",
   "execution_count": 34,
   "metadata": {
    "scrolled": true
   },
   "outputs": [
    {
     "data": {
      "image/png": "[encoded data removed]",
      "text/plain": [
       "<Figure size 360x360 with 2 Axes>"
      ]
     },
     "metadata": {},
     "output_type": "display_data"
    }
   ],
   "source": [
    "#Correlation1\n",
    "corr1 = pd.DataFrame(elarst_merged,columns=['elastincomeS', 'elastincomeH', 'elastincomeL'])\n",
    "corrMatrix1 = corr1.corr()\n",
    "\n",
    "mask = np.zeros_like(corrMatrix1)\n",
    "mask[np.triu_indices_from(mask)] = True\n",
    "fig_heatmap, axs = plt.subplots(figsize=(5, 5))\n",
    "axs = sns.heatmap(\n",
    "    corrMatrix1, annot=True, fmt=\".2f\", vmin=-1, vmax=1, mask=mask, square=True, center=0\n",
    ")\n",
    "plt.show()"
   ]
  },
  {
   "cell_type": "code",
   "execution_count": 35,
   "metadata": {},
   "outputs": [
    {
     "data": {
      "image/png": "[encoded data removed]",
      "text/plain": [
       "<Figure size 360x360 with 2 Axes>"
      ]
     },
     "metadata": {},
     "output_type": "display_data"
    }
   ],
   "source": [
    "#Correlation2\n",
    "corr2 = pd.DataFrame(elarst_merged,columns=['elasteduS', 'elasteduH', 'elasteduL'])\n",
    "corrMatrix2 = corr2.corr()\n",
    "\n",
    "mask = np.zeros_like(corrMatrix2)\n",
    "mask[np.triu_indices_from(mask)] = True\n",
    "fig_heatmap, axs = plt.subplots(figsize=(5, 5))\n",
    "axs = sns.heatmap(\n",
    "    corrMatrix2, annot=True, fmt=\".2f\", vmin=-1, vmax=1, mask=mask, square=True, center=0\n",
    ")\n",
    "plt.show()"
   ]
  },
  {
   "cell_type": "code",
   "execution_count": 36,
   "metadata": {},
   "outputs": [],
   "source": [
    "elarst_merged['sic'] = np.nan\n",
    "\n",
    "elarst_merged.loc[elarst_merged['ind'] == 1, 'sic'] = 17 \n",
    "elarst_merged.loc[elarst_merged['ind'] == 2, 'sic'] = 121 \n",
    "elarst_merged.loc[elarst_merged['ind'] == 3, 'sic'] = 19\n",
    "elarst_merged.loc[elarst_merged['ind'] == 4, 'sic'] = 18 \n",
    "elarst_merged.loc[elarst_merged['ind'] == 5, 'sic'] = 121 \n",
    "elarst_merged.loc[elarst_merged['ind'] == 6, 'sic'] = 22\n",
    "elarst_merged.loc[elarst_merged['ind'] == 7, 'sic'] = 124 \n",
    "elarst_merged.loc[elarst_merged['ind'] == 8, 'sic'] = 45\n",
    "elarst_merged.loc[elarst_merged['ind'] == 9, 'sic'] = 124 \n",
    "elarst_merged.loc[elarst_merged['ind'] == 10, 'sic'] = 14 \n",
    "\n",
    "elarst_merged.loc[elarst_merged['ind'] == 11, 'sic'] = 67 \n",
    "elarst_merged.loc[elarst_merged['ind'] == 12, 'sic'] = 11 \n",
    "elarst_merged.loc[elarst_merged['ind'] == 13, 'sic'] = 12\n",
    "elarst_merged.loc[elarst_merged['ind'] == 14, 'sic'] = 13 \n",
    "elarst_merged.loc[elarst_merged['ind'] == 15, 'sic'] = 6 \n",
    "elarst_merged.loc[elarst_merged['ind'] == 16, 'sic'] = 86\n",
    "elarst_merged.loc[elarst_merged['ind'] == 17, 'sic'] = 124 \n",
    "elarst_merged.loc[elarst_merged['ind'] == 18, 'sic'] = 32\n",
    "elarst_merged.loc[elarst_merged['ind'] == 19, 'sic'] = 68 \n",
    "elarst_merged.loc[elarst_merged['ind'] == 20, 'sic'] = 116 \n",
    "\n",
    "elarst_merged.loc[elarst_merged['ind'] == 21, 'sic'] = 115 \n",
    "elarst_merged.loc[elarst_merged['ind'] == 22, 'sic'] = 91 \n",
    "elarst_merged.loc[elarst_merged['ind'] == 23, 'sic'] = 104\n",
    "elarst_merged.loc[elarst_merged['ind'] == 24, 'sic'] = 92\n",
    "elarst_merged.loc[elarst_merged['ind'] == 25, 'sic'] = 64\n",
    "elarst_merged.loc[elarst_merged['ind'] == 26, 'sic'] = 122\n",
    "elarst_merged.loc[elarst_merged['ind'] == 27, 'sic'] = 6 \n",
    "elarst_merged.loc[elarst_merged['ind'] == 28, 'sic'] = 95\n",
    "elarst_merged.loc[elarst_merged['ind'] == 29, 'sic'] = 76 \n",
    "elarst_merged.loc[elarst_merged['ind'] == 30, 'sic'] = 73 \n",
    "\n",
    "elarst_merged.loc[elarst_merged['ind'] == 31, 'sic'] = 72\n",
    "elarst_merged.loc[elarst_merged['ind'] == 32, 'sic'] = 81 \n",
    "elarst_merged.loc[elarst_merged['ind'] == 33, 'sic'] = 118\n",
    "elarst_merged.loc[elarst_merged['ind'] == 34, 'sic'] = 119\n",
    "elarst_merged.loc[elarst_merged['ind'] == 35, 'sic'] = 113 \n",
    "elarst_merged.loc[elarst_merged['ind'] == 36, 'sic'] = 113\n",
    "elarst_merged.loc[elarst_merged['ind'] == 37, 'sic'] = 113 \n",
    "elarst_merged.loc[elarst_merged['ind'] == 38, 'sic'] = 126\n"
   ]
  },
  {
   "cell_type": "code",
   "execution_count": 37,
   "metadata": {},
   "outputs": [],
   "source": [
    "skilloecdUS = pd.read_stata('skilloecdUS')\n",
    "elarst_merged_new = pd.merge(elarst_merged, skilloecdUS, on='sic')"
   ]
  },
  {
   "cell_type": "code",
   "execution_count": 38,
   "metadata": {},
   "outputs": [],
   "source": [
    "elarst_merged_new['skiloecd2'] = elarst_merged_new['skiloecd'] **2\n",
    "#elarst_merged_new"
   ]
  },
  {
   "cell_type": "code",
   "execution_count": 39,
   "metadata": {},
   "outputs": [],
   "source": [
    "from scipy import stats\n",
    "import statsmodels.api as sm\n",
    "import matplotlib.pyplot as plt\n",
    "from statsmodels.sandbox.regression.predstd import wls_prediction_std"
   ]
  },
  {
   "cell_type": "code",
   "execution_count": 47,
   "metadata": {},
   "outputs": [
    {
     "name": "stdout",
     "output_type": "stream",
     "text": [
      "                            WLS Regression Results                            \n",
      "==============================================================================\n",
      "Dep. Variable:              elasteduS   R-squared:                       0.103\n",
      "Model:                            WLS   Adj. R-squared:                  0.079\n",
      "Method:                 Least Squares   F-statistic:                     4.152\n",
      "Date:                Tue, 23 Mar 2021   Prob (F-statistic):             0.0490\n",
      "Time:                        12:35:28   Log-Likelihood:                 8.5788\n",
      "No. Observations:                  38   AIC:                            -13.16\n",
      "Df Residuals:                      36   BIC:                            -9.882\n",
      "Df Model:                           1                                         \n",
      "Covariance Type:            nonrobust                                         \n",
      "==============================================================================\n",
      "                 coef    std err          t      P>|t|      [0.025      0.975]\n",
      "------------------------------------------------------------------------------\n",
      "const         -0.2014      0.102     -1.982      0.055      -0.408       0.005\n",
      "skiloecd       0.5372      0.264      2.038      0.049       0.003       1.072\n",
      "==============================================================================\n",
      "Omnibus:                        4.375   Durbin-Watson:                   1.625\n",
      "Prob(Omnibus):                  0.112   Jarque-Bera (JB):                3.019\n",
      "Skew:                          -0.607   Prob(JB):                        0.221\n",
      "Kurtosis:                       3.658   Cond. No.                         12.8\n",
      "==============================================================================\n",
      "\n",
      "Notes:\n",
      "[1] Standard Errors assume that the covariance matrix of the errors is correctly specified.\n",
      "                            WLS Regression Results                            \n",
      "==============================================================================\n",
      "Dep. Variable:              elasteduS   R-squared:                       0.282\n",
      "Model:                            WLS   Adj. R-squared:                  0.241\n",
      "Method:                 Least Squares   F-statistic:                     6.859\n",
      "Date:                Tue, 23 Mar 2021   Prob (F-statistic):            0.00307\n",
      "Time:                        12:35:28   Log-Likelihood:                 12.788\n",
      "No. Observations:                  38   AIC:                            -19.58\n",
      "Df Residuals:                      35   BIC:                            -14.66\n",
      "Df Model:                           2                                         \n",
      "Covariance Type:            nonrobust                                         \n",
      "==============================================================================\n",
      "                 coef    std err          t      P>|t|      [0.025      0.975]\n",
      "------------------------------------------------------------------------------\n",
      "const          0.7208      0.326      2.209      0.034       0.058       1.383\n",
      "skiloecd      -4.0519      1.576     -2.571      0.015      -7.251      -0.853\n",
      "skiloecd2      5.3743      1.824      2.946      0.006       1.671       9.078\n",
      "==============================================================================\n",
      "Omnibus:                        4.035   Durbin-Watson:                   1.441\n",
      "Prob(Omnibus):                  0.133   Jarque-Bera (JB):                2.901\n",
      "Skew:                          -0.399   Prob(JB):                        0.235\n",
      "Kurtosis:                       4.094   Cond. No.                         122.\n",
      "==============================================================================\n",
      "\n",
      "Notes:\n",
      "[1] Standard Errors assume that the covariance matrix of the errors is correctly specified.\n",
      "                            WLS Regression Results                            \n",
      "==============================================================================\n",
      "Dep. Variable:              elasteduL   R-squared:                       0.024\n",
      "Model:                            WLS   Adj. R-squared:                 -0.003\n",
      "Method:                 Least Squares   F-statistic:                    0.8762\n",
      "Date:                Tue, 23 Mar 2021   Prob (F-statistic):              0.355\n",
      "Time:                        12:35:28   Log-Likelihood:                 16.398\n",
      "No. Observations:                  38   AIC:                            -28.80\n",
      "Df Residuals:                      36   BIC:                            -25.52\n",
      "Df Model:                           1                                         \n",
      "Covariance Type:            nonrobust                                         \n",
      "==============================================================================\n",
      "                 coef    std err          t      P>|t|      [0.025      0.975]\n",
      "------------------------------------------------------------------------------\n",
      "const         -0.0753      0.083     -0.911      0.369      -0.243       0.092\n",
      "skiloecd       0.2009      0.215      0.936      0.355      -0.234       0.636\n",
      "==============================================================================\n",
      "Omnibus:                        1.442   Durbin-Watson:                   1.753\n",
      "Prob(Omnibus):                  0.486   Jarque-Bera (JB):                1.397\n",
      "Skew:                          -0.410   Prob(JB):                        0.497\n",
      "Kurtosis:                       2.544   Cond. No.                         12.8\n",
      "==============================================================================\n",
      "\n",
      "Notes:\n",
      "[1] Standard Errors assume that the covariance matrix of the errors is correctly specified.\n",
      "                            WLS Regression Results                            \n",
      "==============================================================================\n",
      "Dep. Variable:              elasteduL   R-squared:                       0.223\n",
      "Model:                            WLS   Adj. R-squared:                  0.178\n",
      "Method:                 Least Squares   F-statistic:                     5.019\n",
      "Date:                Tue, 23 Mar 2021   Prob (F-statistic):             0.0121\n",
      "Time:                        12:35:28   Log-Likelihood:                 20.732\n",
      "No. Observations:                  38   AIC:                            -35.46\n",
      "Df Residuals:                      35   BIC:                            -30.55\n",
      "Df Model:                           2                                         \n",
      "Covariance Type:            nonrobust                                         \n",
      "==============================================================================\n",
      "                 coef    std err          t      P>|t|      [0.025      0.975]\n",
      "------------------------------------------------------------------------------\n",
      "const          0.6852      0.265      2.588      0.014       0.148       1.223\n",
      "skiloecd      -3.5838      1.279     -2.803      0.008      -6.180      -0.988\n",
      "skiloecd2      4.4323      1.480      2.995      0.005       1.428       7.437\n",
      "==============================================================================\n",
      "Omnibus:                        0.611   Durbin-Watson:                   1.765\n",
      "Prob(Omnibus):                  0.737   Jarque-Bera (JB):                0.621\n",
      "Skew:                          -0.275   Prob(JB):                        0.733\n",
      "Kurtosis:                       2.699   Cond. No.                         122.\n",
      "==============================================================================\n",
      "\n",
      "Notes:\n",
      "[1] Standard Errors assume that the covariance matrix of the errors is correctly specified.\n",
      "                            WLS Regression Results                            \n",
      "==============================================================================\n",
      "Dep. Variable:              elasteduH   R-squared:                       0.003\n",
      "Model:                            WLS   Adj. R-squared:                 -0.024\n",
      "Method:                 Least Squares   F-statistic:                    0.1195\n",
      "Date:                Tue, 23 Mar 2021   Prob (F-statistic):              0.732\n",
      "Time:                        12:35:28   Log-Likelihood:                 22.679\n",
      "No. Observations:                  38   AIC:                            -41.36\n",
      "Df Residuals:                      36   BIC:                            -38.08\n",
      "Df Model:                           1                                         \n",
      "Covariance Type:            nonrobust                                         \n",
      "==============================================================================\n",
      "                 coef    std err          t      P>|t|      [0.025      0.975]\n",
      "------------------------------------------------------------------------------\n",
      "const         -0.0230      0.069     -0.335      0.740      -0.163       0.117\n",
      "skiloecd       0.0595      0.172      0.346      0.732      -0.290       0.409\n",
      "==============================================================================\n",
      "Omnibus:                        2.984   Durbin-Watson:                   1.584\n",
      "Prob(Omnibus):                  0.225   Jarque-Bera (JB):                2.155\n",
      "Skew:                          -0.579   Prob(JB):                        0.340\n",
      "Kurtosis:                       3.145   Cond. No.                         11.4\n",
      "==============================================================================\n",
      "\n",
      "Notes:\n",
      "[1] Standard Errors assume that the covariance matrix of the errors is correctly specified.\n",
      "                            WLS Regression Results                            \n",
      "==============================================================================\n",
      "Dep. Variable:              elasteduH   R-squared:                       0.167\n",
      "Model:                            WLS   Adj. R-squared:                  0.120\n",
      "Method:                 Least Squares   F-statistic:                     3.513\n",
      "Date:                Tue, 23 Mar 2021   Prob (F-statistic):             0.0407\n",
      "Time:                        12:35:28   Log-Likelihood:                 26.092\n",
      "No. Observations:                  38   AIC:                            -46.18\n",
      "Df Residuals:                      35   BIC:                            -41.27\n",
      "Df Model:                           2                                         \n",
      "Covariance Type:            nonrobust                                         \n",
      "==============================================================================\n",
      "                 coef    std err          t      P>|t|      [0.025      0.975]\n",
      "------------------------------------------------------------------------------\n",
      "const          0.5207      0.217      2.402      0.022       0.081       0.961\n",
      "skiloecd      -2.6288      1.037     -2.536      0.016      -4.733      -0.524\n",
      "skiloecd2      3.1062      1.184      2.624      0.013       0.703       5.509\n",
      "==============================================================================\n",
      "Omnibus:                        2.036   Durbin-Watson:                   1.634\n",
      "Prob(Omnibus):                  0.361   Jarque-Bera (JB):                1.039\n",
      "Skew:                          -0.319   Prob(JB):                        0.595\n",
      "Kurtosis:                       3.498   Cond. No.                         107.\n",
      "==============================================================================\n",
      "\n",
      "Notes:\n",
      "[1] Standard Errors assume that the covariance matrix of the errors is correctly specified.\n"
     ]
    }
   ],
   "source": [
    "#1st regression function and results\n",
    "Y = elarst_merged_new[\"elasteduS\"]\n",
    "X = elarst_merged_new[\"skiloecd\"]\n",
    "w = elarst_merged_new[\"meanshS\"]\n",
    "X = sm.add_constant(X)\n",
    "model = sm.WLS(Y,X,w)\n",
    "results3 = model.fit()\n",
    "print(results3.summary()) \n",
    "\n",
    "#2nd regression function and results\n",
    "X = elarst_merged_new[[\"skiloecd\",\"skiloecd2\"]] \n",
    "y = elarst_merged_new[\"elasteduS\"]\n",
    "w = elarst_merged_new[\"meanshS\"]\n",
    "## fit a WLS model \n",
    "X = sm.add_constant(X)\n",
    "est = sm.WLS(y, X, w).fit()\n",
    "print(est.summary())\n",
    "\n",
    "#3rd regression function and results\n",
    "Y = elarst_merged_new[\"elasteduL\"]\n",
    "X = elarst_merged_new[\"skiloecd\"]\n",
    "w = elarst_merged_new[\"meanshL\"]\n",
    "X = sm.add_constant(X)\n",
    "model = sm.WLS(Y,X,w)\n",
    "results3 = model.fit()\n",
    "print(results3.summary()) \n",
    "\n",
    "#4th regression function and results\n",
    "X = elarst_merged_new[[\"skiloecd\",\"skiloecd2\"]] \n",
    "y = elarst_merged_new[\"elasteduL\"]\n",
    "w = elarst_merged_new[\"meanshL\"]\n",
    "## fit a WLS model \n",
    "X = sm.add_constant(X)\n",
    "est = sm.WLS(y, X, w).fit()\n",
    "print(est.summary())\n",
    "\n",
    "#5th regression function and results\n",
    "Y = elarst_merged_new[\"elasteduH\"]\n",
    "X = elarst_merged_new[\"skiloecd\"]\n",
    "w = elarst_merged_new[\"meanshH\"]\n",
    "X = sm.add_constant(X)\n",
    "model = sm.WLS(Y,X,w)\n",
    "results3 = model.fit()\n",
    "print(results3.summary()) \n",
    "\n",
    "#6th regression function and results\n",
    "X = elarst_merged_new[[\"skiloecd\",\"skiloecd2\"]] \n",
    "y = elarst_merged_new[\"elasteduH\"]\n",
    "w = elarst_merged_new[\"meanshH\"]\n",
    "## fit a WLS model \n",
    "X = sm.add_constant(X)\n",
    "est = sm.WLS(y, X, w).fit()\n",
    "print(est.summary())"
   ]
  },
  {
   "cell_type": "code",
   "execution_count": null,
   "metadata": {},
   "outputs": [],
   "source": [
    "#TABLE3 PANELA"
   ]
  },
  {
   "cell_type": "code",
   "execution_count": 46,
   "metadata": {},
   "outputs": [
    {
     "data": {
      "text/html": [
       "<div>\n",
       "<style scoped>\n",
       "    .dataframe tbody tr th:only-of-type {\n",
       "        vertical-align: middle;\n",
       "    }\n",
       "\n",
       "    .dataframe tbody tr th {\n",
       "        vertical-align: top;\n",
       "    }\n",
       "\n",
       "    .dataframe thead th {\n",
       "        text-align: right;\n",
       "    }\n",
       "</style>\n",
       "<table border=\"1\" class=\"dataframe\">\n",
       "  <thead>\n",
       "    <tr style=\"text-align: right;\">\n",
       "      <th></th>\n",
       "      <th>Singles</th>\n",
       "      <th>Singles</th>\n",
       "      <th>Spouse less than college</th>\n",
       "      <th>Spouse less than college</th>\n",
       "      <th>Spouse some college</th>\n",
       "      <th>Spouse some college</th>\n",
       "    </tr>\n",
       "  </thead>\n",
       "  <tbody>\n",
       "    <tr>\n",
       "      <th>Adj. skill intensity</th>\n",
       "      <td>0.537</td>\n",
       "      <td>-4.052</td>\n",
       "      <td>0.201</td>\n",
       "      <td>-3.584</td>\n",
       "      <td>0.0595</td>\n",
       "      <td>-2.629</td>\n",
       "    </tr>\n",
       "    <tr>\n",
       "      <th></th>\n",
       "      <td>(0.264)</td>\n",
       "      <td>(1.576)</td>\n",
       "      <td>(0.215)</td>\n",
       "      <td>(1.279)</td>\n",
       "      <td>(0.172)</td>\n",
       "      <td>(1.037)</td>\n",
       "    </tr>\n",
       "    <tr>\n",
       "      <th>Adj. skill intensity squared</th>\n",
       "      <td></td>\n",
       "      <td>5.374</td>\n",
       "      <td></td>\n",
       "      <td>4.432</td>\n",
       "      <td></td>\n",
       "      <td>3.106</td>\n",
       "    </tr>\n",
       "    <tr>\n",
       "      <th></th>\n",
       "      <td></td>\n",
       "      <td>(1.824)</td>\n",
       "      <td></td>\n",
       "      <td>(1.480)</td>\n",
       "      <td></td>\n",
       "      <td>(1.184)</td>\n",
       "    </tr>\n",
       "    <tr>\n",
       "      <th>Constant</th>\n",
       "      <td>-0.201</td>\n",
       "      <td>0.721</td>\n",
       "      <td>-0.0753</td>\n",
       "      <td>0.685</td>\n",
       "      <td>-0.023</td>\n",
       "      <td>0.521</td>\n",
       "    </tr>\n",
       "    <tr>\n",
       "      <th></th>\n",
       "      <td>(0.102)</td>\n",
       "      <td>(0.326)</td>\n",
       "      <td>(0.0827)</td>\n",
       "      <td>(0.265)</td>\n",
       "      <td>(0.0688)</td>\n",
       "      <td>(0.217)</td>\n",
       "    </tr>\n",
       "    <tr>\n",
       "      <th>R^2</th>\n",
       "      <td>0.103</td>\n",
       "      <td>0.282</td>\n",
       "      <td>0.024</td>\n",
       "      <td>0.223</td>\n",
       "      <td>0.003</td>\n",
       "      <td>0.167</td>\n",
       "    </tr>\n",
       "  </tbody>\n",
       "</table>\n",
       "</div>"
      ],
      "text/plain": [
       "                              Singles  Singles Spouse less than college  \\\n",
       "Adj. skill intensity            0.537   -4.052                    0.201   \n",
       "                              (0.264)  (1.576)                  (0.215)   \n",
       "Adj. skill intensity squared             5.374                            \n",
       "                                       (1.824)                            \n",
       "Constant                       -0.201    0.721                  -0.0753   \n",
       "                              (0.102)  (0.326)                 (0.0827)   \n",
       "R^2                             0.103    0.282                    0.024   \n",
       "\n",
       "                             Spouse less than college Spouse some college  \\\n",
       "Adj. skill intensity                           -3.584              0.0595   \n",
       "                                              (1.279)             (0.172)   \n",
       "Adj. skill intensity squared                    4.432                       \n",
       "                                              (1.480)                       \n",
       "Constant                                        0.685              -0.023   \n",
       "                                              (0.265)            (0.0688)   \n",
       "R^2                                             0.223               0.003   \n",
       "\n",
       "                             Spouse some college  \n",
       "Adj. skill intensity                      -2.629  \n",
       "                                         (1.037)  \n",
       "Adj. skill intensity squared               3.106  \n",
       "                                         (1.184)  \n",
       "Constant                                   0.521  \n",
       "                                         (0.217)  \n",
       "R^2                                        0.167  "
      ]
     },
     "execution_count": 46,
     "metadata": {},
     "output_type": "execute_result"
    }
   ],
   "source": [
    "skilloecd = [0.537,-4.052,0.201,-3.584,0.0595,-2.629]\n",
    "stderr_skilloecd = ['(0.264)','(1.576)','(0.215)','(1.279)', '(0.172)', '(1.037)']\n",
    "skilloecd2 = ['',5.374,'',4.432,'',3.106]\n",
    "stderr_skilloecd2 =['','(1.824)','','(1.480)', '', '(1.184)']\n",
    "Constant = [-0.201,0.721,-0.0753,0.685,-0.0230,0.521]\n",
    "stderr_cons = ['(0.102)','(0.326)','(0.0827)','(0.265)', '(0.0688)', '(0.217)']\n",
    "R_squared1 = [0.103,0.282,0.024,0.223,0.003,0.167]\n",
    "\n",
    "rows = [skilloecd,stderr_skilloecd,skilloecd2,stderr_skilloecd2,Constant,stderr_cons,R_squared1]\n",
    "index = [\"Adj. skill intensity\",'',\"Adj. skill intensity squared\",'',\"Constant\",'', \"R^2\"]\n",
    " \n",
    "TABLE3A = pd.DataFrame(data = rows, index=index, columns=['Singles','Singles','Spouse less than college',\n",
    "                                                     'Spouse less than college','Spouse some college','Spouse some college'])\n",
    "TABLE3A"
   ]
  },
  {
   "cell_type": "code",
   "execution_count": null,
   "metadata": {},
   "outputs": [],
   "source": []
  }
 ],
 "metadata": {
  "kernelspec": {
   "display_name": "Python 3",
   "language": "python",
   "name": "python3"
  },
  "language_info": {
   "codemirror_mode": {
    "name": "ipython",
    "version": 3
   },
   "file_extension": ".py",
   "mimetype": "text/x-python",
   "name": "python",
   "nbconvert_exporter": "python",
   "pygments_lexer": "ipython3",
   "version": "3.8.5"
  }
 },
 "nbformat": 4,
 "nbformat_minor": 2
}
