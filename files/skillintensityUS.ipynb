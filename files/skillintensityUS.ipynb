{
 "metadata": {
  "language_info": {
   "codemirror_mode": {
    "name": "ipython",
    "version": 3
   },
   "file_extension": ".py",
   "mimetype": "text/x-python",
   "name": "python",
   "nbconvert_exporter": "python",
   "pygments_lexer": "ipython3",
   "version": "3.9.1-final"
  },
  "orig_nbformat": 2,
  "kernelspec": {
   "name": "python3",
   "display_name": "Python 3.9.1 64-bit ('assignment_week_6': conda)",
   "metadata": {
    "interpreter": {
     "hash": "277e614f3395494ac1fddb589b6475a71631fa03c17edbbc76340247346d7bd5"
    }
   }
  }
 },
 "nbformat": 4,
 "nbformat_minor": 2,
 "cells": [
  {
   "cell_type": "code",
   "execution_count": 1,
   "metadata": {},
   "outputs": [],
   "source": [
    "import pandas as pd\n",
    "import numpy as np\n",
    "import operator\n",
    "from pathlib import Path\n",
    "cwd = os.getcwd() # get path of current working directory\n",
    "main_folder = str(Path(cwd).parents[0]) # main folder is the lowest level in project"
   ]
  },
  {
   "cell_type": "code",
   "execution_count": 2,
   "metadata": {},
   "outputs": [],
   "source": [
    "morg79 = pd.read_stata(main_folder + \"\\data\\morg79.dta\")\n",
    "morg80 = pd.read_stata(main_folder + \"\\data\\morg80.dta\")"
   ]
  },
  {
   "cell_type": "code",
   "execution_count": 3,
   "metadata": {},
   "outputs": [],
   "source": [
    "morg79[\"year\"]=1980"
   ]
  },
  {
   "cell_type": "code",
   "execution_count": 4,
   "metadata": {},
   "outputs": [],
   "source": [
    "morg79_new = morg79[[\"year\", \"age\", \"sex\", \"race\", \"esr\", \"gradeat\", \"ind70\", \"dind\", \"earnwke\", \"uhourse\"]]"
   ]
  },
  {
   "cell_type": "code",
   "execution_count": 5,
   "metadata": {},
   "outputs": [],
   "source": [
    "#append using\n",
    "morg_joint = morg79_new.append(morg80)"
   ]
  },
  {
   "cell_type": "code",
   "execution_count": 6,
   "metadata": {},
   "outputs": [],
   "source": [
    "morg_joint_2 = morg_joint[[\"year\", \"age\", \"sex\", \"race\", \"esr\", \"gradeat\", \"ind70\", \"dind\", \"earnwke\", \"uhourse\"]]"
   ]
  },
  {
   "cell_type": "code",
   "execution_count": 7,
   "metadata": {},
   "outputs": [],
   "source": [
    "morg_joint_2 = morg_joint_2[morg_joint_2.esr == 1]"
   ]
  },
  {
   "cell_type": "code",
   "execution_count": 8,
   "metadata": {},
   "outputs": [
    {
     "output_type": "execute_result",
     "data": {
      "text/plain": [
       "Index(['year', 'age', 'sex', 'race', 'esr', 'gradeat', 'ind70', 'dind',\n",
       "       'earnwke', 'uhourse'],\n",
       "      dtype='object')"
      ]
     },
     "metadata": {},
     "execution_count": 8
    }
   ],
   "source": [
    "morg_joint_2.columns"
   ]
  },
  {
   "cell_type": "code",
   "execution_count": 9,
   "metadata": {},
   "outputs": [
    {
     "output_type": "execute_result",
     "data": {
      "text/plain": [
       "'*H/L PER YEAR '"
      ]
     },
     "metadata": {},
     "execution_count": 9
    }
   ],
   "source": [
    "\"\"\"*H/L PER YEAR \"\"\""
   ]
  },
  {
   "cell_type": "code",
   "execution_count": 10,
   "metadata": {},
   "outputs": [
    {
     "output_type": "execute_result",
     "data": {
      "text/plain": [
       "\"\\nmorg_joint_2.loc[morg_joint_2[np.logical_and(morg_joint_2['gradeat'] > 12, morg_joint_2['gradeat'] == np.nan)], 'skill'] = 1\\n\""
      ]
     },
     "metadata": {},
     "execution_count": 10
    }
   ],
   "source": [
    "morg_joint_2.loc[morg_joint_2['year'] == 1980,'skill'] = 0\n",
    "morg_joint_2.loc[morg_joint_2['gradeat'] > 12,'skill'] = 1\n",
    "morg_joint_2.loc[morg_joint_2['skill'] == 0, 'l'] = 0\n",
    "morg_joint_2.loc[morg_joint_2['skill'] == 1, 'h'] = 1\n",
    "\n",
    "'''\n",
    "morg_joint_2.loc[morg_joint_2[np.logical_and(morg_joint_2['gradeat'] > 12, morg_joint_2['gradeat'] == np.nan)], 'skill'] = 1\n",
    "'''\n"
   ]
  },
  {
   "cell_type": "code",
   "execution_count": 11,
   "metadata": {},
   "outputs": [
    {
     "output_type": "execute_result",
     "data": {
      "text/plain": [
       "        year  age  sex  race  esr  gradeat  ind70  dind  earnwke  uhourse  \\\n",
       "0       1980   40    1     1    1       10  278.0  19.0    240.0     40.0   \n",
       "1       1980   36    2     1    1       12  838.0  41.0    280.0     40.0   \n",
       "4       1980   40    2     1    1       12  278.0  19.0    207.0     40.0   \n",
       "6       1980   42    1     1    1       12  338.0  24.0    454.0     35.0   \n",
       "7       1980   39    2     1    1       12   18.0   1.0    207.0     40.0   \n",
       "...      ...  ...  ...   ...  ...      ...    ...   ...      ...      ...   \n",
       "385931  1980   32    2     1    1       12  158.0   9.0    300.0     40.0   \n",
       "385933  1980   20    2     1    1       12  858.0  43.0    340.0     40.0   \n",
       "385935  1980   28    1     1    1       12  407.0  29.0    499.0     40.0   \n",
       "385937  1980   26    1     1    1       16   77.0   4.0    390.0     40.0   \n",
       "385938  1980   24    2     1    1       13   49.0   3.0    162.0     40.0   \n",
       "\n",
       "        skill    l    h  \n",
       "0         0.0  0.0  NaN  \n",
       "1         0.0  0.0  NaN  \n",
       "4         0.0  0.0  NaN  \n",
       "6         0.0  0.0  NaN  \n",
       "7         0.0  0.0  NaN  \n",
       "...       ...  ...  ...  \n",
       "385931    0.0  0.0  NaN  \n",
       "385933    0.0  0.0  NaN  \n",
       "385935    0.0  0.0  NaN  \n",
       "385937    1.0  NaN  1.0  \n",
       "385938    1.0  NaN  1.0  \n",
       "\n",
       "[399916 rows x 13 columns]"
      ],
      "text/html": "<div>\n<style scoped>\n    .dataframe tbody tr th:only-of-type {\n        vertical-align: middle;\n    }\n\n    .dataframe tbody tr th {\n        vertical-align: top;\n    }\n\n    .dataframe thead th {\n        text-align: right;\n    }\n</style>\n<table border=\"1\" class=\"dataframe\">\n  <thead>\n    <tr style=\"text-align: right;\">\n      <th></th>\n      <th>year</th>\n      <th>age</th>\n      <th>sex</th>\n      <th>race</th>\n      <th>esr</th>\n      <th>gradeat</th>\n      <th>ind70</th>\n      <th>dind</th>\n      <th>earnwke</th>\n      <th>uhourse</th>\n      <th>skill</th>\n      <th>l</th>\n      <th>h</th>\n    </tr>\n  </thead>\n  <tbody>\n    <tr>\n      <th>0</th>\n      <td>1980</td>\n      <td>40</td>\n      <td>1</td>\n      <td>1</td>\n      <td>1</td>\n      <td>10</td>\n      <td>278.0</td>\n      <td>19.0</td>\n      <td>240.0</td>\n      <td>40.0</td>\n      <td>0.0</td>\n      <td>0.0</td>\n      <td>NaN</td>\n    </tr>\n    <tr>\n      <th>1</th>\n      <td>1980</td>\n      <td>36</td>\n      <td>2</td>\n      <td>1</td>\n      <td>1</td>\n      <td>12</td>\n      <td>838.0</td>\n      <td>41.0</td>\n      <td>280.0</td>\n      <td>40.0</td>\n      <td>0.0</td>\n      <td>0.0</td>\n      <td>NaN</td>\n    </tr>\n    <tr>\n      <th>4</th>\n      <td>1980</td>\n      <td>40</td>\n      <td>2</td>\n      <td>1</td>\n      <td>1</td>\n      <td>12</td>\n      <td>278.0</td>\n      <td>19.0</td>\n      <td>207.0</td>\n      <td>40.0</td>\n      <td>0.0</td>\n      <td>0.0</td>\n      <td>NaN</td>\n    </tr>\n    <tr>\n      <th>6</th>\n      <td>1980</td>\n      <td>42</td>\n      <td>1</td>\n      <td>1</td>\n      <td>1</td>\n      <td>12</td>\n      <td>338.0</td>\n      <td>24.0</td>\n      <td>454.0</td>\n      <td>35.0</td>\n      <td>0.0</td>\n      <td>0.0</td>\n      <td>NaN</td>\n    </tr>\n    <tr>\n      <th>7</th>\n      <td>1980</td>\n      <td>39</td>\n      <td>2</td>\n      <td>1</td>\n      <td>1</td>\n      <td>12</td>\n      <td>18.0</td>\n      <td>1.0</td>\n      <td>207.0</td>\n      <td>40.0</td>\n      <td>0.0</td>\n      <td>0.0</td>\n      <td>NaN</td>\n    </tr>\n    <tr>\n      <th>...</th>\n      <td>...</td>\n      <td>...</td>\n      <td>...</td>\n      <td>...</td>\n      <td>...</td>\n      <td>...</td>\n      <td>...</td>\n      <td>...</td>\n      <td>...</td>\n      <td>...</td>\n      <td>...</td>\n      <td>...</td>\n      <td>...</td>\n    </tr>\n    <tr>\n      <th>385931</th>\n      <td>1980</td>\n      <td>32</td>\n      <td>2</td>\n      <td>1</td>\n      <td>1</td>\n      <td>12</td>\n      <td>158.0</td>\n      <td>9.0</td>\n      <td>300.0</td>\n      <td>40.0</td>\n      <td>0.0</td>\n      <td>0.0</td>\n      <td>NaN</td>\n    </tr>\n    <tr>\n      <th>385933</th>\n      <td>1980</td>\n      <td>20</td>\n      <td>2</td>\n      <td>1</td>\n      <td>1</td>\n      <td>12</td>\n      <td>858.0</td>\n      <td>43.0</td>\n      <td>340.0</td>\n      <td>40.0</td>\n      <td>0.0</td>\n      <td>0.0</td>\n      <td>NaN</td>\n    </tr>\n    <tr>\n      <th>385935</th>\n      <td>1980</td>\n      <td>28</td>\n      <td>1</td>\n      <td>1</td>\n      <td>1</td>\n      <td>12</td>\n      <td>407.0</td>\n      <td>29.0</td>\n      <td>499.0</td>\n      <td>40.0</td>\n      <td>0.0</td>\n      <td>0.0</td>\n      <td>NaN</td>\n    </tr>\n    <tr>\n      <th>385937</th>\n      <td>1980</td>\n      <td>26</td>\n      <td>1</td>\n      <td>1</td>\n      <td>1</td>\n      <td>16</td>\n      <td>77.0</td>\n      <td>4.0</td>\n      <td>390.0</td>\n      <td>40.0</td>\n      <td>1.0</td>\n      <td>NaN</td>\n      <td>1.0</td>\n    </tr>\n    <tr>\n      <th>385938</th>\n      <td>1980</td>\n      <td>24</td>\n      <td>2</td>\n      <td>1</td>\n      <td>1</td>\n      <td>13</td>\n      <td>49.0</td>\n      <td>3.0</td>\n      <td>162.0</td>\n      <td>40.0</td>\n      <td>1.0</td>\n      <td>NaN</td>\n      <td>1.0</td>\n    </tr>\n  </tbody>\n</table>\n<p>399916 rows × 13 columns</p>\n</div>"
     },
     "metadata": {},
     "execution_count": 11
    }
   ],
   "source": [
    "morg_joint_2"
   ]
  },
  {
   "cell_type": "code",
   "execution_count": 12,
   "metadata": {},
   "outputs": [
    {
     "output_type": "execute_result",
     "data": {
      "text/plain": [
       "' *INDUSTRY \\n'"
      ]
     },
     "metadata": {},
     "execution_count": 12
    }
   ],
   "source": [
    "\"\"\" *INDUSTRY \n",
    "\"\"\""
   ]
  },
  {
   "cell_type": "code",
   "execution_count": 13,
   "metadata": {},
   "outputs": [],
   "source": [
    "morg_joint_3 = morg_joint_2.rename(columns={'dind': 'ind_nber'})\n",
    "morg_joint_3['ind'] = np.nan"
   ]
  },
  {
   "cell_type": "code",
   "execution_count": 14,
   "metadata": {},
   "outputs": [],
   "source": [
    "morg_joint_3.loc[morg_joint_3['ind_nber'] == 19, 'ind'] = 1 #food home\n",
    "morg_joint_3.loc[morg_joint_3['ind70'] == 669, 'ind'] = 2 #food out\n",
    "morg_joint_3.loc[morg_joint_3['ind_nber'] == 20, 'ind'] = 3 #tobacco\n",
    "morg_joint_3.loc[morg_joint_3['ind70'] == 289, 'ind'] = 4 #alchol off premises\n",
    "morg_joint_3.loc[morg_joint_3['ind70'] == 9999999999999, 'ind'] = 5 #niteclub\n",
    "morg_joint_3.loc[morg_joint_3['ind_nber'] == 22, 'ind'] = 6 #clothing shoes\n",
    "morg_joint_3.loc[morg_joint_3['ind_nber'] == 38, 'ind'] = 7 #clothing services\n",
    "morg_joint_3.loc[morg_joint_3['ind70'] == 249, 'ind'] = 8 #jewelry prof equipment\n",
    "morg_joint_3.loc[morg_joint_3['ind_nber'] == 39, 'ind'] = 9 #beauty shops\n",
    "morg_joint_3.loc[morg_joint_3['ind_nber'] == 4, 'ind'] = 10 #housing\n",
    "\n",
    "morg_joint_3.loc[morg_joint_3['ind_nber'] == 6, 'ind'] = 11 #furniture household appliances\n",
    "morg_joint_3.loc[morg_joint_3['ind70'] == 467, 'ind'] = 12 #lectricity\n",
    "morg_joint_3.loc[morg_joint_3['ind70'] == 469, 'ind'] = 13 #gas\n",
    "morg_joint_3.loc[morg_joint_3['ind70'] == 477, 'ind'] = 14 #water\n",
    "morg_joint_3.loc[morg_joint_3['ind_nber'] == 26, 'ind'] = 15 #fuel oil\n",
    "morg_joint_3.loc[morg_joint_3['ind_nber'] == 30, 'ind'] = 16 #telephone\n",
    "morg_joint_3.loc[morg_joint_3['ind_nber'] == 36, 'ind'] = 17 #domestic services\n",
    "morg_joint_3.loc[morg_joint_3['ind_nber'] == 25, 'ind'] = 18 #drugs\n",
    "morg_joint_3.loc[morg_joint_3['ind70'] == 247, 'ind'] = 19 #oftamic products\n",
    "morg_joint_3.loc[np.logical_or(np.logical_and(morg_joint_3['ind70'] >= 828,morg_joint_2['ind70'] <= 837),np.logical_and(morg_joint_3['ind70'] >= 847,morg_joint_2['ind70'] <= 848)), 'ind'] = 20 #doctors\n",
    "\n",
    "morg_joint_3.loc[morg_joint_3['ind_nber'] == 41, 'ind'] = 21 #hospitals\n",
    "morg_joint_3.loc[morg_joint_3['ind_nber'] == 35, 'ind'] = 22 #insurance\n",
    "morg_joint_3.loc[np.logical_or(morg_joint_3['ind_nber'] == 37,morg_joint_3['ind_nber'] == 45), 'ind'] = 23 #+BUSINESS SERV.39\n",
    "morg_joint_3.loc[morg_joint_3['ind_nber'] == 9999999999, 'ind'] = 24 #insurance\n",
    "morg_joint_3.loc[np.logical_or(morg_joint_3['ind70'] == 177,morg_joint_3['ind70'] == 198), 'ind'] = 25 #auto parts\n",
    "morg_joint_3.loc[morg_joint_3['ind_nber'] == 38, 'ind'] = 26 #auto service\n",
    "morg_joint_3.loc[morg_joint_3['ind70'] == 558, 'ind'] = 27 #fuel\n",
    "morg_joint_3.loc[morg_joint_3['ind70'] == 99999999999, 'ind'] = 28 #auto insur\n",
    "morg_joint_3.loc[morg_joint_3['ind70'] == 408, 'ind'] = 29 #roads\n",
    "morg_joint_3.loc[morg_joint_3['ind70'] == 407, 'ind'] = 30 #taxi bus railway\n",
    "\n",
    "morg_joint_3.loc[morg_joint_3['ind70'] == 427, 'ind'] = 31 #air fares\n",
    "morg_joint_3.loc[morg_joint_3['ind_nber'] == 23, 'ind'] = 32\n",
    "morg_joint_3.loc[np.logical_or(np.logical_and(morg_joint_3['ind70'] >= 239,morg_joint_2['ind70'] <= 246),np.logical_and(morg_joint_3['ind70'] >= 250,morg_joint_2['ind70'] <= 257)), 'ind'] = 33 #recreation equipment\n",
    "morg_joint_3.loc[morg_joint_3['ind_nber'] == 40, 'ind'] = 34 #oth recreation\n",
    "morg_joint_3.loc[morg_joint_3['ind70'] == 858, 'ind'] = 35 #high educ\n",
    "morg_joint_3.loc[morg_joint_3['ind70'] == 857, 'ind'] = 36 #elem educ\n",
    "morg_joint_3.loc[morg_joint_3['ind70'] == 867, 'ind'] = 37 #other educ\n",
    "morg_joint_3.loc[morg_joint_3['ind_nber'] == 44, 'ind'] = 38 #relig and welfare\n"
   ]
  },
  {
   "cell_type": "code",
   "execution_count": 15,
   "metadata": {},
   "outputs": [
    {
     "output_type": "execute_result",
     "data": {
      "text/plain": [
       "        year  age  sex  race  esr  gradeat  ind70  ind_nber  earnwke  uhourse  \\\n",
       "0       1980   40    1     1    1       10  278.0      19.0    240.0     40.0   \n",
       "1       1980   36    2     1    1       12  838.0      41.0    280.0     40.0   \n",
       "4       1980   40    2     1    1       12  278.0      19.0    207.0     40.0   \n",
       "6       1980   42    1     1    1       12  338.0      24.0    454.0     35.0   \n",
       "7       1980   39    2     1    1       12   18.0       1.0    207.0     40.0   \n",
       "...      ...  ...  ...   ...  ...      ...    ...       ...      ...      ...   \n",
       "385931  1980   32    2     1    1       12  158.0       9.0    300.0     40.0   \n",
       "385933  1980   20    2     1    1       12  858.0      43.0    340.0     40.0   \n",
       "385935  1980   28    1     1    1       12  407.0      29.0    499.0     40.0   \n",
       "385937  1980   26    1     1    1       16   77.0       4.0    390.0     40.0   \n",
       "385938  1980   24    2     1    1       13   49.0       3.0    162.0     40.0   \n",
       "\n",
       "        skill    l    h   ind  \n",
       "0         0.0  0.0  NaN   1.0  \n",
       "1         0.0  0.0  NaN  21.0  \n",
       "4         0.0  0.0  NaN   1.0  \n",
       "6         0.0  0.0  NaN   NaN  \n",
       "7         0.0  0.0  NaN   NaN  \n",
       "...       ...  ...  ...   ...  \n",
       "385931    0.0  0.0  NaN   NaN  \n",
       "385933    0.0  0.0  NaN  35.0  \n",
       "385935    0.0  0.0  NaN  30.0  \n",
       "385937    1.0  NaN  1.0  10.0  \n",
       "385938    1.0  NaN  1.0   NaN  \n",
       "\n",
       "[399916 rows x 14 columns]"
      ],
      "text/html": "<div>\n<style scoped>\n    .dataframe tbody tr th:only-of-type {\n        vertical-align: middle;\n    }\n\n    .dataframe tbody tr th {\n        vertical-align: top;\n    }\n\n    .dataframe thead th {\n        text-align: right;\n    }\n</style>\n<table border=\"1\" class=\"dataframe\">\n  <thead>\n    <tr style=\"text-align: right;\">\n      <th></th>\n      <th>year</th>\n      <th>age</th>\n      <th>sex</th>\n      <th>race</th>\n      <th>esr</th>\n      <th>gradeat</th>\n      <th>ind70</th>\n      <th>ind_nber</th>\n      <th>earnwke</th>\n      <th>uhourse</th>\n      <th>skill</th>\n      <th>l</th>\n      <th>h</th>\n      <th>ind</th>\n    </tr>\n  </thead>\n  <tbody>\n    <tr>\n      <th>0</th>\n      <td>1980</td>\n      <td>40</td>\n      <td>1</td>\n      <td>1</td>\n      <td>1</td>\n      <td>10</td>\n      <td>278.0</td>\n      <td>19.0</td>\n      <td>240.0</td>\n      <td>40.0</td>\n      <td>0.0</td>\n      <td>0.0</td>\n      <td>NaN</td>\n      <td>1.0</td>\n    </tr>\n    <tr>\n      <th>1</th>\n      <td>1980</td>\n      <td>36</td>\n      <td>2</td>\n      <td>1</td>\n      <td>1</td>\n      <td>12</td>\n      <td>838.0</td>\n      <td>41.0</td>\n      <td>280.0</td>\n      <td>40.0</td>\n      <td>0.0</td>\n      <td>0.0</td>\n      <td>NaN</td>\n      <td>21.0</td>\n    </tr>\n    <tr>\n      <th>4</th>\n      <td>1980</td>\n      <td>40</td>\n      <td>2</td>\n      <td>1</td>\n      <td>1</td>\n      <td>12</td>\n      <td>278.0</td>\n      <td>19.0</td>\n      <td>207.0</td>\n      <td>40.0</td>\n      <td>0.0</td>\n      <td>0.0</td>\n      <td>NaN</td>\n      <td>1.0</td>\n    </tr>\n    <tr>\n      <th>6</th>\n      <td>1980</td>\n      <td>42</td>\n      <td>1</td>\n      <td>1</td>\n      <td>1</td>\n      <td>12</td>\n      <td>338.0</td>\n      <td>24.0</td>\n      <td>454.0</td>\n      <td>35.0</td>\n      <td>0.0</td>\n      <td>0.0</td>\n      <td>NaN</td>\n      <td>NaN</td>\n    </tr>\n    <tr>\n      <th>7</th>\n      <td>1980</td>\n      <td>39</td>\n      <td>2</td>\n      <td>1</td>\n      <td>1</td>\n      <td>12</td>\n      <td>18.0</td>\n      <td>1.0</td>\n      <td>207.0</td>\n      <td>40.0</td>\n      <td>0.0</td>\n      <td>0.0</td>\n      <td>NaN</td>\n      <td>NaN</td>\n    </tr>\n    <tr>\n      <th>...</th>\n      <td>...</td>\n      <td>...</td>\n      <td>...</td>\n      <td>...</td>\n      <td>...</td>\n      <td>...</td>\n      <td>...</td>\n      <td>...</td>\n      <td>...</td>\n      <td>...</td>\n      <td>...</td>\n      <td>...</td>\n      <td>...</td>\n      <td>...</td>\n    </tr>\n    <tr>\n      <th>385931</th>\n      <td>1980</td>\n      <td>32</td>\n      <td>2</td>\n      <td>1</td>\n      <td>1</td>\n      <td>12</td>\n      <td>158.0</td>\n      <td>9.0</td>\n      <td>300.0</td>\n      <td>40.0</td>\n      <td>0.0</td>\n      <td>0.0</td>\n      <td>NaN</td>\n      <td>NaN</td>\n    </tr>\n    <tr>\n      <th>385933</th>\n      <td>1980</td>\n      <td>20</td>\n      <td>2</td>\n      <td>1</td>\n      <td>1</td>\n      <td>12</td>\n      <td>858.0</td>\n      <td>43.0</td>\n      <td>340.0</td>\n      <td>40.0</td>\n      <td>0.0</td>\n      <td>0.0</td>\n      <td>NaN</td>\n      <td>35.0</td>\n    </tr>\n    <tr>\n      <th>385935</th>\n      <td>1980</td>\n      <td>28</td>\n      <td>1</td>\n      <td>1</td>\n      <td>1</td>\n      <td>12</td>\n      <td>407.0</td>\n      <td>29.0</td>\n      <td>499.0</td>\n      <td>40.0</td>\n      <td>0.0</td>\n      <td>0.0</td>\n      <td>NaN</td>\n      <td>30.0</td>\n    </tr>\n    <tr>\n      <th>385937</th>\n      <td>1980</td>\n      <td>26</td>\n      <td>1</td>\n      <td>1</td>\n      <td>1</td>\n      <td>16</td>\n      <td>77.0</td>\n      <td>4.0</td>\n      <td>390.0</td>\n      <td>40.0</td>\n      <td>1.0</td>\n      <td>NaN</td>\n      <td>1.0</td>\n      <td>10.0</td>\n    </tr>\n    <tr>\n      <th>385938</th>\n      <td>1980</td>\n      <td>24</td>\n      <td>2</td>\n      <td>1</td>\n      <td>1</td>\n      <td>13</td>\n      <td>49.0</td>\n      <td>3.0</td>\n      <td>162.0</td>\n      <td>40.0</td>\n      <td>1.0</td>\n      <td>NaN</td>\n      <td>1.0</td>\n      <td>NaN</td>\n    </tr>\n  </tbody>\n</table>\n<p>399916 rows × 14 columns</p>\n</div>"
     },
     "metadata": {},
     "execution_count": 15
    }
   ],
   "source": [
    "morg_joint_3"
   ]
  },
  {
   "cell_type": "code",
   "execution_count": 16,
   "metadata": {},
   "outputs": [],
   "source": [
    "labels = {1: 'Food',\n",
    "2: 'Eating_places',\n",
    "3: 'Tobacco',\n",
    "4: 'Beverage', \n",
    "5: 'Drinking_places',  \n",
    "6: 'Apparel',\n",
    "7: 'Repair_serv', \n",
    "8: 'Jewelry',\n",
    "9: 'Personal_Services',\n",
    "10: 'Housing',\n",
    "11: 'Housh_Supplies',\n",
    "12: 'Electricity',\n",
    "13: 'Gas',\n",
    "14: 'Water',\n",
    "15: 'Petroleum',\n",
    "16: 'Communications',\n",
    "17: 'Hous_Services',\n",
    "18: 'Drugs',\n",
    "19: 'Optical_equip',\n",
    "20: 'Health_services', \n",
    "21: 'Hospitals',\n",
    "22: 'Insurance',\n",
    "23: 'Business_serv',\n",
    "24: 'Insurance',\n",
    "25: 'Motor_equip',\n",
    "26: 'Repair_motor',\n",
    "27: 'Petroleum',\n",
    "28: 'Insurance',\n",
    "29: 'Railways',\n",
    "30: 'Railroads',\n",
    "31: 'Air_transp',\n",
    "31: 'Newspaper',\n",
    "33: 'Profes_equip',\n",
    "34: 'Entertainment',\n",
    "35: 'College_university', \n",
    "36: 'Elementary_school', \n",
    "37: 'Educational_serv',\n",
    "38: 'Social_serv'}\n",
    "\n"
   ]
  },
  {
   "cell_type": "code",
   "execution_count": 17,
   "metadata": {},
   "outputs": [],
   "source": [
    "morg_joint_3[\"labels\"] = morg_joint_3[\"ind\"].map(labels)"
   ]
  },
  {
   "cell_type": "code",
   "execution_count": 18,
   "metadata": {},
   "outputs": [
    {
     "output_type": "execute_result",
     "data": {
      "text/plain": [
       "        year  age  sex  race  esr  gradeat  ind70  ind_nber  earnwke  uhourse  \\\n",
       "0       1980   40    1     1    1       10  278.0      19.0    240.0     40.0   \n",
       "1       1980   36    2     1    1       12  838.0      41.0    280.0     40.0   \n",
       "4       1980   40    2     1    1       12  278.0      19.0    207.0     40.0   \n",
       "6       1980   42    1     1    1       12  338.0      24.0    454.0     35.0   \n",
       "7       1980   39    2     1    1       12   18.0       1.0    207.0     40.0   \n",
       "...      ...  ...  ...   ...  ...      ...    ...       ...      ...      ...   \n",
       "385931  1980   32    2     1    1       12  158.0       9.0    300.0     40.0   \n",
       "385933  1980   20    2     1    1       12  858.0      43.0    340.0     40.0   \n",
       "385935  1980   28    1     1    1       12  407.0      29.0    499.0     40.0   \n",
       "385937  1980   26    1     1    1       16   77.0       4.0    390.0     40.0   \n",
       "385938  1980   24    2     1    1       13   49.0       3.0    162.0     40.0   \n",
       "\n",
       "        skill    l    h   ind              labels  \n",
       "0         0.0  0.0  NaN   1.0                Food  \n",
       "1         0.0  0.0  NaN  21.0           Hospitals  \n",
       "4         0.0  0.0  NaN   1.0                Food  \n",
       "6         0.0  0.0  NaN   NaN                 NaN  \n",
       "7         0.0  0.0  NaN   NaN                 NaN  \n",
       "...       ...  ...  ...   ...                 ...  \n",
       "385931    0.0  0.0  NaN   NaN                 NaN  \n",
       "385933    0.0  0.0  NaN  35.0  College_university  \n",
       "385935    0.0  0.0  NaN  30.0           Railroads  \n",
       "385937    1.0  NaN  1.0  10.0             Housing  \n",
       "385938    1.0  NaN  1.0   NaN                 NaN  \n",
       "\n",
       "[399916 rows x 15 columns]"
      ],
      "text/html": "<div>\n<style scoped>\n    .dataframe tbody tr th:only-of-type {\n        vertical-align: middle;\n    }\n\n    .dataframe tbody tr th {\n        vertical-align: top;\n    }\n\n    .dataframe thead th {\n        text-align: right;\n    }\n</style>\n<table border=\"1\" class=\"dataframe\">\n  <thead>\n    <tr style=\"text-align: right;\">\n      <th></th>\n      <th>year</th>\n      <th>age</th>\n      <th>sex</th>\n      <th>race</th>\n      <th>esr</th>\n      <th>gradeat</th>\n      <th>ind70</th>\n      <th>ind_nber</th>\n      <th>earnwke</th>\n      <th>uhourse</th>\n      <th>skill</th>\n      <th>l</th>\n      <th>h</th>\n      <th>ind</th>\n      <th>labels</th>\n    </tr>\n  </thead>\n  <tbody>\n    <tr>\n      <th>0</th>\n      <td>1980</td>\n      <td>40</td>\n      <td>1</td>\n      <td>1</td>\n      <td>1</td>\n      <td>10</td>\n      <td>278.0</td>\n      <td>19.0</td>\n      <td>240.0</td>\n      <td>40.0</td>\n      <td>0.0</td>\n      <td>0.0</td>\n      <td>NaN</td>\n      <td>1.0</td>\n      <td>Food</td>\n    </tr>\n    <tr>\n      <th>1</th>\n      <td>1980</td>\n      <td>36</td>\n      <td>2</td>\n      <td>1</td>\n      <td>1</td>\n      <td>12</td>\n      <td>838.0</td>\n      <td>41.0</td>\n      <td>280.0</td>\n      <td>40.0</td>\n      <td>0.0</td>\n      <td>0.0</td>\n      <td>NaN</td>\n      <td>21.0</td>\n      <td>Hospitals</td>\n    </tr>\n    <tr>\n      <th>4</th>\n      <td>1980</td>\n      <td>40</td>\n      <td>2</td>\n      <td>1</td>\n      <td>1</td>\n      <td>12</td>\n      <td>278.0</td>\n      <td>19.0</td>\n      <td>207.0</td>\n      <td>40.0</td>\n      <td>0.0</td>\n      <td>0.0</td>\n      <td>NaN</td>\n      <td>1.0</td>\n      <td>Food</td>\n    </tr>\n    <tr>\n      <th>6</th>\n      <td>1980</td>\n      <td>42</td>\n      <td>1</td>\n      <td>1</td>\n      <td>1</td>\n      <td>12</td>\n      <td>338.0</td>\n      <td>24.0</td>\n      <td>454.0</td>\n      <td>35.0</td>\n      <td>0.0</td>\n      <td>0.0</td>\n      <td>NaN</td>\n      <td>NaN</td>\n      <td>NaN</td>\n    </tr>\n    <tr>\n      <th>7</th>\n      <td>1980</td>\n      <td>39</td>\n      <td>2</td>\n      <td>1</td>\n      <td>1</td>\n      <td>12</td>\n      <td>18.0</td>\n      <td>1.0</td>\n      <td>207.0</td>\n      <td>40.0</td>\n      <td>0.0</td>\n      <td>0.0</td>\n      <td>NaN</td>\n      <td>NaN</td>\n      <td>NaN</td>\n    </tr>\n    <tr>\n      <th>...</th>\n      <td>...</td>\n      <td>...</td>\n      <td>...</td>\n      <td>...</td>\n      <td>...</td>\n      <td>...</td>\n      <td>...</td>\n      <td>...</td>\n      <td>...</td>\n      <td>...</td>\n      <td>...</td>\n      <td>...</td>\n      <td>...</td>\n      <td>...</td>\n      <td>...</td>\n    </tr>\n    <tr>\n      <th>385931</th>\n      <td>1980</td>\n      <td>32</td>\n      <td>2</td>\n      <td>1</td>\n      <td>1</td>\n      <td>12</td>\n      <td>158.0</td>\n      <td>9.0</td>\n      <td>300.0</td>\n      <td>40.0</td>\n      <td>0.0</td>\n      <td>0.0</td>\n      <td>NaN</td>\n      <td>NaN</td>\n      <td>NaN</td>\n    </tr>\n    <tr>\n      <th>385933</th>\n      <td>1980</td>\n      <td>20</td>\n      <td>2</td>\n      <td>1</td>\n      <td>1</td>\n      <td>12</td>\n      <td>858.0</td>\n      <td>43.0</td>\n      <td>340.0</td>\n      <td>40.0</td>\n      <td>0.0</td>\n      <td>0.0</td>\n      <td>NaN</td>\n      <td>35.0</td>\n      <td>College_university</td>\n    </tr>\n    <tr>\n      <th>385935</th>\n      <td>1980</td>\n      <td>28</td>\n      <td>1</td>\n      <td>1</td>\n      <td>1</td>\n      <td>12</td>\n      <td>407.0</td>\n      <td>29.0</td>\n      <td>499.0</td>\n      <td>40.0</td>\n      <td>0.0</td>\n      <td>0.0</td>\n      <td>NaN</td>\n      <td>30.0</td>\n      <td>Railroads</td>\n    </tr>\n    <tr>\n      <th>385937</th>\n      <td>1980</td>\n      <td>26</td>\n      <td>1</td>\n      <td>1</td>\n      <td>1</td>\n      <td>16</td>\n      <td>77.0</td>\n      <td>4.0</td>\n      <td>390.0</td>\n      <td>40.0</td>\n      <td>1.0</td>\n      <td>NaN</td>\n      <td>1.0</td>\n      <td>10.0</td>\n      <td>Housing</td>\n    </tr>\n    <tr>\n      <th>385938</th>\n      <td>1980</td>\n      <td>24</td>\n      <td>2</td>\n      <td>1</td>\n      <td>1</td>\n      <td>13</td>\n      <td>49.0</td>\n      <td>3.0</td>\n      <td>162.0</td>\n      <td>40.0</td>\n      <td>1.0</td>\n      <td>NaN</td>\n      <td>1.0</td>\n      <td>NaN</td>\n      <td>NaN</td>\n    </tr>\n  </tbody>\n</table>\n<p>399916 rows × 15 columns</p>\n</div>"
     },
     "metadata": {},
     "execution_count": 18
    }
   ],
   "source": [
    "morg_joint_3"
   ]
  },
  {
   "cell_type": "code",
   "execution_count": 19,
   "metadata": {},
   "outputs": [],
   "source": [
    "morg_joint_3['degree'] = morg_joint_3[morg_joint_3['year'] == 1980].groupby('labels')['h'].transform('count')\n",
    "morg_joint_3['degree'] = morg_joint_3['degree'].fillna(69011)\n",
    "morg_joint_3['nodegree'] = morg_joint_3[morg_joint_3['year'] == 1980].groupby('labels')['l'].transform('count')\n",
    "morg_joint_3['nodegree'] = morg_joint_3['nodegree'].fillna(123182)"
   ]
  },
  {
   "cell_type": "code",
   "execution_count": 20,
   "metadata": {},
   "outputs": [
    {
     "output_type": "execute_result",
     "data": {
      "text/plain": [
       "        year  age  sex  race  esr  gradeat  ind70  ind_nber  earnwke  uhourse  \\\n",
       "0       1980   40    1     1    1       10  278.0      19.0    240.0     40.0   \n",
       "1       1980   36    2     1    1       12  838.0      41.0    280.0     40.0   \n",
       "4       1980   40    2     1    1       12  278.0      19.0    207.0     40.0   \n",
       "6       1980   42    1     1    1       12  338.0      24.0    454.0     35.0   \n",
       "7       1980   39    2     1    1       12   18.0       1.0    207.0     40.0   \n",
       "...      ...  ...  ...   ...  ...      ...    ...       ...      ...      ...   \n",
       "385931  1980   32    2     1    1       12  158.0       9.0    300.0     40.0   \n",
       "385933  1980   20    2     1    1       12  858.0      43.0    340.0     40.0   \n",
       "385935  1980   28    1     1    1       12  407.0      29.0    499.0     40.0   \n",
       "385937  1980   26    1     1    1       16   77.0       4.0    390.0     40.0   \n",
       "385938  1980   24    2     1    1       13   49.0       3.0    162.0     40.0   \n",
       "\n",
       "        skill    l    h   ind              labels   degree  nodegree  \n",
       "0         0.0  0.0  NaN   1.0                Food   1492.0    4823.0  \n",
       "1         0.0  0.0  NaN  21.0           Hospitals   8559.0    7212.0  \n",
       "4         0.0  0.0  NaN   1.0                Food   1492.0    4823.0  \n",
       "6         0.0  0.0  NaN   NaN                 NaN  69011.0  123182.0  \n",
       "7         0.0  0.0  NaN   NaN                 NaN  69011.0  123182.0  \n",
       "...       ...  ...  ...   ...                 ...      ...       ...  \n",
       "385931    0.0  0.0  NaN   NaN                 NaN  69011.0  123182.0  \n",
       "385933    0.0  0.0  NaN  35.0  College_university   6942.0    1732.0  \n",
       "385935    0.0  0.0  NaN  30.0           Railroads    723.0    1902.0  \n",
       "385937    1.0  NaN  1.0  10.0             Housing   7295.0   18554.0  \n",
       "385938    1.0  NaN  1.0   NaN                 NaN  69011.0  123182.0  \n",
       "\n",
       "[399916 rows x 17 columns]"
      ],
      "text/html": "<div>\n<style scoped>\n    .dataframe tbody tr th:only-of-type {\n        vertical-align: middle;\n    }\n\n    .dataframe tbody tr th {\n        vertical-align: top;\n    }\n\n    .dataframe thead th {\n        text-align: right;\n    }\n</style>\n<table border=\"1\" class=\"dataframe\">\n  <thead>\n    <tr style=\"text-align: right;\">\n      <th></th>\n      <th>year</th>\n      <th>age</th>\n      <th>sex</th>\n      <th>race</th>\n      <th>esr</th>\n      <th>gradeat</th>\n      <th>ind70</th>\n      <th>ind_nber</th>\n      <th>earnwke</th>\n      <th>uhourse</th>\n      <th>skill</th>\n      <th>l</th>\n      <th>h</th>\n      <th>ind</th>\n      <th>labels</th>\n      <th>degree</th>\n      <th>nodegree</th>\n    </tr>\n  </thead>\n  <tbody>\n    <tr>\n      <th>0</th>\n      <td>1980</td>\n      <td>40</td>\n      <td>1</td>\n      <td>1</td>\n      <td>1</td>\n      <td>10</td>\n      <td>278.0</td>\n      <td>19.0</td>\n      <td>240.0</td>\n      <td>40.0</td>\n      <td>0.0</td>\n      <td>0.0</td>\n      <td>NaN</td>\n      <td>1.0</td>\n      <td>Food</td>\n      <td>1492.0</td>\n      <td>4823.0</td>\n    </tr>\n    <tr>\n      <th>1</th>\n      <td>1980</td>\n      <td>36</td>\n      <td>2</td>\n      <td>1</td>\n      <td>1</td>\n      <td>12</td>\n      <td>838.0</td>\n      <td>41.0</td>\n      <td>280.0</td>\n      <td>40.0</td>\n      <td>0.0</td>\n      <td>0.0</td>\n      <td>NaN</td>\n      <td>21.0</td>\n      <td>Hospitals</td>\n      <td>8559.0</td>\n      <td>7212.0</td>\n    </tr>\n    <tr>\n      <th>4</th>\n      <td>1980</td>\n      <td>40</td>\n      <td>2</td>\n      <td>1</td>\n      <td>1</td>\n      <td>12</td>\n      <td>278.0</td>\n      <td>19.0</td>\n      <td>207.0</td>\n      <td>40.0</td>\n      <td>0.0</td>\n      <td>0.0</td>\n      <td>NaN</td>\n      <td>1.0</td>\n      <td>Food</td>\n      <td>1492.0</td>\n      <td>4823.0</td>\n    </tr>\n    <tr>\n      <th>6</th>\n      <td>1980</td>\n      <td>42</td>\n      <td>1</td>\n      <td>1</td>\n      <td>1</td>\n      <td>12</td>\n      <td>338.0</td>\n      <td>24.0</td>\n      <td>454.0</td>\n      <td>35.0</td>\n      <td>0.0</td>\n      <td>0.0</td>\n      <td>NaN</td>\n      <td>NaN</td>\n      <td>NaN</td>\n      <td>69011.0</td>\n      <td>123182.0</td>\n    </tr>\n    <tr>\n      <th>7</th>\n      <td>1980</td>\n      <td>39</td>\n      <td>2</td>\n      <td>1</td>\n      <td>1</td>\n      <td>12</td>\n      <td>18.0</td>\n      <td>1.0</td>\n      <td>207.0</td>\n      <td>40.0</td>\n      <td>0.0</td>\n      <td>0.0</td>\n      <td>NaN</td>\n      <td>NaN</td>\n      <td>NaN</td>\n      <td>69011.0</td>\n      <td>123182.0</td>\n    </tr>\n    <tr>\n      <th>...</th>\n      <td>...</td>\n      <td>...</td>\n      <td>...</td>\n      <td>...</td>\n      <td>...</td>\n      <td>...</td>\n      <td>...</td>\n      <td>...</td>\n      <td>...</td>\n      <td>...</td>\n      <td>...</td>\n      <td>...</td>\n      <td>...</td>\n      <td>...</td>\n      <td>...</td>\n      <td>...</td>\n      <td>...</td>\n    </tr>\n    <tr>\n      <th>385931</th>\n      <td>1980</td>\n      <td>32</td>\n      <td>2</td>\n      <td>1</td>\n      <td>1</td>\n      <td>12</td>\n      <td>158.0</td>\n      <td>9.0</td>\n      <td>300.0</td>\n      <td>40.0</td>\n      <td>0.0</td>\n      <td>0.0</td>\n      <td>NaN</td>\n      <td>NaN</td>\n      <td>NaN</td>\n      <td>69011.0</td>\n      <td>123182.0</td>\n    </tr>\n    <tr>\n      <th>385933</th>\n      <td>1980</td>\n      <td>20</td>\n      <td>2</td>\n      <td>1</td>\n      <td>1</td>\n      <td>12</td>\n      <td>858.0</td>\n      <td>43.0</td>\n      <td>340.0</td>\n      <td>40.0</td>\n      <td>0.0</td>\n      <td>0.0</td>\n      <td>NaN</td>\n      <td>35.0</td>\n      <td>College_university</td>\n      <td>6942.0</td>\n      <td>1732.0</td>\n    </tr>\n    <tr>\n      <th>385935</th>\n      <td>1980</td>\n      <td>28</td>\n      <td>1</td>\n      <td>1</td>\n      <td>1</td>\n      <td>12</td>\n      <td>407.0</td>\n      <td>29.0</td>\n      <td>499.0</td>\n      <td>40.0</td>\n      <td>0.0</td>\n      <td>0.0</td>\n      <td>NaN</td>\n      <td>30.0</td>\n      <td>Railroads</td>\n      <td>723.0</td>\n      <td>1902.0</td>\n    </tr>\n    <tr>\n      <th>385937</th>\n      <td>1980</td>\n      <td>26</td>\n      <td>1</td>\n      <td>1</td>\n      <td>1</td>\n      <td>16</td>\n      <td>77.0</td>\n      <td>4.0</td>\n      <td>390.0</td>\n      <td>40.0</td>\n      <td>1.0</td>\n      <td>NaN</td>\n      <td>1.0</td>\n      <td>10.0</td>\n      <td>Housing</td>\n      <td>7295.0</td>\n      <td>18554.0</td>\n    </tr>\n    <tr>\n      <th>385938</th>\n      <td>1980</td>\n      <td>24</td>\n      <td>2</td>\n      <td>1</td>\n      <td>1</td>\n      <td>13</td>\n      <td>49.0</td>\n      <td>3.0</td>\n      <td>162.0</td>\n      <td>40.0</td>\n      <td>1.0</td>\n      <td>NaN</td>\n      <td>1.0</td>\n      <td>NaN</td>\n      <td>NaN</td>\n      <td>69011.0</td>\n      <td>123182.0</td>\n    </tr>\n  </tbody>\n</table>\n<p>399916 rows × 17 columns</p>\n</div>"
     },
     "metadata": {},
     "execution_count": 20
    }
   ],
   "source": [
    "morg_joint_3"
   ]
  },
  {
   "cell_type": "code",
   "execution_count": 21,
   "metadata": {},
   "outputs": [],
   "source": [
    "morg_joint_3['total'] = morg_joint_3['degree'] + morg_joint_3['nodegree'] \n",
    "morg_joint_3['ratio80'] = morg_joint_3['degree']/morg_joint_3['total'] \n",
    "morg_joint_3 = morg_joint_3.drop(columns=['degree', 'nodegree'])\n"
   ]
  },
  {
   "cell_type": "code",
   "execution_count": 22,
   "metadata": {},
   "outputs": [
    {
     "output_type": "execute_result",
     "data": {
      "text/plain": [
       "        year  age  sex  race  esr  gradeat  ind70  ind_nber  earnwke  uhourse  \\\n",
       "0       1980   40    1     1    1       10  278.0      19.0    240.0     40.0   \n",
       "1       1980   36    2     1    1       12  838.0      41.0    280.0     40.0   \n",
       "4       1980   40    2     1    1       12  278.0      19.0    207.0     40.0   \n",
       "6       1980   42    1     1    1       12  338.0      24.0    454.0     35.0   \n",
       "7       1980   39    2     1    1       12   18.0       1.0    207.0     40.0   \n",
       "...      ...  ...  ...   ...  ...      ...    ...       ...      ...      ...   \n",
       "385931  1980   32    2     1    1       12  158.0       9.0    300.0     40.0   \n",
       "385933  1980   20    2     1    1       12  858.0      43.0    340.0     40.0   \n",
       "385935  1980   28    1     1    1       12  407.0      29.0    499.0     40.0   \n",
       "385937  1980   26    1     1    1       16   77.0       4.0    390.0     40.0   \n",
       "385938  1980   24    2     1    1       13   49.0       3.0    162.0     40.0   \n",
       "\n",
       "        skill    l    h   ind              labels     total   ratio80  \n",
       "0         0.0  0.0  NaN   1.0                Food    6315.0  0.236263  \n",
       "1         0.0  0.0  NaN  21.0           Hospitals   15771.0  0.542705  \n",
       "4         0.0  0.0  NaN   1.0                Food    6315.0  0.236263  \n",
       "6         0.0  0.0  NaN   NaN                 NaN  192193.0  0.359071  \n",
       "7         0.0  0.0  NaN   NaN                 NaN  192193.0  0.359071  \n",
       "...       ...  ...  ...   ...                 ...       ...       ...  \n",
       "385931    0.0  0.0  NaN   NaN                 NaN  192193.0  0.359071  \n",
       "385933    0.0  0.0  NaN  35.0  College_university    8674.0  0.800323  \n",
       "385935    0.0  0.0  NaN  30.0           Railroads    2625.0  0.275429  \n",
       "385937    1.0  NaN  1.0  10.0             Housing   25849.0  0.282216  \n",
       "385938    1.0  NaN  1.0   NaN                 NaN  192193.0  0.359071  \n",
       "\n",
       "[399916 rows x 17 columns]"
      ],
      "text/html": "<div>\n<style scoped>\n    .dataframe tbody tr th:only-of-type {\n        vertical-align: middle;\n    }\n\n    .dataframe tbody tr th {\n        vertical-align: top;\n    }\n\n    .dataframe thead th {\n        text-align: right;\n    }\n</style>\n<table border=\"1\" class=\"dataframe\">\n  <thead>\n    <tr style=\"text-align: right;\">\n      <th></th>\n      <th>year</th>\n      <th>age</th>\n      <th>sex</th>\n      <th>race</th>\n      <th>esr</th>\n      <th>gradeat</th>\n      <th>ind70</th>\n      <th>ind_nber</th>\n      <th>earnwke</th>\n      <th>uhourse</th>\n      <th>skill</th>\n      <th>l</th>\n      <th>h</th>\n      <th>ind</th>\n      <th>labels</th>\n      <th>total</th>\n      <th>ratio80</th>\n    </tr>\n  </thead>\n  <tbody>\n    <tr>\n      <th>0</th>\n      <td>1980</td>\n      <td>40</td>\n      <td>1</td>\n      <td>1</td>\n      <td>1</td>\n      <td>10</td>\n      <td>278.0</td>\n      <td>19.0</td>\n      <td>240.0</td>\n      <td>40.0</td>\n      <td>0.0</td>\n      <td>0.0</td>\n      <td>NaN</td>\n      <td>1.0</td>\n      <td>Food</td>\n      <td>6315.0</td>\n      <td>0.236263</td>\n    </tr>\n    <tr>\n      <th>1</th>\n      <td>1980</td>\n      <td>36</td>\n      <td>2</td>\n      <td>1</td>\n      <td>1</td>\n      <td>12</td>\n      <td>838.0</td>\n      <td>41.0</td>\n      <td>280.0</td>\n      <td>40.0</td>\n      <td>0.0</td>\n      <td>0.0</td>\n      <td>NaN</td>\n      <td>21.0</td>\n      <td>Hospitals</td>\n      <td>15771.0</td>\n      <td>0.542705</td>\n    </tr>\n    <tr>\n      <th>4</th>\n      <td>1980</td>\n      <td>40</td>\n      <td>2</td>\n      <td>1</td>\n      <td>1</td>\n      <td>12</td>\n      <td>278.0</td>\n      <td>19.0</td>\n      <td>207.0</td>\n      <td>40.0</td>\n      <td>0.0</td>\n      <td>0.0</td>\n      <td>NaN</td>\n      <td>1.0</td>\n      <td>Food</td>\n      <td>6315.0</td>\n      <td>0.236263</td>\n    </tr>\n    <tr>\n      <th>6</th>\n      <td>1980</td>\n      <td>42</td>\n      <td>1</td>\n      <td>1</td>\n      <td>1</td>\n      <td>12</td>\n      <td>338.0</td>\n      <td>24.0</td>\n      <td>454.0</td>\n      <td>35.0</td>\n      <td>0.0</td>\n      <td>0.0</td>\n      <td>NaN</td>\n      <td>NaN</td>\n      <td>NaN</td>\n      <td>192193.0</td>\n      <td>0.359071</td>\n    </tr>\n    <tr>\n      <th>7</th>\n      <td>1980</td>\n      <td>39</td>\n      <td>2</td>\n      <td>1</td>\n      <td>1</td>\n      <td>12</td>\n      <td>18.0</td>\n      <td>1.0</td>\n      <td>207.0</td>\n      <td>40.0</td>\n      <td>0.0</td>\n      <td>0.0</td>\n      <td>NaN</td>\n      <td>NaN</td>\n      <td>NaN</td>\n      <td>192193.0</td>\n      <td>0.359071</td>\n    </tr>\n    <tr>\n      <th>...</th>\n      <td>...</td>\n      <td>...</td>\n      <td>...</td>\n      <td>...</td>\n      <td>...</td>\n      <td>...</td>\n      <td>...</td>\n      <td>...</td>\n      <td>...</td>\n      <td>...</td>\n      <td>...</td>\n      <td>...</td>\n      <td>...</td>\n      <td>...</td>\n      <td>...</td>\n      <td>...</td>\n      <td>...</td>\n    </tr>\n    <tr>\n      <th>385931</th>\n      <td>1980</td>\n      <td>32</td>\n      <td>2</td>\n      <td>1</td>\n      <td>1</td>\n      <td>12</td>\n      <td>158.0</td>\n      <td>9.0</td>\n      <td>300.0</td>\n      <td>40.0</td>\n      <td>0.0</td>\n      <td>0.0</td>\n      <td>NaN</td>\n      <td>NaN</td>\n      <td>NaN</td>\n      <td>192193.0</td>\n      <td>0.359071</td>\n    </tr>\n    <tr>\n      <th>385933</th>\n      <td>1980</td>\n      <td>20</td>\n      <td>2</td>\n      <td>1</td>\n      <td>1</td>\n      <td>12</td>\n      <td>858.0</td>\n      <td>43.0</td>\n      <td>340.0</td>\n      <td>40.0</td>\n      <td>0.0</td>\n      <td>0.0</td>\n      <td>NaN</td>\n      <td>35.0</td>\n      <td>College_university</td>\n      <td>8674.0</td>\n      <td>0.800323</td>\n    </tr>\n    <tr>\n      <th>385935</th>\n      <td>1980</td>\n      <td>28</td>\n      <td>1</td>\n      <td>1</td>\n      <td>1</td>\n      <td>12</td>\n      <td>407.0</td>\n      <td>29.0</td>\n      <td>499.0</td>\n      <td>40.0</td>\n      <td>0.0</td>\n      <td>0.0</td>\n      <td>NaN</td>\n      <td>30.0</td>\n      <td>Railroads</td>\n      <td>2625.0</td>\n      <td>0.275429</td>\n    </tr>\n    <tr>\n      <th>385937</th>\n      <td>1980</td>\n      <td>26</td>\n      <td>1</td>\n      <td>1</td>\n      <td>1</td>\n      <td>16</td>\n      <td>77.0</td>\n      <td>4.0</td>\n      <td>390.0</td>\n      <td>40.0</td>\n      <td>1.0</td>\n      <td>NaN</td>\n      <td>1.0</td>\n      <td>10.0</td>\n      <td>Housing</td>\n      <td>25849.0</td>\n      <td>0.282216</td>\n    </tr>\n    <tr>\n      <th>385938</th>\n      <td>1980</td>\n      <td>24</td>\n      <td>2</td>\n      <td>1</td>\n      <td>1</td>\n      <td>13</td>\n      <td>49.0</td>\n      <td>3.0</td>\n      <td>162.0</td>\n      <td>40.0</td>\n      <td>1.0</td>\n      <td>NaN</td>\n      <td>1.0</td>\n      <td>NaN</td>\n      <td>NaN</td>\n      <td>192193.0</td>\n      <td>0.359071</td>\n    </tr>\n  </tbody>\n</table>\n<p>399916 rows × 17 columns</p>\n</div>"
     },
     "metadata": {},
     "execution_count": 22
    }
   ],
   "source": [
    "morg_joint_3"
   ]
  },
  {
   "cell_type": "code",
   "execution_count": 23,
   "metadata": {},
   "outputs": [],
   "source": [
    "morg_joint_3.to_stata('temp')"
   ]
  },
  {
   "cell_type": "code",
   "execution_count": 24,
   "metadata": {},
   "outputs": [
    {
     "output_type": "execute_result",
     "data": {
      "text/plain": [
       "labels\n",
       "Apparel               0.135813\n",
       "Beverage              0.338983\n",
       "Business_serv         0.619535\n",
       "College_university    0.800323\n",
       "Communications        0.457688\n",
       "Drugs                 0.467164\n",
       "Eating_places         0.265507\n",
       "Educational_serv      0.719072\n",
       "Electricity           0.422295\n",
       "Elementary_school     0.698943\n",
       "Entertainment         0.441245\n",
       "Food                  0.236263\n",
       "Gas                   0.378031\n",
       "Health_services       0.670669\n",
       "Hospitals             0.542705\n",
       "Hous_Services         0.130806\n",
       "Housh_Supplies        0.162919\n",
       "Housing               0.282216\n",
       "Insurance             0.531460\n",
       "Jewelry               0.241667\n",
       "Motor_equip           0.297235\n",
       "Newspaper             0.549901\n",
       "Optical_equip         0.354658\n",
       "Personal_Services     0.273007\n",
       "Petroleum             0.430036\n",
       "Profes_equip          0.410437\n",
       "Railroads             0.275429\n",
       "Railways              0.276596\n",
       "Repair_motor          0.239552\n",
       "Social_serv           0.590352\n",
       "Tobacco               0.254717\n",
       "Water                 0.346320\n",
       "Name: ratio80, dtype: float64"
      ]
     },
     "metadata": {},
     "execution_count": 24
    }
   ],
   "source": [
    "#collapse (right output but cannot save as dta)\n",
    "morg_joint_3 = morg_joint_3.groupby('labels')['ratio80'].mean()\n",
    "morg_joint_3\n",
    "\n"
   ]
  },
  {
   "cell_type": "code",
   "execution_count": 25,
   "metadata": {},
   "outputs": [],
   "source": [
    "morg_joint_3_1 = pd.DataFrame(morg_joint_3)\n",
    "morg_joint_3_1\n",
    "morg_joint_3_1.to_stata('skillintUS')"
   ]
  },
  {
   "cell_type": "code",
   "execution_count": 26,
   "metadata": {},
   "outputs": [
    {
     "output_type": "execute_result",
     "data": {
      "text/plain": [
       "'\\n#other solution for stata collapse fnc\\n\\nmorg_joint_3 = morg_joint_3[[\"labels\", \\'ratio80\\']].dropna().sort_values([\"labels\"]).drop_duplicates()\\nmorg_joint_3.to_stata(\\'skillintUS\\')\\nmorg_joint_3\\n'"
      ]
     },
     "metadata": {},
     "execution_count": 26
    }
   ],
   "source": [
    "'''\n",
    "#other solution for stata collapse fnc\n",
    "\n",
    "morg_joint_3 = morg_joint_3[[\"labels\", 'ratio80']].dropna().sort_values([\"labels\"]).drop_duplicates()\n",
    "morg_joint_3.to_stata('skillintUS')\n",
    "morg_joint_3\n",
    "'''"
   ]
  },
  {
   "cell_type": "code",
   "execution_count": 27,
   "metadata": {},
   "outputs": [
    {
     "output_type": "execute_result",
     "data": {
      "text/plain": [
       "\"\\npd.read_stata('skillintUS').drop(columns=['index'])\\n\""
      ]
     },
     "metadata": {},
     "execution_count": 27
    }
   ],
   "source": [
    "'''\r\n",
    "pd.read_stata('skillintUS').drop(columns=['index'])\r\n",
    "'''"
   ]
  },
  {
   "cell_type": "code",
   "execution_count": 28,
   "metadata": {},
   "outputs": [],
   "source": [
    "temp = pd.read_stata('temp')\n",
    "temp = temp.groupby('ind_nber')['ratio80'].mean()\n",
    "temp1 = pd.DataFrame(temp)\n",
    "temp1\n",
    "temp1.to_stata('skillpropUS')"
   ]
  },
  {
   "cell_type": "code",
   "execution_count": 29,
   "metadata": {},
   "outputs": [
    {
     "output_type": "execute_result",
     "data": {
      "text/plain": [
       "\"\\ntemp = pd.read_stata('temp')\\ntemp = temp[['ind_nber', 'ratio80']].dropna().sort_values(['ind_nber']).drop_duplicates()\\ntemp.to_stata('skillpropUS')\\ntemp\\n\""
      ]
     },
     "metadata": {},
     "execution_count": 29
    }
   ],
   "source": [
    "#*DO SKILL OECD using input-output tables 1995\n",
    "'''\n",
    "temp = pd.read_stata('temp')\n",
    "temp = temp[['ind_nber', 'ratio80']].dropna().sort_values(['ind_nber']).drop_duplicates()\n",
    "temp.to_stata('skillpropUS')\n",
    "temp\n",
    "'''"
   ]
  },
  {
   "cell_type": "code",
   "execution_count": 63,
   "metadata": {},
   "outputs": [],
   "source": [
    "tableI0 = pd.read_stata(r\"C:\\Users\\gimat\\Desktop\\BONN\\3WiSe2021\\EPP2\\TermPaper\\1\\113590-V1\\replication\\EPP_replication\\the_effect_of_product_demand_on_inequality\\data\\tableIO.dta\", \"r\")"
   ]
  },
  {
   "cell_type": "code",
   "execution_count": 64,
   "metadata": {},
   "outputs": [
    {
     "output_type": "execute_result",
     "data": {
      "text/plain": [
       "     code                                    industry        c1        c2  \\\n",
       "0    1110                               Crop products    7240.7   26093.7   \n",
       "1    1120                             Animal products       0.0   16805.5   \n",
       "2    1130               Forestry and logging products       5.3       0.0   \n",
       "3    1140              Fish and other nonfarm animals       0.0       0.0   \n",
       "4    1150   Agriculture and forestry support services    8978.0    1931.5   \n",
       "..    ...                                         ...       ...       ...   \n",
       "135  T006                           Total value added   65788.0   15692.3   \n",
       "136  V001                   Compensation of employees   12616.5    5840.4   \n",
       "137  V002  Indirect business tax and nontax liability    2570.9    1831.5   \n",
       "138  V003                           Other value added   50600.6    8020.4   \n",
       "139  T008                       Total industry output  134933.7  105106.8   \n",
       "\n",
       "               c3           c4            c5            c6            c7  \\\n",
       "0        0.000000     0.000000    662.799988      0.400000      0.000000   \n",
       "1       35.000000     0.000000   1155.199951      0.000000      0.000000   \n",
       "2     7899.399902     0.000000     24.799999      0.000000     14.300000   \n",
       "3        0.000000   322.200012      0.000000      0.000000      0.000000   \n",
       "4     2988.300049   795.799988      0.000000      0.000000      0.000000   \n",
       "..            ...          ...           ...           ...           ...   \n",
       "135  14316.500000  3342.600098   6509.500000  36736.398438  10862.299805   \n",
       "136   3181.100098   512.099976   5983.700195   6835.200195   5414.500000   \n",
       "137    824.500000   351.700012    272.700012   6899.399902   2322.000000   \n",
       "138  10310.900391  2478.800049    253.100006  23001.800781   3125.800049   \n",
       "139  28115.000000  6048.000000  12335.200195  91574.796875  23407.800781   \n",
       "\n",
       "               c8  ...          c117          c118          c119      c120  \\\n",
       "0        0.000000  ...     87.300003     10.900000    171.399994     173.6   \n",
       "1        0.000000  ...      2.000000     36.299999     80.400002      31.2   \n",
       "2        0.000000  ...      0.000000      1.900000      0.000000       0.0   \n",
       "3        0.000000  ...      1.800000      2.000000     67.699997     166.2   \n",
       "4        0.000000  ...      0.000000      0.000000      0.000000       0.0   \n",
       "..            ...  ...           ...           ...           ...       ...   \n",
       "135   4922.299805  ...  36917.500000  30140.699219  45416.699219   76694.0   \n",
       "136   2634.500000  ...  30731.099609  18475.000000  23076.199219   39223.6   \n",
       "137    530.099976  ...    467.799988   2345.699951   4043.300049    8110.6   \n",
       "138   1757.699951  ...   5718.600098   9320.000000  18297.199219   29359.8   \n",
       "139  11291.000000  ...  66884.500000  55417.601562  71821.898438  113584.4   \n",
       "\n",
       "         c121          c122          c123          c124     c125          c126  \n",
       "0      2802.6      0.400000      0.000000      0.000000      6.0     42.000000  \n",
       "1      1404.2      0.000000      0.000000     81.500000      0.0      3.900000  \n",
       "2         0.0      0.000000      0.000000     45.299999      0.0      0.000000  \n",
       "3      2973.4      0.000000      0.000000      0.000000      0.0     26.100000  \n",
       "4         0.0      0.000000      0.000000      0.000000      0.0      0.000000  \n",
       "..        ...           ...           ...           ...      ...           ...  \n",
       "135  149626.6  43022.898438  35966.398438  55553.601562  36420.5  23189.400391  \n",
       "136  100266.6  21535.900391  17342.099609  24445.599609  36390.5  22863.400391  \n",
       "137   17326.7   3368.699951   1307.599976   2341.100098     30.0    326.000000  \n",
       "138   32033.3  18118.300781  17316.699219  28766.900391      0.0      0.000000  \n",
       "139  299768.8  84918.203125  55508.101562  91814.500000  54851.5  48695.000000  \n",
       "\n",
       "[140 rows x 128 columns]"
      ],
      "text/html": "<div>\n<style scoped>\n    .dataframe tbody tr th:only-of-type {\n        vertical-align: middle;\n    }\n\n    .dataframe tbody tr th {\n        vertical-align: top;\n    }\n\n    .dataframe thead th {\n        text-align: right;\n    }\n</style>\n<table border=\"1\" class=\"dataframe\">\n  <thead>\n    <tr style=\"text-align: right;\">\n      <th></th>\n      <th>code</th>\n      <th>industry</th>\n      <th>c1</th>\n      <th>c2</th>\n      <th>c3</th>\n      <th>c4</th>\n      <th>c5</th>\n      <th>c6</th>\n      <th>c7</th>\n      <th>c8</th>\n      <th>...</th>\n      <th>c117</th>\n      <th>c118</th>\n      <th>c119</th>\n      <th>c120</th>\n      <th>c121</th>\n      <th>c122</th>\n      <th>c123</th>\n      <th>c124</th>\n      <th>c125</th>\n      <th>c126</th>\n    </tr>\n  </thead>\n  <tbody>\n    <tr>\n      <th>0</th>\n      <td>1110</td>\n      <td>Crop products</td>\n      <td>7240.7</td>\n      <td>26093.7</td>\n      <td>0.000000</td>\n      <td>0.000000</td>\n      <td>662.799988</td>\n      <td>0.400000</td>\n      <td>0.000000</td>\n      <td>0.000000</td>\n      <td>...</td>\n      <td>87.300003</td>\n      <td>10.900000</td>\n      <td>171.399994</td>\n      <td>173.6</td>\n      <td>2802.6</td>\n      <td>0.400000</td>\n      <td>0.000000</td>\n      <td>0.000000</td>\n      <td>6.0</td>\n      <td>42.000000</td>\n    </tr>\n    <tr>\n      <th>1</th>\n      <td>1120</td>\n      <td>Animal products</td>\n      <td>0.0</td>\n      <td>16805.5</td>\n      <td>35.000000</td>\n      <td>0.000000</td>\n      <td>1155.199951</td>\n      <td>0.000000</td>\n      <td>0.000000</td>\n      <td>0.000000</td>\n      <td>...</td>\n      <td>2.000000</td>\n      <td>36.299999</td>\n      <td>80.400002</td>\n      <td>31.2</td>\n      <td>1404.2</td>\n      <td>0.000000</td>\n      <td>0.000000</td>\n      <td>81.500000</td>\n      <td>0.0</td>\n      <td>3.900000</td>\n    </tr>\n    <tr>\n      <th>2</th>\n      <td>1130</td>\n      <td>Forestry and logging products</td>\n      <td>5.3</td>\n      <td>0.0</td>\n      <td>7899.399902</td>\n      <td>0.000000</td>\n      <td>24.799999</td>\n      <td>0.000000</td>\n      <td>14.300000</td>\n      <td>0.000000</td>\n      <td>...</td>\n      <td>0.000000</td>\n      <td>1.900000</td>\n      <td>0.000000</td>\n      <td>0.0</td>\n      <td>0.0</td>\n      <td>0.000000</td>\n      <td>0.000000</td>\n      <td>45.299999</td>\n      <td>0.0</td>\n      <td>0.000000</td>\n    </tr>\n    <tr>\n      <th>3</th>\n      <td>1140</td>\n      <td>Fish and other nonfarm animals</td>\n      <td>0.0</td>\n      <td>0.0</td>\n      <td>0.000000</td>\n      <td>322.200012</td>\n      <td>0.000000</td>\n      <td>0.000000</td>\n      <td>0.000000</td>\n      <td>0.000000</td>\n      <td>...</td>\n      <td>1.800000</td>\n      <td>2.000000</td>\n      <td>67.699997</td>\n      <td>166.2</td>\n      <td>2973.4</td>\n      <td>0.000000</td>\n      <td>0.000000</td>\n      <td>0.000000</td>\n      <td>0.0</td>\n      <td>26.100000</td>\n    </tr>\n    <tr>\n      <th>4</th>\n      <td>1150</td>\n      <td>Agriculture and forestry support services</td>\n      <td>8978.0</td>\n      <td>1931.5</td>\n      <td>2988.300049</td>\n      <td>795.799988</td>\n      <td>0.000000</td>\n      <td>0.000000</td>\n      <td>0.000000</td>\n      <td>0.000000</td>\n      <td>...</td>\n      <td>0.000000</td>\n      <td>0.000000</td>\n      <td>0.000000</td>\n      <td>0.0</td>\n      <td>0.0</td>\n      <td>0.000000</td>\n      <td>0.000000</td>\n      <td>0.000000</td>\n      <td>0.0</td>\n      <td>0.000000</td>\n    </tr>\n    <tr>\n      <th>...</th>\n      <td>...</td>\n      <td>...</td>\n      <td>...</td>\n      <td>...</td>\n      <td>...</td>\n      <td>...</td>\n      <td>...</td>\n      <td>...</td>\n      <td>...</td>\n      <td>...</td>\n      <td>...</td>\n      <td>...</td>\n      <td>...</td>\n      <td>...</td>\n      <td>...</td>\n      <td>...</td>\n      <td>...</td>\n      <td>...</td>\n      <td>...</td>\n      <td>...</td>\n      <td>...</td>\n    </tr>\n    <tr>\n      <th>135</th>\n      <td>T006</td>\n      <td>Total value added</td>\n      <td>65788.0</td>\n      <td>15692.3</td>\n      <td>14316.500000</td>\n      <td>3342.600098</td>\n      <td>6509.500000</td>\n      <td>36736.398438</td>\n      <td>10862.299805</td>\n      <td>4922.299805</td>\n      <td>...</td>\n      <td>36917.500000</td>\n      <td>30140.699219</td>\n      <td>45416.699219</td>\n      <td>76694.0</td>\n      <td>149626.6</td>\n      <td>43022.898438</td>\n      <td>35966.398438</td>\n      <td>55553.601562</td>\n      <td>36420.5</td>\n      <td>23189.400391</td>\n    </tr>\n    <tr>\n      <th>136</th>\n      <td>V001</td>\n      <td>Compensation of employees</td>\n      <td>12616.5</td>\n      <td>5840.4</td>\n      <td>3181.100098</td>\n      <td>512.099976</td>\n      <td>5983.700195</td>\n      <td>6835.200195</td>\n      <td>5414.500000</td>\n      <td>2634.500000</td>\n      <td>...</td>\n      <td>30731.099609</td>\n      <td>18475.000000</td>\n      <td>23076.199219</td>\n      <td>39223.6</td>\n      <td>100266.6</td>\n      <td>21535.900391</td>\n      <td>17342.099609</td>\n      <td>24445.599609</td>\n      <td>36390.5</td>\n      <td>22863.400391</td>\n    </tr>\n    <tr>\n      <th>137</th>\n      <td>V002</td>\n      <td>Indirect business tax and nontax liability</td>\n      <td>2570.9</td>\n      <td>1831.5</td>\n      <td>824.500000</td>\n      <td>351.700012</td>\n      <td>272.700012</td>\n      <td>6899.399902</td>\n      <td>2322.000000</td>\n      <td>530.099976</td>\n      <td>...</td>\n      <td>467.799988</td>\n      <td>2345.699951</td>\n      <td>4043.300049</td>\n      <td>8110.6</td>\n      <td>17326.7</td>\n      <td>3368.699951</td>\n      <td>1307.599976</td>\n      <td>2341.100098</td>\n      <td>30.0</td>\n      <td>326.000000</td>\n    </tr>\n    <tr>\n      <th>138</th>\n      <td>V003</td>\n      <td>Other value added</td>\n      <td>50600.6</td>\n      <td>8020.4</td>\n      <td>10310.900391</td>\n      <td>2478.800049</td>\n      <td>253.100006</td>\n      <td>23001.800781</td>\n      <td>3125.800049</td>\n      <td>1757.699951</td>\n      <td>...</td>\n      <td>5718.600098</td>\n      <td>9320.000000</td>\n      <td>18297.199219</td>\n      <td>29359.8</td>\n      <td>32033.3</td>\n      <td>18118.300781</td>\n      <td>17316.699219</td>\n      <td>28766.900391</td>\n      <td>0.0</td>\n      <td>0.000000</td>\n    </tr>\n    <tr>\n      <th>139</th>\n      <td>T008</td>\n      <td>Total industry output</td>\n      <td>134933.7</td>\n      <td>105106.8</td>\n      <td>28115.000000</td>\n      <td>6048.000000</td>\n      <td>12335.200195</td>\n      <td>91574.796875</td>\n      <td>23407.800781</td>\n      <td>11291.000000</td>\n      <td>...</td>\n      <td>66884.500000</td>\n      <td>55417.601562</td>\n      <td>71821.898438</td>\n      <td>113584.4</td>\n      <td>299768.8</td>\n      <td>84918.203125</td>\n      <td>55508.101562</td>\n      <td>91814.500000</td>\n      <td>54851.5</td>\n      <td>48695.000000</td>\n    </tr>\n  </tbody>\n</table>\n<p>140 rows × 128 columns</p>\n</div>"
     },
     "metadata": {},
     "execution_count": 64
    }
   ],
   "source": [
    "tableI0\n",
    "#for var c1-c126: replace X=X/X[140]\n"
   ]
  },
  {
   "cell_type": "code",
   "execution_count": 65,
   "metadata": {},
   "outputs": [
    {
     "output_type": "error",
     "ename": "NameError",
     "evalue": "name 'tableI0_new' is not defined",
     "traceback": [
      "\u001b[1;31m---------------------------------------------------------------------------\u001b[0m",
      "\u001b[1;31mNameError\u001b[0m                                 Traceback (most recent call last)",
      "\u001b[1;32m<ipython-input-65-6b4c26e6188e>\u001b[0m in \u001b[0;36m<module>\u001b[1;34m\u001b[0m\n\u001b[0;32m      2\u001b[0m \u001b[0mcolumns\u001b[0m \u001b[1;33m=\u001b[0m  \u001b[0mtableI0\u001b[0m\u001b[1;33m.\u001b[0m\u001b[0mloc\u001b[0m\u001b[1;33m[\u001b[0m\u001b[1;33m:\u001b[0m\u001b[1;33m,\u001b[0m \u001b[1;34m'c1'\u001b[0m\u001b[1;33m:\u001b[0m\u001b[1;34m'c126'\u001b[0m\u001b[1;33m]\u001b[0m\u001b[1;33m.\u001b[0m\u001b[0mloc\u001b[0m\u001b[1;33m[\u001b[0m\u001b[1;36m0\u001b[0m\u001b[1;33m:\u001b[0m\u001b[1;36m139\u001b[0m\u001b[1;33m]\u001b[0m\u001b[1;33m\u001b[0m\u001b[1;33m\u001b[0m\u001b[0m\n\u001b[0;32m      3\u001b[0m \u001b[0mnew_col\u001b[0m \u001b[1;33m=\u001b[0m \u001b[0mcolumns\u001b[0m\u001b[1;33m/\u001b[0m\u001b[0mcolumns\u001b[0m\u001b[1;33m.\u001b[0m\u001b[0mloc\u001b[0m\u001b[1;33m[\u001b[0m\u001b[1;36m139\u001b[0m\u001b[1;33m]\u001b[0m\u001b[1;33m\u001b[0m\u001b[1;33m\u001b[0m\u001b[0m\n\u001b[1;32m----> 4\u001b[1;33m \u001b[0mtableI0_2\u001b[0m \u001b[1;33m=\u001b[0m \u001b[0mpd\u001b[0m\u001b[1;33m.\u001b[0m\u001b[0mconcat\u001b[0m\u001b[1;33m(\u001b[0m\u001b[1;33m[\u001b[0m\u001b[0mtableI0_new\u001b[0m\u001b[1;33m,\u001b[0m \u001b[0mnew_col\u001b[0m\u001b[1;33m]\u001b[0m\u001b[1;33m,\u001b[0m \u001b[0maxis\u001b[0m\u001b[1;33m=\u001b[0m\u001b[1;36m1\u001b[0m\u001b[1;33m)\u001b[0m\u001b[1;33m\u001b[0m\u001b[1;33m\u001b[0m\u001b[0m\n\u001b[0m\u001b[0;32m      5\u001b[0m \u001b[0mtableI0_2\u001b[0m\u001b[1;33m\u001b[0m\u001b[1;33m\u001b[0m\u001b[0m\n",
      "\u001b[1;31mNameError\u001b[0m: name 'tableI0_new' is not defined"
     ]
    }
   ],
   "source": [
    "tableI0_1 = tableI0.drop(tableI0.loc[:, 'c1':'c126'], axis=1)\n",
    "columns =  tableI0.loc[:, 'c1':'c126'].loc[0:139]\n",
    "new_col = columns/columns.loc[139]\n",
    "tableI0_2 = pd.concat([tableI0_new, new_col], axis=1)\n",
    "tableI0_2"
   ]
  },
  {
   "cell_type": "code",
   "execution_count": 541,
   "metadata": {},
   "outputs": [
    {
     "output_type": "execute_result",
     "data": {
      "text/plain": [
       "     code                   industry        c1        c2        c3        c4  \\\n",
       "136  V001  Compensation of employees  0.093501  0.055566  0.113146  0.084673   \n",
       "\n",
       "           c5        c6        c7        c8  ...      c118      c119  \\\n",
       "136  0.485091  0.074641  0.231312  0.233327  ...  0.333378  0.321298   \n",
       "\n",
       "         c120     c121      c122      c123     c124      c125      c126  id  \n",
       "136  0.345326  0.33448  0.253608  0.312425  0.26625  0.663437  0.469523   1  \n",
       "\n",
       "[1 rows x 129 columns]"
      ],
      "text/html": "<div>\n<style scoped>\n    .dataframe tbody tr th:only-of-type {\n        vertical-align: middle;\n    }\n\n    .dataframe tbody tr th {\n        vertical-align: top;\n    }\n\n    .dataframe thead th {\n        text-align: right;\n    }\n</style>\n<table border=\"1\" class=\"dataframe\">\n  <thead>\n    <tr style=\"text-align: right;\">\n      <th></th>\n      <th>code</th>\n      <th>industry</th>\n      <th>c1</th>\n      <th>c2</th>\n      <th>c3</th>\n      <th>c4</th>\n      <th>c5</th>\n      <th>c6</th>\n      <th>c7</th>\n      <th>c8</th>\n      <th>...</th>\n      <th>c118</th>\n      <th>c119</th>\n      <th>c120</th>\n      <th>c121</th>\n      <th>c122</th>\n      <th>c123</th>\n      <th>c124</th>\n      <th>c125</th>\n      <th>c126</th>\n      <th>id</th>\n    </tr>\n  </thead>\n  <tbody>\n    <tr>\n      <th>136</th>\n      <td>V001</td>\n      <td>Compensation of employees</td>\n      <td>0.093501</td>\n      <td>0.055566</td>\n      <td>0.113146</td>\n      <td>0.084673</td>\n      <td>0.485091</td>\n      <td>0.074641</td>\n      <td>0.231312</td>\n      <td>0.233327</td>\n      <td>...</td>\n      <td>0.333378</td>\n      <td>0.321298</td>\n      <td>0.345326</td>\n      <td>0.33448</td>\n      <td>0.253608</td>\n      <td>0.312425</td>\n      <td>0.26625</td>\n      <td>0.663437</td>\n      <td>0.469523</td>\n      <td>1</td>\n    </tr>\n  </tbody>\n</table>\n<p>1 rows × 129 columns</p>\n</div>"
     },
     "metadata": {},
     "execution_count": 541
    }
   ],
   "source": [
    "row136 = tableI0_2.loc[[136]]\n",
    "row136['id'] = np.arange(1, len(row136)+1)\n",
    "row136"
   ]
  },
  {
   "cell_type": "code",
   "execution_count": 542,
   "metadata": {},
   "outputs": [
    {
     "output_type": "execute_result",
     "data": {
      "text/plain": [
       "        code                   industry    wshare\n",
       "id sic                                           \n",
       "1  1    V001  Compensation of employees  0.093501\n",
       "   2    V001  Compensation of employees  0.055566\n",
       "   3    V001  Compensation of employees  0.113146\n",
       "   4    V001  Compensation of employees  0.084673\n",
       "   5    V001  Compensation of employees  0.485091\n",
       "...      ...                        ...       ...\n",
       "   122  V001  Compensation of employees  0.253608\n",
       "   123  V001  Compensation of employees  0.312425\n",
       "   124  V001  Compensation of employees  0.266250\n",
       "   125  V001  Compensation of employees  0.663437\n",
       "   126  V001  Compensation of employees  0.469523\n",
       "\n",
       "[126 rows x 3 columns]"
      ],
      "text/html": "<div>\n<style scoped>\n    .dataframe tbody tr th:only-of-type {\n        vertical-align: middle;\n    }\n\n    .dataframe tbody tr th {\n        vertical-align: top;\n    }\n\n    .dataframe thead th {\n        text-align: right;\n    }\n</style>\n<table border=\"1\" class=\"dataframe\">\n  <thead>\n    <tr style=\"text-align: right;\">\n      <th></th>\n      <th></th>\n      <th>code</th>\n      <th>industry</th>\n      <th>wshare</th>\n    </tr>\n    <tr>\n      <th>id</th>\n      <th>sic</th>\n      <th></th>\n      <th></th>\n      <th></th>\n    </tr>\n  </thead>\n  <tbody>\n    <tr>\n      <th rowspan=\"11\" valign=\"top\">1</th>\n      <th>1</th>\n      <td>V001</td>\n      <td>Compensation of employees</td>\n      <td>0.093501</td>\n    </tr>\n    <tr>\n      <th>2</th>\n      <td>V001</td>\n      <td>Compensation of employees</td>\n      <td>0.055566</td>\n    </tr>\n    <tr>\n      <th>3</th>\n      <td>V001</td>\n      <td>Compensation of employees</td>\n      <td>0.113146</td>\n    </tr>\n    <tr>\n      <th>4</th>\n      <td>V001</td>\n      <td>Compensation of employees</td>\n      <td>0.084673</td>\n    </tr>\n    <tr>\n      <th>5</th>\n      <td>V001</td>\n      <td>Compensation of employees</td>\n      <td>0.485091</td>\n    </tr>\n    <tr>\n      <th>...</th>\n      <td>...</td>\n      <td>...</td>\n      <td>...</td>\n    </tr>\n    <tr>\n      <th>122</th>\n      <td>V001</td>\n      <td>Compensation of employees</td>\n      <td>0.253608</td>\n    </tr>\n    <tr>\n      <th>123</th>\n      <td>V001</td>\n      <td>Compensation of employees</td>\n      <td>0.312425</td>\n    </tr>\n    <tr>\n      <th>124</th>\n      <td>V001</td>\n      <td>Compensation of employees</td>\n      <td>0.266250</td>\n    </tr>\n    <tr>\n      <th>125</th>\n      <td>V001</td>\n      <td>Compensation of employees</td>\n      <td>0.663437</td>\n    </tr>\n    <tr>\n      <th>126</th>\n      <td>V001</td>\n      <td>Compensation of employees</td>\n      <td>0.469523</td>\n    </tr>\n  </tbody>\n</table>\n<p>126 rows × 3 columns</p>\n</div>"
     },
     "metadata": {},
     "execution_count": 542
    }
   ],
   "source": [
    "new_row136 = pd.wide_to_long(row136, [\"c\"], i='id', j=\"sic\")\n",
    "new_row136 = new_row136.rename(columns={'c': 'wshare'})\n",
    "new_row136\n",
    "new_row136.to_stata('wages')\n",
    "new_row136"
   ]
  },
  {
   "cell_type": "code",
   "execution_count": 543,
   "metadata": {},
   "outputs": [
    {
     "output_type": "execute_result",
     "data": {
      "text/plain": [
       "     code                                    industry        c1        c2  \\\n",
       "0    1110                               Crop products  0.053661  0.248259   \n",
       "1    1120                             Animal products  0.000000  0.159890   \n",
       "2    1130               Forestry and logging products  0.000039  0.000000   \n",
       "3    1140              Fish and other nonfarm animals  0.000000  0.000000   \n",
       "4    1150   Agriculture and forestry support services  0.066536  0.018377   \n",
       "..    ...                                         ...       ...       ...   \n",
       "135  T006                           Total value added  0.487558  0.149299   \n",
       "136  V001                   Compensation of employees  0.093501  0.055566   \n",
       "137  V002  Indirect business tax and nontax liability  0.019053  0.017425   \n",
       "138  V003                           Other value added  0.375003  0.076307   \n",
       "139  T008                       Total industry output  1.000000  1.000000   \n",
       "\n",
       "           c3        c4        c5        c6        c7        c8  ...  \\\n",
       "0    0.000000  0.000000  0.053732  0.000004  0.000000  0.000000  ...   \n",
       "1    0.001245  0.000000  0.093651  0.000000  0.000000  0.000000  ...   \n",
       "2    0.280967  0.000000  0.002011  0.000000  0.000611  0.000000  ...   \n",
       "3    0.000000  0.053274  0.000000  0.000000  0.000000  0.000000  ...   \n",
       "4    0.106288  0.131581  0.000000  0.000000  0.000000  0.000000  ...   \n",
       "..        ...       ...       ...       ...       ...       ...  ...   \n",
       "135  0.509212  0.552679  0.527717  0.401163  0.464046  0.435949  ...   \n",
       "136  0.113146  0.084673  0.485091  0.074641  0.231312  0.233327  ...   \n",
       "137  0.029326  0.058151  0.022107  0.075342  0.099198  0.046949  ...   \n",
       "138  0.366740  0.409855  0.020519  0.251180  0.133537  0.155673  ...   \n",
       "139  1.000000  1.000000  1.000000  1.000000  1.000000  1.000000  ...   \n",
       "\n",
       "         c119      c120      c121      c122      c123      c124      c125  \\\n",
       "0    0.002386  0.001528  0.009349  0.000005  0.000000  0.000000  0.000109   \n",
       "1    0.001119  0.000275  0.004684  0.000000  0.000000  0.000888  0.000000   \n",
       "2    0.000000  0.000000  0.000000  0.000000  0.000000  0.000493  0.000000   \n",
       "3    0.000943  0.001463  0.009919  0.000000  0.000000  0.000000  0.000000   \n",
       "4    0.000000  0.000000  0.000000  0.000000  0.000000  0.000000  0.000000   \n",
       "..        ...       ...       ...       ...       ...       ...       ...   \n",
       "135  0.632352  0.675216  0.499140  0.506639  0.647949  0.605063  0.663984   \n",
       "136  0.321298  0.345326  0.334480  0.253608  0.312425  0.266250  0.663437   \n",
       "137  0.056296  0.071406  0.057800  0.039670  0.023557  0.025498  0.000547   \n",
       "138  0.254758  0.258484  0.106860  0.213362  0.311967  0.313315  0.000000   \n",
       "139  1.000000  1.000000  1.000000  1.000000  1.000000  1.000000  1.000000   \n",
       "\n",
       "         c126  sic  ind_nber  \n",
       "0    0.000863    1       NaN  \n",
       "1    0.000080    2       NaN  \n",
       "2    0.000000    3       NaN  \n",
       "3    0.000536    4       NaN  \n",
       "4    0.000000    5       NaN  \n",
       "..        ...  ...       ...  \n",
       "135  0.476217  136       NaN  \n",
       "136  0.469523  137       NaN  \n",
       "137  0.006695  138       NaN  \n",
       "138  0.000000  139       NaN  \n",
       "139  1.000000  140       NaN  \n",
       "\n",
       "[140 rows x 130 columns]"
      ],
      "text/html": "<div>\n<style scoped>\n    .dataframe tbody tr th:only-of-type {\n        vertical-align: middle;\n    }\n\n    .dataframe tbody tr th {\n        vertical-align: top;\n    }\n\n    .dataframe thead th {\n        text-align: right;\n    }\n</style>\n<table border=\"1\" class=\"dataframe\">\n  <thead>\n    <tr style=\"text-align: right;\">\n      <th></th>\n      <th>code</th>\n      <th>industry</th>\n      <th>c1</th>\n      <th>c2</th>\n      <th>c3</th>\n      <th>c4</th>\n      <th>c5</th>\n      <th>c6</th>\n      <th>c7</th>\n      <th>c8</th>\n      <th>...</th>\n      <th>c119</th>\n      <th>c120</th>\n      <th>c121</th>\n      <th>c122</th>\n      <th>c123</th>\n      <th>c124</th>\n      <th>c125</th>\n      <th>c126</th>\n      <th>sic</th>\n      <th>ind_nber</th>\n    </tr>\n  </thead>\n  <tbody>\n    <tr>\n      <th>0</th>\n      <td>1110</td>\n      <td>Crop products</td>\n      <td>0.053661</td>\n      <td>0.248259</td>\n      <td>0.000000</td>\n      <td>0.000000</td>\n      <td>0.053732</td>\n      <td>0.000004</td>\n      <td>0.000000</td>\n      <td>0.000000</td>\n      <td>...</td>\n      <td>0.002386</td>\n      <td>0.001528</td>\n      <td>0.009349</td>\n      <td>0.000005</td>\n      <td>0.000000</td>\n      <td>0.000000</td>\n      <td>0.000109</td>\n      <td>0.000863</td>\n      <td>1</td>\n      <td>NaN</td>\n    </tr>\n    <tr>\n      <th>1</th>\n      <td>1120</td>\n      <td>Animal products</td>\n      <td>0.000000</td>\n      <td>0.159890</td>\n      <td>0.001245</td>\n      <td>0.000000</td>\n      <td>0.093651</td>\n      <td>0.000000</td>\n      <td>0.000000</td>\n      <td>0.000000</td>\n      <td>...</td>\n      <td>0.001119</td>\n      <td>0.000275</td>\n      <td>0.004684</td>\n      <td>0.000000</td>\n      <td>0.000000</td>\n      <td>0.000888</td>\n      <td>0.000000</td>\n      <td>0.000080</td>\n      <td>2</td>\n      <td>NaN</td>\n    </tr>\n    <tr>\n      <th>2</th>\n      <td>1130</td>\n      <td>Forestry and logging products</td>\n      <td>0.000039</td>\n      <td>0.000000</td>\n      <td>0.280967</td>\n      <td>0.000000</td>\n      <td>0.002011</td>\n      <td>0.000000</td>\n      <td>0.000611</td>\n      <td>0.000000</td>\n      <td>...</td>\n      <td>0.000000</td>\n      <td>0.000000</td>\n      <td>0.000000</td>\n      <td>0.000000</td>\n      <td>0.000000</td>\n      <td>0.000493</td>\n      <td>0.000000</td>\n      <td>0.000000</td>\n      <td>3</td>\n      <td>NaN</td>\n    </tr>\n    <tr>\n      <th>3</th>\n      <td>1140</td>\n      <td>Fish and other nonfarm animals</td>\n      <td>0.000000</td>\n      <td>0.000000</td>\n      <td>0.000000</td>\n      <td>0.053274</td>\n      <td>0.000000</td>\n      <td>0.000000</td>\n      <td>0.000000</td>\n      <td>0.000000</td>\n      <td>...</td>\n      <td>0.000943</td>\n      <td>0.001463</td>\n      <td>0.009919</td>\n      <td>0.000000</td>\n      <td>0.000000</td>\n      <td>0.000000</td>\n      <td>0.000000</td>\n      <td>0.000536</td>\n      <td>4</td>\n      <td>NaN</td>\n    </tr>\n    <tr>\n      <th>4</th>\n      <td>1150</td>\n      <td>Agriculture and forestry support services</td>\n      <td>0.066536</td>\n      <td>0.018377</td>\n      <td>0.106288</td>\n      <td>0.131581</td>\n      <td>0.000000</td>\n      <td>0.000000</td>\n      <td>0.000000</td>\n      <td>0.000000</td>\n      <td>...</td>\n      <td>0.000000</td>\n      <td>0.000000</td>\n      <td>0.000000</td>\n      <td>0.000000</td>\n      <td>0.000000</td>\n      <td>0.000000</td>\n      <td>0.000000</td>\n      <td>0.000000</td>\n      <td>5</td>\n      <td>NaN</td>\n    </tr>\n    <tr>\n      <th>...</th>\n      <td>...</td>\n      <td>...</td>\n      <td>...</td>\n      <td>...</td>\n      <td>...</td>\n      <td>...</td>\n      <td>...</td>\n      <td>...</td>\n      <td>...</td>\n      <td>...</td>\n      <td>...</td>\n      <td>...</td>\n      <td>...</td>\n      <td>...</td>\n      <td>...</td>\n      <td>...</td>\n      <td>...</td>\n      <td>...</td>\n      <td>...</td>\n      <td>...</td>\n      <td>...</td>\n    </tr>\n    <tr>\n      <th>135</th>\n      <td>T006</td>\n      <td>Total value added</td>\n      <td>0.487558</td>\n      <td>0.149299</td>\n      <td>0.509212</td>\n      <td>0.552679</td>\n      <td>0.527717</td>\n      <td>0.401163</td>\n      <td>0.464046</td>\n      <td>0.435949</td>\n      <td>...</td>\n      <td>0.632352</td>\n      <td>0.675216</td>\n      <td>0.499140</td>\n      <td>0.506639</td>\n      <td>0.647949</td>\n      <td>0.605063</td>\n      <td>0.663984</td>\n      <td>0.476217</td>\n      <td>136</td>\n      <td>NaN</td>\n    </tr>\n    <tr>\n      <th>136</th>\n      <td>V001</td>\n      <td>Compensation of employees</td>\n      <td>0.093501</td>\n      <td>0.055566</td>\n      <td>0.113146</td>\n      <td>0.084673</td>\n      <td>0.485091</td>\n      <td>0.074641</td>\n      <td>0.231312</td>\n      <td>0.233327</td>\n      <td>...</td>\n      <td>0.321298</td>\n      <td>0.345326</td>\n      <td>0.334480</td>\n      <td>0.253608</td>\n      <td>0.312425</td>\n      <td>0.266250</td>\n      <td>0.663437</td>\n      <td>0.469523</td>\n      <td>137</td>\n      <td>NaN</td>\n    </tr>\n    <tr>\n      <th>137</th>\n      <td>V002</td>\n      <td>Indirect business tax and nontax liability</td>\n      <td>0.019053</td>\n      <td>0.017425</td>\n      <td>0.029326</td>\n      <td>0.058151</td>\n      <td>0.022107</td>\n      <td>0.075342</td>\n      <td>0.099198</td>\n      <td>0.046949</td>\n      <td>...</td>\n      <td>0.056296</td>\n      <td>0.071406</td>\n      <td>0.057800</td>\n      <td>0.039670</td>\n      <td>0.023557</td>\n      <td>0.025498</td>\n      <td>0.000547</td>\n      <td>0.006695</td>\n      <td>138</td>\n      <td>NaN</td>\n    </tr>\n    <tr>\n      <th>138</th>\n      <td>V003</td>\n      <td>Other value added</td>\n      <td>0.375003</td>\n      <td>0.076307</td>\n      <td>0.366740</td>\n      <td>0.409855</td>\n      <td>0.020519</td>\n      <td>0.251180</td>\n      <td>0.133537</td>\n      <td>0.155673</td>\n      <td>...</td>\n      <td>0.254758</td>\n      <td>0.258484</td>\n      <td>0.106860</td>\n      <td>0.213362</td>\n      <td>0.311967</td>\n      <td>0.313315</td>\n      <td>0.000000</td>\n      <td>0.000000</td>\n      <td>139</td>\n      <td>NaN</td>\n    </tr>\n    <tr>\n      <th>139</th>\n      <td>T008</td>\n      <td>Total industry output</td>\n      <td>1.000000</td>\n      <td>1.000000</td>\n      <td>1.000000</td>\n      <td>1.000000</td>\n      <td>1.000000</td>\n      <td>1.000000</td>\n      <td>1.000000</td>\n      <td>1.000000</td>\n      <td>...</td>\n      <td>1.000000</td>\n      <td>1.000000</td>\n      <td>1.000000</td>\n      <td>1.000000</td>\n      <td>1.000000</td>\n      <td>1.000000</td>\n      <td>1.000000</td>\n      <td>1.000000</td>\n      <td>140</td>\n      <td>NaN</td>\n    </tr>\n  </tbody>\n</table>\n<p>140 rows × 130 columns</p>\n</div>"
     },
     "metadata": {},
     "execution_count": 543
    }
   ],
   "source": [
    "#input shares\n",
    "\n",
    "tableI0_2['sic'] = np.arange(1, len(tableI0_2)+1)\n",
    "tableI0_2['ind_nber'] = np.nan\n",
    "tableI0_2"
   ]
  },
  {
   "cell_type": "code",
   "execution_count": 544,
   "metadata": {},
   "outputs": [],
   "source": [
    "tableI0_2.loc[tableI0_2['sic'] == 1, 'ind_nber'] = 1  #/*agriculture*/\n",
    "tableI0_2.loc[tableI0_2['sic'] == 2, 'ind_nber'] = 2 # /*oth agriculture*/\n",
    "tableI0_2.loc[tableI0_2['sic'] == 3, 'ind_nber'] = 46 #/*forestry*/\n",
    "tableI0_2.loc[tableI0_2['sic'] == 4, 'ind_nber'] = 46\n",
    "tableI0_2.loc[tableI0_2['sic'] == 5, 'ind_nber'] = 46\n",
    "tableI0_2.loc[tableI0_2['sic'] == 6, 'ind_nber'] = 3 #/*mining*/\n",
    "tableI0_2.loc[tableI0_2['sic'] == 7, 'ind_nber'] = 3\n",
    "tableI0_2.loc[tableI0_2['sic'] == 8, 'ind_nber'] = 3\n",
    "tableI0_2.loc[tableI0_2['sic'] == 9, 'ind_nber'] = 3\n",
    "tableI0_2.loc[tableI0_2['sic'] == 10, 'ind_nber'] = 3\n",
    "\n",
    "tableI0_2.loc[tableI0_2['sic'] == 11, 'ind_nber'] = 31  #/*utilities*/\n",
    "tableI0_2.loc[tableI0_2['sic'] == 12, 'ind_nber'] = 31 \n",
    "tableI0_2.loc[tableI0_2['sic'] == 13, 'ind_nber'] = 31 \n",
    "tableI0_2.loc[tableI0_2['sic'] == 14, 'ind_nber'] = 4 #/*consstruction*/\n",
    "tableI0_2.loc[tableI0_2['sic'] == 15, 'ind_nber'] = 4\n",
    "tableI0_2.loc[tableI0_2['sic'] == 16, 'ind_nber'] = 4 \n",
    "tableI0_2.loc[tableI0_2['sic'] == 17, 'ind_nber'] = 19 #/*food*/\n",
    "tableI0_2.loc[tableI0_2['sic'] == 18, 'ind_nber'] = 19\n",
    "tableI0_2.loc[tableI0_2['sic'] == 19, 'ind_nber'] = 20 #/*tobacco*/\n",
    "tableI0_2.loc[tableI0_2['sic'] == 20, 'ind_nber'] = 21 # /*textile*/\n",
    "\n",
    "tableI0_2.loc[tableI0_2['sic'] == 21, 'ind_nber'] = 21\n",
    "tableI0_2.loc[tableI0_2['sic'] == 22, 'ind_nber'] = 22 #/*apparel*/\n",
    "tableI0_2.loc[tableI0_2['sic'] == 23, 'ind_nber'] = 28 #/*leather*/\n",
    "tableI0_2.loc[tableI0_2['sic'] == 24, 'ind_nber'] = 5 # /*wood*/\n",
    "tableI0_2.loc[tableI0_2['sic'] == 25, 'ind_nber'] = 23 #/*paper*/\n",
    "tableI0_2.loc[tableI0_2['sic'] == 26, 'ind_nber'] = 23 \n",
    "tableI0_2.loc[tableI0_2['sic'] == 27, 'ind_nber'] = 24 #/*print*/\n",
    "tableI0_2.loc[tableI0_2['sic'] == 28, 'ind_nber'] = 26 #/*petroleum*/\n",
    "tableI0_2.loc[tableI0_2['sic'] == 29, 'ind_nber'] = 25 #/*chemicals*/\n",
    "tableI0_2.loc[tableI0_2['sic'] == 30, 'ind_nber'] = 25 \n",
    "\n",
    "tableI0_2.loc[tableI0_2['sic'] == 31, 'ind_nber'] = 25\n",
    "tableI0_2.loc[tableI0_2['sic'] == 32, 'ind_nber'] = 25 \n",
    "tableI0_2.loc[tableI0_2['sic'] == 33, 'ind_nber'] = 25 \n",
    "tableI0_2.loc[tableI0_2['sic'] == 34, 'ind_nber'] = 25\n",
    "tableI0_2.loc[tableI0_2['sic'] == 35, 'ind_nber'] = 25 \n",
    "tableI0_2.loc[tableI0_2['sic'] == 36, 'ind_nber'] = 27 #/*plastic*/\n",
    "tableI0_2.loc[tableI0_2['sic'] == 37, 'ind_nber'] = 7 # /*nonmetallic*/\n",
    "tableI0_2.loc[tableI0_2['sic'] == 38, 'ind_nber'] = 8 #/*primary metals*/\n",
    "tableI0_2.loc[tableI0_2['sic'] == 39, 'ind_nber'] = 8\n",
    "tableI0_2.loc[tableI0_2['sic'] == 40, 'ind_nber'] = 9  #/*metal products*/\n",
    "\n",
    "tableI0_2.loc[tableI0_2['sic'] == 41, 'ind_nber'] = 9\n",
    "tableI0_2.loc[tableI0_2['sic'] == 42, 'ind_nber'] = 9 \n",
    "tableI0_2.loc[tableI0_2['sic'] == 43, 'ind_nber'] = 9 \n",
    "tableI0_2.loc[tableI0_2['sic'] == 44, 'ind_nber'] = 9\n",
    "tableI0_2.loc[tableI0_2['sic'] == 45, 'ind_nber'] = 9 \n",
    "tableI0_2.loc[tableI0_2['sic'] == 46, 'ind_nber'] = 10 \n",
    "tableI0_2.loc[tableI0_2['sic'] == 47, 'ind_nber'] = 11 #/*machinery*/\n",
    "tableI0_2.loc[tableI0_2['sic'] == 48, 'ind_nber'] = 11\n",
    "tableI0_2.loc[tableI0_2['sic'] == 49, 'ind_nber'] = 11\n",
    "tableI0_2.loc[tableI0_2['sic'] == 50, 'ind_nber'] = 11\n",
    "\n",
    "tableI0_2.loc[tableI0_2['sic'] == 51, 'ind_nber'] = 11\n",
    "tableI0_2.loc[tableI0_2['sic'] == 52, 'ind_nber'] = 11 \n",
    "tableI0_2.loc[tableI0_2['sic'] == 53, 'ind_nber'] = 11\n",
    "tableI0_2.loc[tableI0_2['sic'] == 54, 'ind_nber'] = 12 # /*equipment*/\n",
    "tableI0_2.loc[tableI0_2['sic'] == 55, 'ind_nber'] = 12 \n",
    "tableI0_2.loc[tableI0_2['sic'] == 56, 'ind_nber'] = 12 \n",
    "tableI0_2.loc[tableI0_2['sic'] == 57, 'ind_nber'] = 12 \n",
    "tableI0_2.loc[tableI0_2['sic'] == 58, 'ind_nber'] = 12\n",
    "tableI0_2.loc[tableI0_2['sic'] == 59, 'ind_nber'] = 12\n",
    "tableI0_2.loc[tableI0_2['sic'] == 60, 'ind_nber'] = 12\n",
    "\n",
    "tableI0_2.loc[tableI0_2['sic'] == 61, 'ind_nber'] = 12\n",
    "tableI0_2.loc[tableI0_2['sic'] == 62, 'ind_nber'] = 12 \n",
    "tableI0_2.loc[tableI0_2['sic'] == 63, 'ind_nber'] = 13 #/*vehicles*/\n",
    "tableI0_2.loc[tableI0_2['sic'] == 64, 'ind_nber'] = 13\n",
    "tableI0_2.loc[tableI0_2['sic'] == 65, 'ind_nber'] = 14 #/*aricrafts*/\n",
    "tableI0_2.loc[tableI0_2['sic'] == 66, 'ind_nber'] = 15 #/*other transp*/\n",
    "tableI0_2.loc[tableI0_2['sic'] == 67, 'ind_nber'] = 6 #/*furniture*/\n",
    "tableI0_2.loc[tableI0_2['sic'] == 68, 'ind_nber'] = 16 #/*prof products*/\n",
    "tableI0_2.loc[tableI0_2['sic'] == 69, 'ind_nber'] = 18 #/*other manuf*/\n",
    "tableI0_2.loc[tableI0_2['sic'] == 70, 'ind_nber'] = 32 #/*whoelsale*/\n",
    "\n",
    "tableI0_2.loc[tableI0_2['sic'] == 71, 'ind_nber'] = 33 # /*retali*/\n",
    "tableI0_2.loc[tableI0_2['sic'] == 72, 'ind_nber'] = 29 # /*trasportation*/\n",
    "tableI0_2.loc[tableI0_2['sic'] == 73, 'ind_nber'] = 29\n",
    "tableI0_2.loc[tableI0_2['sic'] == 74, 'ind_nber'] = 29 \n",
    "tableI0_2.loc[tableI0_2['sic'] == 75, 'ind_nber'] = 29 \n",
    "tableI0_2.loc[tableI0_2['sic'] == 76, 'ind_nber'] = 29 \n",
    "tableI0_2.loc[tableI0_2['sic'] == 77, 'ind_nber'] = 29 \n",
    "tableI0_2.loc[tableI0_2['sic'] == 78, 'ind_nber'] = 29\n",
    "tableI0_2.loc[tableI0_2['sic'] == 79, 'ind_nber'] = 29\n",
    "tableI0_2.loc[tableI0_2['sic'] == 70, 'ind_nber'] = 29\n",
    "\n",
    "tableI0_2.loc[tableI0_2['sic'] == 81, 'ind_nber'] = 30 # /*communications*/\n",
    "tableI0_2.loc[tableI0_2['sic'] == 82, 'ind_nber'] = 30 \n",
    "tableI0_2.loc[tableI0_2['sic'] == 83, 'ind_nber'] = 30\n",
    "tableI0_2.loc[tableI0_2['sic'] == 84, 'ind_nber'] = 30 \n",
    "tableI0_2.loc[tableI0_2['sic'] == 85, 'ind_nber'] = 30 \n",
    "tableI0_2.loc[tableI0_2['sic'] == 86, 'ind_nber'] = 30 \n",
    "tableI0_2.loc[tableI0_2['sic'] == 87, 'ind_nber'] = 30 \n",
    "tableI0_2.loc[tableI0_2['sic'] == 88, 'ind_nber'] = 30\n",
    "tableI0_2.loc[tableI0_2['sic'] == 89, 'ind_nber'] = 34 #/*nbanking*/\n",
    "tableI0_2.loc[tableI0_2['sic'] == 90, 'ind_nber'] = 34\n",
    "\n",
    "tableI0_2.loc[tableI0_2['sic'] == 91, 'ind_nber'] = 34\n",
    "tableI0_2.loc[tableI0_2['sic'] == 92, 'ind_nber'] = 34 \n",
    "tableI0_2.loc[tableI0_2['sic'] == 93, 'ind_nber'] = 35 #/*insurance*/\n",
    "tableI0_2.loc[tableI0_2['sic'] == 94, 'ind_nber'] = 35 \n",
    "tableI0_2.loc[tableI0_2['sic'] == 95, 'ind_nber'] = 35 \n",
    "tableI0_2.loc[tableI0_2['sic'] == 96, 'ind_nber'] = 35 \n",
    "tableI0_2.loc[tableI0_2['sic'] == 97, 'ind_nber'] = 35 \n",
    "tableI0_2.loc[tableI0_2['sic'] == 98, 'ind_nber'] = 35\n",
    "tableI0_2.loc[tableI0_2['sic'] == 99, 'ind_nber'] = 45 #/*prof serv*/\n",
    "tableI0_2.loc[tableI0_2['sic'] == 100, 'ind_nber'] = 45\n",
    "\n",
    "tableI0_2.loc[tableI0_2['sic'] == 101, 'ind_nber'] = 45\n",
    "tableI0_2.loc[tableI0_2['sic'] == 102, 'ind_nber'] = 45 \n",
    "tableI0_2.loc[tableI0_2['sic'] == 103, 'ind_nber'] = 45 \n",
    "tableI0_2.loc[tableI0_2['sic'] == 104, 'ind_nber'] = 45 \n",
    "tableI0_2.loc[tableI0_2['sic'] == 105, 'ind_nber'] = 45 \n",
    "tableI0_2.loc[tableI0_2['sic'] == 106, 'ind_nber'] = 45 \n",
    "tableI0_2.loc[tableI0_2['sic'] == 107, 'ind_nber'] = 45 \n",
    "tableI0_2.loc[tableI0_2['sic'] == 108, 'ind_nber'] = 37 #/*business serv*/\n",
    "tableI0_2.loc[tableI0_2['sic'] == 109, 'ind_nber'] = 37 \n",
    "tableI0_2.loc[tableI0_2['sic'] == 110, 'ind_nber'] = 37\n",
    "\n",
    "\n",
    "tableI0_2.loc[tableI0_2['sic'] == 111, 'ind_nber'] = 37\n",
    "tableI0_2.loc[tableI0_2['sic'] == 112, 'ind_nber'] = 37 \n",
    "tableI0_2.loc[tableI0_2['sic'] == 113, 'ind_nber'] = 43 #/*education*/\n",
    "tableI0_2.loc[tableI0_2['sic'] == 114, 'ind_nber'] = 41 # *hospital */\n",
    "tableI0_2.loc[tableI0_2['sic'] == 115, 'ind_nber'] = 41 \n",
    "tableI0_2.loc[tableI0_2['sic'] == 116, 'ind_nber'] = 42 #/*health*/\n",
    "tableI0_2.loc[tableI0_2['sic'] == 117, 'ind_nber'] = 42 \n",
    "tableI0_2.loc[tableI0_2['sic'] == 118, 'ind_nber'] = 40 #/*entertainment*/\n",
    "tableI0_2.loc[tableI0_2['sic'] == 119, 'ind_nber'] = 40 \n",
    "tableI0_2.loc[tableI0_2['sic'] == 120, 'ind_nber'] = 39 #/*food services*/\n",
    "\n",
    "tableI0_2.loc[tableI0_2['sic'] == 121, 'ind_nber'] = 39\n",
    "tableI0_2.loc[tableI0_2['sic'] == 122, 'ind_nber'] = 38 #/*repiars*/\n",
    "tableI0_2.loc[tableI0_2['sic'] == 123, 'ind_nber'] = 38\n",
    "tableI0_2.loc[tableI0_2['sic'] == 124, 'ind_nber'] = 39 #/*personal services*/\n",
    "tableI0_2.loc[tableI0_2['sic'] == 125, 'ind_nber'] = 44 # /*social serv*/\n",
    "tableI0_2.loc[tableI0_2['sic'] == 126, 'ind_nber'] = 44 \n",
    "tableI0_2.loc[tableI0_2['sic'] == 127, 'ind_nber'] = 36 #/*private household*/\n",
    "tableI0_2.loc[tableI0_2['sic'] == 128, 'ind_nber'] = 52 #/*government*/\n",
    "tableI0_2.loc[tableI0_2['sic'] == 129, 'ind_nber'] = 52 \n"
   ]
  },
  {
   "cell_type": "code",
   "execution_count": 545,
   "metadata": {},
   "outputs": [
    {
     "output_type": "execute_result",
     "data": {
      "text/plain": [
       "     code                                    industry        c1        c2  \\\n",
       "0    1110                               Crop products  0.053661  0.248259   \n",
       "1    1120                             Animal products  0.000000  0.159890   \n",
       "2    1130               Forestry and logging products  0.000039  0.000000   \n",
       "3    1140              Fish and other nonfarm animals  0.000000  0.000000   \n",
       "4    1150   Agriculture and forestry support services  0.066536  0.018377   \n",
       "..    ...                                         ...       ...       ...   \n",
       "135  T006                           Total value added  0.487558  0.149299   \n",
       "136  V001                   Compensation of employees  0.093501  0.055566   \n",
       "137  V002  Indirect business tax and nontax liability  0.019053  0.017425   \n",
       "138  V003                           Other value added  0.375003  0.076307   \n",
       "139  T008                       Total industry output  1.000000  1.000000   \n",
       "\n",
       "           c3        c4        c5        c6        c7        c8  ...  \\\n",
       "0    0.000000  0.000000  0.053732  0.000004  0.000000  0.000000  ...   \n",
       "1    0.001245  0.000000  0.093651  0.000000  0.000000  0.000000  ...   \n",
       "2    0.280967  0.000000  0.002011  0.000000  0.000611  0.000000  ...   \n",
       "3    0.000000  0.053274  0.000000  0.000000  0.000000  0.000000  ...   \n",
       "4    0.106288  0.131581  0.000000  0.000000  0.000000  0.000000  ...   \n",
       "..        ...       ...       ...       ...       ...       ...  ...   \n",
       "135  0.509212  0.552679  0.527717  0.401163  0.464046  0.435949  ...   \n",
       "136  0.113146  0.084673  0.485091  0.074641  0.231312  0.233327  ...   \n",
       "137  0.029326  0.058151  0.022107  0.075342  0.099198  0.046949  ...   \n",
       "138  0.366740  0.409855  0.020519  0.251180  0.133537  0.155673  ...   \n",
       "139  1.000000  1.000000  1.000000  1.000000  1.000000  1.000000  ...   \n",
       "\n",
       "         c119      c120      c121      c122      c123      c124      c125  \\\n",
       "0    0.002386  0.001528  0.009349  0.000005  0.000000  0.000000  0.000109   \n",
       "1    0.001119  0.000275  0.004684  0.000000  0.000000  0.000888  0.000000   \n",
       "2    0.000000  0.000000  0.000000  0.000000  0.000000  0.000493  0.000000   \n",
       "3    0.000943  0.001463  0.009919  0.000000  0.000000  0.000000  0.000000   \n",
       "4    0.000000  0.000000  0.000000  0.000000  0.000000  0.000000  0.000000   \n",
       "..        ...       ...       ...       ...       ...       ...       ...   \n",
       "135  0.632352  0.675216  0.499140  0.506639  0.647949  0.605063  0.663984   \n",
       "136  0.321298  0.345326  0.334480  0.253608  0.312425  0.266250  0.663437   \n",
       "137  0.056296  0.071406  0.057800  0.039670  0.023557  0.025498  0.000547   \n",
       "138  0.254758  0.258484  0.106860  0.213362  0.311967  0.313315  0.000000   \n",
       "139  1.000000  1.000000  1.000000  1.000000  1.000000  1.000000  1.000000   \n",
       "\n",
       "         c126  sic  ind_nber  \n",
       "0    0.000863    1       1.0  \n",
       "1    0.000080    2       2.0  \n",
       "2    0.000000    3      46.0  \n",
       "3    0.000536    4      46.0  \n",
       "4    0.000000    5      46.0  \n",
       "..        ...  ...       ...  \n",
       "135  0.476217  136       NaN  \n",
       "136  0.469523  137       NaN  \n",
       "137  0.006695  138       NaN  \n",
       "138  0.000000  139       NaN  \n",
       "139  1.000000  140       NaN  \n",
       "\n",
       "[140 rows x 130 columns]"
      ],
      "text/html": "<div>\n<style scoped>\n    .dataframe tbody tr th:only-of-type {\n        vertical-align: middle;\n    }\n\n    .dataframe tbody tr th {\n        vertical-align: top;\n    }\n\n    .dataframe thead th {\n        text-align: right;\n    }\n</style>\n<table border=\"1\" class=\"dataframe\">\n  <thead>\n    <tr style=\"text-align: right;\">\n      <th></th>\n      <th>code</th>\n      <th>industry</th>\n      <th>c1</th>\n      <th>c2</th>\n      <th>c3</th>\n      <th>c4</th>\n      <th>c5</th>\n      <th>c6</th>\n      <th>c7</th>\n      <th>c8</th>\n      <th>...</th>\n      <th>c119</th>\n      <th>c120</th>\n      <th>c121</th>\n      <th>c122</th>\n      <th>c123</th>\n      <th>c124</th>\n      <th>c125</th>\n      <th>c126</th>\n      <th>sic</th>\n      <th>ind_nber</th>\n    </tr>\n  </thead>\n  <tbody>\n    <tr>\n      <th>0</th>\n      <td>1110</td>\n      <td>Crop products</td>\n      <td>0.053661</td>\n      <td>0.248259</td>\n      <td>0.000000</td>\n      <td>0.000000</td>\n      <td>0.053732</td>\n      <td>0.000004</td>\n      <td>0.000000</td>\n      <td>0.000000</td>\n      <td>...</td>\n      <td>0.002386</td>\n      <td>0.001528</td>\n      <td>0.009349</td>\n      <td>0.000005</td>\n      <td>0.000000</td>\n      <td>0.000000</td>\n      <td>0.000109</td>\n      <td>0.000863</td>\n      <td>1</td>\n      <td>1.0</td>\n    </tr>\n    <tr>\n      <th>1</th>\n      <td>1120</td>\n      <td>Animal products</td>\n      <td>0.000000</td>\n      <td>0.159890</td>\n      <td>0.001245</td>\n      <td>0.000000</td>\n      <td>0.093651</td>\n      <td>0.000000</td>\n      <td>0.000000</td>\n      <td>0.000000</td>\n      <td>...</td>\n      <td>0.001119</td>\n      <td>0.000275</td>\n      <td>0.004684</td>\n      <td>0.000000</td>\n      <td>0.000000</td>\n      <td>0.000888</td>\n      <td>0.000000</td>\n      <td>0.000080</td>\n      <td>2</td>\n      <td>2.0</td>\n    </tr>\n    <tr>\n      <th>2</th>\n      <td>1130</td>\n      <td>Forestry and logging products</td>\n      <td>0.000039</td>\n      <td>0.000000</td>\n      <td>0.280967</td>\n      <td>0.000000</td>\n      <td>0.002011</td>\n      <td>0.000000</td>\n      <td>0.000611</td>\n      <td>0.000000</td>\n      <td>...</td>\n      <td>0.000000</td>\n      <td>0.000000</td>\n      <td>0.000000</td>\n      <td>0.000000</td>\n      <td>0.000000</td>\n      <td>0.000493</td>\n      <td>0.000000</td>\n      <td>0.000000</td>\n      <td>3</td>\n      <td>46.0</td>\n    </tr>\n    <tr>\n      <th>3</th>\n      <td>1140</td>\n      <td>Fish and other nonfarm animals</td>\n      <td>0.000000</td>\n      <td>0.000000</td>\n      <td>0.000000</td>\n      <td>0.053274</td>\n      <td>0.000000</td>\n      <td>0.000000</td>\n      <td>0.000000</td>\n      <td>0.000000</td>\n      <td>...</td>\n      <td>0.000943</td>\n      <td>0.001463</td>\n      <td>0.009919</td>\n      <td>0.000000</td>\n      <td>0.000000</td>\n      <td>0.000000</td>\n      <td>0.000000</td>\n      <td>0.000536</td>\n      <td>4</td>\n      <td>46.0</td>\n    </tr>\n    <tr>\n      <th>4</th>\n      <td>1150</td>\n      <td>Agriculture and forestry support services</td>\n      <td>0.066536</td>\n      <td>0.018377</td>\n      <td>0.106288</td>\n      <td>0.131581</td>\n      <td>0.000000</td>\n      <td>0.000000</td>\n      <td>0.000000</td>\n      <td>0.000000</td>\n      <td>...</td>\n      <td>0.000000</td>\n      <td>0.000000</td>\n      <td>0.000000</td>\n      <td>0.000000</td>\n      <td>0.000000</td>\n      <td>0.000000</td>\n      <td>0.000000</td>\n      <td>0.000000</td>\n      <td>5</td>\n      <td>46.0</td>\n    </tr>\n    <tr>\n      <th>...</th>\n      <td>...</td>\n      <td>...</td>\n      <td>...</td>\n      <td>...</td>\n      <td>...</td>\n      <td>...</td>\n      <td>...</td>\n      <td>...</td>\n      <td>...</td>\n      <td>...</td>\n      <td>...</td>\n      <td>...</td>\n      <td>...</td>\n      <td>...</td>\n      <td>...</td>\n      <td>...</td>\n      <td>...</td>\n      <td>...</td>\n      <td>...</td>\n      <td>...</td>\n      <td>...</td>\n    </tr>\n    <tr>\n      <th>135</th>\n      <td>T006</td>\n      <td>Total value added</td>\n      <td>0.487558</td>\n      <td>0.149299</td>\n      <td>0.509212</td>\n      <td>0.552679</td>\n      <td>0.527717</td>\n      <td>0.401163</td>\n      <td>0.464046</td>\n      <td>0.435949</td>\n      <td>...</td>\n      <td>0.632352</td>\n      <td>0.675216</td>\n      <td>0.499140</td>\n      <td>0.506639</td>\n      <td>0.647949</td>\n      <td>0.605063</td>\n      <td>0.663984</td>\n      <td>0.476217</td>\n      <td>136</td>\n      <td>NaN</td>\n    </tr>\n    <tr>\n      <th>136</th>\n      <td>V001</td>\n      <td>Compensation of employees</td>\n      <td>0.093501</td>\n      <td>0.055566</td>\n      <td>0.113146</td>\n      <td>0.084673</td>\n      <td>0.485091</td>\n      <td>0.074641</td>\n      <td>0.231312</td>\n      <td>0.233327</td>\n      <td>...</td>\n      <td>0.321298</td>\n      <td>0.345326</td>\n      <td>0.334480</td>\n      <td>0.253608</td>\n      <td>0.312425</td>\n      <td>0.266250</td>\n      <td>0.663437</td>\n      <td>0.469523</td>\n      <td>137</td>\n      <td>NaN</td>\n    </tr>\n    <tr>\n      <th>137</th>\n      <td>V002</td>\n      <td>Indirect business tax and nontax liability</td>\n      <td>0.019053</td>\n      <td>0.017425</td>\n      <td>0.029326</td>\n      <td>0.058151</td>\n      <td>0.022107</td>\n      <td>0.075342</td>\n      <td>0.099198</td>\n      <td>0.046949</td>\n      <td>...</td>\n      <td>0.056296</td>\n      <td>0.071406</td>\n      <td>0.057800</td>\n      <td>0.039670</td>\n      <td>0.023557</td>\n      <td>0.025498</td>\n      <td>0.000547</td>\n      <td>0.006695</td>\n      <td>138</td>\n      <td>NaN</td>\n    </tr>\n    <tr>\n      <th>138</th>\n      <td>V003</td>\n      <td>Other value added</td>\n      <td>0.375003</td>\n      <td>0.076307</td>\n      <td>0.366740</td>\n      <td>0.409855</td>\n      <td>0.020519</td>\n      <td>0.251180</td>\n      <td>0.133537</td>\n      <td>0.155673</td>\n      <td>...</td>\n      <td>0.254758</td>\n      <td>0.258484</td>\n      <td>0.106860</td>\n      <td>0.213362</td>\n      <td>0.311967</td>\n      <td>0.313315</td>\n      <td>0.000000</td>\n      <td>0.000000</td>\n      <td>139</td>\n      <td>NaN</td>\n    </tr>\n    <tr>\n      <th>139</th>\n      <td>T008</td>\n      <td>Total industry output</td>\n      <td>1.000000</td>\n      <td>1.000000</td>\n      <td>1.000000</td>\n      <td>1.000000</td>\n      <td>1.000000</td>\n      <td>1.000000</td>\n      <td>1.000000</td>\n      <td>1.000000</td>\n      <td>...</td>\n      <td>1.000000</td>\n      <td>1.000000</td>\n      <td>1.000000</td>\n      <td>1.000000</td>\n      <td>1.000000</td>\n      <td>1.000000</td>\n      <td>1.000000</td>\n      <td>1.000000</td>\n      <td>140</td>\n      <td>NaN</td>\n    </tr>\n  </tbody>\n</table>\n<p>140 rows × 130 columns</p>\n</div>"
     },
     "metadata": {},
     "execution_count": 545
    }
   ],
   "source": [
    "tableI0_2"
   ]
  },
  {
   "cell_type": "code",
   "execution_count": 546,
   "metadata": {},
   "outputs": [
    {
     "output_type": "execute_result",
     "data": {
      "text/plain": [
       "    ind_nber   ratio80\n",
       "0        1.0  0.359071\n",
       "1        2.0  0.359071\n",
       "2        3.0  0.359071\n",
       "3        4.0  0.282216\n",
       "4        5.0  0.359071\n",
       "5        6.0  0.162919\n",
       "6        7.0  0.359071\n",
       "7        8.0  0.359071\n",
       "8        9.0  0.359071\n",
       "9       10.0  0.359071\n",
       "10      11.0  0.356518\n",
       "11      12.0  0.359071\n",
       "12      13.0  0.359071\n",
       "13      14.0  0.359071\n",
       "14      15.0  0.359071\n",
       "15      16.0  0.367415\n",
       "16      18.0  0.359071\n",
       "17      19.0  0.249621\n",
       "18      20.0  0.254717\n",
       "19      21.0  0.359071\n",
       "20      22.0  0.135813\n",
       "21      23.0  0.359071\n",
       "22      24.0  0.359071\n",
       "23      25.0  0.467164\n",
       "24      26.0  0.430036\n",
       "25      27.0  0.359071\n",
       "26      28.0  0.359071\n",
       "27      29.0  0.359071\n",
       "28      30.0  0.457688\n",
       "29      31.0  0.387622\n",
       "30      32.0  0.362691\n",
       "31      33.0  0.334189\n",
       "32      34.0  0.359071\n",
       "33      35.0  0.531460\n",
       "34      36.0  0.130806\n",
       "35      37.0  0.619535\n",
       "36      38.0  0.239552\n",
       "37      39.0  0.273007\n",
       "38      40.0  0.441245\n",
       "39      41.0  0.542705\n",
       "40      42.0  0.561287\n",
       "41      43.0  0.720609\n",
       "42      44.0  0.590352\n",
       "43      45.0  0.619535\n",
       "44      46.0  0.359071\n",
       "45      52.0  0.359071"
      ],
      "text/html": "<div>\n<style scoped>\n    .dataframe tbody tr th:only-of-type {\n        vertical-align: middle;\n    }\n\n    .dataframe tbody tr th {\n        vertical-align: top;\n    }\n\n    .dataframe thead th {\n        text-align: right;\n    }\n</style>\n<table border=\"1\" class=\"dataframe\">\n  <thead>\n    <tr style=\"text-align: right;\">\n      <th></th>\n      <th>ind_nber</th>\n      <th>ratio80</th>\n    </tr>\n  </thead>\n  <tbody>\n    <tr>\n      <th>0</th>\n      <td>1.0</td>\n      <td>0.359071</td>\n    </tr>\n    <tr>\n      <th>1</th>\n      <td>2.0</td>\n      <td>0.359071</td>\n    </tr>\n    <tr>\n      <th>2</th>\n      <td>3.0</td>\n      <td>0.359071</td>\n    </tr>\n    <tr>\n      <th>3</th>\n      <td>4.0</td>\n      <td>0.282216</td>\n    </tr>\n    <tr>\n      <th>4</th>\n      <td>5.0</td>\n      <td>0.359071</td>\n    </tr>\n    <tr>\n      <th>5</th>\n      <td>6.0</td>\n      <td>0.162919</td>\n    </tr>\n    <tr>\n      <th>6</th>\n      <td>7.0</td>\n      <td>0.359071</td>\n    </tr>\n    <tr>\n      <th>7</th>\n      <td>8.0</td>\n      <td>0.359071</td>\n    </tr>\n    <tr>\n      <th>8</th>\n      <td>9.0</td>\n      <td>0.359071</td>\n    </tr>\n    <tr>\n      <th>9</th>\n      <td>10.0</td>\n      <td>0.359071</td>\n    </tr>\n    <tr>\n      <th>10</th>\n      <td>11.0</td>\n      <td>0.356518</td>\n    </tr>\n    <tr>\n      <th>11</th>\n      <td>12.0</td>\n      <td>0.359071</td>\n    </tr>\n    <tr>\n      <th>12</th>\n      <td>13.0</td>\n      <td>0.359071</td>\n    </tr>\n    <tr>\n      <th>13</th>\n      <td>14.0</td>\n      <td>0.359071</td>\n    </tr>\n    <tr>\n      <th>14</th>\n      <td>15.0</td>\n      <td>0.359071</td>\n    </tr>\n    <tr>\n      <th>15</th>\n      <td>16.0</td>\n      <td>0.367415</td>\n    </tr>\n    <tr>\n      <th>16</th>\n      <td>18.0</td>\n      <td>0.359071</td>\n    </tr>\n    <tr>\n      <th>17</th>\n      <td>19.0</td>\n      <td>0.249621</td>\n    </tr>\n    <tr>\n      <th>18</th>\n      <td>20.0</td>\n      <td>0.254717</td>\n    </tr>\n    <tr>\n      <th>19</th>\n      <td>21.0</td>\n      <td>0.359071</td>\n    </tr>\n    <tr>\n      <th>20</th>\n      <td>22.0</td>\n      <td>0.135813</td>\n    </tr>\n    <tr>\n      <th>21</th>\n      <td>23.0</td>\n      <td>0.359071</td>\n    </tr>\n    <tr>\n      <th>22</th>\n      <td>24.0</td>\n      <td>0.359071</td>\n    </tr>\n    <tr>\n      <th>23</th>\n      <td>25.0</td>\n      <td>0.467164</td>\n    </tr>\n    <tr>\n      <th>24</th>\n      <td>26.0</td>\n      <td>0.430036</td>\n    </tr>\n    <tr>\n      <th>25</th>\n      <td>27.0</td>\n      <td>0.359071</td>\n    </tr>\n    <tr>\n      <th>26</th>\n      <td>28.0</td>\n      <td>0.359071</td>\n    </tr>\n    <tr>\n      <th>27</th>\n      <td>29.0</td>\n      <td>0.359071</td>\n    </tr>\n    <tr>\n      <th>28</th>\n      <td>30.0</td>\n      <td>0.457688</td>\n    </tr>\n    <tr>\n      <th>29</th>\n      <td>31.0</td>\n      <td>0.387622</td>\n    </tr>\n    <tr>\n      <th>30</th>\n      <td>32.0</td>\n      <td>0.362691</td>\n    </tr>\n    <tr>\n      <th>31</th>\n      <td>33.0</td>\n      <td>0.334189</td>\n    </tr>\n    <tr>\n      <th>32</th>\n      <td>34.0</td>\n      <td>0.359071</td>\n    </tr>\n    <tr>\n      <th>33</th>\n      <td>35.0</td>\n      <td>0.531460</td>\n    </tr>\n    <tr>\n      <th>34</th>\n      <td>36.0</td>\n      <td>0.130806</td>\n    </tr>\n    <tr>\n      <th>35</th>\n      <td>37.0</td>\n      <td>0.619535</td>\n    </tr>\n    <tr>\n      <th>36</th>\n      <td>38.0</td>\n      <td>0.239552</td>\n    </tr>\n    <tr>\n      <th>37</th>\n      <td>39.0</td>\n      <td>0.273007</td>\n    </tr>\n    <tr>\n      <th>38</th>\n      <td>40.0</td>\n      <td>0.441245</td>\n    </tr>\n    <tr>\n      <th>39</th>\n      <td>41.0</td>\n      <td>0.542705</td>\n    </tr>\n    <tr>\n      <th>40</th>\n      <td>42.0</td>\n      <td>0.561287</td>\n    </tr>\n    <tr>\n      <th>41</th>\n      <td>43.0</td>\n      <td>0.720609</td>\n    </tr>\n    <tr>\n      <th>42</th>\n      <td>44.0</td>\n      <td>0.590352</td>\n    </tr>\n    <tr>\n      <th>43</th>\n      <td>45.0</td>\n      <td>0.619535</td>\n    </tr>\n    <tr>\n      <th>44</th>\n      <td>46.0</td>\n      <td>0.359071</td>\n    </tr>\n    <tr>\n      <th>45</th>\n      <td>52.0</td>\n      <td>0.359071</td>\n    </tr>\n  </tbody>\n</table>\n</div>"
     },
     "metadata": {},
     "execution_count": 546
    }
   ],
   "source": [
    " "
   ]
  },
  {
   "cell_type": "code",
   "execution_count": 547,
   "metadata": {},
   "outputs": [],
   "source": [
    "df_joint = pd.merge(tableI0_2, skillpropUS, on='ind_nber')"
   ]
  },
  {
   "cell_type": "code",
   "execution_count": 548,
   "metadata": {},
   "outputs": [
    {
     "output_type": "execute_result",
     "data": {
      "text/plain": [
       "     code                                           industry        c1  \\\n",
       "0    1110                                      Crop products  0.053661   \n",
       "1    1120                                    Animal products  0.000000   \n",
       "2    1130                      Forestry and logging products  0.000039   \n",
       "3    1140                     Fish and other nonfarm animals  0.000000   \n",
       "4    1150          Agriculture and forestry support services  0.066536   \n",
       "..    ...                                                ...       ...   \n",
       "123  813A        Religious, grantmaking, and social advocacy  0.000000   \n",
       "124  813B  Civic, social, professional and similar organi...  0.001543   \n",
       "125  8140                         Private household services  0.000000   \n",
       "126  S001             Federal Government enterprise services  0.000341   \n",
       "127  S002     State and local government enterprise services  0.000000   \n",
       "\n",
       "           c2        c3        c4        c5        c6        c7        c8  \\\n",
       "0    0.248259  0.000000  0.000000  0.053732  0.000004  0.000000  0.000000   \n",
       "1    0.159890  0.001245  0.000000  0.093651  0.000000  0.000000  0.000000   \n",
       "2    0.000000  0.280967  0.000000  0.002011  0.000000  0.000611  0.000000   \n",
       "3    0.000000  0.000000  0.053274  0.000000  0.000000  0.000000  0.000000   \n",
       "4    0.018377  0.106288  0.131581  0.000000  0.000000  0.000000  0.000000   \n",
       "..        ...       ...       ...       ...       ...       ...       ...   \n",
       "123  0.000000  0.000000  0.000000  0.000000  0.000000  0.000000  0.000000   \n",
       "124  0.002238  0.000032  0.000000  0.000024  0.000962  0.000820  0.000833   \n",
       "125  0.000000  0.000000  0.000000  0.000000  0.000000  0.000000  0.000000   \n",
       "126  0.000396  0.000324  0.000479  0.000446  0.000013  0.000038  0.000895   \n",
       "127  0.000000  0.000192  0.000661  0.000000  0.000011  0.000145  0.000221   \n",
       "\n",
       "     ...      c120      c121      c122      c123      c124      c125  \\\n",
       "0    ...  0.001528  0.009349  0.000005  0.000000  0.000000  0.000109   \n",
       "1    ...  0.000275  0.004684  0.000000  0.000000  0.000888  0.000000   \n",
       "2    ...  0.000000  0.000000  0.000000  0.000000  0.000493  0.000000   \n",
       "3    ...  0.001463  0.009919  0.000000  0.000000  0.000000  0.000000   \n",
       "4    ...  0.000000  0.000000  0.000000  0.000000  0.000000  0.000000   \n",
       "..   ...       ...       ...       ...       ...       ...       ...   \n",
       "123  ...  0.000000  0.000000  0.000000  0.000000  0.000000  0.000000   \n",
       "124  ...  0.000546  0.000424  0.001368  0.001378  0.002114  0.000864   \n",
       "125  ...  0.000000  0.000000  0.000000  0.000000  0.000000  0.000000   \n",
       "126  ...  0.004047  0.002034  0.003747  0.004371  0.006393  0.009137   \n",
       "127  ...  0.002759  0.001446  0.001215  0.000690  0.001901  0.000221   \n",
       "\n",
       "         c126  sic  ind_nber   ratio80  \n",
       "0    0.000863    1       1.0  0.359071  \n",
       "1    0.000080    2       2.0  0.359071  \n",
       "2    0.000000    3      46.0  0.359071  \n",
       "3    0.000536    4      46.0  0.359071  \n",
       "4    0.000000    5      46.0  0.359071  \n",
       "..        ...  ...       ...       ...  \n",
       "123  0.000000  125      44.0  0.590352  \n",
       "124  0.002633  126      44.0  0.590352  \n",
       "125  0.000000  127      36.0  0.130806  \n",
       "126  0.018901  128      52.0  0.359071  \n",
       "127  0.001733  129      52.0  0.359071  \n",
       "\n",
       "[128 rows x 131 columns]"
      ],
      "text/html": "<div>\n<style scoped>\n    .dataframe tbody tr th:only-of-type {\n        vertical-align: middle;\n    }\n\n    .dataframe tbody tr th {\n        vertical-align: top;\n    }\n\n    .dataframe thead th {\n        text-align: right;\n    }\n</style>\n<table border=\"1\" class=\"dataframe\">\n  <thead>\n    <tr style=\"text-align: right;\">\n      <th></th>\n      <th>code</th>\n      <th>industry</th>\n      <th>c1</th>\n      <th>c2</th>\n      <th>c3</th>\n      <th>c4</th>\n      <th>c5</th>\n      <th>c6</th>\n      <th>c7</th>\n      <th>c8</th>\n      <th>...</th>\n      <th>c120</th>\n      <th>c121</th>\n      <th>c122</th>\n      <th>c123</th>\n      <th>c124</th>\n      <th>c125</th>\n      <th>c126</th>\n      <th>sic</th>\n      <th>ind_nber</th>\n      <th>ratio80</th>\n    </tr>\n  </thead>\n  <tbody>\n    <tr>\n      <th>0</th>\n      <td>1110</td>\n      <td>Crop products</td>\n      <td>0.053661</td>\n      <td>0.248259</td>\n      <td>0.000000</td>\n      <td>0.000000</td>\n      <td>0.053732</td>\n      <td>0.000004</td>\n      <td>0.000000</td>\n      <td>0.000000</td>\n      <td>...</td>\n      <td>0.001528</td>\n      <td>0.009349</td>\n      <td>0.000005</td>\n      <td>0.000000</td>\n      <td>0.000000</td>\n      <td>0.000109</td>\n      <td>0.000863</td>\n      <td>1</td>\n      <td>1.0</td>\n      <td>0.359071</td>\n    </tr>\n    <tr>\n      <th>1</th>\n      <td>1120</td>\n      <td>Animal products</td>\n      <td>0.000000</td>\n      <td>0.159890</td>\n      <td>0.001245</td>\n      <td>0.000000</td>\n      <td>0.093651</td>\n      <td>0.000000</td>\n      <td>0.000000</td>\n      <td>0.000000</td>\n      <td>...</td>\n      <td>0.000275</td>\n      <td>0.004684</td>\n      <td>0.000000</td>\n      <td>0.000000</td>\n      <td>0.000888</td>\n      <td>0.000000</td>\n      <td>0.000080</td>\n      <td>2</td>\n      <td>2.0</td>\n      <td>0.359071</td>\n    </tr>\n    <tr>\n      <th>2</th>\n      <td>1130</td>\n      <td>Forestry and logging products</td>\n      <td>0.000039</td>\n      <td>0.000000</td>\n      <td>0.280967</td>\n      <td>0.000000</td>\n      <td>0.002011</td>\n      <td>0.000000</td>\n      <td>0.000611</td>\n      <td>0.000000</td>\n      <td>...</td>\n      <td>0.000000</td>\n      <td>0.000000</td>\n      <td>0.000000</td>\n      <td>0.000000</td>\n      <td>0.000493</td>\n      <td>0.000000</td>\n      <td>0.000000</td>\n      <td>3</td>\n      <td>46.0</td>\n      <td>0.359071</td>\n    </tr>\n    <tr>\n      <th>3</th>\n      <td>1140</td>\n      <td>Fish and other nonfarm animals</td>\n      <td>0.000000</td>\n      <td>0.000000</td>\n      <td>0.000000</td>\n      <td>0.053274</td>\n      <td>0.000000</td>\n      <td>0.000000</td>\n      <td>0.000000</td>\n      <td>0.000000</td>\n      <td>...</td>\n      <td>0.001463</td>\n      <td>0.009919</td>\n      <td>0.000000</td>\n      <td>0.000000</td>\n      <td>0.000000</td>\n      <td>0.000000</td>\n      <td>0.000536</td>\n      <td>4</td>\n      <td>46.0</td>\n      <td>0.359071</td>\n    </tr>\n    <tr>\n      <th>4</th>\n      <td>1150</td>\n      <td>Agriculture and forestry support services</td>\n      <td>0.066536</td>\n      <td>0.018377</td>\n      <td>0.106288</td>\n      <td>0.131581</td>\n      <td>0.000000</td>\n      <td>0.000000</td>\n      <td>0.000000</td>\n      <td>0.000000</td>\n      <td>...</td>\n      <td>0.000000</td>\n      <td>0.000000</td>\n      <td>0.000000</td>\n      <td>0.000000</td>\n      <td>0.000000</td>\n      <td>0.000000</td>\n      <td>0.000000</td>\n      <td>5</td>\n      <td>46.0</td>\n      <td>0.359071</td>\n    </tr>\n    <tr>\n      <th>...</th>\n      <td>...</td>\n      <td>...</td>\n      <td>...</td>\n      <td>...</td>\n      <td>...</td>\n      <td>...</td>\n      <td>...</td>\n      <td>...</td>\n      <td>...</td>\n      <td>...</td>\n      <td>...</td>\n      <td>...</td>\n      <td>...</td>\n      <td>...</td>\n      <td>...</td>\n      <td>...</td>\n      <td>...</td>\n      <td>...</td>\n      <td>...</td>\n      <td>...</td>\n      <td>...</td>\n    </tr>\n    <tr>\n      <th>123</th>\n      <td>813A</td>\n      <td>Religious, grantmaking, and social advocacy</td>\n      <td>0.000000</td>\n      <td>0.000000</td>\n      <td>0.000000</td>\n      <td>0.000000</td>\n      <td>0.000000</td>\n      <td>0.000000</td>\n      <td>0.000000</td>\n      <td>0.000000</td>\n      <td>...</td>\n      <td>0.000000</td>\n      <td>0.000000</td>\n      <td>0.000000</td>\n      <td>0.000000</td>\n      <td>0.000000</td>\n      <td>0.000000</td>\n      <td>0.000000</td>\n      <td>125</td>\n      <td>44.0</td>\n      <td>0.590352</td>\n    </tr>\n    <tr>\n      <th>124</th>\n      <td>813B</td>\n      <td>Civic, social, professional and similar organi...</td>\n      <td>0.001543</td>\n      <td>0.002238</td>\n      <td>0.000032</td>\n      <td>0.000000</td>\n      <td>0.000024</td>\n      <td>0.000962</td>\n      <td>0.000820</td>\n      <td>0.000833</td>\n      <td>...</td>\n      <td>0.000546</td>\n      <td>0.000424</td>\n      <td>0.001368</td>\n      <td>0.001378</td>\n      <td>0.002114</td>\n      <td>0.000864</td>\n      <td>0.002633</td>\n      <td>126</td>\n      <td>44.0</td>\n      <td>0.590352</td>\n    </tr>\n    <tr>\n      <th>125</th>\n      <td>8140</td>\n      <td>Private household services</td>\n      <td>0.000000</td>\n      <td>0.000000</td>\n      <td>0.000000</td>\n      <td>0.000000</td>\n      <td>0.000000</td>\n      <td>0.000000</td>\n      <td>0.000000</td>\n      <td>0.000000</td>\n      <td>...</td>\n      <td>0.000000</td>\n      <td>0.000000</td>\n      <td>0.000000</td>\n      <td>0.000000</td>\n      <td>0.000000</td>\n      <td>0.000000</td>\n      <td>0.000000</td>\n      <td>127</td>\n      <td>36.0</td>\n      <td>0.130806</td>\n    </tr>\n    <tr>\n      <th>126</th>\n      <td>S001</td>\n      <td>Federal Government enterprise services</td>\n      <td>0.000341</td>\n      <td>0.000396</td>\n      <td>0.000324</td>\n      <td>0.000479</td>\n      <td>0.000446</td>\n      <td>0.000013</td>\n      <td>0.000038</td>\n      <td>0.000895</td>\n      <td>...</td>\n      <td>0.004047</td>\n      <td>0.002034</td>\n      <td>0.003747</td>\n      <td>0.004371</td>\n      <td>0.006393</td>\n      <td>0.009137</td>\n      <td>0.018901</td>\n      <td>128</td>\n      <td>52.0</td>\n      <td>0.359071</td>\n    </tr>\n    <tr>\n      <th>127</th>\n      <td>S002</td>\n      <td>State and local government enterprise services</td>\n      <td>0.000000</td>\n      <td>0.000000</td>\n      <td>0.000192</td>\n      <td>0.000661</td>\n      <td>0.000000</td>\n      <td>0.000011</td>\n      <td>0.000145</td>\n      <td>0.000221</td>\n      <td>...</td>\n      <td>0.002759</td>\n      <td>0.001446</td>\n      <td>0.001215</td>\n      <td>0.000690</td>\n      <td>0.001901</td>\n      <td>0.000221</td>\n      <td>0.001733</td>\n      <td>129</td>\n      <td>52.0</td>\n      <td>0.359071</td>\n    </tr>\n  </tbody>\n</table>\n<p>128 rows × 131 columns</p>\n</div>"
     },
     "metadata": {},
     "execution_count": 548
    }
   ],
   "source": [
    "df_joint"
   ]
  },
  {
   "cell_type": "code",
   "execution_count": 549,
   "metadata": {},
   "outputs": [],
   "source": [
    "'''\n",
    "df_joint2 = df_joint[df_joint.sic <= 129]\n",
    "df_joint2\n",
    "'''"
   ]
  },
  {
   "cell_type": "code",
   "execution_count": 550,
   "metadata": {},
   "outputs": [
    {
     "output_type": "execute_result",
     "data": {
      "text/plain": [
       "     code                                           industry        c1  \\\n",
       "0    1110                                      Crop products  0.053661   \n",
       "1    1120                                    Animal products  0.000000   \n",
       "2    1130                      Forestry and logging products  0.000039   \n",
       "3    1140                     Fish and other nonfarm animals  0.000000   \n",
       "4    1150          Agriculture and forestry support services  0.066536   \n",
       "..    ...                                                ...       ...   \n",
       "123  813A        Religious, grantmaking, and social advocacy  0.000000   \n",
       "124  813B  Civic, social, professional and similar organi...  0.001543   \n",
       "125  8140                         Private household services  0.000000   \n",
       "126  S001             Federal Government enterprise services  0.000341   \n",
       "127  S002     State and local government enterprise services  0.000000   \n",
       "\n",
       "           c2        c3        c4        c5        c6        c7        c8  \\\n",
       "0    0.248259  0.000000  0.000000  0.053732  0.000004  0.000000  0.000000   \n",
       "1    0.159890  0.001245  0.000000  0.093651  0.000000  0.000000  0.000000   \n",
       "2    0.000000  0.280967  0.000000  0.002011  0.000000  0.000611  0.000000   \n",
       "3    0.000000  0.000000  0.053274  0.000000  0.000000  0.000000  0.000000   \n",
       "4    0.018377  0.106288  0.131581  0.000000  0.000000  0.000000  0.000000   \n",
       "..        ...       ...       ...       ...       ...       ...       ...   \n",
       "123  0.000000  0.000000  0.000000  0.000000  0.000000  0.000000  0.000000   \n",
       "124  0.002238  0.000032  0.000000  0.000024  0.000962  0.000820  0.000833   \n",
       "125  0.000000  0.000000  0.000000  0.000000  0.000000  0.000000  0.000000   \n",
       "126  0.000396  0.000324  0.000479  0.000446  0.000013  0.000038  0.000895   \n",
       "127  0.000000  0.000192  0.000661  0.000000  0.000011  0.000145  0.000221   \n",
       "\n",
       "     ...      c120      c121      c122      c123      c124      c125  \\\n",
       "0    ...  0.001528  0.009349  0.000005  0.000000  0.000000  0.000109   \n",
       "1    ...  0.000275  0.004684  0.000000  0.000000  0.000888  0.000000   \n",
       "2    ...  0.000000  0.000000  0.000000  0.000000  0.000493  0.000000   \n",
       "3    ...  0.001463  0.009919  0.000000  0.000000  0.000000  0.000000   \n",
       "4    ...  0.000000  0.000000  0.000000  0.000000  0.000000  0.000000   \n",
       "..   ...       ...       ...       ...       ...       ...       ...   \n",
       "123  ...  0.000000  0.000000  0.000000  0.000000  0.000000  0.000000   \n",
       "124  ...  0.000546  0.000424  0.001368  0.001378  0.002114  0.000864   \n",
       "125  ...  0.000000  0.000000  0.000000  0.000000  0.000000  0.000000   \n",
       "126  ...  0.004047  0.002034  0.003747  0.004371  0.006393  0.009137   \n",
       "127  ...  0.002759  0.001446  0.001215  0.000690  0.001901  0.000221   \n",
       "\n",
       "         c126  sic  ind_nber   ratio80  \n",
       "0    0.000863    1       1.0  0.359071  \n",
       "1    0.000080    2       2.0  0.359071  \n",
       "2    0.000000    3      46.0  0.359071  \n",
       "3    0.000536    4      46.0  0.359071  \n",
       "4    0.000000    5      46.0  0.359071  \n",
       "..        ...  ...       ...       ...  \n",
       "123  0.000000  125      44.0  0.590352  \n",
       "124  0.002633  126      44.0  0.590352  \n",
       "125  0.000000  127      36.0  0.130806  \n",
       "126  0.018901  128      52.0  0.359071  \n",
       "127  0.001733  129      52.0  0.359071  \n",
       "\n",
       "[128 rows x 131 columns]"
      ],
      "text/html": "<div>\n<style scoped>\n    .dataframe tbody tr th:only-of-type {\n        vertical-align: middle;\n    }\n\n    .dataframe tbody tr th {\n        vertical-align: top;\n    }\n\n    .dataframe thead th {\n        text-align: right;\n    }\n</style>\n<table border=\"1\" class=\"dataframe\">\n  <thead>\n    <tr style=\"text-align: right;\">\n      <th></th>\n      <th>code</th>\n      <th>industry</th>\n      <th>c1</th>\n      <th>c2</th>\n      <th>c3</th>\n      <th>c4</th>\n      <th>c5</th>\n      <th>c6</th>\n      <th>c7</th>\n      <th>c8</th>\n      <th>...</th>\n      <th>c120</th>\n      <th>c121</th>\n      <th>c122</th>\n      <th>c123</th>\n      <th>c124</th>\n      <th>c125</th>\n      <th>c126</th>\n      <th>sic</th>\n      <th>ind_nber</th>\n      <th>ratio80</th>\n    </tr>\n  </thead>\n  <tbody>\n    <tr>\n      <th>0</th>\n      <td>1110</td>\n      <td>Crop products</td>\n      <td>0.053661</td>\n      <td>0.248259</td>\n      <td>0.000000</td>\n      <td>0.000000</td>\n      <td>0.053732</td>\n      <td>0.000004</td>\n      <td>0.000000</td>\n      <td>0.000000</td>\n      <td>...</td>\n      <td>0.001528</td>\n      <td>0.009349</td>\n      <td>0.000005</td>\n      <td>0.000000</td>\n      <td>0.000000</td>\n      <td>0.000109</td>\n      <td>0.000863</td>\n      <td>1</td>\n      <td>1.0</td>\n      <td>0.359071</td>\n    </tr>\n    <tr>\n      <th>1</th>\n      <td>1120</td>\n      <td>Animal products</td>\n      <td>0.000000</td>\n      <td>0.159890</td>\n      <td>0.001245</td>\n      <td>0.000000</td>\n      <td>0.093651</td>\n      <td>0.000000</td>\n      <td>0.000000</td>\n      <td>0.000000</td>\n      <td>...</td>\n      <td>0.000275</td>\n      <td>0.004684</td>\n      <td>0.000000</td>\n      <td>0.000000</td>\n      <td>0.000888</td>\n      <td>0.000000</td>\n      <td>0.000080</td>\n      <td>2</td>\n      <td>2.0</td>\n      <td>0.359071</td>\n    </tr>\n    <tr>\n      <th>2</th>\n      <td>1130</td>\n      <td>Forestry and logging products</td>\n      <td>0.000039</td>\n      <td>0.000000</td>\n      <td>0.280967</td>\n      <td>0.000000</td>\n      <td>0.002011</td>\n      <td>0.000000</td>\n      <td>0.000611</td>\n      <td>0.000000</td>\n      <td>...</td>\n      <td>0.000000</td>\n      <td>0.000000</td>\n      <td>0.000000</td>\n      <td>0.000000</td>\n      <td>0.000493</td>\n      <td>0.000000</td>\n      <td>0.000000</td>\n      <td>3</td>\n      <td>46.0</td>\n      <td>0.359071</td>\n    </tr>\n    <tr>\n      <th>3</th>\n      <td>1140</td>\n      <td>Fish and other nonfarm animals</td>\n      <td>0.000000</td>\n      <td>0.000000</td>\n      <td>0.000000</td>\n      <td>0.053274</td>\n      <td>0.000000</td>\n      <td>0.000000</td>\n      <td>0.000000</td>\n      <td>0.000000</td>\n      <td>...</td>\n      <td>0.001463</td>\n      <td>0.009919</td>\n      <td>0.000000</td>\n      <td>0.000000</td>\n      <td>0.000000</td>\n      <td>0.000000</td>\n      <td>0.000536</td>\n      <td>4</td>\n      <td>46.0</td>\n      <td>0.359071</td>\n    </tr>\n    <tr>\n      <th>4</th>\n      <td>1150</td>\n      <td>Agriculture and forestry support services</td>\n      <td>0.066536</td>\n      <td>0.018377</td>\n      <td>0.106288</td>\n      <td>0.131581</td>\n      <td>0.000000</td>\n      <td>0.000000</td>\n      <td>0.000000</td>\n      <td>0.000000</td>\n      <td>...</td>\n      <td>0.000000</td>\n      <td>0.000000</td>\n      <td>0.000000</td>\n      <td>0.000000</td>\n      <td>0.000000</td>\n      <td>0.000000</td>\n      <td>0.000000</td>\n      <td>5</td>\n      <td>46.0</td>\n      <td>0.359071</td>\n    </tr>\n    <tr>\n      <th>...</th>\n      <td>...</td>\n      <td>...</td>\n      <td>...</td>\n      <td>...</td>\n      <td>...</td>\n      <td>...</td>\n      <td>...</td>\n      <td>...</td>\n      <td>...</td>\n      <td>...</td>\n      <td>...</td>\n      <td>...</td>\n      <td>...</td>\n      <td>...</td>\n      <td>...</td>\n      <td>...</td>\n      <td>...</td>\n      <td>...</td>\n      <td>...</td>\n      <td>...</td>\n      <td>...</td>\n    </tr>\n    <tr>\n      <th>123</th>\n      <td>813A</td>\n      <td>Religious, grantmaking, and social advocacy</td>\n      <td>0.000000</td>\n      <td>0.000000</td>\n      <td>0.000000</td>\n      <td>0.000000</td>\n      <td>0.000000</td>\n      <td>0.000000</td>\n      <td>0.000000</td>\n      <td>0.000000</td>\n      <td>...</td>\n      <td>0.000000</td>\n      <td>0.000000</td>\n      <td>0.000000</td>\n      <td>0.000000</td>\n      <td>0.000000</td>\n      <td>0.000000</td>\n      <td>0.000000</td>\n      <td>125</td>\n      <td>44.0</td>\n      <td>0.590352</td>\n    </tr>\n    <tr>\n      <th>124</th>\n      <td>813B</td>\n      <td>Civic, social, professional and similar organi...</td>\n      <td>0.001543</td>\n      <td>0.002238</td>\n      <td>0.000032</td>\n      <td>0.000000</td>\n      <td>0.000024</td>\n      <td>0.000962</td>\n      <td>0.000820</td>\n      <td>0.000833</td>\n      <td>...</td>\n      <td>0.000546</td>\n      <td>0.000424</td>\n      <td>0.001368</td>\n      <td>0.001378</td>\n      <td>0.002114</td>\n      <td>0.000864</td>\n      <td>0.002633</td>\n      <td>126</td>\n      <td>44.0</td>\n      <td>0.590352</td>\n    </tr>\n    <tr>\n      <th>125</th>\n      <td>8140</td>\n      <td>Private household services</td>\n      <td>0.000000</td>\n      <td>0.000000</td>\n      <td>0.000000</td>\n      <td>0.000000</td>\n      <td>0.000000</td>\n      <td>0.000000</td>\n      <td>0.000000</td>\n      <td>0.000000</td>\n      <td>...</td>\n      <td>0.000000</td>\n      <td>0.000000</td>\n      <td>0.000000</td>\n      <td>0.000000</td>\n      <td>0.000000</td>\n      <td>0.000000</td>\n      <td>0.000000</td>\n      <td>127</td>\n      <td>36.0</td>\n      <td>0.130806</td>\n    </tr>\n    <tr>\n      <th>126</th>\n      <td>S001</td>\n      <td>Federal Government enterprise services</td>\n      <td>0.000341</td>\n      <td>0.000396</td>\n      <td>0.000324</td>\n      <td>0.000479</td>\n      <td>0.000446</td>\n      <td>0.000013</td>\n      <td>0.000038</td>\n      <td>0.000895</td>\n      <td>...</td>\n      <td>0.004047</td>\n      <td>0.002034</td>\n      <td>0.003747</td>\n      <td>0.004371</td>\n      <td>0.006393</td>\n      <td>0.009137</td>\n      <td>0.018901</td>\n      <td>128</td>\n      <td>52.0</td>\n      <td>0.359071</td>\n    </tr>\n    <tr>\n      <th>127</th>\n      <td>S002</td>\n      <td>State and local government enterprise services</td>\n      <td>0.000000</td>\n      <td>0.000000</td>\n      <td>0.000192</td>\n      <td>0.000661</td>\n      <td>0.000000</td>\n      <td>0.000011</td>\n      <td>0.000145</td>\n      <td>0.000221</td>\n      <td>...</td>\n      <td>0.002759</td>\n      <td>0.001446</td>\n      <td>0.001215</td>\n      <td>0.000690</td>\n      <td>0.001901</td>\n      <td>0.000221</td>\n      <td>0.001733</td>\n      <td>129</td>\n      <td>52.0</td>\n      <td>0.359071</td>\n    </tr>\n  </tbody>\n</table>\n<p>128 rows × 131 columns</p>\n</div>"
     },
     "metadata": {},
     "execution_count": 550
    }
   ],
   "source": []
  },
  {
   "cell_type": "code",
   "execution_count": 562,
   "metadata": {},
   "outputs": [
    {
     "output_type": "execute_result",
     "data": {
      "text/plain": [
       "    code_x                                         industry_x        c1  \\\n",
       "0     1110                                      Crop products  0.053661   \n",
       "1     1120                                    Animal products  0.000000   \n",
       "2     1130                      Forestry and logging products  0.000039   \n",
       "3     1140                     Fish and other nonfarm animals  0.000000   \n",
       "4     1150          Agriculture and forestry support services  0.066536   \n",
       "..     ...                                                ...       ...   \n",
       "120   8120                      Personal and laundry services  0.000000   \n",
       "121   8111                  Automotive repair and maintenance  0.001710   \n",
       "122   811A  Electronic, commercial, and household goods re...  0.006162   \n",
       "123   813A        Religious, grantmaking, and social advocacy  0.000000   \n",
       "124   813B  Civic, social, professional and similar organi...  0.001543   \n",
       "\n",
       "           c2        c3        c4        c5        c6        c7        c8  \\\n",
       "0    0.248259  0.000000  0.000000  0.053732  0.000004  0.000000  0.000000   \n",
       "1    0.159890  0.001245  0.000000  0.093651  0.000000  0.000000  0.000000   \n",
       "2    0.000000  0.280967  0.000000  0.002011  0.000000  0.000611  0.000000   \n",
       "3    0.000000  0.000000  0.053274  0.000000  0.000000  0.000000  0.000000   \n",
       "4    0.018377  0.106288  0.131581  0.000000  0.000000  0.000000  0.000000   \n",
       "..        ...       ...       ...       ...       ...       ...       ...   \n",
       "120  0.000032  0.000000  0.000000  0.001297  0.000008  0.000034  0.000000   \n",
       "121  0.001686  0.004012  0.000000  0.000032  0.000130  0.000073  0.000195   \n",
       "122  0.006180  0.010553  0.000347  0.000041  0.000637  0.000790  0.000177   \n",
       "123  0.000000  0.000000  0.000000  0.000000  0.000000  0.000000  0.000000   \n",
       "124  0.002238  0.000032  0.000000  0.000024  0.000962  0.000820  0.000833   \n",
       "\n",
       "     ...      c124      c125      c126  sic  ind_nber   ratio80  id  code_y  \\\n",
       "0    ...  0.000000  0.000109  0.000863    1       1.0  0.359071   1    V001   \n",
       "1    ...  0.000888  0.000000  0.000080    2       2.0  0.359071   1    V001   \n",
       "2    ...  0.000493  0.000000  0.000000    3      46.0  0.359071   1    V001   \n",
       "3    ...  0.000000  0.000000  0.000536    4      46.0  0.359071   1    V001   \n",
       "4    ...  0.000000  0.000000  0.000000    5      46.0  0.359071   1    V001   \n",
       "..   ...       ...       ...       ...  ...       ...       ...  ..     ...   \n",
       "120  ...  0.012844  0.000531  0.001388  124      39.0  0.273007   1    V001   \n",
       "121  ...  0.001515  0.000394  0.001550  122      38.0  0.239552   1    V001   \n",
       "122  ...  0.004341  0.000842  0.003563  123      38.0  0.239552   1    V001   \n",
       "123  ...  0.000000  0.000000  0.000000  125      44.0  0.590352   1    V001   \n",
       "124  ...  0.002114  0.000864  0.002633  126      44.0  0.590352   1    V001   \n",
       "\n",
       "                    industry_y    wshare  \n",
       "0    Compensation of employees  0.093501  \n",
       "1    Compensation of employees  0.055566  \n",
       "2    Compensation of employees  0.113146  \n",
       "3    Compensation of employees  0.084673  \n",
       "4    Compensation of employees  0.485091  \n",
       "..                         ...       ...  \n",
       "120  Compensation of employees  0.266250  \n",
       "121  Compensation of employees  0.253608  \n",
       "122  Compensation of employees  0.312425  \n",
       "123  Compensation of employees  0.663437  \n",
       "124  Compensation of employees  0.469523  \n",
       "\n",
       "[125 rows x 135 columns]"
      ],
      "text/html": "<div>\n<style scoped>\n    .dataframe tbody tr th:only-of-type {\n        vertical-align: middle;\n    }\n\n    .dataframe tbody tr th {\n        vertical-align: top;\n    }\n\n    .dataframe thead th {\n        text-align: right;\n    }\n</style>\n<table border=\"1\" class=\"dataframe\">\n  <thead>\n    <tr style=\"text-align: right;\">\n      <th></th>\n      <th>code_x</th>\n      <th>industry_x</th>\n      <th>c1</th>\n      <th>c2</th>\n      <th>c3</th>\n      <th>c4</th>\n      <th>c5</th>\n      <th>c6</th>\n      <th>c7</th>\n      <th>c8</th>\n      <th>...</th>\n      <th>c124</th>\n      <th>c125</th>\n      <th>c126</th>\n      <th>sic</th>\n      <th>ind_nber</th>\n      <th>ratio80</th>\n      <th>id</th>\n      <th>code_y</th>\n      <th>industry_y</th>\n      <th>wshare</th>\n    </tr>\n  </thead>\n  <tbody>\n    <tr>\n      <th>0</th>\n      <td>1110</td>\n      <td>Crop products</td>\n      <td>0.053661</td>\n      <td>0.248259</td>\n      <td>0.000000</td>\n      <td>0.000000</td>\n      <td>0.053732</td>\n      <td>0.000004</td>\n      <td>0.000000</td>\n      <td>0.000000</td>\n      <td>...</td>\n      <td>0.000000</td>\n      <td>0.000109</td>\n      <td>0.000863</td>\n      <td>1</td>\n      <td>1.0</td>\n      <td>0.359071</td>\n      <td>1</td>\n      <td>V001</td>\n      <td>Compensation of employees</td>\n      <td>0.093501</td>\n    </tr>\n    <tr>\n      <th>1</th>\n      <td>1120</td>\n      <td>Animal products</td>\n      <td>0.000000</td>\n      <td>0.159890</td>\n      <td>0.001245</td>\n      <td>0.000000</td>\n      <td>0.093651</td>\n      <td>0.000000</td>\n      <td>0.000000</td>\n      <td>0.000000</td>\n      <td>...</td>\n      <td>0.000888</td>\n      <td>0.000000</td>\n      <td>0.000080</td>\n      <td>2</td>\n      <td>2.0</td>\n      <td>0.359071</td>\n      <td>1</td>\n      <td>V001</td>\n      <td>Compensation of employees</td>\n      <td>0.055566</td>\n    </tr>\n    <tr>\n      <th>2</th>\n      <td>1130</td>\n      <td>Forestry and logging products</td>\n      <td>0.000039</td>\n      <td>0.000000</td>\n      <td>0.280967</td>\n      <td>0.000000</td>\n      <td>0.002011</td>\n      <td>0.000000</td>\n      <td>0.000611</td>\n      <td>0.000000</td>\n      <td>...</td>\n      <td>0.000493</td>\n      <td>0.000000</td>\n      <td>0.000000</td>\n      <td>3</td>\n      <td>46.0</td>\n      <td>0.359071</td>\n      <td>1</td>\n      <td>V001</td>\n      <td>Compensation of employees</td>\n      <td>0.113146</td>\n    </tr>\n    <tr>\n      <th>3</th>\n      <td>1140</td>\n      <td>Fish and other nonfarm animals</td>\n      <td>0.000000</td>\n      <td>0.000000</td>\n      <td>0.000000</td>\n      <td>0.053274</td>\n      <td>0.000000</td>\n      <td>0.000000</td>\n      <td>0.000000</td>\n      <td>0.000000</td>\n      <td>...</td>\n      <td>0.000000</td>\n      <td>0.000000</td>\n      <td>0.000536</td>\n      <td>4</td>\n      <td>46.0</td>\n      <td>0.359071</td>\n      <td>1</td>\n      <td>V001</td>\n      <td>Compensation of employees</td>\n      <td>0.084673</td>\n    </tr>\n    <tr>\n      <th>4</th>\n      <td>1150</td>\n      <td>Agriculture and forestry support services</td>\n      <td>0.066536</td>\n      <td>0.018377</td>\n      <td>0.106288</td>\n      <td>0.131581</td>\n      <td>0.000000</td>\n      <td>0.000000</td>\n      <td>0.000000</td>\n      <td>0.000000</td>\n      <td>...</td>\n      <td>0.000000</td>\n      <td>0.000000</td>\n      <td>0.000000</td>\n      <td>5</td>\n      <td>46.0</td>\n      <td>0.359071</td>\n      <td>1</td>\n      <td>V001</td>\n      <td>Compensation of employees</td>\n      <td>0.485091</td>\n    </tr>\n    <tr>\n      <th>...</th>\n      <td>...</td>\n      <td>...</td>\n      <td>...</td>\n      <td>...</td>\n      <td>...</td>\n      <td>...</td>\n      <td>...</td>\n      <td>...</td>\n      <td>...</td>\n      <td>...</td>\n      <td>...</td>\n      <td>...</td>\n      <td>...</td>\n      <td>...</td>\n      <td>...</td>\n      <td>...</td>\n      <td>...</td>\n      <td>...</td>\n      <td>...</td>\n      <td>...</td>\n      <td>...</td>\n    </tr>\n    <tr>\n      <th>120</th>\n      <td>8120</td>\n      <td>Personal and laundry services</td>\n      <td>0.000000</td>\n      <td>0.000032</td>\n      <td>0.000000</td>\n      <td>0.000000</td>\n      <td>0.001297</td>\n      <td>0.000008</td>\n      <td>0.000034</td>\n      <td>0.000000</td>\n      <td>...</td>\n      <td>0.012844</td>\n      <td>0.000531</td>\n      <td>0.001388</td>\n      <td>124</td>\n      <td>39.0</td>\n      <td>0.273007</td>\n      <td>1</td>\n      <td>V001</td>\n      <td>Compensation of employees</td>\n      <td>0.266250</td>\n    </tr>\n    <tr>\n      <th>121</th>\n      <td>8111</td>\n      <td>Automotive repair and maintenance</td>\n      <td>0.001710</td>\n      <td>0.001686</td>\n      <td>0.004012</td>\n      <td>0.000000</td>\n      <td>0.000032</td>\n      <td>0.000130</td>\n      <td>0.000073</td>\n      <td>0.000195</td>\n      <td>...</td>\n      <td>0.001515</td>\n      <td>0.000394</td>\n      <td>0.001550</td>\n      <td>122</td>\n      <td>38.0</td>\n      <td>0.239552</td>\n      <td>1</td>\n      <td>V001</td>\n      <td>Compensation of employees</td>\n      <td>0.253608</td>\n    </tr>\n    <tr>\n      <th>122</th>\n      <td>811A</td>\n      <td>Electronic, commercial, and household goods re...</td>\n      <td>0.006162</td>\n      <td>0.006180</td>\n      <td>0.010553</td>\n      <td>0.000347</td>\n      <td>0.000041</td>\n      <td>0.000637</td>\n      <td>0.000790</td>\n      <td>0.000177</td>\n      <td>...</td>\n      <td>0.004341</td>\n      <td>0.000842</td>\n      <td>0.003563</td>\n      <td>123</td>\n      <td>38.0</td>\n      <td>0.239552</td>\n      <td>1</td>\n      <td>V001</td>\n      <td>Compensation of employees</td>\n      <td>0.312425</td>\n    </tr>\n    <tr>\n      <th>123</th>\n      <td>813A</td>\n      <td>Religious, grantmaking, and social advocacy</td>\n      <td>0.000000</td>\n      <td>0.000000</td>\n      <td>0.000000</td>\n      <td>0.000000</td>\n      <td>0.000000</td>\n      <td>0.000000</td>\n      <td>0.000000</td>\n      <td>0.000000</td>\n      <td>...</td>\n      <td>0.000000</td>\n      <td>0.000000</td>\n      <td>0.000000</td>\n      <td>125</td>\n      <td>44.0</td>\n      <td>0.590352</td>\n      <td>1</td>\n      <td>V001</td>\n      <td>Compensation of employees</td>\n      <td>0.663437</td>\n    </tr>\n    <tr>\n      <th>124</th>\n      <td>813B</td>\n      <td>Civic, social, professional and similar organi...</td>\n      <td>0.001543</td>\n      <td>0.002238</td>\n      <td>0.000032</td>\n      <td>0.000000</td>\n      <td>0.000024</td>\n      <td>0.000962</td>\n      <td>0.000820</td>\n      <td>0.000833</td>\n      <td>...</td>\n      <td>0.002114</td>\n      <td>0.000864</td>\n      <td>0.002633</td>\n      <td>126</td>\n      <td>44.0</td>\n      <td>0.590352</td>\n      <td>1</td>\n      <td>V001</td>\n      <td>Compensation of employees</td>\n      <td>0.469523</td>\n    </tr>\n  </tbody>\n</table>\n<p>125 rows × 135 columns</p>\n</div>"
     },
     "metadata": {},
     "execution_count": 562
    }
   ],
   "source": [
    "wages = pd.read_stata('wages').fillna(0)\n",
    "df_joint_wages = pd.merge(df_joint, wages, on='sic')\n",
    "df_joint_wages"
   ]
  },
  {
   "cell_type": "code",
   "execution_count": 563,
   "metadata": {},
   "outputs": [
    {
     "output_type": "execute_result",
     "data": {
      "text/plain": [
       "    code_x                                         industry_x        c1  \\\n",
       "0     1110                                      Crop products  0.053661   \n",
       "1     1120                                    Animal products  0.000000   \n",
       "2     1130                      Forestry and logging products  0.000039   \n",
       "3     1140                     Fish and other nonfarm animals  0.000000   \n",
       "4     1150          Agriculture and forestry support services  0.066536   \n",
       "..     ...                                                ...       ...   \n",
       "120   8120                      Personal and laundry services  0.000000   \n",
       "121   8111                  Automotive repair and maintenance  0.001710   \n",
       "122   811A  Electronic, commercial, and household goods re...  0.006162   \n",
       "123   813A        Religious, grantmaking, and social advocacy  0.000000   \n",
       "124   813B  Civic, social, professional and similar organi...  0.001543   \n",
       "\n",
       "           c2        c3        c4        c5        c6        c7        c8  \\\n",
       "0    0.248259  0.000000  0.000000  0.053732  0.000004  0.000000  0.000000   \n",
       "1    0.159890  0.001245  0.000000  0.093651  0.000000  0.000000  0.000000   \n",
       "2    0.000000  0.280967  0.000000  0.002011  0.000000  0.000611  0.000000   \n",
       "3    0.000000  0.000000  0.053274  0.000000  0.000000  0.000000  0.000000   \n",
       "4    0.018377  0.106288  0.131581  0.000000  0.000000  0.000000  0.000000   \n",
       "..        ...       ...       ...       ...       ...       ...       ...   \n",
       "120  0.000032  0.000000  0.000000  0.001297  0.000008  0.000034  0.000000   \n",
       "121  0.001686  0.004012  0.000000  0.000032  0.000130  0.000073  0.000195   \n",
       "122  0.006180  0.010553  0.000347  0.000041  0.000637  0.000790  0.000177   \n",
       "123  0.000000  0.000000  0.000000  0.000000  0.000000  0.000000  0.000000   \n",
       "124  0.002238  0.000032  0.000000  0.000024  0.000962  0.000820  0.000833   \n",
       "\n",
       "     ...      c124      c125      c126  sic  ind_nber   ratio80  id  code_y  \\\n",
       "0    ...  0.000000  0.000109  0.000863    1       1.0  0.359071   1    V001   \n",
       "1    ...  0.000888  0.000000  0.000080    2       2.0  0.359071   1    V001   \n",
       "2    ...  0.000493  0.000000  0.000000    3      46.0  0.359071   1    V001   \n",
       "3    ...  0.000000  0.000000  0.000536    4      46.0  0.359071   1    V001   \n",
       "4    ...  0.000000  0.000000  0.000000    5      46.0  0.359071   1    V001   \n",
       "..   ...       ...       ...       ...  ...       ...       ...  ..     ...   \n",
       "120  ...  0.012844  0.000531  0.001388  124      39.0  0.273007   1    V001   \n",
       "121  ...  0.001515  0.000394  0.001550  122      38.0  0.239552   1    V001   \n",
       "122  ...  0.004341  0.000842  0.003563  123      38.0  0.239552   1    V001   \n",
       "123  ...  0.000000  0.000000  0.000000  125      44.0  0.590352   1    V001   \n",
       "124  ...  0.002114  0.000864  0.002633  126      44.0  0.590352   1    V001   \n",
       "\n",
       "                    industry_y    wshare  \n",
       "0    Compensation of employees  0.093501  \n",
       "1    Compensation of employees  0.055566  \n",
       "2    Compensation of employees  0.113146  \n",
       "3    Compensation of employees  0.084673  \n",
       "4    Compensation of employees  0.485091  \n",
       "..                         ...       ...  \n",
       "120  Compensation of employees  0.266250  \n",
       "121  Compensation of employees  0.253608  \n",
       "122  Compensation of employees  0.312425  \n",
       "123  Compensation of employees  0.663437  \n",
       "124  Compensation of employees  0.469523  \n",
       "\n",
       "[125 rows x 135 columns]"
      ],
      "text/html": "<div>\n<style scoped>\n    .dataframe tbody tr th:only-of-type {\n        vertical-align: middle;\n    }\n\n    .dataframe tbody tr th {\n        vertical-align: top;\n    }\n\n    .dataframe thead th {\n        text-align: right;\n    }\n</style>\n<table border=\"1\" class=\"dataframe\">\n  <thead>\n    <tr style=\"text-align: right;\">\n      <th></th>\n      <th>code_x</th>\n      <th>industry_x</th>\n      <th>c1</th>\n      <th>c2</th>\n      <th>c3</th>\n      <th>c4</th>\n      <th>c5</th>\n      <th>c6</th>\n      <th>c7</th>\n      <th>c8</th>\n      <th>...</th>\n      <th>c124</th>\n      <th>c125</th>\n      <th>c126</th>\n      <th>sic</th>\n      <th>ind_nber</th>\n      <th>ratio80</th>\n      <th>id</th>\n      <th>code_y</th>\n      <th>industry_y</th>\n      <th>wshare</th>\n    </tr>\n  </thead>\n  <tbody>\n    <tr>\n      <th>0</th>\n      <td>1110</td>\n      <td>Crop products</td>\n      <td>0.053661</td>\n      <td>0.248259</td>\n      <td>0.000000</td>\n      <td>0.000000</td>\n      <td>0.053732</td>\n      <td>0.000004</td>\n      <td>0.000000</td>\n      <td>0.000000</td>\n      <td>...</td>\n      <td>0.000000</td>\n      <td>0.000109</td>\n      <td>0.000863</td>\n      <td>1</td>\n      <td>1.0</td>\n      <td>0.359071</td>\n      <td>1</td>\n      <td>V001</td>\n      <td>Compensation of employees</td>\n      <td>0.093501</td>\n    </tr>\n    <tr>\n      <th>1</th>\n      <td>1120</td>\n      <td>Animal products</td>\n      <td>0.000000</td>\n      <td>0.159890</td>\n      <td>0.001245</td>\n      <td>0.000000</td>\n      <td>0.093651</td>\n      <td>0.000000</td>\n      <td>0.000000</td>\n      <td>0.000000</td>\n      <td>...</td>\n      <td>0.000888</td>\n      <td>0.000000</td>\n      <td>0.000080</td>\n      <td>2</td>\n      <td>2.0</td>\n      <td>0.359071</td>\n      <td>1</td>\n      <td>V001</td>\n      <td>Compensation of employees</td>\n      <td>0.055566</td>\n    </tr>\n    <tr>\n      <th>2</th>\n      <td>1130</td>\n      <td>Forestry and logging products</td>\n      <td>0.000039</td>\n      <td>0.000000</td>\n      <td>0.280967</td>\n      <td>0.000000</td>\n      <td>0.002011</td>\n      <td>0.000000</td>\n      <td>0.000611</td>\n      <td>0.000000</td>\n      <td>...</td>\n      <td>0.000493</td>\n      <td>0.000000</td>\n      <td>0.000000</td>\n      <td>3</td>\n      <td>46.0</td>\n      <td>0.359071</td>\n      <td>1</td>\n      <td>V001</td>\n      <td>Compensation of employees</td>\n      <td>0.113146</td>\n    </tr>\n    <tr>\n      <th>3</th>\n      <td>1140</td>\n      <td>Fish and other nonfarm animals</td>\n      <td>0.000000</td>\n      <td>0.000000</td>\n      <td>0.000000</td>\n      <td>0.053274</td>\n      <td>0.000000</td>\n      <td>0.000000</td>\n      <td>0.000000</td>\n      <td>0.000000</td>\n      <td>...</td>\n      <td>0.000000</td>\n      <td>0.000000</td>\n      <td>0.000536</td>\n      <td>4</td>\n      <td>46.0</td>\n      <td>0.359071</td>\n      <td>1</td>\n      <td>V001</td>\n      <td>Compensation of employees</td>\n      <td>0.084673</td>\n    </tr>\n    <tr>\n      <th>4</th>\n      <td>1150</td>\n      <td>Agriculture and forestry support services</td>\n      <td>0.066536</td>\n      <td>0.018377</td>\n      <td>0.106288</td>\n      <td>0.131581</td>\n      <td>0.000000</td>\n      <td>0.000000</td>\n      <td>0.000000</td>\n      <td>0.000000</td>\n      <td>...</td>\n      <td>0.000000</td>\n      <td>0.000000</td>\n      <td>0.000000</td>\n      <td>5</td>\n      <td>46.0</td>\n      <td>0.359071</td>\n      <td>1</td>\n      <td>V001</td>\n      <td>Compensation of employees</td>\n      <td>0.485091</td>\n    </tr>\n    <tr>\n      <th>...</th>\n      <td>...</td>\n      <td>...</td>\n      <td>...</td>\n      <td>...</td>\n      <td>...</td>\n      <td>...</td>\n      <td>...</td>\n      <td>...</td>\n      <td>...</td>\n      <td>...</td>\n      <td>...</td>\n      <td>...</td>\n      <td>...</td>\n      <td>...</td>\n      <td>...</td>\n      <td>...</td>\n      <td>...</td>\n      <td>...</td>\n      <td>...</td>\n      <td>...</td>\n      <td>...</td>\n    </tr>\n    <tr>\n      <th>120</th>\n      <td>8120</td>\n      <td>Personal and laundry services</td>\n      <td>0.000000</td>\n      <td>0.000032</td>\n      <td>0.000000</td>\n      <td>0.000000</td>\n      <td>0.001297</td>\n      <td>0.000008</td>\n      <td>0.000034</td>\n      <td>0.000000</td>\n      <td>...</td>\n      <td>0.012844</td>\n      <td>0.000531</td>\n      <td>0.001388</td>\n      <td>124</td>\n      <td>39.0</td>\n      <td>0.273007</td>\n      <td>1</td>\n      <td>V001</td>\n      <td>Compensation of employees</td>\n      <td>0.266250</td>\n    </tr>\n    <tr>\n      <th>121</th>\n      <td>8111</td>\n      <td>Automotive repair and maintenance</td>\n      <td>0.001710</td>\n      <td>0.001686</td>\n      <td>0.004012</td>\n      <td>0.000000</td>\n      <td>0.000032</td>\n      <td>0.000130</td>\n      <td>0.000073</td>\n      <td>0.000195</td>\n      <td>...</td>\n      <td>0.001515</td>\n      <td>0.000394</td>\n      <td>0.001550</td>\n      <td>122</td>\n      <td>38.0</td>\n      <td>0.239552</td>\n      <td>1</td>\n      <td>V001</td>\n      <td>Compensation of employees</td>\n      <td>0.253608</td>\n    </tr>\n    <tr>\n      <th>122</th>\n      <td>811A</td>\n      <td>Electronic, commercial, and household goods re...</td>\n      <td>0.006162</td>\n      <td>0.006180</td>\n      <td>0.010553</td>\n      <td>0.000347</td>\n      <td>0.000041</td>\n      <td>0.000637</td>\n      <td>0.000790</td>\n      <td>0.000177</td>\n      <td>...</td>\n      <td>0.004341</td>\n      <td>0.000842</td>\n      <td>0.003563</td>\n      <td>123</td>\n      <td>38.0</td>\n      <td>0.239552</td>\n      <td>1</td>\n      <td>V001</td>\n      <td>Compensation of employees</td>\n      <td>0.312425</td>\n    </tr>\n    <tr>\n      <th>123</th>\n      <td>813A</td>\n      <td>Religious, grantmaking, and social advocacy</td>\n      <td>0.000000</td>\n      <td>0.000000</td>\n      <td>0.000000</td>\n      <td>0.000000</td>\n      <td>0.000000</td>\n      <td>0.000000</td>\n      <td>0.000000</td>\n      <td>0.000000</td>\n      <td>...</td>\n      <td>0.000000</td>\n      <td>0.000000</td>\n      <td>0.000000</td>\n      <td>125</td>\n      <td>44.0</td>\n      <td>0.590352</td>\n      <td>1</td>\n      <td>V001</td>\n      <td>Compensation of employees</td>\n      <td>0.663437</td>\n    </tr>\n    <tr>\n      <th>124</th>\n      <td>813B</td>\n      <td>Civic, social, professional and similar organi...</td>\n      <td>0.001543</td>\n      <td>0.002238</td>\n      <td>0.000032</td>\n      <td>0.000000</td>\n      <td>0.000024</td>\n      <td>0.000962</td>\n      <td>0.000820</td>\n      <td>0.000833</td>\n      <td>...</td>\n      <td>0.002114</td>\n      <td>0.000864</td>\n      <td>0.002633</td>\n      <td>126</td>\n      <td>44.0</td>\n      <td>0.590352</td>\n      <td>1</td>\n      <td>V001</td>\n      <td>Compensation of employees</td>\n      <td>0.469523</td>\n    </tr>\n  </tbody>\n</table>\n<p>125 rows × 135 columns</p>\n</div>"
     },
     "metadata": {},
     "execution_count": 563
    }
   ],
   "source": [
    "df_joint_wages['wshare'] = df_joint_wages['wshare'].fillna(0)\n",
    "df_joint_wages\n"
   ]
  },
  {
   "cell_type": "code",
   "execution_count": 564,
   "metadata": {},
   "outputs": [],
   "source": [
    "#*****keep shares of employee compensation*skillratio. college skill intensity\n",
    "df_joint_wages.to_stata('temp')"
   ]
  },
  {
   "cell_type": "code",
   "execution_count": 565,
   "metadata": {},
   "outputs": [
    {
     "output_type": "execute_result",
     "data": {
      "text/plain": [
       "     sic         v   id\n",
       "0      1  0.093501    1\n",
       "1      2  0.055566    2\n",
       "2      3  0.113146    3\n",
       "3      4  0.084673    4\n",
       "4      5  0.485091    5\n",
       "..   ...       ...  ...\n",
       "120  124  0.266250  121\n",
       "121  122  0.253608  122\n",
       "122  123  0.312425  123\n",
       "123  125  0.663437  124\n",
       "124  126  0.469523  125\n",
       "\n",
       "[125 rows x 3 columns]"
      ],
      "text/html": "<div>\n<style scoped>\n    .dataframe tbody tr th:only-of-type {\n        vertical-align: middle;\n    }\n\n    .dataframe tbody tr th {\n        vertical-align: top;\n    }\n\n    .dataframe thead th {\n        text-align: right;\n    }\n</style>\n<table border=\"1\" class=\"dataframe\">\n  <thead>\n    <tr style=\"text-align: right;\">\n      <th></th>\n      <th>sic</th>\n      <th>v</th>\n      <th>id</th>\n    </tr>\n  </thead>\n  <tbody>\n    <tr>\n      <th>0</th>\n      <td>1</td>\n      <td>0.093501</td>\n      <td>1</td>\n    </tr>\n    <tr>\n      <th>1</th>\n      <td>2</td>\n      <td>0.055566</td>\n      <td>2</td>\n    </tr>\n    <tr>\n      <th>2</th>\n      <td>3</td>\n      <td>0.113146</td>\n      <td>3</td>\n    </tr>\n    <tr>\n      <th>3</th>\n      <td>4</td>\n      <td>0.084673</td>\n      <td>4</td>\n    </tr>\n    <tr>\n      <th>4</th>\n      <td>5</td>\n      <td>0.485091</td>\n      <td>5</td>\n    </tr>\n    <tr>\n      <th>...</th>\n      <td>...</td>\n      <td>...</td>\n      <td>...</td>\n    </tr>\n    <tr>\n      <th>120</th>\n      <td>124</td>\n      <td>0.266250</td>\n      <td>121</td>\n    </tr>\n    <tr>\n      <th>121</th>\n      <td>122</td>\n      <td>0.253608</td>\n      <td>122</td>\n    </tr>\n    <tr>\n      <th>122</th>\n      <td>123</td>\n      <td>0.312425</td>\n      <td>123</td>\n    </tr>\n    <tr>\n      <th>123</th>\n      <td>125</td>\n      <td>0.663437</td>\n      <td>124</td>\n    </tr>\n    <tr>\n      <th>124</th>\n      <td>126</td>\n      <td>0.469523</td>\n      <td>125</td>\n    </tr>\n  </tbody>\n</table>\n<p>125 rows × 3 columns</p>\n</div>"
     },
     "metadata": {},
     "execution_count": 565
    }
   ],
   "source": [
    "#*matrix of wage shares to be summed to inputs\n",
    "df_joint_wages_new = df_joint_wages[['sic', 'wshare']]\n",
    "df_joint_wages_new = df_joint_wages_new.rename(columns={'wshare': 'v'})\n",
    "df_joint_wages_new['id'] = np.arange(1, len(df_joint_wages_new)+1)\n",
    "df_joint_wages_new"
   ]
  },
  {
   "cell_type": "code",
   "execution_count": 682,
   "metadata": {},
   "outputs": [
    {
     "output_type": "execute_result",
     "data": {
      "text/plain": [
       "sic       1         2         3         4         5    6    7    8    9    \\\n",
       "id                                                                          \n",
       "1    0.093501  0.000000  0.000000  0.000000  0.000000  0.0  0.0  0.0  0.0   \n",
       "2    0.000000  0.055566  0.000000  0.000000  0.000000  0.0  0.0  0.0  0.0   \n",
       "3    0.000000  0.000000  0.113146  0.000000  0.000000  0.0  0.0  0.0  0.0   \n",
       "4    0.000000  0.000000  0.000000  0.084673  0.000000  0.0  0.0  0.0  0.0   \n",
       "5    0.000000  0.000000  0.000000  0.000000  0.485091  0.0  0.0  0.0  0.0   \n",
       "..        ...       ...       ...       ...       ...  ...  ...  ...  ...   \n",
       "121  0.000000  0.000000  0.000000  0.000000  0.000000  0.0  0.0  0.0  0.0   \n",
       "122  0.000000  0.000000  0.000000  0.000000  0.000000  0.0  0.0  0.0  0.0   \n",
       "123  0.000000  0.000000  0.000000  0.000000  0.000000  0.0  0.0  0.0  0.0   \n",
       "124  0.000000  0.000000  0.000000  0.000000  0.000000  0.0  0.0  0.0  0.0   \n",
       "125  0.000000  0.000000  0.000000  0.000000  0.000000  0.0  0.0  0.0  0.0   \n",
       "\n",
       "sic  10   ...  117  118  119  120  121       122       123      124       125  \\\n",
       "id        ...                                                                   \n",
       "1    0.0  ...  0.0  0.0  0.0  0.0  0.0  0.000000  0.000000  0.00000  0.000000   \n",
       "2    0.0  ...  0.0  0.0  0.0  0.0  0.0  0.000000  0.000000  0.00000  0.000000   \n",
       "3    0.0  ...  0.0  0.0  0.0  0.0  0.0  0.000000  0.000000  0.00000  0.000000   \n",
       "4    0.0  ...  0.0  0.0  0.0  0.0  0.0  0.000000  0.000000  0.00000  0.000000   \n",
       "5    0.0  ...  0.0  0.0  0.0  0.0  0.0  0.000000  0.000000  0.00000  0.000000   \n",
       "..   ...  ...  ...  ...  ...  ...  ...       ...       ...      ...       ...   \n",
       "121  0.0  ...  0.0  0.0  0.0  0.0  0.0  0.000000  0.000000  0.26625  0.000000   \n",
       "122  0.0  ...  0.0  0.0  0.0  0.0  0.0  0.253608  0.000000  0.00000  0.000000   \n",
       "123  0.0  ...  0.0  0.0  0.0  0.0  0.0  0.000000  0.312425  0.00000  0.000000   \n",
       "124  0.0  ...  0.0  0.0  0.0  0.0  0.0  0.000000  0.000000  0.00000  0.663437   \n",
       "125  0.0  ...  0.0  0.0  0.0  0.0  0.0  0.000000  0.000000  0.00000  0.000000   \n",
       "\n",
       "sic       126  \n",
       "id             \n",
       "1    0.000000  \n",
       "2    0.000000  \n",
       "3    0.000000  \n",
       "4    0.000000  \n",
       "5    0.000000  \n",
       "..        ...  \n",
       "121  0.000000  \n",
       "122  0.000000  \n",
       "123  0.000000  \n",
       "124  0.000000  \n",
       "125  0.469523  \n",
       "\n",
       "[125 rows x 125 columns]"
      ],
      "text/html": "<div>\n<style scoped>\n    .dataframe tbody tr th:only-of-type {\n        vertical-align: middle;\n    }\n\n    .dataframe tbody tr th {\n        vertical-align: top;\n    }\n\n    .dataframe thead th {\n        text-align: right;\n    }\n</style>\n<table border=\"1\" class=\"dataframe\">\n  <thead>\n    <tr style=\"text-align: right;\">\n      <th>sic</th>\n      <th>1</th>\n      <th>2</th>\n      <th>3</th>\n      <th>4</th>\n      <th>5</th>\n      <th>6</th>\n      <th>7</th>\n      <th>8</th>\n      <th>9</th>\n      <th>10</th>\n      <th>...</th>\n      <th>117</th>\n      <th>118</th>\n      <th>119</th>\n      <th>120</th>\n      <th>121</th>\n      <th>122</th>\n      <th>123</th>\n      <th>124</th>\n      <th>125</th>\n      <th>126</th>\n    </tr>\n    <tr>\n      <th>id</th>\n      <th></th>\n      <th></th>\n      <th></th>\n      <th></th>\n      <th></th>\n      <th></th>\n      <th></th>\n      <th></th>\n      <th></th>\n      <th></th>\n      <th></th>\n      <th></th>\n      <th></th>\n      <th></th>\n      <th></th>\n      <th></th>\n      <th></th>\n      <th></th>\n      <th></th>\n      <th></th>\n      <th></th>\n    </tr>\n  </thead>\n  <tbody>\n    <tr>\n      <th>1</th>\n      <td>0.093501</td>\n      <td>0.000000</td>\n      <td>0.000000</td>\n      <td>0.000000</td>\n      <td>0.000000</td>\n      <td>0.0</td>\n      <td>0.0</td>\n      <td>0.0</td>\n      <td>0.0</td>\n      <td>0.0</td>\n      <td>...</td>\n      <td>0.0</td>\n      <td>0.0</td>\n      <td>0.0</td>\n      <td>0.0</td>\n      <td>0.0</td>\n      <td>0.000000</td>\n      <td>0.000000</td>\n      <td>0.00000</td>\n      <td>0.000000</td>\n      <td>0.000000</td>\n    </tr>\n    <tr>\n      <th>2</th>\n      <td>0.000000</td>\n      <td>0.055566</td>\n      <td>0.000000</td>\n      <td>0.000000</td>\n      <td>0.000000</td>\n      <td>0.0</td>\n      <td>0.0</td>\n      <td>0.0</td>\n      <td>0.0</td>\n      <td>0.0</td>\n      <td>...</td>\n      <td>0.0</td>\n      <td>0.0</td>\n      <td>0.0</td>\n      <td>0.0</td>\n      <td>0.0</td>\n      <td>0.000000</td>\n      <td>0.000000</td>\n      <td>0.00000</td>\n      <td>0.000000</td>\n      <td>0.000000</td>\n    </tr>\n    <tr>\n      <th>3</th>\n      <td>0.000000</td>\n      <td>0.000000</td>\n      <td>0.113146</td>\n      <td>0.000000</td>\n      <td>0.000000</td>\n      <td>0.0</td>\n      <td>0.0</td>\n      <td>0.0</td>\n      <td>0.0</td>\n      <td>0.0</td>\n      <td>...</td>\n      <td>0.0</td>\n      <td>0.0</td>\n      <td>0.0</td>\n      <td>0.0</td>\n      <td>0.0</td>\n      <td>0.000000</td>\n      <td>0.000000</td>\n      <td>0.00000</td>\n      <td>0.000000</td>\n      <td>0.000000</td>\n    </tr>\n    <tr>\n      <th>4</th>\n      <td>0.000000</td>\n      <td>0.000000</td>\n      <td>0.000000</td>\n      <td>0.084673</td>\n      <td>0.000000</td>\n      <td>0.0</td>\n      <td>0.0</td>\n      <td>0.0</td>\n      <td>0.0</td>\n      <td>0.0</td>\n      <td>...</td>\n      <td>0.0</td>\n      <td>0.0</td>\n      <td>0.0</td>\n      <td>0.0</td>\n      <td>0.0</td>\n      <td>0.000000</td>\n      <td>0.000000</td>\n      <td>0.00000</td>\n      <td>0.000000</td>\n      <td>0.000000</td>\n    </tr>\n    <tr>\n      <th>5</th>\n      <td>0.000000</td>\n      <td>0.000000</td>\n      <td>0.000000</td>\n      <td>0.000000</td>\n      <td>0.485091</td>\n      <td>0.0</td>\n      <td>0.0</td>\n      <td>0.0</td>\n      <td>0.0</td>\n      <td>0.0</td>\n      <td>...</td>\n      <td>0.0</td>\n      <td>0.0</td>\n      <td>0.0</td>\n      <td>0.0</td>\n      <td>0.0</td>\n      <td>0.000000</td>\n      <td>0.000000</td>\n      <td>0.00000</td>\n      <td>0.000000</td>\n      <td>0.000000</td>\n    </tr>\n    <tr>\n      <th>...</th>\n      <td>...</td>\n      <td>...</td>\n      <td>...</td>\n      <td>...</td>\n      <td>...</td>\n      <td>...</td>\n      <td>...</td>\n      <td>...</td>\n      <td>...</td>\n      <td>...</td>\n      <td>...</td>\n      <td>...</td>\n      <td>...</td>\n      <td>...</td>\n      <td>...</td>\n      <td>...</td>\n      <td>...</td>\n      <td>...</td>\n      <td>...</td>\n      <td>...</td>\n      <td>...</td>\n    </tr>\n    <tr>\n      <th>121</th>\n      <td>0.000000</td>\n      <td>0.000000</td>\n      <td>0.000000</td>\n      <td>0.000000</td>\n      <td>0.000000</td>\n      <td>0.0</td>\n      <td>0.0</td>\n      <td>0.0</td>\n      <td>0.0</td>\n      <td>0.0</td>\n      <td>...</td>\n      <td>0.0</td>\n      <td>0.0</td>\n      <td>0.0</td>\n      <td>0.0</td>\n      <td>0.0</td>\n      <td>0.000000</td>\n      <td>0.000000</td>\n      <td>0.26625</td>\n      <td>0.000000</td>\n      <td>0.000000</td>\n    </tr>\n    <tr>\n      <th>122</th>\n      <td>0.000000</td>\n      <td>0.000000</td>\n      <td>0.000000</td>\n      <td>0.000000</td>\n      <td>0.000000</td>\n      <td>0.0</td>\n      <td>0.0</td>\n      <td>0.0</td>\n      <td>0.0</td>\n      <td>0.0</td>\n      <td>...</td>\n      <td>0.0</td>\n      <td>0.0</td>\n      <td>0.0</td>\n      <td>0.0</td>\n      <td>0.0</td>\n      <td>0.253608</td>\n      <td>0.000000</td>\n      <td>0.00000</td>\n      <td>0.000000</td>\n      <td>0.000000</td>\n    </tr>\n    <tr>\n      <th>123</th>\n      <td>0.000000</td>\n      <td>0.000000</td>\n      <td>0.000000</td>\n      <td>0.000000</td>\n      <td>0.000000</td>\n      <td>0.0</td>\n      <td>0.0</td>\n      <td>0.0</td>\n      <td>0.0</td>\n      <td>0.0</td>\n      <td>...</td>\n      <td>0.0</td>\n      <td>0.0</td>\n      <td>0.0</td>\n      <td>0.0</td>\n      <td>0.0</td>\n      <td>0.000000</td>\n      <td>0.312425</td>\n      <td>0.00000</td>\n      <td>0.000000</td>\n      <td>0.000000</td>\n    </tr>\n    <tr>\n      <th>124</th>\n      <td>0.000000</td>\n      <td>0.000000</td>\n      <td>0.000000</td>\n      <td>0.000000</td>\n      <td>0.000000</td>\n      <td>0.0</td>\n      <td>0.0</td>\n      <td>0.0</td>\n      <td>0.0</td>\n      <td>0.0</td>\n      <td>...</td>\n      <td>0.0</td>\n      <td>0.0</td>\n      <td>0.0</td>\n      <td>0.0</td>\n      <td>0.0</td>\n      <td>0.000000</td>\n      <td>0.000000</td>\n      <td>0.00000</td>\n      <td>0.663437</td>\n      <td>0.000000</td>\n    </tr>\n    <tr>\n      <th>125</th>\n      <td>0.000000</td>\n      <td>0.000000</td>\n      <td>0.000000</td>\n      <td>0.000000</td>\n      <td>0.000000</td>\n      <td>0.0</td>\n      <td>0.0</td>\n      <td>0.0</td>\n      <td>0.0</td>\n      <td>0.0</td>\n      <td>...</td>\n      <td>0.0</td>\n      <td>0.0</td>\n      <td>0.0</td>\n      <td>0.0</td>\n      <td>0.0</td>\n      <td>0.000000</td>\n      <td>0.000000</td>\n      <td>0.00000</td>\n      <td>0.000000</td>\n      <td>0.469523</td>\n    </tr>\n  </tbody>\n</table>\n<p>125 rows × 125 columns</p>\n</div>"
     },
     "metadata": {},
     "execution_count": 682
    }
   ],
   "source": [
    "df_joint_wages_3 = df_joint_wages_new.pivot(index='id', columns='sic', values='v').fillna(0)\n",
    "df_joint_wages_3\n"
   ]
  },
  {
   "cell_type": "code",
   "execution_count": 691,
   "metadata": {},
   "outputs": [
    {
     "output_type": "execute_result",
     "data": {
      "text/plain": [
       "sic       1         2         3         4         5    6    7    8    9    \\\n",
       "id                                                                          \n",
       "1    0.093501  0.000000  0.000000  0.000000  0.000000  0.0  0.0  0.0  0.0   \n",
       "2    0.000000  0.055566  0.000000  0.000000  0.000000  0.0  0.0  0.0  0.0   \n",
       "3    0.000000  0.000000  0.113146  0.000000  0.000000  0.0  0.0  0.0  0.0   \n",
       "4    0.000000  0.000000  0.000000  0.084673  0.000000  0.0  0.0  0.0  0.0   \n",
       "5    0.000000  0.000000  0.000000  0.000000  0.485091  0.0  0.0  0.0  0.0   \n",
       "..        ...       ...       ...       ...       ...  ...  ...  ...  ...   \n",
       "121  0.000000  0.000000  0.000000  0.000000  0.000000  0.0  0.0  0.0  0.0   \n",
       "122  0.000000  0.000000  0.000000  0.000000  0.000000  0.0  0.0  0.0  0.0   \n",
       "123  0.000000  0.000000  0.000000  0.000000  0.000000  0.0  0.0  0.0  0.0   \n",
       "124  0.000000  0.000000  0.000000  0.000000  0.000000  0.0  0.0  0.0  0.0   \n",
       "125  0.000000  0.000000  0.000000  0.000000  0.000000  0.0  0.0  0.0  0.0   \n",
       "\n",
       "sic  10   ...  117  118  119  120  121       122       123      124       125  \\\n",
       "id        ...                                                                   \n",
       "1    0.0  ...  0.0  0.0  0.0  0.0  0.0  0.000000  0.000000  0.00000  0.000000   \n",
       "2    0.0  ...  0.0  0.0  0.0  0.0  0.0  0.000000  0.000000  0.00000  0.000000   \n",
       "3    0.0  ...  0.0  0.0  0.0  0.0  0.0  0.000000  0.000000  0.00000  0.000000   \n",
       "4    0.0  ...  0.0  0.0  0.0  0.0  0.0  0.000000  0.000000  0.00000  0.000000   \n",
       "5    0.0  ...  0.0  0.0  0.0  0.0  0.0  0.000000  0.000000  0.00000  0.000000   \n",
       "..   ...  ...  ...  ...  ...  ...  ...       ...       ...      ...       ...   \n",
       "121  0.0  ...  0.0  0.0  0.0  0.0  0.0  0.000000  0.000000  0.26625  0.000000   \n",
       "122  0.0  ...  0.0  0.0  0.0  0.0  0.0  0.253608  0.000000  0.00000  0.000000   \n",
       "123  0.0  ...  0.0  0.0  0.0  0.0  0.0  0.000000  0.312425  0.00000  0.000000   \n",
       "124  0.0  ...  0.0  0.0  0.0  0.0  0.0  0.000000  0.000000  0.00000  0.663437   \n",
       "125  0.0  ...  0.0  0.0  0.0  0.0  0.0  0.000000  0.000000  0.00000  0.000000   \n",
       "\n",
       "sic       126  \n",
       "id             \n",
       "1    0.000000  \n",
       "2    0.000000  \n",
       "3    0.000000  \n",
       "4    0.000000  \n",
       "5    0.000000  \n",
       "..        ...  \n",
       "121  0.000000  \n",
       "122  0.000000  \n",
       "123  0.000000  \n",
       "124  0.000000  \n",
       "125  0.469523  \n",
       "\n",
       "[125 rows x 125 columns]"
      ],
      "text/html": "<div>\n<style scoped>\n    .dataframe tbody tr th:only-of-type {\n        vertical-align: middle;\n    }\n\n    .dataframe tbody tr th {\n        vertical-align: top;\n    }\n\n    .dataframe thead th {\n        text-align: right;\n    }\n</style>\n<table border=\"1\" class=\"dataframe\">\n  <thead>\n    <tr style=\"text-align: right;\">\n      <th>sic</th>\n      <th>1</th>\n      <th>2</th>\n      <th>3</th>\n      <th>4</th>\n      <th>5</th>\n      <th>6</th>\n      <th>7</th>\n      <th>8</th>\n      <th>9</th>\n      <th>10</th>\n      <th>...</th>\n      <th>117</th>\n      <th>118</th>\n      <th>119</th>\n      <th>120</th>\n      <th>121</th>\n      <th>122</th>\n      <th>123</th>\n      <th>124</th>\n      <th>125</th>\n      <th>126</th>\n    </tr>\n    <tr>\n      <th>id</th>\n      <th></th>\n      <th></th>\n      <th></th>\n      <th></th>\n      <th></th>\n      <th></th>\n      <th></th>\n      <th></th>\n      <th></th>\n      <th></th>\n      <th></th>\n      <th></th>\n      <th></th>\n      <th></th>\n      <th></th>\n      <th></th>\n      <th></th>\n      <th></th>\n      <th></th>\n      <th></th>\n      <th></th>\n    </tr>\n  </thead>\n  <tbody>\n    <tr>\n      <th>1</th>\n      <td>0.093501</td>\n      <td>0.000000</td>\n      <td>0.000000</td>\n      <td>0.000000</td>\n      <td>0.000000</td>\n      <td>0.0</td>\n      <td>0.0</td>\n      <td>0.0</td>\n      <td>0.0</td>\n      <td>0.0</td>\n      <td>...</td>\n      <td>0.0</td>\n      <td>0.0</td>\n      <td>0.0</td>\n      <td>0.0</td>\n      <td>0.0</td>\n      <td>0.000000</td>\n      <td>0.000000</td>\n      <td>0.00000</td>\n      <td>0.000000</td>\n      <td>0.000000</td>\n    </tr>\n    <tr>\n      <th>2</th>\n      <td>0.000000</td>\n      <td>0.055566</td>\n      <td>0.000000</td>\n      <td>0.000000</td>\n      <td>0.000000</td>\n      <td>0.0</td>\n      <td>0.0</td>\n      <td>0.0</td>\n      <td>0.0</td>\n      <td>0.0</td>\n      <td>...</td>\n      <td>0.0</td>\n      <td>0.0</td>\n      <td>0.0</td>\n      <td>0.0</td>\n      <td>0.0</td>\n      <td>0.000000</td>\n      <td>0.000000</td>\n      <td>0.00000</td>\n      <td>0.000000</td>\n      <td>0.000000</td>\n    </tr>\n    <tr>\n      <th>3</th>\n      <td>0.000000</td>\n      <td>0.000000</td>\n      <td>0.113146</td>\n      <td>0.000000</td>\n      <td>0.000000</td>\n      <td>0.0</td>\n      <td>0.0</td>\n      <td>0.0</td>\n      <td>0.0</td>\n      <td>0.0</td>\n      <td>...</td>\n      <td>0.0</td>\n      <td>0.0</td>\n      <td>0.0</td>\n      <td>0.0</td>\n      <td>0.0</td>\n      <td>0.000000</td>\n      <td>0.000000</td>\n      <td>0.00000</td>\n      <td>0.000000</td>\n      <td>0.000000</td>\n    </tr>\n    <tr>\n      <th>4</th>\n      <td>0.000000</td>\n      <td>0.000000</td>\n      <td>0.000000</td>\n      <td>0.084673</td>\n      <td>0.000000</td>\n      <td>0.0</td>\n      <td>0.0</td>\n      <td>0.0</td>\n      <td>0.0</td>\n      <td>0.0</td>\n      <td>...</td>\n      <td>0.0</td>\n      <td>0.0</td>\n      <td>0.0</td>\n      <td>0.0</td>\n      <td>0.0</td>\n      <td>0.000000</td>\n      <td>0.000000</td>\n      <td>0.00000</td>\n      <td>0.000000</td>\n      <td>0.000000</td>\n    </tr>\n    <tr>\n      <th>5</th>\n      <td>0.000000</td>\n      <td>0.000000</td>\n      <td>0.000000</td>\n      <td>0.000000</td>\n      <td>0.485091</td>\n      <td>0.0</td>\n      <td>0.0</td>\n      <td>0.0</td>\n      <td>0.0</td>\n      <td>0.0</td>\n      <td>...</td>\n      <td>0.0</td>\n      <td>0.0</td>\n      <td>0.0</td>\n      <td>0.0</td>\n      <td>0.0</td>\n      <td>0.000000</td>\n      <td>0.000000</td>\n      <td>0.00000</td>\n      <td>0.000000</td>\n      <td>0.000000</td>\n    </tr>\n    <tr>\n      <th>...</th>\n      <td>...</td>\n      <td>...</td>\n      <td>...</td>\n      <td>...</td>\n      <td>...</td>\n      <td>...</td>\n      <td>...</td>\n      <td>...</td>\n      <td>...</td>\n      <td>...</td>\n      <td>...</td>\n      <td>...</td>\n      <td>...</td>\n      <td>...</td>\n      <td>...</td>\n      <td>...</td>\n      <td>...</td>\n      <td>...</td>\n      <td>...</td>\n      <td>...</td>\n      <td>...</td>\n    </tr>\n    <tr>\n      <th>121</th>\n      <td>0.000000</td>\n      <td>0.000000</td>\n      <td>0.000000</td>\n      <td>0.000000</td>\n      <td>0.000000</td>\n      <td>0.0</td>\n      <td>0.0</td>\n      <td>0.0</td>\n      <td>0.0</td>\n      <td>0.0</td>\n      <td>...</td>\n      <td>0.0</td>\n      <td>0.0</td>\n      <td>0.0</td>\n      <td>0.0</td>\n      <td>0.0</td>\n      <td>0.000000</td>\n      <td>0.000000</td>\n      <td>0.26625</td>\n      <td>0.000000</td>\n      <td>0.000000</td>\n    </tr>\n    <tr>\n      <th>122</th>\n      <td>0.000000</td>\n      <td>0.000000</td>\n      <td>0.000000</td>\n      <td>0.000000</td>\n      <td>0.000000</td>\n      <td>0.0</td>\n      <td>0.0</td>\n      <td>0.0</td>\n      <td>0.0</td>\n      <td>0.0</td>\n      <td>...</td>\n      <td>0.0</td>\n      <td>0.0</td>\n      <td>0.0</td>\n      <td>0.0</td>\n      <td>0.0</td>\n      <td>0.253608</td>\n      <td>0.000000</td>\n      <td>0.00000</td>\n      <td>0.000000</td>\n      <td>0.000000</td>\n    </tr>\n    <tr>\n      <th>123</th>\n      <td>0.000000</td>\n      <td>0.000000</td>\n      <td>0.000000</td>\n      <td>0.000000</td>\n      <td>0.000000</td>\n      <td>0.0</td>\n      <td>0.0</td>\n      <td>0.0</td>\n      <td>0.0</td>\n      <td>0.0</td>\n      <td>...</td>\n      <td>0.0</td>\n      <td>0.0</td>\n      <td>0.0</td>\n      <td>0.0</td>\n      <td>0.0</td>\n      <td>0.000000</td>\n      <td>0.312425</td>\n      <td>0.00000</td>\n      <td>0.000000</td>\n      <td>0.000000</td>\n    </tr>\n    <tr>\n      <th>124</th>\n      <td>0.000000</td>\n      <td>0.000000</td>\n      <td>0.000000</td>\n      <td>0.000000</td>\n      <td>0.000000</td>\n      <td>0.0</td>\n      <td>0.0</td>\n      <td>0.0</td>\n      <td>0.0</td>\n      <td>0.0</td>\n      <td>...</td>\n      <td>0.0</td>\n      <td>0.0</td>\n      <td>0.0</td>\n      <td>0.0</td>\n      <td>0.0</td>\n      <td>0.000000</td>\n      <td>0.000000</td>\n      <td>0.00000</td>\n      <td>0.663437</td>\n      <td>0.000000</td>\n    </tr>\n    <tr>\n      <th>125</th>\n      <td>0.000000</td>\n      <td>0.000000</td>\n      <td>0.000000</td>\n      <td>0.000000</td>\n      <td>0.000000</td>\n      <td>0.0</td>\n      <td>0.0</td>\n      <td>0.0</td>\n      <td>0.0</td>\n      <td>0.0</td>\n      <td>...</td>\n      <td>0.0</td>\n      <td>0.0</td>\n      <td>0.0</td>\n      <td>0.0</td>\n      <td>0.0</td>\n      <td>0.000000</td>\n      <td>0.000000</td>\n      <td>0.00000</td>\n      <td>0.000000</td>\n      <td>0.469523</td>\n    </tr>\n  </tbody>\n</table>\n<p>125 rows × 125 columns</p>\n</div>"
     },
     "metadata": {},
     "execution_count": 691
    }
   ],
   "source": [
    "df_joint_wages_new.pivot(index='id', columns='sic', values='v').fillna(0)"
   ]
  },
  {
   "cell_type": "code",
   "execution_count": 674,
   "metadata": {},
   "outputs": [
    {
     "output_type": "stream",
     "name": "stderr",
     "text": [
      "C:\\Users\\gimat\\anaconda3\\envs\\assignment_week_6\\lib\\site-packages\\pandas\\io\\stata.py:2346: InvalidColumnName: \nNot all pandas column names were valid Stata variable names.\nThe following replacements have been made:\n\n    1   ->   _1\n    2   ->   _2\n    3   ->   _3\n    4   ->   _4\n    5   ->   _5\n    6   ->   _6\n    7   ->   _7\n    8   ->   _8\n    9   ->   _9\n    10   ->   _10\n    11   ->   _11\n    12   ->   _12\n    13   ->   _13\n    14   ->   _14\n    15   ->   _15\n    16   ->   _16\n    17   ->   _17\n    18   ->   _18\n    19   ->   _19\n    20   ->   _20\n    21   ->   _21\n    22   ->   _22\n    23   ->   _23\n    24   ->   _24\n    25   ->   _25\n    26   ->   _26\n    27   ->   _27\n    28   ->   _28\n    29   ->   _29\n    30   ->   _30\n    31   ->   _31\n    32   ->   _32\n    33   ->   _33\n    34   ->   _34\n    35   ->   _35\n    36   ->   _36\n    37   ->   _37\n    38   ->   _38\n    39   ->   _39\n    40   ->   _40\n    41   ->   _41\n    42   ->   _42\n    43   ->   _43\n    44   ->   _44\n    45   ->   _45\n    46   ->   _46\n    47   ->   _47\n    48   ->   _48\n    49   ->   _49\n    50   ->   _50\n    51   ->   _51\n    52   ->   _52\n    53   ->   _53\n    54   ->   _54\n    55   ->   _55\n    56   ->   _56\n    57   ->   _57\n    58   ->   _58\n    59   ->   _59\n    60   ->   _60\n    61   ->   _61\n    62   ->   _62\n    63   ->   _63\n    64   ->   _64\n    65   ->   _65\n    66   ->   _66\n    67   ->   _67\n    68   ->   _68\n    69   ->   _69\n    70   ->   _70\n    71   ->   _71\n    72   ->   _72\n    73   ->   _73\n    74   ->   _74\n    75   ->   _75\n    76   ->   _76\n    77   ->   _77\n    78   ->   _78\n    79   ->   _79\n    80   ->   _80\n    81   ->   _81\n    82   ->   _82\n    83   ->   _83\n    84   ->   _84\n    85   ->   _85\n    86   ->   _86\n    87   ->   _87\n    88   ->   _88\n    89   ->   _89\n    90   ->   _90\n    91   ->   _91\n    92   ->   _92\n    93   ->   _93\n    94   ->   _94\n    95   ->   _95\n    96   ->   _96\n    97   ->   _97\n    98   ->   _98\n    99   ->   _99\n    100   ->   _100\n    101   ->   _101\n    102   ->   _102\n    103   ->   _103\n    104   ->   _104\n    105   ->   _105\n    106   ->   _106\n    107   ->   _107\n    108   ->   _108\n    109   ->   _109\n    110   ->   _110\n    111   ->   _111\n    112   ->   _112\n    113   ->   _113\n    114   ->   _114\n    115   ->   _115\n    116   ->   _116\n    117   ->   _117\n    118   ->   _118\n    119   ->   _119\n    120   ->   _120\n    121   ->   _121\n    122   ->   _122\n    123   ->   _123\n    124   ->   _124\n    125   ->   _125\n\nIf this is not what you expect, please make sure you have Stata-compliant\ncolumn names in your DataFrame (strings only, max 32 characters, only\nalphanumerics and underscores, no Stata reserved words)\n\n  warnings.warn(ws, InvalidColumnName)\n"
     ]
    }
   ],
   "source": [
    "df_joint_wages_3.to_stata('wshare_c')"
   ]
  },
  {
   "cell_type": "code",
   "execution_count": null,
   "metadata": {},
   "outputs": [],
   "source": [
    "#*each input share is multiplied by wage share and summed to own industry wage share"
   ]
  },
  {
   "cell_type": "code",
   "execution_count": 632,
   "metadata": {},
   "outputs": [
    {
     "output_type": "execute_result",
     "data": {
      "text/plain": [
       "    code_x                                         industry_x        c1  \\\n",
       "0     1110                                      Crop products  0.053661   \n",
       "1     1120                                    Animal products  0.000000   \n",
       "2     1130                      Forestry and logging products  0.000039   \n",
       "3     1140                     Fish and other nonfarm animals  0.000000   \n",
       "4     1150          Agriculture and forestry support services  0.066536   \n",
       "..     ...                                                ...       ...   \n",
       "120   8120                      Personal and laundry services  0.000000   \n",
       "121   8111                  Automotive repair and maintenance  0.001710   \n",
       "122   811A  Electronic, commercial, and household goods re...  0.006162   \n",
       "123   813A        Religious, grantmaking, and social advocacy  0.000000   \n",
       "124   813B  Civic, social, professional and similar organi...  0.001543   \n",
       "\n",
       "           c2        c3        c4        c5        c6        c7        c8  \\\n",
       "0    0.248259  0.000000  0.000000  0.053732  0.000004  0.000000  0.000000   \n",
       "1    0.159890  0.001245  0.000000  0.093651  0.000000  0.000000  0.000000   \n",
       "2    0.000000  0.280967  0.000000  0.002011  0.000000  0.000611  0.000000   \n",
       "3    0.000000  0.000000  0.053274  0.000000  0.000000  0.000000  0.000000   \n",
       "4    0.018377  0.106288  0.131581  0.000000  0.000000  0.000000  0.000000   \n",
       "..        ...       ...       ...       ...       ...       ...       ...   \n",
       "120  0.000032  0.000000  0.000000  0.001297  0.000008  0.000034  0.000000   \n",
       "121  0.001686  0.004012  0.000000  0.000032  0.000130  0.000073  0.000195   \n",
       "122  0.006180  0.010553  0.000347  0.000041  0.000637  0.000790  0.000177   \n",
       "123  0.000000  0.000000  0.000000  0.000000  0.000000  0.000000  0.000000   \n",
       "124  0.002238  0.000032  0.000000  0.000024  0.000962  0.000820  0.000833   \n",
       "\n",
       "     ...      c124      c125      c126  sic  ind_nber   ratio80  id  code_y  \\\n",
       "0    ...  0.000000  0.000109  0.000863    1       1.0  0.359071   1    V001   \n",
       "1    ...  0.000888  0.000000  0.000080    2       2.0  0.359071   1    V001   \n",
       "2    ...  0.000493  0.000000  0.000000    3      46.0  0.359071   1    V001   \n",
       "3    ...  0.000000  0.000000  0.000536    4      46.0  0.359071   1    V001   \n",
       "4    ...  0.000000  0.000000  0.000000    5      46.0  0.359071   1    V001   \n",
       "..   ...       ...       ...       ...  ...       ...       ...  ..     ...   \n",
       "120  ...  0.012844  0.000531  0.001388  124      39.0  0.273007   1    V001   \n",
       "121  ...  0.001515  0.000394  0.001550  122      38.0  0.239552   1    V001   \n",
       "122  ...  0.004341  0.000842  0.003563  123      38.0  0.239552   1    V001   \n",
       "123  ...  0.000000  0.000000  0.000000  125      44.0  0.590352   1    V001   \n",
       "124  ...  0.002114  0.000864  0.002633  126      44.0  0.590352   1    V001   \n",
       "\n",
       "                    industry_y    wshare  \n",
       "0    Compensation of employees  0.093501  \n",
       "1    Compensation of employees  0.055566  \n",
       "2    Compensation of employees  0.113146  \n",
       "3    Compensation of employees  0.084673  \n",
       "4    Compensation of employees  0.485091  \n",
       "..                         ...       ...  \n",
       "120  Compensation of employees  0.266250  \n",
       "121  Compensation of employees  0.253608  \n",
       "122  Compensation of employees  0.312425  \n",
       "123  Compensation of employees  0.663437  \n",
       "124  Compensation of employees  0.469523  \n",
       "\n",
       "[125 rows x 135 columns]"
      ],
      "text/html": "<div>\n<style scoped>\n    .dataframe tbody tr th:only-of-type {\n        vertical-align: middle;\n    }\n\n    .dataframe tbody tr th {\n        vertical-align: top;\n    }\n\n    .dataframe thead th {\n        text-align: right;\n    }\n</style>\n<table border=\"1\" class=\"dataframe\">\n  <thead>\n    <tr style=\"text-align: right;\">\n      <th></th>\n      <th>code_x</th>\n      <th>industry_x</th>\n      <th>c1</th>\n      <th>c2</th>\n      <th>c3</th>\n      <th>c4</th>\n      <th>c5</th>\n      <th>c6</th>\n      <th>c7</th>\n      <th>c8</th>\n      <th>...</th>\n      <th>c124</th>\n      <th>c125</th>\n      <th>c126</th>\n      <th>sic</th>\n      <th>ind_nber</th>\n      <th>ratio80</th>\n      <th>id</th>\n      <th>code_y</th>\n      <th>industry_y</th>\n      <th>wshare</th>\n    </tr>\n  </thead>\n  <tbody>\n    <tr>\n      <th>0</th>\n      <td>1110</td>\n      <td>Crop products</td>\n      <td>0.053661</td>\n      <td>0.248259</td>\n      <td>0.000000</td>\n      <td>0.000000</td>\n      <td>0.053732</td>\n      <td>0.000004</td>\n      <td>0.000000</td>\n      <td>0.000000</td>\n      <td>...</td>\n      <td>0.000000</td>\n      <td>0.000109</td>\n      <td>0.000863</td>\n      <td>1</td>\n      <td>1.0</td>\n      <td>0.359071</td>\n      <td>1</td>\n      <td>V001</td>\n      <td>Compensation of employees</td>\n      <td>0.093501</td>\n    </tr>\n    <tr>\n      <th>1</th>\n      <td>1120</td>\n      <td>Animal products</td>\n      <td>0.000000</td>\n      <td>0.159890</td>\n      <td>0.001245</td>\n      <td>0.000000</td>\n      <td>0.093651</td>\n      <td>0.000000</td>\n      <td>0.000000</td>\n      <td>0.000000</td>\n      <td>...</td>\n      <td>0.000888</td>\n      <td>0.000000</td>\n      <td>0.000080</td>\n      <td>2</td>\n      <td>2.0</td>\n      <td>0.359071</td>\n      <td>1</td>\n      <td>V001</td>\n      <td>Compensation of employees</td>\n      <td>0.055566</td>\n    </tr>\n    <tr>\n      <th>2</th>\n      <td>1130</td>\n      <td>Forestry and logging products</td>\n      <td>0.000039</td>\n      <td>0.000000</td>\n      <td>0.280967</td>\n      <td>0.000000</td>\n      <td>0.002011</td>\n      <td>0.000000</td>\n      <td>0.000611</td>\n      <td>0.000000</td>\n      <td>...</td>\n      <td>0.000493</td>\n      <td>0.000000</td>\n      <td>0.000000</td>\n      <td>3</td>\n      <td>46.0</td>\n      <td>0.359071</td>\n      <td>1</td>\n      <td>V001</td>\n      <td>Compensation of employees</td>\n      <td>0.113146</td>\n    </tr>\n    <tr>\n      <th>3</th>\n      <td>1140</td>\n      <td>Fish and other nonfarm animals</td>\n      <td>0.000000</td>\n      <td>0.000000</td>\n      <td>0.000000</td>\n      <td>0.053274</td>\n      <td>0.000000</td>\n      <td>0.000000</td>\n      <td>0.000000</td>\n      <td>0.000000</td>\n      <td>...</td>\n      <td>0.000000</td>\n      <td>0.000000</td>\n      <td>0.000536</td>\n      <td>4</td>\n      <td>46.0</td>\n      <td>0.359071</td>\n      <td>1</td>\n      <td>V001</td>\n      <td>Compensation of employees</td>\n      <td>0.084673</td>\n    </tr>\n    <tr>\n      <th>4</th>\n      <td>1150</td>\n      <td>Agriculture and forestry support services</td>\n      <td>0.066536</td>\n      <td>0.018377</td>\n      <td>0.106288</td>\n      <td>0.131581</td>\n      <td>0.000000</td>\n      <td>0.000000</td>\n      <td>0.000000</td>\n      <td>0.000000</td>\n      <td>...</td>\n      <td>0.000000</td>\n      <td>0.000000</td>\n      <td>0.000000</td>\n      <td>5</td>\n      <td>46.0</td>\n      <td>0.359071</td>\n      <td>1</td>\n      <td>V001</td>\n      <td>Compensation of employees</td>\n      <td>0.485091</td>\n    </tr>\n    <tr>\n      <th>...</th>\n      <td>...</td>\n      <td>...</td>\n      <td>...</td>\n      <td>...</td>\n      <td>...</td>\n      <td>...</td>\n      <td>...</td>\n      <td>...</td>\n      <td>...</td>\n      <td>...</td>\n      <td>...</td>\n      <td>...</td>\n      <td>...</td>\n      <td>...</td>\n      <td>...</td>\n      <td>...</td>\n      <td>...</td>\n      <td>...</td>\n      <td>...</td>\n      <td>...</td>\n      <td>...</td>\n    </tr>\n    <tr>\n      <th>120</th>\n      <td>8120</td>\n      <td>Personal and laundry services</td>\n      <td>0.000000</td>\n      <td>0.000032</td>\n      <td>0.000000</td>\n      <td>0.000000</td>\n      <td>0.001297</td>\n      <td>0.000008</td>\n      <td>0.000034</td>\n      <td>0.000000</td>\n      <td>...</td>\n      <td>0.012844</td>\n      <td>0.000531</td>\n      <td>0.001388</td>\n      <td>124</td>\n      <td>39.0</td>\n      <td>0.273007</td>\n      <td>1</td>\n      <td>V001</td>\n      <td>Compensation of employees</td>\n      <td>0.266250</td>\n    </tr>\n    <tr>\n      <th>121</th>\n      <td>8111</td>\n      <td>Automotive repair and maintenance</td>\n      <td>0.001710</td>\n      <td>0.001686</td>\n      <td>0.004012</td>\n      <td>0.000000</td>\n      <td>0.000032</td>\n      <td>0.000130</td>\n      <td>0.000073</td>\n      <td>0.000195</td>\n      <td>...</td>\n      <td>0.001515</td>\n      <td>0.000394</td>\n      <td>0.001550</td>\n      <td>122</td>\n      <td>38.0</td>\n      <td>0.239552</td>\n      <td>1</td>\n      <td>V001</td>\n      <td>Compensation of employees</td>\n      <td>0.253608</td>\n    </tr>\n    <tr>\n      <th>122</th>\n      <td>811A</td>\n      <td>Electronic, commercial, and household goods re...</td>\n      <td>0.006162</td>\n      <td>0.006180</td>\n      <td>0.010553</td>\n      <td>0.000347</td>\n      <td>0.000041</td>\n      <td>0.000637</td>\n      <td>0.000790</td>\n      <td>0.000177</td>\n      <td>...</td>\n      <td>0.004341</td>\n      <td>0.000842</td>\n      <td>0.003563</td>\n      <td>123</td>\n      <td>38.0</td>\n      <td>0.239552</td>\n      <td>1</td>\n      <td>V001</td>\n      <td>Compensation of employees</td>\n      <td>0.312425</td>\n    </tr>\n    <tr>\n      <th>123</th>\n      <td>813A</td>\n      <td>Religious, grantmaking, and social advocacy</td>\n      <td>0.000000</td>\n      <td>0.000000</td>\n      <td>0.000000</td>\n      <td>0.000000</td>\n      <td>0.000000</td>\n      <td>0.000000</td>\n      <td>0.000000</td>\n      <td>0.000000</td>\n      <td>...</td>\n      <td>0.000000</td>\n      <td>0.000000</td>\n      <td>0.000000</td>\n      <td>125</td>\n      <td>44.0</td>\n      <td>0.590352</td>\n      <td>1</td>\n      <td>V001</td>\n      <td>Compensation of employees</td>\n      <td>0.663437</td>\n    </tr>\n    <tr>\n      <th>124</th>\n      <td>813B</td>\n      <td>Civic, social, professional and similar organi...</td>\n      <td>0.001543</td>\n      <td>0.002238</td>\n      <td>0.000032</td>\n      <td>0.000000</td>\n      <td>0.000024</td>\n      <td>0.000962</td>\n      <td>0.000820</td>\n      <td>0.000833</td>\n      <td>...</td>\n      <td>0.002114</td>\n      <td>0.000864</td>\n      <td>0.002633</td>\n      <td>126</td>\n      <td>44.0</td>\n      <td>0.590352</td>\n      <td>1</td>\n      <td>V001</td>\n      <td>Compensation of employees</td>\n      <td>0.469523</td>\n    </tr>\n  </tbody>\n</table>\n<p>125 rows × 135 columns</p>\n</div>"
     },
     "metadata": {},
     "execution_count": 632
    }
   ],
   "source": [
    "temp3 = pd.read_stata('temp').drop(columns = 'index')\n",
    "temp3 "
   ]
  },
  {
   "cell_type": "code",
   "execution_count": 651,
   "metadata": {},
   "outputs": [
    {
     "output_type": "execute_result",
     "data": {
      "text/plain": [
       "    code_x                                         industry_x  sic  ind_nber  \\\n",
       "0     1110                                      Crop products    1       1.0   \n",
       "1     1120                                    Animal products    2       2.0   \n",
       "2     1130                      Forestry and logging products    3      46.0   \n",
       "3     1140                     Fish and other nonfarm animals    4      46.0   \n",
       "4     1150          Agriculture and forestry support services    5      46.0   \n",
       "..     ...                                                ...  ...       ...   \n",
       "120   8120                      Personal and laundry services  124      39.0   \n",
       "121   8111                  Automotive repair and maintenance  122      38.0   \n",
       "122   811A  Electronic, commercial, and household goods re...  123      38.0   \n",
       "123   813A        Religious, grantmaking, and social advocacy  125      44.0   \n",
       "124   813B  Civic, social, professional and similar organi...  126      44.0   \n",
       "\n",
       "      ratio80  id code_y                 industry_y    wshare  \n",
       "0    0.359071   1   V001  Compensation of employees  0.093501  \n",
       "1    0.359071   1   V001  Compensation of employees  0.055566  \n",
       "2    0.359071   1   V001  Compensation of employees  0.113146  \n",
       "3    0.359071   1   V001  Compensation of employees  0.084673  \n",
       "4    0.359071   1   V001  Compensation of employees  0.485091  \n",
       "..        ...  ..    ...                        ...       ...  \n",
       "120  0.273007   1   V001  Compensation of employees  0.266250  \n",
       "121  0.239552   1   V001  Compensation of employees  0.253608  \n",
       "122  0.239552   1   V001  Compensation of employees  0.312425  \n",
       "123  0.590352   1   V001  Compensation of employees  0.663437  \n",
       "124  0.590352   1   V001  Compensation of employees  0.469523  \n",
       "\n",
       "[125 rows x 9 columns]"
      ],
      "text/html": "<div>\n<style scoped>\n    .dataframe tbody tr th:only-of-type {\n        vertical-align: middle;\n    }\n\n    .dataframe tbody tr th {\n        vertical-align: top;\n    }\n\n    .dataframe thead th {\n        text-align: right;\n    }\n</style>\n<table border=\"1\" class=\"dataframe\">\n  <thead>\n    <tr style=\"text-align: right;\">\n      <th></th>\n      <th>code_x</th>\n      <th>industry_x</th>\n      <th>sic</th>\n      <th>ind_nber</th>\n      <th>ratio80</th>\n      <th>id</th>\n      <th>code_y</th>\n      <th>industry_y</th>\n      <th>wshare</th>\n    </tr>\n  </thead>\n  <tbody>\n    <tr>\n      <th>0</th>\n      <td>1110</td>\n      <td>Crop products</td>\n      <td>1</td>\n      <td>1.0</td>\n      <td>0.359071</td>\n      <td>1</td>\n      <td>V001</td>\n      <td>Compensation of employees</td>\n      <td>0.093501</td>\n    </tr>\n    <tr>\n      <th>1</th>\n      <td>1120</td>\n      <td>Animal products</td>\n      <td>2</td>\n      <td>2.0</td>\n      <td>0.359071</td>\n      <td>1</td>\n      <td>V001</td>\n      <td>Compensation of employees</td>\n      <td>0.055566</td>\n    </tr>\n    <tr>\n      <th>2</th>\n      <td>1130</td>\n      <td>Forestry and logging products</td>\n      <td>3</td>\n      <td>46.0</td>\n      <td>0.359071</td>\n      <td>1</td>\n      <td>V001</td>\n      <td>Compensation of employees</td>\n      <td>0.113146</td>\n    </tr>\n    <tr>\n      <th>3</th>\n      <td>1140</td>\n      <td>Fish and other nonfarm animals</td>\n      <td>4</td>\n      <td>46.0</td>\n      <td>0.359071</td>\n      <td>1</td>\n      <td>V001</td>\n      <td>Compensation of employees</td>\n      <td>0.084673</td>\n    </tr>\n    <tr>\n      <th>4</th>\n      <td>1150</td>\n      <td>Agriculture and forestry support services</td>\n      <td>5</td>\n      <td>46.0</td>\n      <td>0.359071</td>\n      <td>1</td>\n      <td>V001</td>\n      <td>Compensation of employees</td>\n      <td>0.485091</td>\n    </tr>\n    <tr>\n      <th>...</th>\n      <td>...</td>\n      <td>...</td>\n      <td>...</td>\n      <td>...</td>\n      <td>...</td>\n      <td>...</td>\n      <td>...</td>\n      <td>...</td>\n      <td>...</td>\n    </tr>\n    <tr>\n      <th>120</th>\n      <td>8120</td>\n      <td>Personal and laundry services</td>\n      <td>124</td>\n      <td>39.0</td>\n      <td>0.273007</td>\n      <td>1</td>\n      <td>V001</td>\n      <td>Compensation of employees</td>\n      <td>0.266250</td>\n    </tr>\n    <tr>\n      <th>121</th>\n      <td>8111</td>\n      <td>Automotive repair and maintenance</td>\n      <td>122</td>\n      <td>38.0</td>\n      <td>0.239552</td>\n      <td>1</td>\n      <td>V001</td>\n      <td>Compensation of employees</td>\n      <td>0.253608</td>\n    </tr>\n    <tr>\n      <th>122</th>\n      <td>811A</td>\n      <td>Electronic, commercial, and household goods re...</td>\n      <td>123</td>\n      <td>38.0</td>\n      <td>0.239552</td>\n      <td>1</td>\n      <td>V001</td>\n      <td>Compensation of employees</td>\n      <td>0.312425</td>\n    </tr>\n    <tr>\n      <th>123</th>\n      <td>813A</td>\n      <td>Religious, grantmaking, and social advocacy</td>\n      <td>125</td>\n      <td>44.0</td>\n      <td>0.590352</td>\n      <td>1</td>\n      <td>V001</td>\n      <td>Compensation of employees</td>\n      <td>0.663437</td>\n    </tr>\n    <tr>\n      <th>124</th>\n      <td>813B</td>\n      <td>Civic, social, professional and similar organi...</td>\n      <td>126</td>\n      <td>44.0</td>\n      <td>0.590352</td>\n      <td>1</td>\n      <td>V001</td>\n      <td>Compensation of employees</td>\n      <td>0.469523</td>\n    </tr>\n  </tbody>\n</table>\n<p>125 rows × 9 columns</p>\n</div>"
     },
     "metadata": {},
     "execution_count": 651
    }
   ],
   "source": [
    "columns1 = temp3[['code_x', 'industry_x', 'sic', 'ind_nber', 'ratio80', 'id', 'code_y', 'industry_y','wshare']]\n",
    "columns1"
   ]
  },
  {
   "cell_type": "code",
   "execution_count": 650,
   "metadata": {},
   "outputs": [
    {
     "output_type": "execute_result",
     "data": {
      "text/plain": [
       "           c1        c2        c3        c4        c5        c6        c7  \\\n",
       "0    0.053661  0.248259  0.000000  0.000000  0.053732  0.000004  0.000000   \n",
       "1    0.000000  0.159890  0.001245  0.000000  0.093651  0.000000  0.000000   \n",
       "2    0.000039  0.000000  0.280967  0.000000  0.002011  0.000000  0.000611   \n",
       "3    0.000000  0.000000  0.000000  0.053274  0.000000  0.000000  0.000000   \n",
       "4    0.066536  0.018377  0.106288  0.131581  0.000000  0.000000  0.000000   \n",
       "..        ...       ...       ...       ...       ...       ...       ...   \n",
       "120  0.000000  0.000032  0.000000  0.000000  0.001297  0.000008  0.000034   \n",
       "121  0.001710  0.001686  0.004012  0.000000  0.000032  0.000130  0.000073   \n",
       "122  0.006162  0.006180  0.010553  0.000347  0.000041  0.000637  0.000790   \n",
       "123  0.000000  0.000000  0.000000  0.000000  0.000000  0.000000  0.000000   \n",
       "124  0.001543  0.002238  0.000032  0.000000  0.000024  0.000962  0.000820   \n",
       "\n",
       "           c8        c9       c10  ...      c118      c119      c120  \\\n",
       "0    0.000000  0.000000  0.000000  ...  0.000197  0.002386  0.001528   \n",
       "1    0.000000  0.000000  0.000000  ...  0.000655  0.001119  0.000275   \n",
       "2    0.000000  0.000000  0.000000  ...  0.000034  0.000000  0.000000   \n",
       "3    0.000000  0.000000  0.000000  ...  0.000036  0.000943  0.001463   \n",
       "4    0.000000  0.000000  0.000000  ...  0.000000  0.000000  0.000000   \n",
       "..        ...       ...       ...  ...       ...       ...       ...   \n",
       "120  0.000000  0.000000  0.000012  ...  0.003690  0.005127  0.007008   \n",
       "121  0.000195  0.000140  0.000568  ...  0.001344  0.002388  0.001113   \n",
       "122  0.000177  0.001007  0.003020  ...  0.001992  0.006880  0.003327   \n",
       "123  0.000000  0.000000  0.000000  ...  0.000000  0.000000  0.000000   \n",
       "124  0.000833  0.000803  0.000750  ...  0.001270  0.000458  0.000546   \n",
       "\n",
       "         c121      c122      c123      c124      c125      c126    wshare  \n",
       "0    0.009349  0.000005  0.000000  0.000000  0.000109  0.000863  0.093501  \n",
       "1    0.004684  0.000000  0.000000  0.000888  0.000000  0.000080  0.055566  \n",
       "2    0.000000  0.000000  0.000000  0.000493  0.000000  0.000000  0.113146  \n",
       "3    0.009919  0.000000  0.000000  0.000000  0.000000  0.000536  0.084673  \n",
       "4    0.000000  0.000000  0.000000  0.000000  0.000000  0.000000  0.485091  \n",
       "..        ...       ...       ...       ...       ...       ...       ...  \n",
       "120  0.001843  0.006732  0.001456  0.012844  0.000531  0.001388  0.266250  \n",
       "121  0.001455  0.001033  0.001295  0.001515  0.000394  0.001550  0.253608  \n",
       "122  0.004081  0.003016  0.004080  0.004341  0.000842  0.003563  0.312425  \n",
       "123  0.000000  0.000000  0.000000  0.000000  0.000000  0.000000  0.663437  \n",
       "124  0.000424  0.001368  0.001378  0.002114  0.000864  0.002633  0.469523  \n",
       "\n",
       "[125 rows x 127 columns]"
      ],
      "text/html": "<div>\n<style scoped>\n    .dataframe tbody tr th:only-of-type {\n        vertical-align: middle;\n    }\n\n    .dataframe tbody tr th {\n        vertical-align: top;\n    }\n\n    .dataframe thead th {\n        text-align: right;\n    }\n</style>\n<table border=\"1\" class=\"dataframe\">\n  <thead>\n    <tr style=\"text-align: right;\">\n      <th></th>\n      <th>c1</th>\n      <th>c2</th>\n      <th>c3</th>\n      <th>c4</th>\n      <th>c5</th>\n      <th>c6</th>\n      <th>c7</th>\n      <th>c8</th>\n      <th>c9</th>\n      <th>c10</th>\n      <th>...</th>\n      <th>c118</th>\n      <th>c119</th>\n      <th>c120</th>\n      <th>c121</th>\n      <th>c122</th>\n      <th>c123</th>\n      <th>c124</th>\n      <th>c125</th>\n      <th>c126</th>\n      <th>wshare</th>\n    </tr>\n  </thead>\n  <tbody>\n    <tr>\n      <th>0</th>\n      <td>0.053661</td>\n      <td>0.248259</td>\n      <td>0.000000</td>\n      <td>0.000000</td>\n      <td>0.053732</td>\n      <td>0.000004</td>\n      <td>0.000000</td>\n      <td>0.000000</td>\n      <td>0.000000</td>\n      <td>0.000000</td>\n      <td>...</td>\n      <td>0.000197</td>\n      <td>0.002386</td>\n      <td>0.001528</td>\n      <td>0.009349</td>\n      <td>0.000005</td>\n      <td>0.000000</td>\n      <td>0.000000</td>\n      <td>0.000109</td>\n      <td>0.000863</td>\n      <td>0.093501</td>\n    </tr>\n    <tr>\n      <th>1</th>\n      <td>0.000000</td>\n      <td>0.159890</td>\n      <td>0.001245</td>\n      <td>0.000000</td>\n      <td>0.093651</td>\n      <td>0.000000</td>\n      <td>0.000000</td>\n      <td>0.000000</td>\n      <td>0.000000</td>\n      <td>0.000000</td>\n      <td>...</td>\n      <td>0.000655</td>\n      <td>0.001119</td>\n      <td>0.000275</td>\n      <td>0.004684</td>\n      <td>0.000000</td>\n      <td>0.000000</td>\n      <td>0.000888</td>\n      <td>0.000000</td>\n      <td>0.000080</td>\n      <td>0.055566</td>\n    </tr>\n    <tr>\n      <th>2</th>\n      <td>0.000039</td>\n      <td>0.000000</td>\n      <td>0.280967</td>\n      <td>0.000000</td>\n      <td>0.002011</td>\n      <td>0.000000</td>\n      <td>0.000611</td>\n      <td>0.000000</td>\n      <td>0.000000</td>\n      <td>0.000000</td>\n      <td>...</td>\n      <td>0.000034</td>\n      <td>0.000000</td>\n      <td>0.000000</td>\n      <td>0.000000</td>\n      <td>0.000000</td>\n      <td>0.000000</td>\n      <td>0.000493</td>\n      <td>0.000000</td>\n      <td>0.000000</td>\n      <td>0.113146</td>\n    </tr>\n    <tr>\n      <th>3</th>\n      <td>0.000000</td>\n      <td>0.000000</td>\n      <td>0.000000</td>\n      <td>0.053274</td>\n      <td>0.000000</td>\n      <td>0.000000</td>\n      <td>0.000000</td>\n      <td>0.000000</td>\n      <td>0.000000</td>\n      <td>0.000000</td>\n      <td>...</td>\n      <td>0.000036</td>\n      <td>0.000943</td>\n      <td>0.001463</td>\n      <td>0.009919</td>\n      <td>0.000000</td>\n      <td>0.000000</td>\n      <td>0.000000</td>\n      <td>0.000000</td>\n      <td>0.000536</td>\n      <td>0.084673</td>\n    </tr>\n    <tr>\n      <th>4</th>\n      <td>0.066536</td>\n      <td>0.018377</td>\n      <td>0.106288</td>\n      <td>0.131581</td>\n      <td>0.000000</td>\n      <td>0.000000</td>\n      <td>0.000000</td>\n      <td>0.000000</td>\n      <td>0.000000</td>\n      <td>0.000000</td>\n      <td>...</td>\n      <td>0.000000</td>\n      <td>0.000000</td>\n      <td>0.000000</td>\n      <td>0.000000</td>\n      <td>0.000000</td>\n      <td>0.000000</td>\n      <td>0.000000</td>\n      <td>0.000000</td>\n      <td>0.000000</td>\n      <td>0.485091</td>\n    </tr>\n    <tr>\n      <th>...</th>\n      <td>...</td>\n      <td>...</td>\n      <td>...</td>\n      <td>...</td>\n      <td>...</td>\n      <td>...</td>\n      <td>...</td>\n      <td>...</td>\n      <td>...</td>\n      <td>...</td>\n      <td>...</td>\n      <td>...</td>\n      <td>...</td>\n      <td>...</td>\n      <td>...</td>\n      <td>...</td>\n      <td>...</td>\n      <td>...</td>\n      <td>...</td>\n      <td>...</td>\n      <td>...</td>\n    </tr>\n    <tr>\n      <th>120</th>\n      <td>0.000000</td>\n      <td>0.000032</td>\n      <td>0.000000</td>\n      <td>0.000000</td>\n      <td>0.001297</td>\n      <td>0.000008</td>\n      <td>0.000034</td>\n      <td>0.000000</td>\n      <td>0.000000</td>\n      <td>0.000012</td>\n      <td>...</td>\n      <td>0.003690</td>\n      <td>0.005127</td>\n      <td>0.007008</td>\n      <td>0.001843</td>\n      <td>0.006732</td>\n      <td>0.001456</td>\n      <td>0.012844</td>\n      <td>0.000531</td>\n      <td>0.001388</td>\n      <td>0.266250</td>\n    </tr>\n    <tr>\n      <th>121</th>\n      <td>0.001710</td>\n      <td>0.001686</td>\n      <td>0.004012</td>\n      <td>0.000000</td>\n      <td>0.000032</td>\n      <td>0.000130</td>\n      <td>0.000073</td>\n      <td>0.000195</td>\n      <td>0.000140</td>\n      <td>0.000568</td>\n      <td>...</td>\n      <td>0.001344</td>\n      <td>0.002388</td>\n      <td>0.001113</td>\n      <td>0.001455</td>\n      <td>0.001033</td>\n      <td>0.001295</td>\n      <td>0.001515</td>\n      <td>0.000394</td>\n      <td>0.001550</td>\n      <td>0.253608</td>\n    </tr>\n    <tr>\n      <th>122</th>\n      <td>0.006162</td>\n      <td>0.006180</td>\n      <td>0.010553</td>\n      <td>0.000347</td>\n      <td>0.000041</td>\n      <td>0.000637</td>\n      <td>0.000790</td>\n      <td>0.000177</td>\n      <td>0.001007</td>\n      <td>0.003020</td>\n      <td>...</td>\n      <td>0.001992</td>\n      <td>0.006880</td>\n      <td>0.003327</td>\n      <td>0.004081</td>\n      <td>0.003016</td>\n      <td>0.004080</td>\n      <td>0.004341</td>\n      <td>0.000842</td>\n      <td>0.003563</td>\n      <td>0.312425</td>\n    </tr>\n    <tr>\n      <th>123</th>\n      <td>0.000000</td>\n      <td>0.000000</td>\n      <td>0.000000</td>\n      <td>0.000000</td>\n      <td>0.000000</td>\n      <td>0.000000</td>\n      <td>0.000000</td>\n      <td>0.000000</td>\n      <td>0.000000</td>\n      <td>0.000000</td>\n      <td>...</td>\n      <td>0.000000</td>\n      <td>0.000000</td>\n      <td>0.000000</td>\n      <td>0.000000</td>\n      <td>0.000000</td>\n      <td>0.000000</td>\n      <td>0.000000</td>\n      <td>0.000000</td>\n      <td>0.000000</td>\n      <td>0.663437</td>\n    </tr>\n    <tr>\n      <th>124</th>\n      <td>0.001543</td>\n      <td>0.002238</td>\n      <td>0.000032</td>\n      <td>0.000000</td>\n      <td>0.000024</td>\n      <td>0.000962</td>\n      <td>0.000820</td>\n      <td>0.000833</td>\n      <td>0.000803</td>\n      <td>0.000750</td>\n      <td>...</td>\n      <td>0.001270</td>\n      <td>0.000458</td>\n      <td>0.000546</td>\n      <td>0.000424</td>\n      <td>0.001368</td>\n      <td>0.001378</td>\n      <td>0.002114</td>\n      <td>0.000864</td>\n      <td>0.002633</td>\n      <td>0.469523</td>\n    </tr>\n  </tbody>\n</table>\n<p>125 rows × 127 columns</p>\n</div>"
     },
     "metadata": {},
     "execution_count": 650
    }
   ],
   "source": [
    "columns2 = temp3.drop(['code_x', 'industry_x', 'sic', 'ind_nber', 'ratio80', 'id', 'code_y', 'industry_y'], axis=1)\n",
    "columns2"
   ]
  },
  {
   "cell_type": "code",
   "execution_count": 652,
   "metadata": {},
   "outputs": [],
   "source": [
    "columns3 = columns2.loc[:, 'c1':'c126'].multiply(columns2['wshare'].loc[0:124], axis=0)"
   ]
  },
  {
   "cell_type": "code",
   "execution_count": 653,
   "metadata": {},
   "outputs": [
    {
     "output_type": "execute_result",
     "data": {
      "text/plain": [
       "    code_x                                         industry_x  sic  ind_nber  \\\n",
       "0     1110                                      Crop products    1       1.0   \n",
       "1     1120                                    Animal products    2       2.0   \n",
       "2     1130                      Forestry and logging products    3      46.0   \n",
       "3     1140                     Fish and other nonfarm animals    4      46.0   \n",
       "4     1150          Agriculture and forestry support services    5      46.0   \n",
       "..     ...                                                ...  ...       ...   \n",
       "120   8120                      Personal and laundry services  124      39.0   \n",
       "121   8111                  Automotive repair and maintenance  122      38.0   \n",
       "122   811A  Electronic, commercial, and household goods re...  123      38.0   \n",
       "123   813A        Religious, grantmaking, and social advocacy  125      44.0   \n",
       "124   813B  Civic, social, professional and similar organi...  126      44.0   \n",
       "\n",
       "      ratio80  id code_y                 industry_y    wshare        c1  ...  \\\n",
       "0    0.359071   1   V001  Compensation of employees  0.093501  0.005017  ...   \n",
       "1    0.359071   1   V001  Compensation of employees  0.055566  0.000000  ...   \n",
       "2    0.359071   1   V001  Compensation of employees  0.113146  0.000004  ...   \n",
       "3    0.359071   1   V001  Compensation of employees  0.084673  0.000000  ...   \n",
       "4    0.359071   1   V001  Compensation of employees  0.485091  0.032276  ...   \n",
       "..        ...  ..    ...                        ...       ...       ...  ...   \n",
       "120  0.273007   1   V001  Compensation of employees  0.266250  0.000000  ...   \n",
       "121  0.239552   1   V001  Compensation of employees  0.253608  0.000434  ...   \n",
       "122  0.239552   1   V001  Compensation of employees  0.312425  0.001925  ...   \n",
       "123  0.590352   1   V001  Compensation of employees  0.663437  0.000000  ...   \n",
       "124  0.590352   1   V001  Compensation of employees  0.469523  0.000724  ...   \n",
       "\n",
       "         c117      c118      c119      c120      c121          c122      c123  \\\n",
       "0    0.000122  0.000018  0.000223  0.000143  0.000874  4.404308e-07  0.000000   \n",
       "1    0.000002  0.000036  0.000062  0.000015  0.000260  0.000000e+00  0.000000   \n",
       "2    0.000000  0.000004  0.000000  0.000000  0.000000  0.000000e+00  0.000000   \n",
       "3    0.000002  0.000003  0.000080  0.000124  0.000840  0.000000e+00  0.000000   \n",
       "4    0.000000  0.000000  0.000000  0.000000  0.000000  0.000000e+00  0.000000   \n",
       "..        ...       ...       ...       ...       ...           ...       ...   \n",
       "120  0.000646  0.000983  0.001365  0.001866  0.000491  1.792490e-03  0.000388   \n",
       "121  0.000292  0.000341  0.000606  0.000282  0.000369  2.619154e-04  0.000328   \n",
       "122  0.000837  0.000622  0.002149  0.001039  0.001275  9.422239e-04  0.001275   \n",
       "123  0.000000  0.000000  0.000000  0.000000  0.000000  0.000000e+00  0.000000   \n",
       "124  0.000381  0.000596  0.000215  0.000256  0.000199  6.424832e-04  0.000647   \n",
       "\n",
       "         c124      c125      c126  \n",
       "0    0.000000  0.000010  0.000081  \n",
       "1    0.000049  0.000000  0.000004  \n",
       "2    0.000056  0.000000  0.000000  \n",
       "3    0.000000  0.000000  0.000045  \n",
       "4    0.000000  0.000000  0.000000  \n",
       "..        ...       ...       ...  \n",
       "120  0.003420  0.000141  0.000370  \n",
       "121  0.000384  0.000100  0.000393  \n",
       "122  0.001356  0.000263  0.001113  \n",
       "123  0.000000  0.000000  0.000000  \n",
       "124  0.000993  0.000406  0.001236  \n",
       "\n",
       "[125 rows x 135 columns]"
      ],
      "text/html": "<div>\n<style scoped>\n    .dataframe tbody tr th:only-of-type {\n        vertical-align: middle;\n    }\n\n    .dataframe tbody tr th {\n        vertical-align: top;\n    }\n\n    .dataframe thead th {\n        text-align: right;\n    }\n</style>\n<table border=\"1\" class=\"dataframe\">\n  <thead>\n    <tr style=\"text-align: right;\">\n      <th></th>\n      <th>code_x</th>\n      <th>industry_x</th>\n      <th>sic</th>\n      <th>ind_nber</th>\n      <th>ratio80</th>\n      <th>id</th>\n      <th>code_y</th>\n      <th>industry_y</th>\n      <th>wshare</th>\n      <th>c1</th>\n      <th>...</th>\n      <th>c117</th>\n      <th>c118</th>\n      <th>c119</th>\n      <th>c120</th>\n      <th>c121</th>\n      <th>c122</th>\n      <th>c123</th>\n      <th>c124</th>\n      <th>c125</th>\n      <th>c126</th>\n    </tr>\n  </thead>\n  <tbody>\n    <tr>\n      <th>0</th>\n      <td>1110</td>\n      <td>Crop products</td>\n      <td>1</td>\n      <td>1.0</td>\n      <td>0.359071</td>\n      <td>1</td>\n      <td>V001</td>\n      <td>Compensation of employees</td>\n      <td>0.093501</td>\n      <td>0.005017</td>\n      <td>...</td>\n      <td>0.000122</td>\n      <td>0.000018</td>\n      <td>0.000223</td>\n      <td>0.000143</td>\n      <td>0.000874</td>\n      <td>4.404308e-07</td>\n      <td>0.000000</td>\n      <td>0.000000</td>\n      <td>0.000010</td>\n      <td>0.000081</td>\n    </tr>\n    <tr>\n      <th>1</th>\n      <td>1120</td>\n      <td>Animal products</td>\n      <td>2</td>\n      <td>2.0</td>\n      <td>0.359071</td>\n      <td>1</td>\n      <td>V001</td>\n      <td>Compensation of employees</td>\n      <td>0.055566</td>\n      <td>0.000000</td>\n      <td>...</td>\n      <td>0.000002</td>\n      <td>0.000036</td>\n      <td>0.000062</td>\n      <td>0.000015</td>\n      <td>0.000260</td>\n      <td>0.000000e+00</td>\n      <td>0.000000</td>\n      <td>0.000049</td>\n      <td>0.000000</td>\n      <td>0.000004</td>\n    </tr>\n    <tr>\n      <th>2</th>\n      <td>1130</td>\n      <td>Forestry and logging products</td>\n      <td>3</td>\n      <td>46.0</td>\n      <td>0.359071</td>\n      <td>1</td>\n      <td>V001</td>\n      <td>Compensation of employees</td>\n      <td>0.113146</td>\n      <td>0.000004</td>\n      <td>...</td>\n      <td>0.000000</td>\n      <td>0.000004</td>\n      <td>0.000000</td>\n      <td>0.000000</td>\n      <td>0.000000</td>\n      <td>0.000000e+00</td>\n      <td>0.000000</td>\n      <td>0.000056</td>\n      <td>0.000000</td>\n      <td>0.000000</td>\n    </tr>\n    <tr>\n      <th>3</th>\n      <td>1140</td>\n      <td>Fish and other nonfarm animals</td>\n      <td>4</td>\n      <td>46.0</td>\n      <td>0.359071</td>\n      <td>1</td>\n      <td>V001</td>\n      <td>Compensation of employees</td>\n      <td>0.084673</td>\n      <td>0.000000</td>\n      <td>...</td>\n      <td>0.000002</td>\n      <td>0.000003</td>\n      <td>0.000080</td>\n      <td>0.000124</td>\n      <td>0.000840</td>\n      <td>0.000000e+00</td>\n      <td>0.000000</td>\n      <td>0.000000</td>\n      <td>0.000000</td>\n      <td>0.000045</td>\n    </tr>\n    <tr>\n      <th>4</th>\n      <td>1150</td>\n      <td>Agriculture and forestry support services</td>\n      <td>5</td>\n      <td>46.0</td>\n      <td>0.359071</td>\n      <td>1</td>\n      <td>V001</td>\n      <td>Compensation of employees</td>\n      <td>0.485091</td>\n      <td>0.032276</td>\n      <td>...</td>\n      <td>0.000000</td>\n      <td>0.000000</td>\n      <td>0.000000</td>\n      <td>0.000000</td>\n      <td>0.000000</td>\n      <td>0.000000e+00</td>\n      <td>0.000000</td>\n      <td>0.000000</td>\n      <td>0.000000</td>\n      <td>0.000000</td>\n    </tr>\n    <tr>\n      <th>...</th>\n      <td>...</td>\n      <td>...</td>\n      <td>...</td>\n      <td>...</td>\n      <td>...</td>\n      <td>...</td>\n      <td>...</td>\n      <td>...</td>\n      <td>...</td>\n      <td>...</td>\n      <td>...</td>\n      <td>...</td>\n      <td>...</td>\n      <td>...</td>\n      <td>...</td>\n      <td>...</td>\n      <td>...</td>\n      <td>...</td>\n      <td>...</td>\n      <td>...</td>\n      <td>...</td>\n    </tr>\n    <tr>\n      <th>120</th>\n      <td>8120</td>\n      <td>Personal and laundry services</td>\n      <td>124</td>\n      <td>39.0</td>\n      <td>0.273007</td>\n      <td>1</td>\n      <td>V001</td>\n      <td>Compensation of employees</td>\n      <td>0.266250</td>\n      <td>0.000000</td>\n      <td>...</td>\n      <td>0.000646</td>\n      <td>0.000983</td>\n      <td>0.001365</td>\n      <td>0.001866</td>\n      <td>0.000491</td>\n      <td>1.792490e-03</td>\n      <td>0.000388</td>\n      <td>0.003420</td>\n      <td>0.000141</td>\n      <td>0.000370</td>\n    </tr>\n    <tr>\n      <th>121</th>\n      <td>8111</td>\n      <td>Automotive repair and maintenance</td>\n      <td>122</td>\n      <td>38.0</td>\n      <td>0.239552</td>\n      <td>1</td>\n      <td>V001</td>\n      <td>Compensation of employees</td>\n      <td>0.253608</td>\n      <td>0.000434</td>\n      <td>...</td>\n      <td>0.000292</td>\n      <td>0.000341</td>\n      <td>0.000606</td>\n      <td>0.000282</td>\n      <td>0.000369</td>\n      <td>2.619154e-04</td>\n      <td>0.000328</td>\n      <td>0.000384</td>\n      <td>0.000100</td>\n      <td>0.000393</td>\n    </tr>\n    <tr>\n      <th>122</th>\n      <td>811A</td>\n      <td>Electronic, commercial, and household goods re...</td>\n      <td>123</td>\n      <td>38.0</td>\n      <td>0.239552</td>\n      <td>1</td>\n      <td>V001</td>\n      <td>Compensation of employees</td>\n      <td>0.312425</td>\n      <td>0.001925</td>\n      <td>...</td>\n      <td>0.000837</td>\n      <td>0.000622</td>\n      <td>0.002149</td>\n      <td>0.001039</td>\n      <td>0.001275</td>\n      <td>9.422239e-04</td>\n      <td>0.001275</td>\n      <td>0.001356</td>\n      <td>0.000263</td>\n      <td>0.001113</td>\n    </tr>\n    <tr>\n      <th>123</th>\n      <td>813A</td>\n      <td>Religious, grantmaking, and social advocacy</td>\n      <td>125</td>\n      <td>44.0</td>\n      <td>0.590352</td>\n      <td>1</td>\n      <td>V001</td>\n      <td>Compensation of employees</td>\n      <td>0.663437</td>\n      <td>0.000000</td>\n      <td>...</td>\n      <td>0.000000</td>\n      <td>0.000000</td>\n      <td>0.000000</td>\n      <td>0.000000</td>\n      <td>0.000000</td>\n      <td>0.000000e+00</td>\n      <td>0.000000</td>\n      <td>0.000000</td>\n      <td>0.000000</td>\n      <td>0.000000</td>\n    </tr>\n    <tr>\n      <th>124</th>\n      <td>813B</td>\n      <td>Civic, social, professional and similar organi...</td>\n      <td>126</td>\n      <td>44.0</td>\n      <td>0.590352</td>\n      <td>1</td>\n      <td>V001</td>\n      <td>Compensation of employees</td>\n      <td>0.469523</td>\n      <td>0.000724</td>\n      <td>...</td>\n      <td>0.000381</td>\n      <td>0.000596</td>\n      <td>0.000215</td>\n      <td>0.000256</td>\n      <td>0.000199</td>\n      <td>6.424832e-04</td>\n      <td>0.000647</td>\n      <td>0.000993</td>\n      <td>0.000406</td>\n      <td>0.001236</td>\n    </tr>\n  </tbody>\n</table>\n<p>125 rows × 135 columns</p>\n</div>"
     },
     "metadata": {},
     "execution_count": 653
    }
   ],
   "source": [
    "\n",
    "temp3_new = pd.concat([columns1, columns3], axis=1)\n",
    "temp3_new"
   ]
  },
  {
   "cell_type": "code",
   "execution_count": 694,
   "metadata": {},
   "outputs": [
    {
     "output_type": "execute_result",
     "data": {
      "text/plain": [
       "     sic        _1        _2        _3        _4        _5   _6   _7   _8  \\\n",
       "0      1  0.093501  0.000000  0.000000  0.000000  0.000000  0.0  0.0  0.0   \n",
       "1      2  0.000000  0.055566  0.000000  0.000000  0.000000  0.0  0.0  0.0   \n",
       "2      3  0.000000  0.000000  0.113146  0.000000  0.000000  0.0  0.0  0.0   \n",
       "3      4  0.000000  0.000000  0.000000  0.084673  0.000000  0.0  0.0  0.0   \n",
       "4      5  0.000000  0.000000  0.000000  0.000000  0.485091  0.0  0.0  0.0   \n",
       "..   ...       ...       ...       ...       ...       ...  ...  ...  ...   \n",
       "120  122  0.000000  0.000000  0.000000  0.000000  0.000000  0.0  0.0  0.0   \n",
       "121  123  0.000000  0.000000  0.000000  0.000000  0.000000  0.0  0.0  0.0   \n",
       "122  124  0.000000  0.000000  0.000000  0.000000  0.000000  0.0  0.0  0.0   \n",
       "123  125  0.000000  0.000000  0.000000  0.000000  0.000000  0.0  0.0  0.0   \n",
       "124  126  0.000000  0.000000  0.000000  0.000000  0.000000  0.0  0.0  0.0   \n",
       "\n",
       "      _9  ...  _116  _117  _118  _119  _120     _121      _122      _123  \\\n",
       "0    0.0  ...   0.0   0.0   0.0   0.0   0.0  0.00000  0.000000  0.000000   \n",
       "1    0.0  ...   0.0   0.0   0.0   0.0   0.0  0.00000  0.000000  0.000000   \n",
       "2    0.0  ...   0.0   0.0   0.0   0.0   0.0  0.00000  0.000000  0.000000   \n",
       "3    0.0  ...   0.0   0.0   0.0   0.0   0.0  0.00000  0.000000  0.000000   \n",
       "4    0.0  ...   0.0   0.0   0.0   0.0   0.0  0.00000  0.000000  0.000000   \n",
       "..   ...  ...   ...   ...   ...   ...   ...      ...       ...       ...   \n",
       "120  0.0  ...   0.0   0.0   0.0   0.0   0.0  0.00000  0.253608  0.000000   \n",
       "121  0.0  ...   0.0   0.0   0.0   0.0   0.0  0.00000  0.000000  0.312425   \n",
       "122  0.0  ...   0.0   0.0   0.0   0.0   0.0  0.26625  0.000000  0.000000   \n",
       "123  0.0  ...   0.0   0.0   0.0   0.0   0.0  0.00000  0.000000  0.000000   \n",
       "124  0.0  ...   0.0   0.0   0.0   0.0   0.0  0.00000  0.000000  0.000000   \n",
       "\n",
       "         _124      _125  \n",
       "0    0.000000  0.000000  \n",
       "1    0.000000  0.000000  \n",
       "2    0.000000  0.000000  \n",
       "3    0.000000  0.000000  \n",
       "4    0.000000  0.000000  \n",
       "..        ...       ...  \n",
       "120  0.000000  0.000000  \n",
       "121  0.000000  0.000000  \n",
       "122  0.000000  0.000000  \n",
       "123  0.663437  0.000000  \n",
       "124  0.000000  0.469523  \n",
       "\n",
       "[125 rows x 126 columns]"
      ],
      "text/html": "<div>\n<style scoped>\n    .dataframe tbody tr th:only-of-type {\n        vertical-align: middle;\n    }\n\n    .dataframe tbody tr th {\n        vertical-align: top;\n    }\n\n    .dataframe thead th {\n        text-align: right;\n    }\n</style>\n<table border=\"1\" class=\"dataframe\">\n  <thead>\n    <tr style=\"text-align: right;\">\n      <th></th>\n      <th>sic</th>\n      <th>_1</th>\n      <th>_2</th>\n      <th>_3</th>\n      <th>_4</th>\n      <th>_5</th>\n      <th>_6</th>\n      <th>_7</th>\n      <th>_8</th>\n      <th>_9</th>\n      <th>...</th>\n      <th>_116</th>\n      <th>_117</th>\n      <th>_118</th>\n      <th>_119</th>\n      <th>_120</th>\n      <th>_121</th>\n      <th>_122</th>\n      <th>_123</th>\n      <th>_124</th>\n      <th>_125</th>\n    </tr>\n  </thead>\n  <tbody>\n    <tr>\n      <th>0</th>\n      <td>1</td>\n      <td>0.093501</td>\n      <td>0.000000</td>\n      <td>0.000000</td>\n      <td>0.000000</td>\n      <td>0.000000</td>\n      <td>0.0</td>\n      <td>0.0</td>\n      <td>0.0</td>\n      <td>0.0</td>\n      <td>...</td>\n      <td>0.0</td>\n      <td>0.0</td>\n      <td>0.0</td>\n      <td>0.0</td>\n      <td>0.0</td>\n      <td>0.00000</td>\n      <td>0.000000</td>\n      <td>0.000000</td>\n      <td>0.000000</td>\n      <td>0.000000</td>\n    </tr>\n    <tr>\n      <th>1</th>\n      <td>2</td>\n      <td>0.000000</td>\n      <td>0.055566</td>\n      <td>0.000000</td>\n      <td>0.000000</td>\n      <td>0.000000</td>\n      <td>0.0</td>\n      <td>0.0</td>\n      <td>0.0</td>\n      <td>0.0</td>\n      <td>...</td>\n      <td>0.0</td>\n      <td>0.0</td>\n      <td>0.0</td>\n      <td>0.0</td>\n      <td>0.0</td>\n      <td>0.00000</td>\n      <td>0.000000</td>\n      <td>0.000000</td>\n      <td>0.000000</td>\n      <td>0.000000</td>\n    </tr>\n    <tr>\n      <th>2</th>\n      <td>3</td>\n      <td>0.000000</td>\n      <td>0.000000</td>\n      <td>0.113146</td>\n      <td>0.000000</td>\n      <td>0.000000</td>\n      <td>0.0</td>\n      <td>0.0</td>\n      <td>0.0</td>\n      <td>0.0</td>\n      <td>...</td>\n      <td>0.0</td>\n      <td>0.0</td>\n      <td>0.0</td>\n      <td>0.0</td>\n      <td>0.0</td>\n      <td>0.00000</td>\n      <td>0.000000</td>\n      <td>0.000000</td>\n      <td>0.000000</td>\n      <td>0.000000</td>\n    </tr>\n    <tr>\n      <th>3</th>\n      <td>4</td>\n      <td>0.000000</td>\n      <td>0.000000</td>\n      <td>0.000000</td>\n      <td>0.084673</td>\n      <td>0.000000</td>\n      <td>0.0</td>\n      <td>0.0</td>\n      <td>0.0</td>\n      <td>0.0</td>\n      <td>...</td>\n      <td>0.0</td>\n      <td>0.0</td>\n      <td>0.0</td>\n      <td>0.0</td>\n      <td>0.0</td>\n      <td>0.00000</td>\n      <td>0.000000</td>\n      <td>0.000000</td>\n      <td>0.000000</td>\n      <td>0.000000</td>\n    </tr>\n    <tr>\n      <th>4</th>\n      <td>5</td>\n      <td>0.000000</td>\n      <td>0.000000</td>\n      <td>0.000000</td>\n      <td>0.000000</td>\n      <td>0.485091</td>\n      <td>0.0</td>\n      <td>0.0</td>\n      <td>0.0</td>\n      <td>0.0</td>\n      <td>...</td>\n      <td>0.0</td>\n      <td>0.0</td>\n      <td>0.0</td>\n      <td>0.0</td>\n      <td>0.0</td>\n      <td>0.00000</td>\n      <td>0.000000</td>\n      <td>0.000000</td>\n      <td>0.000000</td>\n      <td>0.000000</td>\n    </tr>\n    <tr>\n      <th>...</th>\n      <td>...</td>\n      <td>...</td>\n      <td>...</td>\n      <td>...</td>\n      <td>...</td>\n      <td>...</td>\n      <td>...</td>\n      <td>...</td>\n      <td>...</td>\n      <td>...</td>\n      <td>...</td>\n      <td>...</td>\n      <td>...</td>\n      <td>...</td>\n      <td>...</td>\n      <td>...</td>\n      <td>...</td>\n      <td>...</td>\n      <td>...</td>\n      <td>...</td>\n      <td>...</td>\n    </tr>\n    <tr>\n      <th>120</th>\n      <td>122</td>\n      <td>0.000000</td>\n      <td>0.000000</td>\n      <td>0.000000</td>\n      <td>0.000000</td>\n      <td>0.000000</td>\n      <td>0.0</td>\n      <td>0.0</td>\n      <td>0.0</td>\n      <td>0.0</td>\n      <td>...</td>\n      <td>0.0</td>\n      <td>0.0</td>\n      <td>0.0</td>\n      <td>0.0</td>\n      <td>0.0</td>\n      <td>0.00000</td>\n      <td>0.253608</td>\n      <td>0.000000</td>\n      <td>0.000000</td>\n      <td>0.000000</td>\n    </tr>\n    <tr>\n      <th>121</th>\n      <td>123</td>\n      <td>0.000000</td>\n      <td>0.000000</td>\n      <td>0.000000</td>\n      <td>0.000000</td>\n      <td>0.000000</td>\n      <td>0.0</td>\n      <td>0.0</td>\n      <td>0.0</td>\n      <td>0.0</td>\n      <td>...</td>\n      <td>0.0</td>\n      <td>0.0</td>\n      <td>0.0</td>\n      <td>0.0</td>\n      <td>0.0</td>\n      <td>0.00000</td>\n      <td>0.000000</td>\n      <td>0.312425</td>\n      <td>0.000000</td>\n      <td>0.000000</td>\n    </tr>\n    <tr>\n      <th>122</th>\n      <td>124</td>\n      <td>0.000000</td>\n      <td>0.000000</td>\n      <td>0.000000</td>\n      <td>0.000000</td>\n      <td>0.000000</td>\n      <td>0.0</td>\n      <td>0.0</td>\n      <td>0.0</td>\n      <td>0.0</td>\n      <td>...</td>\n      <td>0.0</td>\n      <td>0.0</td>\n      <td>0.0</td>\n      <td>0.0</td>\n      <td>0.0</td>\n      <td>0.26625</td>\n      <td>0.000000</td>\n      <td>0.000000</td>\n      <td>0.000000</td>\n      <td>0.000000</td>\n    </tr>\n    <tr>\n      <th>123</th>\n      <td>125</td>\n      <td>0.000000</td>\n      <td>0.000000</td>\n      <td>0.000000</td>\n      <td>0.000000</td>\n      <td>0.000000</td>\n      <td>0.0</td>\n      <td>0.0</td>\n      <td>0.0</td>\n      <td>0.0</td>\n      <td>...</td>\n      <td>0.0</td>\n      <td>0.0</td>\n      <td>0.0</td>\n      <td>0.0</td>\n      <td>0.0</td>\n      <td>0.00000</td>\n      <td>0.000000</td>\n      <td>0.000000</td>\n      <td>0.663437</td>\n      <td>0.000000</td>\n    </tr>\n    <tr>\n      <th>124</th>\n      <td>126</td>\n      <td>0.000000</td>\n      <td>0.000000</td>\n      <td>0.000000</td>\n      <td>0.000000</td>\n      <td>0.000000</td>\n      <td>0.0</td>\n      <td>0.0</td>\n      <td>0.0</td>\n      <td>0.0</td>\n      <td>...</td>\n      <td>0.0</td>\n      <td>0.0</td>\n      <td>0.0</td>\n      <td>0.0</td>\n      <td>0.0</td>\n      <td>0.00000</td>\n      <td>0.000000</td>\n      <td>0.000000</td>\n      <td>0.000000</td>\n      <td>0.469523</td>\n    </tr>\n  </tbody>\n</table>\n<p>125 rows × 126 columns</p>\n</div>"
     },
     "metadata": {},
     "execution_count": 694
    }
   ],
   "source": [
    "wshare_c = pd.read_stata('wshare_c')\n",
    "wshare_c = wshare_c.rename(columns={'id': 'sic'})\n",
    "wshare_c "
   ]
  },
  {
   "cell_type": "code",
   "execution_count": 698,
   "metadata": {},
   "outputs": [
    {
     "output_type": "execute_result",
     "data": {
      "text/plain": [
       "     code                                           industry  sic  ind_nber  \\\n",
       "0    1110                                      Crop products    1       1.0   \n",
       "1    1120                                    Animal products    2       2.0   \n",
       "2    1130                      Forestry and logging products    3      46.0   \n",
       "3    1140                     Fish and other nonfarm animals    4      46.0   \n",
       "4    1150          Agriculture and forestry support services    5      46.0   \n",
       "..    ...                                                ...  ...       ...   \n",
       "120  8120                      Personal and laundry services  124      39.0   \n",
       "121  8111                  Automotive repair and maintenance  122      38.0   \n",
       "122  811A  Electronic, commercial, and household goods re...  123      38.0   \n",
       "123  813A        Religious, grantmaking, and social advocacy  125      44.0   \n",
       "124  813B  Civic, social, professional and similar organi...  126      44.0   \n",
       "\n",
       "      ratio80  id    wshare        c1        c2        c3  ...  _116  _117  \\\n",
       "0    0.359071   1  0.093501  0.005017  0.023213  0.000000  ...   0.0   0.0   \n",
       "1    0.359071   1  0.055566  0.000000  0.008884  0.000069  ...   0.0   0.0   \n",
       "2    0.359071   1  0.113146  0.000004  0.000000  0.031790  ...   0.0   0.0   \n",
       "3    0.359071   1  0.084673  0.000000  0.000000  0.000000  ...   0.0   0.0   \n",
       "4    0.359071   1  0.485091  0.032276  0.008914  0.051560  ...   0.0   0.0   \n",
       "..        ...  ..       ...       ...       ...       ...  ...   ...   ...   \n",
       "120  0.273007   1  0.266250  0.000000  0.000009  0.000000  ...   0.0   0.0   \n",
       "121  0.239552   1  0.253608  0.000434  0.000428  0.001017  ...   0.0   0.0   \n",
       "122  0.239552   1  0.312425  0.001925  0.001931  0.003297  ...   0.0   0.0   \n",
       "123  0.590352   1  0.663437  0.000000  0.000000  0.000000  ...   0.0   0.0   \n",
       "124  0.590352   1  0.469523  0.000724  0.001051  0.000015  ...   0.0   0.0   \n",
       "\n",
       "     _118  _119  _120     _121      _122      _123      _124      _125  \n",
       "0     0.0   0.0   0.0  0.00000  0.000000  0.000000  0.000000  0.000000  \n",
       "1     0.0   0.0   0.0  0.00000  0.000000  0.000000  0.000000  0.000000  \n",
       "2     0.0   0.0   0.0  0.00000  0.000000  0.000000  0.000000  0.000000  \n",
       "3     0.0   0.0   0.0  0.00000  0.000000  0.000000  0.000000  0.000000  \n",
       "4     0.0   0.0   0.0  0.00000  0.000000  0.000000  0.000000  0.000000  \n",
       "..    ...   ...   ...      ...       ...       ...       ...       ...  \n",
       "120   0.0   0.0   0.0  0.26625  0.000000  0.000000  0.000000  0.000000  \n",
       "121   0.0   0.0   0.0  0.00000  0.253608  0.000000  0.000000  0.000000  \n",
       "122   0.0   0.0   0.0  0.00000  0.000000  0.312425  0.000000  0.000000  \n",
       "123   0.0   0.0   0.0  0.00000  0.000000  0.000000  0.663437  0.000000  \n",
       "124   0.0   0.0   0.0  0.00000  0.000000  0.000000  0.000000  0.469523  \n",
       "\n",
       "[125 rows x 258 columns]"
      ],
      "text/html": "<div>\n<style scoped>\n    .dataframe tbody tr th:only-of-type {\n        vertical-align: middle;\n    }\n\n    .dataframe tbody tr th {\n        vertical-align: top;\n    }\n\n    .dataframe thead th {\n        text-align: right;\n    }\n</style>\n<table border=\"1\" class=\"dataframe\">\n  <thead>\n    <tr style=\"text-align: right;\">\n      <th></th>\n      <th>code</th>\n      <th>industry</th>\n      <th>sic</th>\n      <th>ind_nber</th>\n      <th>ratio80</th>\n      <th>id</th>\n      <th>wshare</th>\n      <th>c1</th>\n      <th>c2</th>\n      <th>c3</th>\n      <th>...</th>\n      <th>_116</th>\n      <th>_117</th>\n      <th>_118</th>\n      <th>_119</th>\n      <th>_120</th>\n      <th>_121</th>\n      <th>_122</th>\n      <th>_123</th>\n      <th>_124</th>\n      <th>_125</th>\n    </tr>\n  </thead>\n  <tbody>\n    <tr>\n      <th>0</th>\n      <td>1110</td>\n      <td>Crop products</td>\n      <td>1</td>\n      <td>1.0</td>\n      <td>0.359071</td>\n      <td>1</td>\n      <td>0.093501</td>\n      <td>0.005017</td>\n      <td>0.023213</td>\n      <td>0.000000</td>\n      <td>...</td>\n      <td>0.0</td>\n      <td>0.0</td>\n      <td>0.0</td>\n      <td>0.0</td>\n      <td>0.0</td>\n      <td>0.00000</td>\n      <td>0.000000</td>\n      <td>0.000000</td>\n      <td>0.000000</td>\n      <td>0.000000</td>\n    </tr>\n    <tr>\n      <th>1</th>\n      <td>1120</td>\n      <td>Animal products</td>\n      <td>2</td>\n      <td>2.0</td>\n      <td>0.359071</td>\n      <td>1</td>\n      <td>0.055566</td>\n      <td>0.000000</td>\n      <td>0.008884</td>\n      <td>0.000069</td>\n      <td>...</td>\n      <td>0.0</td>\n      <td>0.0</td>\n      <td>0.0</td>\n      <td>0.0</td>\n      <td>0.0</td>\n      <td>0.00000</td>\n      <td>0.000000</td>\n      <td>0.000000</td>\n      <td>0.000000</td>\n      <td>0.000000</td>\n    </tr>\n    <tr>\n      <th>2</th>\n      <td>1130</td>\n      <td>Forestry and logging products</td>\n      <td>3</td>\n      <td>46.0</td>\n      <td>0.359071</td>\n      <td>1</td>\n      <td>0.113146</td>\n      <td>0.000004</td>\n      <td>0.000000</td>\n      <td>0.031790</td>\n      <td>...</td>\n      <td>0.0</td>\n      <td>0.0</td>\n      <td>0.0</td>\n      <td>0.0</td>\n      <td>0.0</td>\n      <td>0.00000</td>\n      <td>0.000000</td>\n      <td>0.000000</td>\n      <td>0.000000</td>\n      <td>0.000000</td>\n    </tr>\n    <tr>\n      <th>3</th>\n      <td>1140</td>\n      <td>Fish and other nonfarm animals</td>\n      <td>4</td>\n      <td>46.0</td>\n      <td>0.359071</td>\n      <td>1</td>\n      <td>0.084673</td>\n      <td>0.000000</td>\n      <td>0.000000</td>\n      <td>0.000000</td>\n      <td>...</td>\n      <td>0.0</td>\n      <td>0.0</td>\n      <td>0.0</td>\n      <td>0.0</td>\n      <td>0.0</td>\n      <td>0.00000</td>\n      <td>0.000000</td>\n      <td>0.000000</td>\n      <td>0.000000</td>\n      <td>0.000000</td>\n    </tr>\n    <tr>\n      <th>4</th>\n      <td>1150</td>\n      <td>Agriculture and forestry support services</td>\n      <td>5</td>\n      <td>46.0</td>\n      <td>0.359071</td>\n      <td>1</td>\n      <td>0.485091</td>\n      <td>0.032276</td>\n      <td>0.008914</td>\n      <td>0.051560</td>\n      <td>...</td>\n      <td>0.0</td>\n      <td>0.0</td>\n      <td>0.0</td>\n      <td>0.0</td>\n      <td>0.0</td>\n      <td>0.00000</td>\n      <td>0.000000</td>\n      <td>0.000000</td>\n      <td>0.000000</td>\n      <td>0.000000</td>\n    </tr>\n    <tr>\n      <th>...</th>\n      <td>...</td>\n      <td>...</td>\n      <td>...</td>\n      <td>...</td>\n      <td>...</td>\n      <td>...</td>\n      <td>...</td>\n      <td>...</td>\n      <td>...</td>\n      <td>...</td>\n      <td>...</td>\n      <td>...</td>\n      <td>...</td>\n      <td>...</td>\n      <td>...</td>\n      <td>...</td>\n      <td>...</td>\n      <td>...</td>\n      <td>...</td>\n      <td>...</td>\n      <td>...</td>\n    </tr>\n    <tr>\n      <th>120</th>\n      <td>8120</td>\n      <td>Personal and laundry services</td>\n      <td>124</td>\n      <td>39.0</td>\n      <td>0.273007</td>\n      <td>1</td>\n      <td>0.266250</td>\n      <td>0.000000</td>\n      <td>0.000009</td>\n      <td>0.000000</td>\n      <td>...</td>\n      <td>0.0</td>\n      <td>0.0</td>\n      <td>0.0</td>\n      <td>0.0</td>\n      <td>0.0</td>\n      <td>0.26625</td>\n      <td>0.000000</td>\n      <td>0.000000</td>\n      <td>0.000000</td>\n      <td>0.000000</td>\n    </tr>\n    <tr>\n      <th>121</th>\n      <td>8111</td>\n      <td>Automotive repair and maintenance</td>\n      <td>122</td>\n      <td>38.0</td>\n      <td>0.239552</td>\n      <td>1</td>\n      <td>0.253608</td>\n      <td>0.000434</td>\n      <td>0.000428</td>\n      <td>0.001017</td>\n      <td>...</td>\n      <td>0.0</td>\n      <td>0.0</td>\n      <td>0.0</td>\n      <td>0.0</td>\n      <td>0.0</td>\n      <td>0.00000</td>\n      <td>0.253608</td>\n      <td>0.000000</td>\n      <td>0.000000</td>\n      <td>0.000000</td>\n    </tr>\n    <tr>\n      <th>122</th>\n      <td>811A</td>\n      <td>Electronic, commercial, and household goods re...</td>\n      <td>123</td>\n      <td>38.0</td>\n      <td>0.239552</td>\n      <td>1</td>\n      <td>0.312425</td>\n      <td>0.001925</td>\n      <td>0.001931</td>\n      <td>0.003297</td>\n      <td>...</td>\n      <td>0.0</td>\n      <td>0.0</td>\n      <td>0.0</td>\n      <td>0.0</td>\n      <td>0.0</td>\n      <td>0.00000</td>\n      <td>0.000000</td>\n      <td>0.312425</td>\n      <td>0.000000</td>\n      <td>0.000000</td>\n    </tr>\n    <tr>\n      <th>123</th>\n      <td>813A</td>\n      <td>Religious, grantmaking, and social advocacy</td>\n      <td>125</td>\n      <td>44.0</td>\n      <td>0.590352</td>\n      <td>1</td>\n      <td>0.663437</td>\n      <td>0.000000</td>\n      <td>0.000000</td>\n      <td>0.000000</td>\n      <td>...</td>\n      <td>0.0</td>\n      <td>0.0</td>\n      <td>0.0</td>\n      <td>0.0</td>\n      <td>0.0</td>\n      <td>0.00000</td>\n      <td>0.000000</td>\n      <td>0.000000</td>\n      <td>0.663437</td>\n      <td>0.000000</td>\n    </tr>\n    <tr>\n      <th>124</th>\n      <td>813B</td>\n      <td>Civic, social, professional and similar organi...</td>\n      <td>126</td>\n      <td>44.0</td>\n      <td>0.590352</td>\n      <td>1</td>\n      <td>0.469523</td>\n      <td>0.000724</td>\n      <td>0.001051</td>\n      <td>0.000015</td>\n      <td>...</td>\n      <td>0.0</td>\n      <td>0.0</td>\n      <td>0.0</td>\n      <td>0.0</td>\n      <td>0.0</td>\n      <td>0.00000</td>\n      <td>0.000000</td>\n      <td>0.000000</td>\n      <td>0.000000</td>\n      <td>0.469523</td>\n    </tr>\n  </tbody>\n</table>\n<p>125 rows × 258 columns</p>\n</div>"
     },
     "metadata": {},
     "execution_count": 698
    }
   ],
   "source": [
    "temp3_new_joint = pd.merge(temp3_new, wshare_c, on='sic').rename(columns={'industry_x': 'industry'}).rename(columns={'code_x': 'code'})\n",
    "temp3_new_joint  = temp3_new_joint.drop(['code_y', 'industry_y'], axis=1)\n",
    "temp3_new_joint"
   ]
  },
  {
   "cell_type": "code",
   "execution_count": 730,
   "metadata": {},
   "outputs": [
    {
     "output_type": "execute_result",
     "data": {
      "text/plain": [
       "0      0.098519\n",
       "1      0.000000\n",
       "2      0.000004\n",
       "3      0.000000\n",
       "4      0.032276\n",
       "         ...   \n",
       "120    0.000000\n",
       "121    0.000434\n",
       "122    0.001925\n",
       "123    0.000000\n",
       "124    0.000724\n",
       "Length: 125, dtype: float64"
      ]
     },
     "metadata": {},
     "execution_count": 730
    }
   ],
   "source": [
    "temp3_new_joint['c1']+temp3_new_joint['_1']"
   ]
  },
  {
   "cell_type": "code",
   "execution_count": 731,
   "metadata": {},
   "outputs": [
    {
     "output_type": "execute_result",
     "data": {
      "text/plain": [
       "           c1        c2        c3        c4        c5            c6        c7  \\\n",
       "0    0.005017  0.023213  0.000000  0.000000  0.005024  4.084158e-07  0.000000   \n",
       "1    0.000000  0.008884  0.000069  0.000000  0.005204  0.000000e+00  0.000000   \n",
       "2    0.000004  0.000000  0.031790  0.000000  0.000227  0.000000e+00  0.000069   \n",
       "3    0.000000  0.000000  0.000000  0.004511  0.000000  0.000000e+00  0.000000   \n",
       "4    0.032276  0.008914  0.051560  0.063829  0.000000  0.000000e+00  0.000000   \n",
       "..        ...       ...       ...       ...       ...           ...       ...   \n",
       "120  0.000000  0.000009  0.000000  0.000000  0.000345  2.035221e-06  0.000009   \n",
       "121  0.000434  0.000428  0.001017  0.000000  0.000008  3.295590e-05  0.000018   \n",
       "122  0.001925  0.001931  0.003297  0.000108  0.000013  1.989014e-04  0.000247   \n",
       "123  0.000000  0.000000  0.000000  0.000000  0.000000  0.000000e+00  0.000000   \n",
       "124  0.000724  0.001051  0.000015  0.000000  0.000011  4.517066e-04  0.000385   \n",
       "\n",
       "           c8        c9       c10  ...      c117      c118      c119  \\\n",
       "0    0.000000  0.000000  0.000000  ...  0.000122  0.000018  0.000223   \n",
       "1    0.000000  0.000000  0.000000  ...  0.000002  0.000036  0.000062   \n",
       "2    0.000000  0.000000  0.000000  ...  0.000000  0.000004  0.000000   \n",
       "3    0.000000  0.000000  0.000000  ...  0.000002  0.000003  0.000080   \n",
       "4    0.000000  0.000000  0.000000  ...  0.000000  0.000000  0.000000   \n",
       "..        ...       ...       ...  ...       ...       ...       ...   \n",
       "120  0.000000  0.000000  0.000003  ...  0.000646  0.000983  0.001365   \n",
       "121  0.000049  0.000035  0.000144  ...  0.000292  0.000341  0.000606   \n",
       "122  0.000055  0.000315  0.000944  ...  0.000837  0.000622  0.002149   \n",
       "123  0.000000  0.000000  0.000000  ...  0.000000  0.000000  0.000000   \n",
       "124  0.000391  0.000377  0.000352  ...  0.000381  0.000596  0.000215   \n",
       "\n",
       "         c120      c121          c122      c123      c124      c125      c126  \n",
       "0    0.000143  0.000874  4.404308e-07  0.000000  0.000000  0.000010  0.000081  \n",
       "1    0.000015  0.000260  0.000000e+00  0.000000  0.000049  0.000000  0.000004  \n",
       "2    0.000000  0.000000  0.000000e+00  0.000000  0.000056  0.000000  0.000000  \n",
       "3    0.000124  0.000840  0.000000e+00  0.000000  0.000000  0.000000  0.000045  \n",
       "4    0.000000  0.000000  0.000000e+00  0.000000  0.000000  0.000000  0.000000  \n",
       "..        ...       ...           ...       ...       ...       ...       ...  \n",
       "120  0.001866  0.000491  1.792490e-03  0.000388  0.003420  0.000141  0.000370  \n",
       "121  0.000282  0.000369  2.619154e-04  0.000328  0.000384  0.000100  0.000393  \n",
       "122  0.001039  0.001275  9.422239e-04  0.001275  0.001356  0.000263  0.001113  \n",
       "123  0.000000  0.000000  0.000000e+00  0.000000  0.000000  0.000000  0.000000  \n",
       "124  0.000256  0.000199  6.424832e-04  0.000647  0.000993  0.000406  0.001236  \n",
       "\n",
       "[125 rows x 126 columns]"
      ],
      "text/html": "<div>\n<style scoped>\n    .dataframe tbody tr th:only-of-type {\n        vertical-align: middle;\n    }\n\n    .dataframe tbody tr th {\n        vertical-align: top;\n    }\n\n    .dataframe thead th {\n        text-align: right;\n    }\n</style>\n<table border=\"1\" class=\"dataframe\">\n  <thead>\n    <tr style=\"text-align: right;\">\n      <th></th>\n      <th>c1</th>\n      <th>c2</th>\n      <th>c3</th>\n      <th>c4</th>\n      <th>c5</th>\n      <th>c6</th>\n      <th>c7</th>\n      <th>c8</th>\n      <th>c9</th>\n      <th>c10</th>\n      <th>...</th>\n      <th>c117</th>\n      <th>c118</th>\n      <th>c119</th>\n      <th>c120</th>\n      <th>c121</th>\n      <th>c122</th>\n      <th>c123</th>\n      <th>c124</th>\n      <th>c125</th>\n      <th>c126</th>\n    </tr>\n  </thead>\n  <tbody>\n    <tr>\n      <th>0</th>\n      <td>0.005017</td>\n      <td>0.023213</td>\n      <td>0.000000</td>\n      <td>0.000000</td>\n      <td>0.005024</td>\n      <td>4.084158e-07</td>\n      <td>0.000000</td>\n      <td>0.000000</td>\n      <td>0.000000</td>\n      <td>0.000000</td>\n      <td>...</td>\n      <td>0.000122</td>\n      <td>0.000018</td>\n      <td>0.000223</td>\n      <td>0.000143</td>\n      <td>0.000874</td>\n      <td>4.404308e-07</td>\n      <td>0.000000</td>\n      <td>0.000000</td>\n      <td>0.000010</td>\n      <td>0.000081</td>\n    </tr>\n    <tr>\n      <th>1</th>\n      <td>0.000000</td>\n      <td>0.008884</td>\n      <td>0.000069</td>\n      <td>0.000000</td>\n      <td>0.005204</td>\n      <td>0.000000e+00</td>\n      <td>0.000000</td>\n      <td>0.000000</td>\n      <td>0.000000</td>\n      <td>0.000000</td>\n      <td>...</td>\n      <td>0.000002</td>\n      <td>0.000036</td>\n      <td>0.000062</td>\n      <td>0.000015</td>\n      <td>0.000260</td>\n      <td>0.000000e+00</td>\n      <td>0.000000</td>\n      <td>0.000049</td>\n      <td>0.000000</td>\n      <td>0.000004</td>\n    </tr>\n    <tr>\n      <th>2</th>\n      <td>0.000004</td>\n      <td>0.000000</td>\n      <td>0.031790</td>\n      <td>0.000000</td>\n      <td>0.000227</td>\n      <td>0.000000e+00</td>\n      <td>0.000069</td>\n      <td>0.000000</td>\n      <td>0.000000</td>\n      <td>0.000000</td>\n      <td>...</td>\n      <td>0.000000</td>\n      <td>0.000004</td>\n      <td>0.000000</td>\n      <td>0.000000</td>\n      <td>0.000000</td>\n      <td>0.000000e+00</td>\n      <td>0.000000</td>\n      <td>0.000056</td>\n      <td>0.000000</td>\n      <td>0.000000</td>\n    </tr>\n    <tr>\n      <th>3</th>\n      <td>0.000000</td>\n      <td>0.000000</td>\n      <td>0.000000</td>\n      <td>0.004511</td>\n      <td>0.000000</td>\n      <td>0.000000e+00</td>\n      <td>0.000000</td>\n      <td>0.000000</td>\n      <td>0.000000</td>\n      <td>0.000000</td>\n      <td>...</td>\n      <td>0.000002</td>\n      <td>0.000003</td>\n      <td>0.000080</td>\n      <td>0.000124</td>\n      <td>0.000840</td>\n      <td>0.000000e+00</td>\n      <td>0.000000</td>\n      <td>0.000000</td>\n      <td>0.000000</td>\n      <td>0.000045</td>\n    </tr>\n    <tr>\n      <th>4</th>\n      <td>0.032276</td>\n      <td>0.008914</td>\n      <td>0.051560</td>\n      <td>0.063829</td>\n      <td>0.000000</td>\n      <td>0.000000e+00</td>\n      <td>0.000000</td>\n      <td>0.000000</td>\n      <td>0.000000</td>\n      <td>0.000000</td>\n      <td>...</td>\n      <td>0.000000</td>\n      <td>0.000000</td>\n      <td>0.000000</td>\n      <td>0.000000</td>\n      <td>0.000000</td>\n      <td>0.000000e+00</td>\n      <td>0.000000</td>\n      <td>0.000000</td>\n      <td>0.000000</td>\n      <td>0.000000</td>\n    </tr>\n    <tr>\n      <th>...</th>\n      <td>...</td>\n      <td>...</td>\n      <td>...</td>\n      <td>...</td>\n      <td>...</td>\n      <td>...</td>\n      <td>...</td>\n      <td>...</td>\n      <td>...</td>\n      <td>...</td>\n      <td>...</td>\n      <td>...</td>\n      <td>...</td>\n      <td>...</td>\n      <td>...</td>\n      <td>...</td>\n      <td>...</td>\n      <td>...</td>\n      <td>...</td>\n      <td>...</td>\n      <td>...</td>\n    </tr>\n    <tr>\n      <th>120</th>\n      <td>0.000000</td>\n      <td>0.000009</td>\n      <td>0.000000</td>\n      <td>0.000000</td>\n      <td>0.000345</td>\n      <td>2.035221e-06</td>\n      <td>0.000009</td>\n      <td>0.000000</td>\n      <td>0.000000</td>\n      <td>0.000003</td>\n      <td>...</td>\n      <td>0.000646</td>\n      <td>0.000983</td>\n      <td>0.001365</td>\n      <td>0.001866</td>\n      <td>0.000491</td>\n      <td>1.792490e-03</td>\n      <td>0.000388</td>\n      <td>0.003420</td>\n      <td>0.000141</td>\n      <td>0.000370</td>\n    </tr>\n    <tr>\n      <th>121</th>\n      <td>0.000434</td>\n      <td>0.000428</td>\n      <td>0.001017</td>\n      <td>0.000000</td>\n      <td>0.000008</td>\n      <td>3.295590e-05</td>\n      <td>0.000018</td>\n      <td>0.000049</td>\n      <td>0.000035</td>\n      <td>0.000144</td>\n      <td>...</td>\n      <td>0.000292</td>\n      <td>0.000341</td>\n      <td>0.000606</td>\n      <td>0.000282</td>\n      <td>0.000369</td>\n      <td>2.619154e-04</td>\n      <td>0.000328</td>\n      <td>0.000384</td>\n      <td>0.000100</td>\n      <td>0.000393</td>\n    </tr>\n    <tr>\n      <th>122</th>\n      <td>0.001925</td>\n      <td>0.001931</td>\n      <td>0.003297</td>\n      <td>0.000108</td>\n      <td>0.000013</td>\n      <td>1.989014e-04</td>\n      <td>0.000247</td>\n      <td>0.000055</td>\n      <td>0.000315</td>\n      <td>0.000944</td>\n      <td>...</td>\n      <td>0.000837</td>\n      <td>0.000622</td>\n      <td>0.002149</td>\n      <td>0.001039</td>\n      <td>0.001275</td>\n      <td>9.422239e-04</td>\n      <td>0.001275</td>\n      <td>0.001356</td>\n      <td>0.000263</td>\n      <td>0.001113</td>\n    </tr>\n    <tr>\n      <th>123</th>\n      <td>0.000000</td>\n      <td>0.000000</td>\n      <td>0.000000</td>\n      <td>0.000000</td>\n      <td>0.000000</td>\n      <td>0.000000e+00</td>\n      <td>0.000000</td>\n      <td>0.000000</td>\n      <td>0.000000</td>\n      <td>0.000000</td>\n      <td>...</td>\n      <td>0.000000</td>\n      <td>0.000000</td>\n      <td>0.000000</td>\n      <td>0.000000</td>\n      <td>0.000000</td>\n      <td>0.000000e+00</td>\n      <td>0.000000</td>\n      <td>0.000000</td>\n      <td>0.000000</td>\n      <td>0.000000</td>\n    </tr>\n    <tr>\n      <th>124</th>\n      <td>0.000724</td>\n      <td>0.001051</td>\n      <td>0.000015</td>\n      <td>0.000000</td>\n      <td>0.000011</td>\n      <td>4.517066e-04</td>\n      <td>0.000385</td>\n      <td>0.000391</td>\n      <td>0.000377</td>\n      <td>0.000352</td>\n      <td>...</td>\n      <td>0.000381</td>\n      <td>0.000596</td>\n      <td>0.000215</td>\n      <td>0.000256</td>\n      <td>0.000199</td>\n      <td>6.424832e-04</td>\n      <td>0.000647</td>\n      <td>0.000993</td>\n      <td>0.000406</td>\n      <td>0.001236</td>\n    </tr>\n  </tbody>\n</table>\n<p>125 rows × 126 columns</p>\n</div>"
     },
     "metadata": {},
     "execution_count": 731
    }
   ],
   "source": [
    "a = temp3_new_joint.loc[:, 'c1':'c126']\n",
    "a\n"
   ]
  },
  {
   "cell_type": "code",
   "execution_count": 732,
   "metadata": {},
   "outputs": [
    {
     "output_type": "execute_result",
     "data": {
      "text/plain": [
       "           _1        _2        _3        _4        _5   _6   _7   _8   _9  \\\n",
       "0    0.093501  0.000000  0.000000  0.000000  0.000000  0.0  0.0  0.0  0.0   \n",
       "1    0.000000  0.055566  0.000000  0.000000  0.000000  0.0  0.0  0.0  0.0   \n",
       "2    0.000000  0.000000  0.113146  0.000000  0.000000  0.0  0.0  0.0  0.0   \n",
       "3    0.000000  0.000000  0.000000  0.084673  0.000000  0.0  0.0  0.0  0.0   \n",
       "4    0.000000  0.000000  0.000000  0.000000  0.485091  0.0  0.0  0.0  0.0   \n",
       "..        ...       ...       ...       ...       ...  ...  ...  ...  ...   \n",
       "120  0.000000  0.000000  0.000000  0.000000  0.000000  0.0  0.0  0.0  0.0   \n",
       "121  0.000000  0.000000  0.000000  0.000000  0.000000  0.0  0.0  0.0  0.0   \n",
       "122  0.000000  0.000000  0.000000  0.000000  0.000000  0.0  0.0  0.0  0.0   \n",
       "123  0.000000  0.000000  0.000000  0.000000  0.000000  0.0  0.0  0.0  0.0   \n",
       "124  0.000000  0.000000  0.000000  0.000000  0.000000  0.0  0.0  0.0  0.0   \n",
       "\n",
       "     _10  ...  _116  _117  _118  _119  _120     _121      _122      _123  \\\n",
       "0    0.0  ...   0.0   0.0   0.0   0.0   0.0  0.00000  0.000000  0.000000   \n",
       "1    0.0  ...   0.0   0.0   0.0   0.0   0.0  0.00000  0.000000  0.000000   \n",
       "2    0.0  ...   0.0   0.0   0.0   0.0   0.0  0.00000  0.000000  0.000000   \n",
       "3    0.0  ...   0.0   0.0   0.0   0.0   0.0  0.00000  0.000000  0.000000   \n",
       "4    0.0  ...   0.0   0.0   0.0   0.0   0.0  0.00000  0.000000  0.000000   \n",
       "..   ...  ...   ...   ...   ...   ...   ...      ...       ...       ...   \n",
       "120  0.0  ...   0.0   0.0   0.0   0.0   0.0  0.26625  0.000000  0.000000   \n",
       "121  0.0  ...   0.0   0.0   0.0   0.0   0.0  0.00000  0.253608  0.000000   \n",
       "122  0.0  ...   0.0   0.0   0.0   0.0   0.0  0.00000  0.000000  0.312425   \n",
       "123  0.0  ...   0.0   0.0   0.0   0.0   0.0  0.00000  0.000000  0.000000   \n",
       "124  0.0  ...   0.0   0.0   0.0   0.0   0.0  0.00000  0.000000  0.000000   \n",
       "\n",
       "         _124      _125  \n",
       "0    0.000000  0.000000  \n",
       "1    0.000000  0.000000  \n",
       "2    0.000000  0.000000  \n",
       "3    0.000000  0.000000  \n",
       "4    0.000000  0.000000  \n",
       "..        ...       ...  \n",
       "120  0.000000  0.000000  \n",
       "121  0.000000  0.000000  \n",
       "122  0.000000  0.000000  \n",
       "123  0.663437  0.000000  \n",
       "124  0.000000  0.469523  \n",
       "\n",
       "[125 rows x 125 columns]"
      ],
      "text/html": "<div>\n<style scoped>\n    .dataframe tbody tr th:only-of-type {\n        vertical-align: middle;\n    }\n\n    .dataframe tbody tr th {\n        vertical-align: top;\n    }\n\n    .dataframe thead th {\n        text-align: right;\n    }\n</style>\n<table border=\"1\" class=\"dataframe\">\n  <thead>\n    <tr style=\"text-align: right;\">\n      <th></th>\n      <th>_1</th>\n      <th>_2</th>\n      <th>_3</th>\n      <th>_4</th>\n      <th>_5</th>\n      <th>_6</th>\n      <th>_7</th>\n      <th>_8</th>\n      <th>_9</th>\n      <th>_10</th>\n      <th>...</th>\n      <th>_116</th>\n      <th>_117</th>\n      <th>_118</th>\n      <th>_119</th>\n      <th>_120</th>\n      <th>_121</th>\n      <th>_122</th>\n      <th>_123</th>\n      <th>_124</th>\n      <th>_125</th>\n    </tr>\n  </thead>\n  <tbody>\n    <tr>\n      <th>0</th>\n      <td>0.093501</td>\n      <td>0.000000</td>\n      <td>0.000000</td>\n      <td>0.000000</td>\n      <td>0.000000</td>\n      <td>0.0</td>\n      <td>0.0</td>\n      <td>0.0</td>\n      <td>0.0</td>\n      <td>0.0</td>\n      <td>...</td>\n      <td>0.0</td>\n      <td>0.0</td>\n      <td>0.0</td>\n      <td>0.0</td>\n      <td>0.0</td>\n      <td>0.00000</td>\n      <td>0.000000</td>\n      <td>0.000000</td>\n      <td>0.000000</td>\n      <td>0.000000</td>\n    </tr>\n    <tr>\n      <th>1</th>\n      <td>0.000000</td>\n      <td>0.055566</td>\n      <td>0.000000</td>\n      <td>0.000000</td>\n      <td>0.000000</td>\n      <td>0.0</td>\n      <td>0.0</td>\n      <td>0.0</td>\n      <td>0.0</td>\n      <td>0.0</td>\n      <td>...</td>\n      <td>0.0</td>\n      <td>0.0</td>\n      <td>0.0</td>\n      <td>0.0</td>\n      <td>0.0</td>\n      <td>0.00000</td>\n      <td>0.000000</td>\n      <td>0.000000</td>\n      <td>0.000000</td>\n      <td>0.000000</td>\n    </tr>\n    <tr>\n      <th>2</th>\n      <td>0.000000</td>\n      <td>0.000000</td>\n      <td>0.113146</td>\n      <td>0.000000</td>\n      <td>0.000000</td>\n      <td>0.0</td>\n      <td>0.0</td>\n      <td>0.0</td>\n      <td>0.0</td>\n      <td>0.0</td>\n      <td>...</td>\n      <td>0.0</td>\n      <td>0.0</td>\n      <td>0.0</td>\n      <td>0.0</td>\n      <td>0.0</td>\n      <td>0.00000</td>\n      <td>0.000000</td>\n      <td>0.000000</td>\n      <td>0.000000</td>\n      <td>0.000000</td>\n    </tr>\n    <tr>\n      <th>3</th>\n      <td>0.000000</td>\n      <td>0.000000</td>\n      <td>0.000000</td>\n      <td>0.084673</td>\n      <td>0.000000</td>\n      <td>0.0</td>\n      <td>0.0</td>\n      <td>0.0</td>\n      <td>0.0</td>\n      <td>0.0</td>\n      <td>...</td>\n      <td>0.0</td>\n      <td>0.0</td>\n      <td>0.0</td>\n      <td>0.0</td>\n      <td>0.0</td>\n      <td>0.00000</td>\n      <td>0.000000</td>\n      <td>0.000000</td>\n      <td>0.000000</td>\n      <td>0.000000</td>\n    </tr>\n    <tr>\n      <th>4</th>\n      <td>0.000000</td>\n      <td>0.000000</td>\n      <td>0.000000</td>\n      <td>0.000000</td>\n      <td>0.485091</td>\n      <td>0.0</td>\n      <td>0.0</td>\n      <td>0.0</td>\n      <td>0.0</td>\n      <td>0.0</td>\n      <td>...</td>\n      <td>0.0</td>\n      <td>0.0</td>\n      <td>0.0</td>\n      <td>0.0</td>\n      <td>0.0</td>\n      <td>0.00000</td>\n      <td>0.000000</td>\n      <td>0.000000</td>\n      <td>0.000000</td>\n      <td>0.000000</td>\n    </tr>\n    <tr>\n      <th>...</th>\n      <td>...</td>\n      <td>...</td>\n      <td>...</td>\n      <td>...</td>\n      <td>...</td>\n      <td>...</td>\n      <td>...</td>\n      <td>...</td>\n      <td>...</td>\n      <td>...</td>\n      <td>...</td>\n      <td>...</td>\n      <td>...</td>\n      <td>...</td>\n      <td>...</td>\n      <td>...</td>\n      <td>...</td>\n      <td>...</td>\n      <td>...</td>\n      <td>...</td>\n      <td>...</td>\n    </tr>\n    <tr>\n      <th>120</th>\n      <td>0.000000</td>\n      <td>0.000000</td>\n      <td>0.000000</td>\n      <td>0.000000</td>\n      <td>0.000000</td>\n      <td>0.0</td>\n      <td>0.0</td>\n      <td>0.0</td>\n      <td>0.0</td>\n      <td>0.0</td>\n      <td>...</td>\n      <td>0.0</td>\n      <td>0.0</td>\n      <td>0.0</td>\n      <td>0.0</td>\n      <td>0.0</td>\n      <td>0.26625</td>\n      <td>0.000000</td>\n      <td>0.000000</td>\n      <td>0.000000</td>\n      <td>0.000000</td>\n    </tr>\n    <tr>\n      <th>121</th>\n      <td>0.000000</td>\n      <td>0.000000</td>\n      <td>0.000000</td>\n      <td>0.000000</td>\n      <td>0.000000</td>\n      <td>0.0</td>\n      <td>0.0</td>\n      <td>0.0</td>\n      <td>0.0</td>\n      <td>0.0</td>\n      <td>...</td>\n      <td>0.0</td>\n      <td>0.0</td>\n      <td>0.0</td>\n      <td>0.0</td>\n      <td>0.0</td>\n      <td>0.00000</td>\n      <td>0.253608</td>\n      <td>0.000000</td>\n      <td>0.000000</td>\n      <td>0.000000</td>\n    </tr>\n    <tr>\n      <th>122</th>\n      <td>0.000000</td>\n      <td>0.000000</td>\n      <td>0.000000</td>\n      <td>0.000000</td>\n      <td>0.000000</td>\n      <td>0.0</td>\n      <td>0.0</td>\n      <td>0.0</td>\n      <td>0.0</td>\n      <td>0.0</td>\n      <td>...</td>\n      <td>0.0</td>\n      <td>0.0</td>\n      <td>0.0</td>\n      <td>0.0</td>\n      <td>0.0</td>\n      <td>0.00000</td>\n      <td>0.000000</td>\n      <td>0.312425</td>\n      <td>0.000000</td>\n      <td>0.000000</td>\n    </tr>\n    <tr>\n      <th>123</th>\n      <td>0.000000</td>\n      <td>0.000000</td>\n      <td>0.000000</td>\n      <td>0.000000</td>\n      <td>0.000000</td>\n      <td>0.0</td>\n      <td>0.0</td>\n      <td>0.0</td>\n      <td>0.0</td>\n      <td>0.0</td>\n      <td>...</td>\n      <td>0.0</td>\n      <td>0.0</td>\n      <td>0.0</td>\n      <td>0.0</td>\n      <td>0.0</td>\n      <td>0.00000</td>\n      <td>0.000000</td>\n      <td>0.000000</td>\n      <td>0.663437</td>\n      <td>0.000000</td>\n    </tr>\n    <tr>\n      <th>124</th>\n      <td>0.000000</td>\n      <td>0.000000</td>\n      <td>0.000000</td>\n      <td>0.000000</td>\n      <td>0.000000</td>\n      <td>0.0</td>\n      <td>0.0</td>\n      <td>0.0</td>\n      <td>0.0</td>\n      <td>0.0</td>\n      <td>...</td>\n      <td>0.0</td>\n      <td>0.0</td>\n      <td>0.0</td>\n      <td>0.0</td>\n      <td>0.0</td>\n      <td>0.00000</td>\n      <td>0.000000</td>\n      <td>0.000000</td>\n      <td>0.000000</td>\n      <td>0.469523</td>\n    </tr>\n  </tbody>\n</table>\n<p>125 rows × 125 columns</p>\n</div>"
     },
     "metadata": {},
     "execution_count": 732
    }
   ],
   "source": [
    "b = temp3_new_joint.loc[:, '_1':'_125']\n",
    "b"
   ]
  },
  {
   "cell_type": "code",
   "execution_count": 737,
   "metadata": {},
   "outputs": [
    {
     "output_type": "execute_result",
     "data": {
      "text/plain": [
       "     _1  _10  _100  _101  _102  _103  _104  _105  _106  _107  ...  c90  c91  \\\n",
       "0   NaN  NaN   NaN   NaN   NaN   NaN   NaN   NaN   NaN   NaN  ...  NaN  NaN   \n",
       "1   NaN  NaN   NaN   NaN   NaN   NaN   NaN   NaN   NaN   NaN  ...  NaN  NaN   \n",
       "2   NaN  NaN   NaN   NaN   NaN   NaN   NaN   NaN   NaN   NaN  ...  NaN  NaN   \n",
       "3   NaN  NaN   NaN   NaN   NaN   NaN   NaN   NaN   NaN   NaN  ...  NaN  NaN   \n",
       "4   NaN  NaN   NaN   NaN   NaN   NaN   NaN   NaN   NaN   NaN  ...  NaN  NaN   \n",
       "..   ..  ...   ...   ...   ...   ...   ...   ...   ...   ...  ...  ...  ...   \n",
       "120 NaN  NaN   NaN   NaN   NaN   NaN   NaN   NaN   NaN   NaN  ...  NaN  NaN   \n",
       "121 NaN  NaN   NaN   NaN   NaN   NaN   NaN   NaN   NaN   NaN  ...  NaN  NaN   \n",
       "122 NaN  NaN   NaN   NaN   NaN   NaN   NaN   NaN   NaN   NaN  ...  NaN  NaN   \n",
       "123 NaN  NaN   NaN   NaN   NaN   NaN   NaN   NaN   NaN   NaN  ...  NaN  NaN   \n",
       "124 NaN  NaN   NaN   NaN   NaN   NaN   NaN   NaN   NaN   NaN  ...  NaN  NaN   \n",
       "\n",
       "     c92  c93  c94  c95  c96  c97  c98  c99  \n",
       "0    NaN  NaN  NaN  NaN  NaN  NaN  NaN  NaN  \n",
       "1    NaN  NaN  NaN  NaN  NaN  NaN  NaN  NaN  \n",
       "2    NaN  NaN  NaN  NaN  NaN  NaN  NaN  NaN  \n",
       "3    NaN  NaN  NaN  NaN  NaN  NaN  NaN  NaN  \n",
       "4    NaN  NaN  NaN  NaN  NaN  NaN  NaN  NaN  \n",
       "..   ...  ...  ...  ...  ...  ...  ...  ...  \n",
       "120  NaN  NaN  NaN  NaN  NaN  NaN  NaN  NaN  \n",
       "121  NaN  NaN  NaN  NaN  NaN  NaN  NaN  NaN  \n",
       "122  NaN  NaN  NaN  NaN  NaN  NaN  NaN  NaN  \n",
       "123  NaN  NaN  NaN  NaN  NaN  NaN  NaN  NaN  \n",
       "124  NaN  NaN  NaN  NaN  NaN  NaN  NaN  NaN  \n",
       "\n",
       "[125 rows x 251 columns]"
      ],
      "text/html": "<div>\n<style scoped>\n    .dataframe tbody tr th:only-of-type {\n        vertical-align: middle;\n    }\n\n    .dataframe tbody tr th {\n        vertical-align: top;\n    }\n\n    .dataframe thead th {\n        text-align: right;\n    }\n</style>\n<table border=\"1\" class=\"dataframe\">\n  <thead>\n    <tr style=\"text-align: right;\">\n      <th></th>\n      <th>_1</th>\n      <th>_10</th>\n      <th>_100</th>\n      <th>_101</th>\n      <th>_102</th>\n      <th>_103</th>\n      <th>_104</th>\n      <th>_105</th>\n      <th>_106</th>\n      <th>_107</th>\n      <th>...</th>\n      <th>c90</th>\n      <th>c91</th>\n      <th>c92</th>\n      <th>c93</th>\n      <th>c94</th>\n      <th>c95</th>\n      <th>c96</th>\n      <th>c97</th>\n      <th>c98</th>\n      <th>c99</th>\n    </tr>\n  </thead>\n  <tbody>\n    <tr>\n      <th>0</th>\n      <td>NaN</td>\n      <td>NaN</td>\n      <td>NaN</td>\n      <td>NaN</td>\n      <td>NaN</td>\n      <td>NaN</td>\n      <td>NaN</td>\n      <td>NaN</td>\n      <td>NaN</td>\n      <td>NaN</td>\n      <td>...</td>\n      <td>NaN</td>\n      <td>NaN</td>\n      <td>NaN</td>\n      <td>NaN</td>\n      <td>NaN</td>\n      <td>NaN</td>\n      <td>NaN</td>\n      <td>NaN</td>\n      <td>NaN</td>\n      <td>NaN</td>\n    </tr>\n    <tr>\n      <th>1</th>\n      <td>NaN</td>\n      <td>NaN</td>\n      <td>NaN</td>\n      <td>NaN</td>\n      <td>NaN</td>\n      <td>NaN</td>\n      <td>NaN</td>\n      <td>NaN</td>\n      <td>NaN</td>\n      <td>NaN</td>\n      <td>...</td>\n      <td>NaN</td>\n      <td>NaN</td>\n      <td>NaN</td>\n      <td>NaN</td>\n      <td>NaN</td>\n      <td>NaN</td>\n      <td>NaN</td>\n      <td>NaN</td>\n      <td>NaN</td>\n      <td>NaN</td>\n    </tr>\n    <tr>\n      <th>2</th>\n      <td>NaN</td>\n      <td>NaN</td>\n      <td>NaN</td>\n      <td>NaN</td>\n      <td>NaN</td>\n      <td>NaN</td>\n      <td>NaN</td>\n      <td>NaN</td>\n      <td>NaN</td>\n      <td>NaN</td>\n      <td>...</td>\n      <td>NaN</td>\n      <td>NaN</td>\n      <td>NaN</td>\n      <td>NaN</td>\n      <td>NaN</td>\n      <td>NaN</td>\n      <td>NaN</td>\n      <td>NaN</td>\n      <td>NaN</td>\n      <td>NaN</td>\n    </tr>\n    <tr>\n      <th>3</th>\n      <td>NaN</td>\n      <td>NaN</td>\n      <td>NaN</td>\n      <td>NaN</td>\n      <td>NaN</td>\n      <td>NaN</td>\n      <td>NaN</td>\n      <td>NaN</td>\n      <td>NaN</td>\n      <td>NaN</td>\n      <td>...</td>\n      <td>NaN</td>\n      <td>NaN</td>\n      <td>NaN</td>\n      <td>NaN</td>\n      <td>NaN</td>\n      <td>NaN</td>\n      <td>NaN</td>\n      <td>NaN</td>\n      <td>NaN</td>\n      <td>NaN</td>\n    </tr>\n    <tr>\n      <th>4</th>\n      <td>NaN</td>\n      <td>NaN</td>\n      <td>NaN</td>\n      <td>NaN</td>\n      <td>NaN</td>\n      <td>NaN</td>\n      <td>NaN</td>\n      <td>NaN</td>\n      <td>NaN</td>\n      <td>NaN</td>\n      <td>...</td>\n      <td>NaN</td>\n      <td>NaN</td>\n      <td>NaN</td>\n      <td>NaN</td>\n      <td>NaN</td>\n      <td>NaN</td>\n      <td>NaN</td>\n      <td>NaN</td>\n      <td>NaN</td>\n      <td>NaN</td>\n    </tr>\n    <tr>\n      <th>...</th>\n      <td>...</td>\n      <td>...</td>\n      <td>...</td>\n      <td>...</td>\n      <td>...</td>\n      <td>...</td>\n      <td>...</td>\n      <td>...</td>\n      <td>...</td>\n      <td>...</td>\n      <td>...</td>\n      <td>...</td>\n      <td>...</td>\n      <td>...</td>\n      <td>...</td>\n      <td>...</td>\n      <td>...</td>\n      <td>...</td>\n      <td>...</td>\n      <td>...</td>\n      <td>...</td>\n    </tr>\n    <tr>\n      <th>120</th>\n      <td>NaN</td>\n      <td>NaN</td>\n      <td>NaN</td>\n      <td>NaN</td>\n      <td>NaN</td>\n      <td>NaN</td>\n      <td>NaN</td>\n      <td>NaN</td>\n      <td>NaN</td>\n      <td>NaN</td>\n      <td>...</td>\n      <td>NaN</td>\n      <td>NaN</td>\n      <td>NaN</td>\n      <td>NaN</td>\n      <td>NaN</td>\n      <td>NaN</td>\n      <td>NaN</td>\n      <td>NaN</td>\n      <td>NaN</td>\n      <td>NaN</td>\n    </tr>\n    <tr>\n      <th>121</th>\n      <td>NaN</td>\n      <td>NaN</td>\n      <td>NaN</td>\n      <td>NaN</td>\n      <td>NaN</td>\n      <td>NaN</td>\n      <td>NaN</td>\n      <td>NaN</td>\n      <td>NaN</td>\n      <td>NaN</td>\n      <td>...</td>\n      <td>NaN</td>\n      <td>NaN</td>\n      <td>NaN</td>\n      <td>NaN</td>\n      <td>NaN</td>\n      <td>NaN</td>\n      <td>NaN</td>\n      <td>NaN</td>\n      <td>NaN</td>\n      <td>NaN</td>\n    </tr>\n    <tr>\n      <th>122</th>\n      <td>NaN</td>\n      <td>NaN</td>\n      <td>NaN</td>\n      <td>NaN</td>\n      <td>NaN</td>\n      <td>NaN</td>\n      <td>NaN</td>\n      <td>NaN</td>\n      <td>NaN</td>\n      <td>NaN</td>\n      <td>...</td>\n      <td>NaN</td>\n      <td>NaN</td>\n      <td>NaN</td>\n      <td>NaN</td>\n      <td>NaN</td>\n      <td>NaN</td>\n      <td>NaN</td>\n      <td>NaN</td>\n      <td>NaN</td>\n      <td>NaN</td>\n    </tr>\n    <tr>\n      <th>123</th>\n      <td>NaN</td>\n      <td>NaN</td>\n      <td>NaN</td>\n      <td>NaN</td>\n      <td>NaN</td>\n      <td>NaN</td>\n      <td>NaN</td>\n      <td>NaN</td>\n      <td>NaN</td>\n      <td>NaN</td>\n      <td>...</td>\n      <td>NaN</td>\n      <td>NaN</td>\n      <td>NaN</td>\n      <td>NaN</td>\n      <td>NaN</td>\n      <td>NaN</td>\n      <td>NaN</td>\n      <td>NaN</td>\n      <td>NaN</td>\n      <td>NaN</td>\n    </tr>\n    <tr>\n      <th>124</th>\n      <td>NaN</td>\n      <td>NaN</td>\n      <td>NaN</td>\n      <td>NaN</td>\n      <td>NaN</td>\n      <td>NaN</td>\n      <td>NaN</td>\n      <td>NaN</td>\n      <td>NaN</td>\n      <td>NaN</td>\n      <td>...</td>\n      <td>NaN</td>\n      <td>NaN</td>\n      <td>NaN</td>\n      <td>NaN</td>\n      <td>NaN</td>\n      <td>NaN</td>\n      <td>NaN</td>\n      <td>NaN</td>\n      <td>NaN</td>\n      <td>NaN</td>\n    </tr>\n  </tbody>\n</table>\n<p>125 rows × 251 columns</p>\n</div>"
     },
     "metadata": {},
     "execution_count": 737
    }
   ],
   "source": [
    "a+b"
   ]
  },
  {
   "cell_type": "code",
   "execution_count": 33,
   "metadata": {},
   "outputs": [
    {
     "output_type": "error",
     "ename": "NameError",
     "evalue": "name 'temp3_new_joint' is not defined",
     "traceback": [
      "\u001b[1;31m---------------------------------------------------------------------------\u001b[0m",
      "\u001b[1;31mNameError\u001b[0m                                 Traceback (most recent call last)",
      "\u001b[1;32m<ipython-input-33-5263084e07be>\u001b[0m in \u001b[0;36m<module>\u001b[1;34m\u001b[0m\n\u001b[1;32m----> 1\u001b[1;33m \u001b[0mtemp3_new_joint\u001b[0m\u001b[1;33m.\u001b[0m\u001b[0mloc\u001b[0m\u001b[1;33m[\u001b[0m\u001b[1;33m:\u001b[0m\u001b[1;33m,\u001b[0m \u001b[1;34m'c1'\u001b[0m\u001b[1;33m:\u001b[0m\u001b[1;34m'c126'\u001b[0m\u001b[1;33m]\u001b[0m\u001b[1;33m.\u001b[0m\u001b[0madd\u001b[0m\u001b[1;33m(\u001b[0m\u001b[0mtemp3_new_joint\u001b[0m\u001b[1;33m.\u001b[0m\u001b[0mloc\u001b[0m\u001b[1;33m[\u001b[0m\u001b[1;33m:\u001b[0m\u001b[1;33m,\u001b[0m \u001b[1;34m'_1'\u001b[0m\u001b[1;33m:\u001b[0m\u001b[1;34m'_125'\u001b[0m\u001b[1;33m]\u001b[0m\u001b[1;33m,\u001b[0m\u001b[0maxis\u001b[0m \u001b[1;33m=\u001b[0m \u001b[1;36m0\u001b[0m\u001b[1;33m)\u001b[0m\u001b[1;33m\u001b[0m\u001b[1;33m\u001b[0m\u001b[0m\n\u001b[0m",
      "\u001b[1;31mNameError\u001b[0m: name 'temp3_new_joint' is not defined"
     ]
    }
   ],
   "source": [
    "temp3_new_joint.loc[:, 'c1':'c126'].add(temp3_new_joint.loc[:, '_1':'_125'],axis = 0)"
   ]
  },
  {
   "cell_type": "code",
   "execution_count": 714,
   "metadata": {},
   "outputs": [
    {
     "output_type": "execute_result",
     "data": {
      "text/plain": [
       "     _1  _10  _100  _101  _102  _103  _104  _105  _106  _107  ...  c90  c91  \\\n",
       "0   NaN  NaN   NaN   NaN   NaN   NaN   NaN   NaN   NaN   NaN  ...  NaN  NaN   \n",
       "1   NaN  NaN   NaN   NaN   NaN   NaN   NaN   NaN   NaN   NaN  ...  NaN  NaN   \n",
       "2   NaN  NaN   NaN   NaN   NaN   NaN   NaN   NaN   NaN   NaN  ...  NaN  NaN   \n",
       "3   NaN  NaN   NaN   NaN   NaN   NaN   NaN   NaN   NaN   NaN  ...  NaN  NaN   \n",
       "4   NaN  NaN   NaN   NaN   NaN   NaN   NaN   NaN   NaN   NaN  ...  NaN  NaN   \n",
       "..   ..  ...   ...   ...   ...   ...   ...   ...   ...   ...  ...  ...  ...   \n",
       "120 NaN  NaN   NaN   NaN   NaN   NaN   NaN   NaN   NaN   NaN  ...  NaN  NaN   \n",
       "121 NaN  NaN   NaN   NaN   NaN   NaN   NaN   NaN   NaN   NaN  ...  NaN  NaN   \n",
       "122 NaN  NaN   NaN   NaN   NaN   NaN   NaN   NaN   NaN   NaN  ...  NaN  NaN   \n",
       "123 NaN  NaN   NaN   NaN   NaN   NaN   NaN   NaN   NaN   NaN  ...  NaN  NaN   \n",
       "124 NaN  NaN   NaN   NaN   NaN   NaN   NaN   NaN   NaN   NaN  ...  NaN  NaN   \n",
       "\n",
       "     c92  c93  c94  c95  c96  c97  c98  c99  \n",
       "0    NaN  NaN  NaN  NaN  NaN  NaN  NaN  NaN  \n",
       "1    NaN  NaN  NaN  NaN  NaN  NaN  NaN  NaN  \n",
       "2    NaN  NaN  NaN  NaN  NaN  NaN  NaN  NaN  \n",
       "3    NaN  NaN  NaN  NaN  NaN  NaN  NaN  NaN  \n",
       "4    NaN  NaN  NaN  NaN  NaN  NaN  NaN  NaN  \n",
       "..   ...  ...  ...  ...  ...  ...  ...  ...  \n",
       "120  NaN  NaN  NaN  NaN  NaN  NaN  NaN  NaN  \n",
       "121  NaN  NaN  NaN  NaN  NaN  NaN  NaN  NaN  \n",
       "122  NaN  NaN  NaN  NaN  NaN  NaN  NaN  NaN  \n",
       "123  NaN  NaN  NaN  NaN  NaN  NaN  NaN  NaN  \n",
       "124  NaN  NaN  NaN  NaN  NaN  NaN  NaN  NaN  \n",
       "\n",
       "[125 rows x 251 columns]"
      ],
      "text/html": "<div>\n<style scoped>\n    .dataframe tbody tr th:only-of-type {\n        vertical-align: middle;\n    }\n\n    .dataframe tbody tr th {\n        vertical-align: top;\n    }\n\n    .dataframe thead th {\n        text-align: right;\n    }\n</style>\n<table border=\"1\" class=\"dataframe\">\n  <thead>\n    <tr style=\"text-align: right;\">\n      <th></th>\n      <th>_1</th>\n      <th>_10</th>\n      <th>_100</th>\n      <th>_101</th>\n      <th>_102</th>\n      <th>_103</th>\n      <th>_104</th>\n      <th>_105</th>\n      <th>_106</th>\n      <th>_107</th>\n      <th>...</th>\n      <th>c90</th>\n      <th>c91</th>\n      <th>c92</th>\n      <th>c93</th>\n      <th>c94</th>\n      <th>c95</th>\n      <th>c96</th>\n      <th>c97</th>\n      <th>c98</th>\n      <th>c99</th>\n    </tr>\n  </thead>\n  <tbody>\n    <tr>\n      <th>0</th>\n      <td>NaN</td>\n      <td>NaN</td>\n      <td>NaN</td>\n      <td>NaN</td>\n      <td>NaN</td>\n      <td>NaN</td>\n      <td>NaN</td>\n      <td>NaN</td>\n      <td>NaN</td>\n      <td>NaN</td>\n      <td>...</td>\n      <td>NaN</td>\n      <td>NaN</td>\n      <td>NaN</td>\n      <td>NaN</td>\n      <td>NaN</td>\n      <td>NaN</td>\n      <td>NaN</td>\n      <td>NaN</td>\n      <td>NaN</td>\n      <td>NaN</td>\n    </tr>\n    <tr>\n      <th>1</th>\n      <td>NaN</td>\n      <td>NaN</td>\n      <td>NaN</td>\n      <td>NaN</td>\n      <td>NaN</td>\n      <td>NaN</td>\n      <td>NaN</td>\n      <td>NaN</td>\n      <td>NaN</td>\n      <td>NaN</td>\n      <td>...</td>\n      <td>NaN</td>\n      <td>NaN</td>\n      <td>NaN</td>\n      <td>NaN</td>\n      <td>NaN</td>\n      <td>NaN</td>\n      <td>NaN</td>\n      <td>NaN</td>\n      <td>NaN</td>\n      <td>NaN</td>\n    </tr>\n    <tr>\n      <th>2</th>\n      <td>NaN</td>\n      <td>NaN</td>\n      <td>NaN</td>\n      <td>NaN</td>\n      <td>NaN</td>\n      <td>NaN</td>\n      <td>NaN</td>\n      <td>NaN</td>\n      <td>NaN</td>\n      <td>NaN</td>\n      <td>...</td>\n      <td>NaN</td>\n      <td>NaN</td>\n      <td>NaN</td>\n      <td>NaN</td>\n      <td>NaN</td>\n      <td>NaN</td>\n      <td>NaN</td>\n      <td>NaN</td>\n      <td>NaN</td>\n      <td>NaN</td>\n    </tr>\n    <tr>\n      <th>3</th>\n      <td>NaN</td>\n      <td>NaN</td>\n      <td>NaN</td>\n      <td>NaN</td>\n      <td>NaN</td>\n      <td>NaN</td>\n      <td>NaN</td>\n      <td>NaN</td>\n      <td>NaN</td>\n      <td>NaN</td>\n      <td>...</td>\n      <td>NaN</td>\n      <td>NaN</td>\n      <td>NaN</td>\n      <td>NaN</td>\n      <td>NaN</td>\n      <td>NaN</td>\n      <td>NaN</td>\n      <td>NaN</td>\n      <td>NaN</td>\n      <td>NaN</td>\n    </tr>\n    <tr>\n      <th>4</th>\n      <td>NaN</td>\n      <td>NaN</td>\n      <td>NaN</td>\n      <td>NaN</td>\n      <td>NaN</td>\n      <td>NaN</td>\n      <td>NaN</td>\n      <td>NaN</td>\n      <td>NaN</td>\n      <td>NaN</td>\n      <td>...</td>\n      <td>NaN</td>\n      <td>NaN</td>\n      <td>NaN</td>\n      <td>NaN</td>\n      <td>NaN</td>\n      <td>NaN</td>\n      <td>NaN</td>\n      <td>NaN</td>\n      <td>NaN</td>\n      <td>NaN</td>\n    </tr>\n    <tr>\n      <th>...</th>\n      <td>...</td>\n      <td>...</td>\n      <td>...</td>\n      <td>...</td>\n      <td>...</td>\n      <td>...</td>\n      <td>...</td>\n      <td>...</td>\n      <td>...</td>\n      <td>...</td>\n      <td>...</td>\n      <td>...</td>\n      <td>...</td>\n      <td>...</td>\n      <td>...</td>\n      <td>...</td>\n      <td>...</td>\n      <td>...</td>\n      <td>...</td>\n      <td>...</td>\n      <td>...</td>\n    </tr>\n    <tr>\n      <th>120</th>\n      <td>NaN</td>\n      <td>NaN</td>\n      <td>NaN</td>\n      <td>NaN</td>\n      <td>NaN</td>\n      <td>NaN</td>\n      <td>NaN</td>\n      <td>NaN</td>\n      <td>NaN</td>\n      <td>NaN</td>\n      <td>...</td>\n      <td>NaN</td>\n      <td>NaN</td>\n      <td>NaN</td>\n      <td>NaN</td>\n      <td>NaN</td>\n      <td>NaN</td>\n      <td>NaN</td>\n      <td>NaN</td>\n      <td>NaN</td>\n      <td>NaN</td>\n    </tr>\n    <tr>\n      <th>121</th>\n      <td>NaN</td>\n      <td>NaN</td>\n      <td>NaN</td>\n      <td>NaN</td>\n      <td>NaN</td>\n      <td>NaN</td>\n      <td>NaN</td>\n      <td>NaN</td>\n      <td>NaN</td>\n      <td>NaN</td>\n      <td>...</td>\n      <td>NaN</td>\n      <td>NaN</td>\n      <td>NaN</td>\n      <td>NaN</td>\n      <td>NaN</td>\n      <td>NaN</td>\n      <td>NaN</td>\n      <td>NaN</td>\n      <td>NaN</td>\n      <td>NaN</td>\n    </tr>\n    <tr>\n      <th>122</th>\n      <td>NaN</td>\n      <td>NaN</td>\n      <td>NaN</td>\n      <td>NaN</td>\n      <td>NaN</td>\n      <td>NaN</td>\n      <td>NaN</td>\n      <td>NaN</td>\n      <td>NaN</td>\n      <td>NaN</td>\n      <td>...</td>\n      <td>NaN</td>\n      <td>NaN</td>\n      <td>NaN</td>\n      <td>NaN</td>\n      <td>NaN</td>\n      <td>NaN</td>\n      <td>NaN</td>\n      <td>NaN</td>\n      <td>NaN</td>\n      <td>NaN</td>\n    </tr>\n    <tr>\n      <th>123</th>\n      <td>NaN</td>\n      <td>NaN</td>\n      <td>NaN</td>\n      <td>NaN</td>\n      <td>NaN</td>\n      <td>NaN</td>\n      <td>NaN</td>\n      <td>NaN</td>\n      <td>NaN</td>\n      <td>NaN</td>\n      <td>...</td>\n      <td>NaN</td>\n      <td>NaN</td>\n      <td>NaN</td>\n      <td>NaN</td>\n      <td>NaN</td>\n      <td>NaN</td>\n      <td>NaN</td>\n      <td>NaN</td>\n      <td>NaN</td>\n      <td>NaN</td>\n    </tr>\n    <tr>\n      <th>124</th>\n      <td>NaN</td>\n      <td>NaN</td>\n      <td>NaN</td>\n      <td>NaN</td>\n      <td>NaN</td>\n      <td>NaN</td>\n      <td>NaN</td>\n      <td>NaN</td>\n      <td>NaN</td>\n      <td>NaN</td>\n      <td>...</td>\n      <td>NaN</td>\n      <td>NaN</td>\n      <td>NaN</td>\n      <td>NaN</td>\n      <td>NaN</td>\n      <td>NaN</td>\n      <td>NaN</td>\n      <td>NaN</td>\n      <td>NaN</td>\n      <td>NaN</td>\n    </tr>\n  </tbody>\n</table>\n<p>125 rows × 251 columns</p>\n</div>"
     },
     "metadata": {},
     "execution_count": 714
    }
   ],
   "source": [
    "temp3_new_joint.loc[:, 'c1':'c126'] + temp3_new_joint.loc[:, '_1':'_125']"
   ]
  },
  {
   "cell_type": "code",
   "execution_count": null,
   "metadata": {},
   "outputs": [],
   "source": []
  }
 ]
}