{
 "metadata": {
  "language_info": {
   "codemirror_mode": {
    "name": "ipython",
    "version": 3
   },
   "file_extension": ".py",
   "mimetype": "text/x-python",
   "name": "python",
   "nbconvert_exporter": "python",
   "pygments_lexer": "ipython3",
   "version": "3.9.1-final"
  },
  "orig_nbformat": 2,
  "kernelspec": {
   "name": "python3",
   "display_name": "Python 3.9.1 64-bit ('assignment_week_6': conda)",
   "metadata": {
    "interpreter": {
     "hash": "277e614f3395494ac1fddb589b6475a71631fa03c17edbbc76340247346d7bd5"
    }
   }
  }
 },
 "nbformat": 4,
 "nbformat_minor": 2,
 "cells": [
  {
   "cell_type": "code",
   "execution_count": 211,
   "metadata": {},
   "outputs": [],
   "source": [
    "import pandas as pd\n",
    "import numpy as np\n",
    "import operator\n",
    "from pathlib import Path\n",
    "cwd = os.getcwd() # get path of current working directory\n",
    "main_folder = str(Path(cwd).parents[0]) # main folder is the lowest level in project"
   ]
  },
  {
   "cell_type": "code",
   "execution_count": 212,
   "metadata": {},
   "outputs": [
    {
     "output_type": "execute_result",
     "data": {
      "text/plain": [
       "       newid  age  relation  educatio  race  sex  weeksin  emplcont  incoll  \\\n",
       "57681  57811   68         1        24     1    2       52       NaN     3.0   \n",
       "57682  57812   53         1        12     1    1       52       1.0     3.0   \n",
       "57683  57813   37         1        12     1    1       52       1.0     3.0   \n",
       "57684  57814   68         1        22     1    1       52       NaN     3.0   \n",
       "57685  57815   35         1        12     2    2       39       NaN     NaN   \n",
       "...      ...  ...       ...       ...   ...  ...      ...       ...     ...   \n",
       "86104  92654   40         1        44     1    2       13       2.0     2.0   \n",
       "86106  92656   18         1        39     1    1       13       NaN     1.0   \n",
       "86117  92667   34         1        41     1    2       13       2.0     3.0   \n",
       "86135  92685   18         1        40     1    1       13       NaN     1.0   \n",
       "86141  92691   28         1        45     1    1       13       2.0     3.0   \n",
       "\n",
       "       nonwork  ...        cpi1  cpi82    cpi_82       cpi00    cpi_00  \\\n",
       "57681      5.0  ...  148.199997   96.5  1.535751  172.199997  0.860627   \n",
       "57682      NaN  ...  148.199997   96.5  1.535751  172.199997  0.860627   \n",
       "57683      NaN  ...  148.199997   96.5  1.535751  172.199997  0.860627   \n",
       "57684      NaN  ...  148.199997   96.5  1.535751  172.199997  0.860627   \n",
       "57685      NaN  ...  148.199997   96.5  1.535751  172.199997  0.860627   \n",
       "...        ...  ...         ...    ...       ...         ...       ...   \n",
       "86104      NaN  ...  160.500000   96.5  1.663212  172.199997  0.932056   \n",
       "86106      NaN  ...  160.500000   96.5  1.663212  172.199997  0.932056   \n",
       "86117      NaN  ...  160.500000   96.5  1.663212  172.199997  0.932056   \n",
       "86135      3.0  ...  160.500000   96.5  1.663212  172.199997  0.932056   \n",
       "86141      NaN  ...  160.500000   96.5  1.663212  172.199997  0.932056   \n",
       "\n",
       "         cpi1_lag  cpi82_lag  cpi00_lag    cpi_97  ee  \n",
       "57681  144.500000   1.497409   0.839141  0.923364   1  \n",
       "57682  144.500000   1.497409   0.839141  0.923364   0  \n",
       "57683  144.500000   1.497409   0.839141  0.923364   0  \n",
       "57684  144.500000   1.497409   0.839141  0.923364   1  \n",
       "57685  144.500000   1.497409   0.839141  0.923364   0  \n",
       "...           ...        ...        ...       ...  ..  \n",
       "86104  156.899994   1.625907   0.911150  1.000000   1  \n",
       "86106  156.899994   1.625907   0.911150  1.000000   0  \n",
       "86117  156.899994   1.625907   0.911150  1.000000   1  \n",
       "86135  156.899994   1.625907   0.911150  1.000000   1  \n",
       "86141  156.899994   1.625907   0.911150  1.000000   1  \n",
       "\n",
       "[23301 rows x 180 columns]"
      ],
      "text/html": "<div>\n<style scoped>\n    .dataframe tbody tr th:only-of-type {\n        vertical-align: middle;\n    }\n\n    .dataframe tbody tr th {\n        vertical-align: top;\n    }\n\n    .dataframe thead th {\n        text-align: right;\n    }\n</style>\n<table border=\"1\" class=\"dataframe\">\n  <thead>\n    <tr style=\"text-align: right;\">\n      <th></th>\n      <th>newid</th>\n      <th>age</th>\n      <th>relation</th>\n      <th>educatio</th>\n      <th>race</th>\n      <th>sex</th>\n      <th>weeksin</th>\n      <th>emplcont</th>\n      <th>incoll</th>\n      <th>nonwork</th>\n      <th>...</th>\n      <th>cpi1</th>\n      <th>cpi82</th>\n      <th>cpi_82</th>\n      <th>cpi00</th>\n      <th>cpi_00</th>\n      <th>cpi1_lag</th>\n      <th>cpi82_lag</th>\n      <th>cpi00_lag</th>\n      <th>cpi_97</th>\n      <th>ee</th>\n    </tr>\n  </thead>\n  <tbody>\n    <tr>\n      <th>57681</th>\n      <td>57811</td>\n      <td>68</td>\n      <td>1</td>\n      <td>24</td>\n      <td>1</td>\n      <td>2</td>\n      <td>52</td>\n      <td>NaN</td>\n      <td>3.0</td>\n      <td>5.0</td>\n      <td>...</td>\n      <td>148.199997</td>\n      <td>96.5</td>\n      <td>1.535751</td>\n      <td>172.199997</td>\n      <td>0.860627</td>\n      <td>144.500000</td>\n      <td>1.497409</td>\n      <td>0.839141</td>\n      <td>0.923364</td>\n      <td>1</td>\n    </tr>\n    <tr>\n      <th>57682</th>\n      <td>57812</td>\n      <td>53</td>\n      <td>1</td>\n      <td>12</td>\n      <td>1</td>\n      <td>1</td>\n      <td>52</td>\n      <td>1.0</td>\n      <td>3.0</td>\n      <td>NaN</td>\n      <td>...</td>\n      <td>148.199997</td>\n      <td>96.5</td>\n      <td>1.535751</td>\n      <td>172.199997</td>\n      <td>0.860627</td>\n      <td>144.500000</td>\n      <td>1.497409</td>\n      <td>0.839141</td>\n      <td>0.923364</td>\n      <td>0</td>\n    </tr>\n    <tr>\n      <th>57683</th>\n      <td>57813</td>\n      <td>37</td>\n      <td>1</td>\n      <td>12</td>\n      <td>1</td>\n      <td>1</td>\n      <td>52</td>\n      <td>1.0</td>\n      <td>3.0</td>\n      <td>NaN</td>\n      <td>...</td>\n      <td>148.199997</td>\n      <td>96.5</td>\n      <td>1.535751</td>\n      <td>172.199997</td>\n      <td>0.860627</td>\n      <td>144.500000</td>\n      <td>1.497409</td>\n      <td>0.839141</td>\n      <td>0.923364</td>\n      <td>0</td>\n    </tr>\n    <tr>\n      <th>57684</th>\n      <td>57814</td>\n      <td>68</td>\n      <td>1</td>\n      <td>22</td>\n      <td>1</td>\n      <td>1</td>\n      <td>52</td>\n      <td>NaN</td>\n      <td>3.0</td>\n      <td>NaN</td>\n      <td>...</td>\n      <td>148.199997</td>\n      <td>96.5</td>\n      <td>1.535751</td>\n      <td>172.199997</td>\n      <td>0.860627</td>\n      <td>144.500000</td>\n      <td>1.497409</td>\n      <td>0.839141</td>\n      <td>0.923364</td>\n      <td>1</td>\n    </tr>\n    <tr>\n      <th>57685</th>\n      <td>57815</td>\n      <td>35</td>\n      <td>1</td>\n      <td>12</td>\n      <td>2</td>\n      <td>2</td>\n      <td>39</td>\n      <td>NaN</td>\n      <td>NaN</td>\n      <td>NaN</td>\n      <td>...</td>\n      <td>148.199997</td>\n      <td>96.5</td>\n      <td>1.535751</td>\n      <td>172.199997</td>\n      <td>0.860627</td>\n      <td>144.500000</td>\n      <td>1.497409</td>\n      <td>0.839141</td>\n      <td>0.923364</td>\n      <td>0</td>\n    </tr>\n    <tr>\n      <th>...</th>\n      <td>...</td>\n      <td>...</td>\n      <td>...</td>\n      <td>...</td>\n      <td>...</td>\n      <td>...</td>\n      <td>...</td>\n      <td>...</td>\n      <td>...</td>\n      <td>...</td>\n      <td>...</td>\n      <td>...</td>\n      <td>...</td>\n      <td>...</td>\n      <td>...</td>\n      <td>...</td>\n      <td>...</td>\n      <td>...</td>\n      <td>...</td>\n      <td>...</td>\n      <td>...</td>\n    </tr>\n    <tr>\n      <th>86104</th>\n      <td>92654</td>\n      <td>40</td>\n      <td>1</td>\n      <td>44</td>\n      <td>1</td>\n      <td>2</td>\n      <td>13</td>\n      <td>2.0</td>\n      <td>2.0</td>\n      <td>NaN</td>\n      <td>...</td>\n      <td>160.500000</td>\n      <td>96.5</td>\n      <td>1.663212</td>\n      <td>172.199997</td>\n      <td>0.932056</td>\n      <td>156.899994</td>\n      <td>1.625907</td>\n      <td>0.911150</td>\n      <td>1.000000</td>\n      <td>1</td>\n    </tr>\n    <tr>\n      <th>86106</th>\n      <td>92656</td>\n      <td>18</td>\n      <td>1</td>\n      <td>39</td>\n      <td>1</td>\n      <td>1</td>\n      <td>13</td>\n      <td>NaN</td>\n      <td>1.0</td>\n      <td>NaN</td>\n      <td>...</td>\n      <td>160.500000</td>\n      <td>96.5</td>\n      <td>1.663212</td>\n      <td>172.199997</td>\n      <td>0.932056</td>\n      <td>156.899994</td>\n      <td>1.625907</td>\n      <td>0.911150</td>\n      <td>1.000000</td>\n      <td>0</td>\n    </tr>\n    <tr>\n      <th>86117</th>\n      <td>92667</td>\n      <td>34</td>\n      <td>1</td>\n      <td>41</td>\n      <td>1</td>\n      <td>2</td>\n      <td>13</td>\n      <td>2.0</td>\n      <td>3.0</td>\n      <td>NaN</td>\n      <td>...</td>\n      <td>160.500000</td>\n      <td>96.5</td>\n      <td>1.663212</td>\n      <td>172.199997</td>\n      <td>0.932056</td>\n      <td>156.899994</td>\n      <td>1.625907</td>\n      <td>0.911150</td>\n      <td>1.000000</td>\n      <td>1</td>\n    </tr>\n    <tr>\n      <th>86135</th>\n      <td>92685</td>\n      <td>18</td>\n      <td>1</td>\n      <td>40</td>\n      <td>1</td>\n      <td>1</td>\n      <td>13</td>\n      <td>NaN</td>\n      <td>1.0</td>\n      <td>3.0</td>\n      <td>...</td>\n      <td>160.500000</td>\n      <td>96.5</td>\n      <td>1.663212</td>\n      <td>172.199997</td>\n      <td>0.932056</td>\n      <td>156.899994</td>\n      <td>1.625907</td>\n      <td>0.911150</td>\n      <td>1.000000</td>\n      <td>1</td>\n    </tr>\n    <tr>\n      <th>86141</th>\n      <td>92691</td>\n      <td>28</td>\n      <td>1</td>\n      <td>45</td>\n      <td>1</td>\n      <td>1</td>\n      <td>13</td>\n      <td>2.0</td>\n      <td>3.0</td>\n      <td>NaN</td>\n      <td>...</td>\n      <td>160.500000</td>\n      <td>96.5</td>\n      <td>1.663212</td>\n      <td>172.199997</td>\n      <td>0.932056</td>\n      <td>156.899994</td>\n      <td>1.625907</td>\n      <td>0.911150</td>\n      <td>1.000000</td>\n      <td>1</td>\n    </tr>\n  </tbody>\n</table>\n<p>23301 rows × 180 columns</p>\n</div>"
     },
     "metadata": {},
     "execution_count": 212
    }
   ],
   "source": [
    "cex84_02 = pd.read_stata(main_folder + \"\\data\\cex84_02.dta\")\n",
    "cex84_02 = cex84_02[cex84_02.year >= 94]\n",
    "cex84_02 = cex84_02[cex84_02.year <= 97]\n",
    "cex84_02['ee'] = 0\n",
    "cex84_02.loc[(cex84_02['year'] <=95) & (cex84_02['educatio'] >=21), 'ee'] = 1\n",
    "cex84_02.loc[(cex84_02['year'] >=96) & (cex84_02['educatio'] >=40), 'ee'] = 1\n",
    "cex84_02"
   ]
  },
  {
   "cell_type": "code",
   "execution_count": 213,
   "metadata": {},
   "outputs": [],
   "source": [
    "cex84_02['meanee'] = cex84_02['ee'].mean()"
   ]
  },
  {
   "cell_type": "code",
   "execution_count": 214,
   "metadata": {},
   "outputs": [
    {
     "output_type": "execute_result",
     "data": {
      "text/plain": [
       "       newid  age  relation  educatio  race  sex  weeksin  emplcont  incoll  \\\n",
       "57681  57811   68         1        24     1    2       52       NaN     3.0   \n",
       "57682  57812   53         1        12     1    1       52       1.0     3.0   \n",
       "57683  57813   37         1        12     1    1       52       1.0     3.0   \n",
       "57684  57814   68         1        22     1    1       52       NaN     3.0   \n",
       "57685  57815   35         1        12     2    2       39       NaN     NaN   \n",
       "...      ...  ...       ...       ...   ...  ...      ...       ...     ...   \n",
       "86104  92654   40         1        44     1    2       13       2.0     2.0   \n",
       "86106  92656   18         1        39     1    1       13       NaN     1.0   \n",
       "86117  92667   34         1        41     1    2       13       2.0     3.0   \n",
       "86135  92685   18         1        40     1    1       13       NaN     1.0   \n",
       "86141  92691   28         1        45     1    1       13       2.0     3.0   \n",
       "\n",
       "       nonwork  ...  cpi82    cpi_82       cpi00    cpi_00    cpi1_lag  \\\n",
       "57681      5.0  ...   96.5  1.535751  172.199997  0.860627  144.500000   \n",
       "57682      NaN  ...   96.5  1.535751  172.199997  0.860627  144.500000   \n",
       "57683      NaN  ...   96.5  1.535751  172.199997  0.860627  144.500000   \n",
       "57684      NaN  ...   96.5  1.535751  172.199997  0.860627  144.500000   \n",
       "57685      NaN  ...   96.5  1.535751  172.199997  0.860627  144.500000   \n",
       "...        ...  ...    ...       ...         ...       ...         ...   \n",
       "86104      NaN  ...   96.5  1.663212  172.199997  0.932056  156.899994   \n",
       "86106      NaN  ...   96.5  1.663212  172.199997  0.932056  156.899994   \n",
       "86117      NaN  ...   96.5  1.663212  172.199997  0.932056  156.899994   \n",
       "86135      3.0  ...   96.5  1.663212  172.199997  0.932056  156.899994   \n",
       "86141      NaN  ...   96.5  1.663212  172.199997  0.932056  156.899994   \n",
       "\n",
       "       cpi82_lag  cpi00_lag    cpi_97  ee    meanee  \n",
       "57681   1.497409   0.839141  0.923364   1  0.521694  \n",
       "57682   1.497409   0.839141  0.923364   0  0.521694  \n",
       "57683   1.497409   0.839141  0.923364   0  0.521694  \n",
       "57684   1.497409   0.839141  0.923364   1  0.521694  \n",
       "57685   1.497409   0.839141  0.923364   0  0.521694  \n",
       "...          ...        ...       ...  ..       ...  \n",
       "86104   1.625907   0.911150  1.000000   1  0.521694  \n",
       "86106   1.625907   0.911150  1.000000   0  0.521694  \n",
       "86117   1.625907   0.911150  1.000000   1  0.521694  \n",
       "86135   1.625907   0.911150  1.000000   1  0.521694  \n",
       "86141   1.625907   0.911150  1.000000   1  0.521694  \n",
       "\n",
       "[23301 rows x 181 columns]"
      ],
      "text/html": "<div>\n<style scoped>\n    .dataframe tbody tr th:only-of-type {\n        vertical-align: middle;\n    }\n\n    .dataframe tbody tr th {\n        vertical-align: top;\n    }\n\n    .dataframe thead th {\n        text-align: right;\n    }\n</style>\n<table border=\"1\" class=\"dataframe\">\n  <thead>\n    <tr style=\"text-align: right;\">\n      <th></th>\n      <th>newid</th>\n      <th>age</th>\n      <th>relation</th>\n      <th>educatio</th>\n      <th>race</th>\n      <th>sex</th>\n      <th>weeksin</th>\n      <th>emplcont</th>\n      <th>incoll</th>\n      <th>nonwork</th>\n      <th>...</th>\n      <th>cpi82</th>\n      <th>cpi_82</th>\n      <th>cpi00</th>\n      <th>cpi_00</th>\n      <th>cpi1_lag</th>\n      <th>cpi82_lag</th>\n      <th>cpi00_lag</th>\n      <th>cpi_97</th>\n      <th>ee</th>\n      <th>meanee</th>\n    </tr>\n  </thead>\n  <tbody>\n    <tr>\n      <th>57681</th>\n      <td>57811</td>\n      <td>68</td>\n      <td>1</td>\n      <td>24</td>\n      <td>1</td>\n      <td>2</td>\n      <td>52</td>\n      <td>NaN</td>\n      <td>3.0</td>\n      <td>5.0</td>\n      <td>...</td>\n      <td>96.5</td>\n      <td>1.535751</td>\n      <td>172.199997</td>\n      <td>0.860627</td>\n      <td>144.500000</td>\n      <td>1.497409</td>\n      <td>0.839141</td>\n      <td>0.923364</td>\n      <td>1</td>\n      <td>0.521694</td>\n    </tr>\n    <tr>\n      <th>57682</th>\n      <td>57812</td>\n      <td>53</td>\n      <td>1</td>\n      <td>12</td>\n      <td>1</td>\n      <td>1</td>\n      <td>52</td>\n      <td>1.0</td>\n      <td>3.0</td>\n      <td>NaN</td>\n      <td>...</td>\n      <td>96.5</td>\n      <td>1.535751</td>\n      <td>172.199997</td>\n      <td>0.860627</td>\n      <td>144.500000</td>\n      <td>1.497409</td>\n      <td>0.839141</td>\n      <td>0.923364</td>\n      <td>0</td>\n      <td>0.521694</td>\n    </tr>\n    <tr>\n      <th>57683</th>\n      <td>57813</td>\n      <td>37</td>\n      <td>1</td>\n      <td>12</td>\n      <td>1</td>\n      <td>1</td>\n      <td>52</td>\n      <td>1.0</td>\n      <td>3.0</td>\n      <td>NaN</td>\n      <td>...</td>\n      <td>96.5</td>\n      <td>1.535751</td>\n      <td>172.199997</td>\n      <td>0.860627</td>\n      <td>144.500000</td>\n      <td>1.497409</td>\n      <td>0.839141</td>\n      <td>0.923364</td>\n      <td>0</td>\n      <td>0.521694</td>\n    </tr>\n    <tr>\n      <th>57684</th>\n      <td>57814</td>\n      <td>68</td>\n      <td>1</td>\n      <td>22</td>\n      <td>1</td>\n      <td>1</td>\n      <td>52</td>\n      <td>NaN</td>\n      <td>3.0</td>\n      <td>NaN</td>\n      <td>...</td>\n      <td>96.5</td>\n      <td>1.535751</td>\n      <td>172.199997</td>\n      <td>0.860627</td>\n      <td>144.500000</td>\n      <td>1.497409</td>\n      <td>0.839141</td>\n      <td>0.923364</td>\n      <td>1</td>\n      <td>0.521694</td>\n    </tr>\n    <tr>\n      <th>57685</th>\n      <td>57815</td>\n      <td>35</td>\n      <td>1</td>\n      <td>12</td>\n      <td>2</td>\n      <td>2</td>\n      <td>39</td>\n      <td>NaN</td>\n      <td>NaN</td>\n      <td>NaN</td>\n      <td>...</td>\n      <td>96.5</td>\n      <td>1.535751</td>\n      <td>172.199997</td>\n      <td>0.860627</td>\n      <td>144.500000</td>\n      <td>1.497409</td>\n      <td>0.839141</td>\n      <td>0.923364</td>\n      <td>0</td>\n      <td>0.521694</td>\n    </tr>\n    <tr>\n      <th>...</th>\n      <td>...</td>\n      <td>...</td>\n      <td>...</td>\n      <td>...</td>\n      <td>...</td>\n      <td>...</td>\n      <td>...</td>\n      <td>...</td>\n      <td>...</td>\n      <td>...</td>\n      <td>...</td>\n      <td>...</td>\n      <td>...</td>\n      <td>...</td>\n      <td>...</td>\n      <td>...</td>\n      <td>...</td>\n      <td>...</td>\n      <td>...</td>\n      <td>...</td>\n      <td>...</td>\n    </tr>\n    <tr>\n      <th>86104</th>\n      <td>92654</td>\n      <td>40</td>\n      <td>1</td>\n      <td>44</td>\n      <td>1</td>\n      <td>2</td>\n      <td>13</td>\n      <td>2.0</td>\n      <td>2.0</td>\n      <td>NaN</td>\n      <td>...</td>\n      <td>96.5</td>\n      <td>1.663212</td>\n      <td>172.199997</td>\n      <td>0.932056</td>\n      <td>156.899994</td>\n      <td>1.625907</td>\n      <td>0.911150</td>\n      <td>1.000000</td>\n      <td>1</td>\n      <td>0.521694</td>\n    </tr>\n    <tr>\n      <th>86106</th>\n      <td>92656</td>\n      <td>18</td>\n      <td>1</td>\n      <td>39</td>\n      <td>1</td>\n      <td>1</td>\n      <td>13</td>\n      <td>NaN</td>\n      <td>1.0</td>\n      <td>NaN</td>\n      <td>...</td>\n      <td>96.5</td>\n      <td>1.663212</td>\n      <td>172.199997</td>\n      <td>0.932056</td>\n      <td>156.899994</td>\n      <td>1.625907</td>\n      <td>0.911150</td>\n      <td>1.000000</td>\n      <td>0</td>\n      <td>0.521694</td>\n    </tr>\n    <tr>\n      <th>86117</th>\n      <td>92667</td>\n      <td>34</td>\n      <td>1</td>\n      <td>41</td>\n      <td>1</td>\n      <td>2</td>\n      <td>13</td>\n      <td>2.0</td>\n      <td>3.0</td>\n      <td>NaN</td>\n      <td>...</td>\n      <td>96.5</td>\n      <td>1.663212</td>\n      <td>172.199997</td>\n      <td>0.932056</td>\n      <td>156.899994</td>\n      <td>1.625907</td>\n      <td>0.911150</td>\n      <td>1.000000</td>\n      <td>1</td>\n      <td>0.521694</td>\n    </tr>\n    <tr>\n      <th>86135</th>\n      <td>92685</td>\n      <td>18</td>\n      <td>1</td>\n      <td>40</td>\n      <td>1</td>\n      <td>1</td>\n      <td>13</td>\n      <td>NaN</td>\n      <td>1.0</td>\n      <td>3.0</td>\n      <td>...</td>\n      <td>96.5</td>\n      <td>1.663212</td>\n      <td>172.199997</td>\n      <td>0.932056</td>\n      <td>156.899994</td>\n      <td>1.625907</td>\n      <td>0.911150</td>\n      <td>1.000000</td>\n      <td>1</td>\n      <td>0.521694</td>\n    </tr>\n    <tr>\n      <th>86141</th>\n      <td>92691</td>\n      <td>28</td>\n      <td>1</td>\n      <td>45</td>\n      <td>1</td>\n      <td>1</td>\n      <td>13</td>\n      <td>2.0</td>\n      <td>3.0</td>\n      <td>NaN</td>\n      <td>...</td>\n      <td>96.5</td>\n      <td>1.663212</td>\n      <td>172.199997</td>\n      <td>0.932056</td>\n      <td>156.899994</td>\n      <td>1.625907</td>\n      <td>0.911150</td>\n      <td>1.000000</td>\n      <td>1</td>\n      <td>0.521694</td>\n    </tr>\n  </tbody>\n</table>\n<p>23301 rows × 181 columns</p>\n</div>"
     },
     "metadata": {},
     "execution_count": 214
    }
   ],
   "source": [
    "cex84_02"
   ]
  },
  {
   "cell_type": "code",
   "execution_count": 215,
   "metadata": {},
   "outputs": [
    {
     "output_type": "execute_result",
     "data": {
      "text/plain": [
       "       newid  age  relation  educatio  race  sex  weeksin  emplcont  incoll  \\\n",
       "57681  57811   68         1        24     1    2       52       NaN     3.0   \n",
       "57682  57812   53         1        12     1    1       52       1.0     3.0   \n",
       "57683  57813   37         1        12     1    1       52       1.0     3.0   \n",
       "57684  57814   68         1        22     1    1       52       NaN     3.0   \n",
       "57685  57815   35         1        12     2    2       39       NaN     NaN   \n",
       "...      ...  ...       ...       ...   ...  ...      ...       ...     ...   \n",
       "86104  92654   40         1        44     1    2       13       2.0     2.0   \n",
       "86106  92656   18         1        39     1    1       13       NaN     1.0   \n",
       "86117  92667   34         1        41     1    2       13       2.0     3.0   \n",
       "86135  92685   18         1        40     1    1       13       NaN     1.0   \n",
       "86141  92691   28         1        45     1    1       13       2.0     3.0   \n",
       "\n",
       "       nonwork  ...    cpi_82       cpi00    cpi_00    cpi1_lag  cpi82_lag  \\\n",
       "57681      5.0  ...  1.535751  172.199997  0.860627  144.500000   1.497409   \n",
       "57682      NaN  ...  1.535751  172.199997  0.860627  144.500000   1.497409   \n",
       "57683      NaN  ...  1.535751  172.199997  0.860627  144.500000   1.497409   \n",
       "57684      NaN  ...  1.535751  172.199997  0.860627  144.500000   1.497409   \n",
       "57685      NaN  ...  1.535751  172.199997  0.860627  144.500000   1.497409   \n",
       "...        ...  ...       ...         ...       ...         ...        ...   \n",
       "86104      NaN  ...  1.663212  172.199997  0.932056  156.899994   1.625907   \n",
       "86106      NaN  ...  1.663212  172.199997  0.932056  156.899994   1.625907   \n",
       "86117      NaN  ...  1.663212  172.199997  0.932056  156.899994   1.625907   \n",
       "86135      3.0  ...  1.663212  172.199997  0.932056  156.899994   1.625907   \n",
       "86141      NaN  ...  1.663212  172.199997  0.932056  156.899994   1.625907   \n",
       "\n",
       "       cpi00_lag    cpi_97  ee    meanee      totalexp  \n",
       "57681   0.839141  0.923364   1  0.521694  19856.200012  \n",
       "57682   0.839141  0.923364   0  0.521694  20149.000000  \n",
       "57683   0.839141  0.923364   0  0.521694  47880.000000  \n",
       "57684   0.839141  0.923364   1  0.521694  38343.349976  \n",
       "57685   0.839141  0.923364   0  0.521694   4516.000000  \n",
       "...          ...       ...  ..       ...           ...  \n",
       "86104   0.911150  1.000000   1  0.521694  12130.960022  \n",
       "86106   0.911150  1.000000   0  0.521694   2671.000000  \n",
       "86117   0.911150  1.000000   1  0.521694   6042.000000  \n",
       "86135   0.911150  1.000000   1  0.521694  13170.000000  \n",
       "86141   0.911150  1.000000   1  0.521694   3127.000000  \n",
       "\n",
       "[23301 rows x 182 columns]"
      ],
      "text/html": "<div>\n<style scoped>\n    .dataframe tbody tr th:only-of-type {\n        vertical-align: middle;\n    }\n\n    .dataframe tbody tr th {\n        vertical-align: top;\n    }\n\n    .dataframe thead th {\n        text-align: right;\n    }\n</style>\n<table border=\"1\" class=\"dataframe\">\n  <thead>\n    <tr style=\"text-align: right;\">\n      <th></th>\n      <th>newid</th>\n      <th>age</th>\n      <th>relation</th>\n      <th>educatio</th>\n      <th>race</th>\n      <th>sex</th>\n      <th>weeksin</th>\n      <th>emplcont</th>\n      <th>incoll</th>\n      <th>nonwork</th>\n      <th>...</th>\n      <th>cpi_82</th>\n      <th>cpi00</th>\n      <th>cpi_00</th>\n      <th>cpi1_lag</th>\n      <th>cpi82_lag</th>\n      <th>cpi00_lag</th>\n      <th>cpi_97</th>\n      <th>ee</th>\n      <th>meanee</th>\n      <th>totalexp</th>\n    </tr>\n  </thead>\n  <tbody>\n    <tr>\n      <th>57681</th>\n      <td>57811</td>\n      <td>68</td>\n      <td>1</td>\n      <td>24</td>\n      <td>1</td>\n      <td>2</td>\n      <td>52</td>\n      <td>NaN</td>\n      <td>3.0</td>\n      <td>5.0</td>\n      <td>...</td>\n      <td>1.535751</td>\n      <td>172.199997</td>\n      <td>0.860627</td>\n      <td>144.500000</td>\n      <td>1.497409</td>\n      <td>0.839141</td>\n      <td>0.923364</td>\n      <td>1</td>\n      <td>0.521694</td>\n      <td>19856.200012</td>\n    </tr>\n    <tr>\n      <th>57682</th>\n      <td>57812</td>\n      <td>53</td>\n      <td>1</td>\n      <td>12</td>\n      <td>1</td>\n      <td>1</td>\n      <td>52</td>\n      <td>1.0</td>\n      <td>3.0</td>\n      <td>NaN</td>\n      <td>...</td>\n      <td>1.535751</td>\n      <td>172.199997</td>\n      <td>0.860627</td>\n      <td>144.500000</td>\n      <td>1.497409</td>\n      <td>0.839141</td>\n      <td>0.923364</td>\n      <td>0</td>\n      <td>0.521694</td>\n      <td>20149.000000</td>\n    </tr>\n    <tr>\n      <th>57683</th>\n      <td>57813</td>\n      <td>37</td>\n      <td>1</td>\n      <td>12</td>\n      <td>1</td>\n      <td>1</td>\n      <td>52</td>\n      <td>1.0</td>\n      <td>3.0</td>\n      <td>NaN</td>\n      <td>...</td>\n      <td>1.535751</td>\n      <td>172.199997</td>\n      <td>0.860627</td>\n      <td>144.500000</td>\n      <td>1.497409</td>\n      <td>0.839141</td>\n      <td>0.923364</td>\n      <td>0</td>\n      <td>0.521694</td>\n      <td>47880.000000</td>\n    </tr>\n    <tr>\n      <th>57684</th>\n      <td>57814</td>\n      <td>68</td>\n      <td>1</td>\n      <td>22</td>\n      <td>1</td>\n      <td>1</td>\n      <td>52</td>\n      <td>NaN</td>\n      <td>3.0</td>\n      <td>NaN</td>\n      <td>...</td>\n      <td>1.535751</td>\n      <td>172.199997</td>\n      <td>0.860627</td>\n      <td>144.500000</td>\n      <td>1.497409</td>\n      <td>0.839141</td>\n      <td>0.923364</td>\n      <td>1</td>\n      <td>0.521694</td>\n      <td>38343.349976</td>\n    </tr>\n    <tr>\n      <th>57685</th>\n      <td>57815</td>\n      <td>35</td>\n      <td>1</td>\n      <td>12</td>\n      <td>2</td>\n      <td>2</td>\n      <td>39</td>\n      <td>NaN</td>\n      <td>NaN</td>\n      <td>NaN</td>\n      <td>...</td>\n      <td>1.535751</td>\n      <td>172.199997</td>\n      <td>0.860627</td>\n      <td>144.500000</td>\n      <td>1.497409</td>\n      <td>0.839141</td>\n      <td>0.923364</td>\n      <td>0</td>\n      <td>0.521694</td>\n      <td>4516.000000</td>\n    </tr>\n    <tr>\n      <th>...</th>\n      <td>...</td>\n      <td>...</td>\n      <td>...</td>\n      <td>...</td>\n      <td>...</td>\n      <td>...</td>\n      <td>...</td>\n      <td>...</td>\n      <td>...</td>\n      <td>...</td>\n      <td>...</td>\n      <td>...</td>\n      <td>...</td>\n      <td>...</td>\n      <td>...</td>\n      <td>...</td>\n      <td>...</td>\n      <td>...</td>\n      <td>...</td>\n      <td>...</td>\n      <td>...</td>\n    </tr>\n    <tr>\n      <th>86104</th>\n      <td>92654</td>\n      <td>40</td>\n      <td>1</td>\n      <td>44</td>\n      <td>1</td>\n      <td>2</td>\n      <td>13</td>\n      <td>2.0</td>\n      <td>2.0</td>\n      <td>NaN</td>\n      <td>...</td>\n      <td>1.663212</td>\n      <td>172.199997</td>\n      <td>0.932056</td>\n      <td>156.899994</td>\n      <td>1.625907</td>\n      <td>0.911150</td>\n      <td>1.000000</td>\n      <td>1</td>\n      <td>0.521694</td>\n      <td>12130.960022</td>\n    </tr>\n    <tr>\n      <th>86106</th>\n      <td>92656</td>\n      <td>18</td>\n      <td>1</td>\n      <td>39</td>\n      <td>1</td>\n      <td>1</td>\n      <td>13</td>\n      <td>NaN</td>\n      <td>1.0</td>\n      <td>NaN</td>\n      <td>...</td>\n      <td>1.663212</td>\n      <td>172.199997</td>\n      <td>0.932056</td>\n      <td>156.899994</td>\n      <td>1.625907</td>\n      <td>0.911150</td>\n      <td>1.000000</td>\n      <td>0</td>\n      <td>0.521694</td>\n      <td>2671.000000</td>\n    </tr>\n    <tr>\n      <th>86117</th>\n      <td>92667</td>\n      <td>34</td>\n      <td>1</td>\n      <td>41</td>\n      <td>1</td>\n      <td>2</td>\n      <td>13</td>\n      <td>2.0</td>\n      <td>3.0</td>\n      <td>NaN</td>\n      <td>...</td>\n      <td>1.663212</td>\n      <td>172.199997</td>\n      <td>0.932056</td>\n      <td>156.899994</td>\n      <td>1.625907</td>\n      <td>0.911150</td>\n      <td>1.000000</td>\n      <td>1</td>\n      <td>0.521694</td>\n      <td>6042.000000</td>\n    </tr>\n    <tr>\n      <th>86135</th>\n      <td>92685</td>\n      <td>18</td>\n      <td>1</td>\n      <td>40</td>\n      <td>1</td>\n      <td>1</td>\n      <td>13</td>\n      <td>NaN</td>\n      <td>1.0</td>\n      <td>3.0</td>\n      <td>...</td>\n      <td>1.663212</td>\n      <td>172.199997</td>\n      <td>0.932056</td>\n      <td>156.899994</td>\n      <td>1.625907</td>\n      <td>0.911150</td>\n      <td>1.000000</td>\n      <td>1</td>\n      <td>0.521694</td>\n      <td>13170.000000</td>\n    </tr>\n    <tr>\n      <th>86141</th>\n      <td>92691</td>\n      <td>28</td>\n      <td>1</td>\n      <td>45</td>\n      <td>1</td>\n      <td>1</td>\n      <td>13</td>\n      <td>2.0</td>\n      <td>3.0</td>\n      <td>NaN</td>\n      <td>...</td>\n      <td>1.663212</td>\n      <td>172.199997</td>\n      <td>0.932056</td>\n      <td>156.899994</td>\n      <td>1.625907</td>\n      <td>0.911150</td>\n      <td>1.000000</td>\n      <td>1</td>\n      <td>0.521694</td>\n      <td>3127.000000</td>\n    </tr>\n  </tbody>\n</table>\n<p>23301 rows × 182 columns</p>\n</div>"
     },
     "metadata": {},
     "execution_count": 215
    }
   ],
   "source": [
    "#/*  total expenditure*/\n",
    "cex84_02['totalexp1'] = cex84_02.loc[:, 'foodhome':'charity'].sum(axis=1)\n",
    "cex84_02['totalexp'] = cex84_02['totalexp1'] + cex84_02['ohint'] + cex84_02['ohtax'] + cex84_02['ohmaint']\n",
    "cex84_02 = cex84_02.drop(columns=['totalexp1'])\n",
    "cex84_02"
   ]
  },
  {
   "cell_type": "code",
   "execution_count": 216,
   "metadata": {},
   "outputs": [],
   "source": [
    "#/*expenditure used in this paper*/\n",
    "cex84_02 = cex84_02.drop(columns=['autos'])\n",
    "cex84_02['tt'] = cex84_02.loc[:, 'foodhome':'charity'].sum(axis=1)\n",
    "cex84_02 = cex84_02[cex84_02.tt >= 0]"
   ]
  },
  {
   "cell_type": "code",
   "execution_count": 217,
   "metadata": {},
   "outputs": [
    {
     "output_type": "execute_result",
     "data": {
      "text/plain": [
       "       newid  age  relation  educatio  race  sex  weeksin  emplcont  incoll  \\\n",
       "57681  57811   68         1        24     1    2       52       NaN     3.0   \n",
       "57682  57812   53         1        12     1    1       52       1.0     3.0   \n",
       "57683  57813   37         1        12     1    1       52       1.0     3.0   \n",
       "57684  57814   68         1        22     1    1       52       NaN     3.0   \n",
       "57685  57815   35         1        12     2    2       39       NaN     NaN   \n",
       "...      ...  ...       ...       ...   ...  ...      ...       ...     ...   \n",
       "86104  92654   40         1        44     1    2       13       2.0     2.0   \n",
       "86106  92656   18         1        39     1    1       13       NaN     1.0   \n",
       "86117  92667   34         1        41     1    2       13       2.0     3.0   \n",
       "86135  92685   18         1        40     1    1       13       NaN     1.0   \n",
       "86141  92691   28         1        45     1    1       13       2.0     3.0   \n",
       "\n",
       "       nonwork  ...    cpi_00    cpi1_lag  cpi82_lag  cpi00_lag    cpi_97  ee  \\\n",
       "57681      5.0  ...  0.860627  144.500000   1.497409   0.839141  0.923364   1   \n",
       "57682      NaN  ...  0.860627  144.500000   1.497409   0.839141  0.923364   0   \n",
       "57683      NaN  ...  0.860627  144.500000   1.497409   0.839141  0.923364   0   \n",
       "57684      NaN  ...  0.860627  144.500000   1.497409   0.839141  0.923364   1   \n",
       "57685      NaN  ...  0.860627  144.500000   1.497409   0.839141  0.923364   0   \n",
       "...        ...  ...       ...         ...        ...        ...       ...  ..   \n",
       "86104      NaN  ...  0.932056  156.899994   1.625907   0.911150  1.000000   1   \n",
       "86106      NaN  ...  0.932056  156.899994   1.625907   0.911150  1.000000   0   \n",
       "86117      NaN  ...  0.932056  156.899994   1.625907   0.911150  1.000000   1   \n",
       "86135      3.0  ...  0.932056  156.899994   1.625907   0.911150  1.000000   1   \n",
       "86141      NaN  ...  0.932056  156.899994   1.625907   0.911150  1.000000   1   \n",
       "\n",
       "         meanee      totalexp            tt    ltotexp  \n",
       "57681  0.521694  19856.200012  18945.200012   9.929037  \n",
       "57682  0.521694  20149.000000  17131.000000   9.828376  \n",
       "57683  0.521694  47880.000000  40649.000000  10.692461  \n",
       "57684  0.521694  38343.349976  34663.599976  10.533177  \n",
       "57685  0.521694   4516.000000   4516.000000   8.495113  \n",
       "...         ...           ...           ...        ...  \n",
       "86104  0.521694  12130.960022   9609.960022   9.170555  \n",
       "86106  0.521694   2671.000000   2671.000000   7.890208  \n",
       "86117  0.521694   6042.000000   4092.000000   8.316789  \n",
       "86135  0.521694  13170.000000   1170.000000   7.064759  \n",
       "86141  0.521694   3127.000000   3127.000000   8.047829  \n",
       "\n",
       "[23300 rows x 183 columns]"
      ],
      "text/html": "<div>\n<style scoped>\n    .dataframe tbody tr th:only-of-type {\n        vertical-align: middle;\n    }\n\n    .dataframe tbody tr th {\n        vertical-align: top;\n    }\n\n    .dataframe thead th {\n        text-align: right;\n    }\n</style>\n<table border=\"1\" class=\"dataframe\">\n  <thead>\n    <tr style=\"text-align: right;\">\n      <th></th>\n      <th>newid</th>\n      <th>age</th>\n      <th>relation</th>\n      <th>educatio</th>\n      <th>race</th>\n      <th>sex</th>\n      <th>weeksin</th>\n      <th>emplcont</th>\n      <th>incoll</th>\n      <th>nonwork</th>\n      <th>...</th>\n      <th>cpi_00</th>\n      <th>cpi1_lag</th>\n      <th>cpi82_lag</th>\n      <th>cpi00_lag</th>\n      <th>cpi_97</th>\n      <th>ee</th>\n      <th>meanee</th>\n      <th>totalexp</th>\n      <th>tt</th>\n      <th>ltotexp</th>\n    </tr>\n  </thead>\n  <tbody>\n    <tr>\n      <th>57681</th>\n      <td>57811</td>\n      <td>68</td>\n      <td>1</td>\n      <td>24</td>\n      <td>1</td>\n      <td>2</td>\n      <td>52</td>\n      <td>NaN</td>\n      <td>3.0</td>\n      <td>5.0</td>\n      <td>...</td>\n      <td>0.860627</td>\n      <td>144.500000</td>\n      <td>1.497409</td>\n      <td>0.839141</td>\n      <td>0.923364</td>\n      <td>1</td>\n      <td>0.521694</td>\n      <td>19856.200012</td>\n      <td>18945.200012</td>\n      <td>9.929037</td>\n    </tr>\n    <tr>\n      <th>57682</th>\n      <td>57812</td>\n      <td>53</td>\n      <td>1</td>\n      <td>12</td>\n      <td>1</td>\n      <td>1</td>\n      <td>52</td>\n      <td>1.0</td>\n      <td>3.0</td>\n      <td>NaN</td>\n      <td>...</td>\n      <td>0.860627</td>\n      <td>144.500000</td>\n      <td>1.497409</td>\n      <td>0.839141</td>\n      <td>0.923364</td>\n      <td>0</td>\n      <td>0.521694</td>\n      <td>20149.000000</td>\n      <td>17131.000000</td>\n      <td>9.828376</td>\n    </tr>\n    <tr>\n      <th>57683</th>\n      <td>57813</td>\n      <td>37</td>\n      <td>1</td>\n      <td>12</td>\n      <td>1</td>\n      <td>1</td>\n      <td>52</td>\n      <td>1.0</td>\n      <td>3.0</td>\n      <td>NaN</td>\n      <td>...</td>\n      <td>0.860627</td>\n      <td>144.500000</td>\n      <td>1.497409</td>\n      <td>0.839141</td>\n      <td>0.923364</td>\n      <td>0</td>\n      <td>0.521694</td>\n      <td>47880.000000</td>\n      <td>40649.000000</td>\n      <td>10.692461</td>\n    </tr>\n    <tr>\n      <th>57684</th>\n      <td>57814</td>\n      <td>68</td>\n      <td>1</td>\n      <td>22</td>\n      <td>1</td>\n      <td>1</td>\n      <td>52</td>\n      <td>NaN</td>\n      <td>3.0</td>\n      <td>NaN</td>\n      <td>...</td>\n      <td>0.860627</td>\n      <td>144.500000</td>\n      <td>1.497409</td>\n      <td>0.839141</td>\n      <td>0.923364</td>\n      <td>1</td>\n      <td>0.521694</td>\n      <td>38343.349976</td>\n      <td>34663.599976</td>\n      <td>10.533177</td>\n    </tr>\n    <tr>\n      <th>57685</th>\n      <td>57815</td>\n      <td>35</td>\n      <td>1</td>\n      <td>12</td>\n      <td>2</td>\n      <td>2</td>\n      <td>39</td>\n      <td>NaN</td>\n      <td>NaN</td>\n      <td>NaN</td>\n      <td>...</td>\n      <td>0.860627</td>\n      <td>144.500000</td>\n      <td>1.497409</td>\n      <td>0.839141</td>\n      <td>0.923364</td>\n      <td>0</td>\n      <td>0.521694</td>\n      <td>4516.000000</td>\n      <td>4516.000000</td>\n      <td>8.495113</td>\n    </tr>\n    <tr>\n      <th>...</th>\n      <td>...</td>\n      <td>...</td>\n      <td>...</td>\n      <td>...</td>\n      <td>...</td>\n      <td>...</td>\n      <td>...</td>\n      <td>...</td>\n      <td>...</td>\n      <td>...</td>\n      <td>...</td>\n      <td>...</td>\n      <td>...</td>\n      <td>...</td>\n      <td>...</td>\n      <td>...</td>\n      <td>...</td>\n      <td>...</td>\n      <td>...</td>\n      <td>...</td>\n      <td>...</td>\n    </tr>\n    <tr>\n      <th>86104</th>\n      <td>92654</td>\n      <td>40</td>\n      <td>1</td>\n      <td>44</td>\n      <td>1</td>\n      <td>2</td>\n      <td>13</td>\n      <td>2.0</td>\n      <td>2.0</td>\n      <td>NaN</td>\n      <td>...</td>\n      <td>0.932056</td>\n      <td>156.899994</td>\n      <td>1.625907</td>\n      <td>0.911150</td>\n      <td>1.000000</td>\n      <td>1</td>\n      <td>0.521694</td>\n      <td>12130.960022</td>\n      <td>9609.960022</td>\n      <td>9.170555</td>\n    </tr>\n    <tr>\n      <th>86106</th>\n      <td>92656</td>\n      <td>18</td>\n      <td>1</td>\n      <td>39</td>\n      <td>1</td>\n      <td>1</td>\n      <td>13</td>\n      <td>NaN</td>\n      <td>1.0</td>\n      <td>NaN</td>\n      <td>...</td>\n      <td>0.932056</td>\n      <td>156.899994</td>\n      <td>1.625907</td>\n      <td>0.911150</td>\n      <td>1.000000</td>\n      <td>0</td>\n      <td>0.521694</td>\n      <td>2671.000000</td>\n      <td>2671.000000</td>\n      <td>7.890208</td>\n    </tr>\n    <tr>\n      <th>86117</th>\n      <td>92667</td>\n      <td>34</td>\n      <td>1</td>\n      <td>41</td>\n      <td>1</td>\n      <td>2</td>\n      <td>13</td>\n      <td>2.0</td>\n      <td>3.0</td>\n      <td>NaN</td>\n      <td>...</td>\n      <td>0.932056</td>\n      <td>156.899994</td>\n      <td>1.625907</td>\n      <td>0.911150</td>\n      <td>1.000000</td>\n      <td>1</td>\n      <td>0.521694</td>\n      <td>6042.000000</td>\n      <td>4092.000000</td>\n      <td>8.316789</td>\n    </tr>\n    <tr>\n      <th>86135</th>\n      <td>92685</td>\n      <td>18</td>\n      <td>1</td>\n      <td>40</td>\n      <td>1</td>\n      <td>1</td>\n      <td>13</td>\n      <td>NaN</td>\n      <td>1.0</td>\n      <td>3.0</td>\n      <td>...</td>\n      <td>0.932056</td>\n      <td>156.899994</td>\n      <td>1.625907</td>\n      <td>0.911150</td>\n      <td>1.000000</td>\n      <td>1</td>\n      <td>0.521694</td>\n      <td>13170.000000</td>\n      <td>1170.000000</td>\n      <td>7.064759</td>\n    </tr>\n    <tr>\n      <th>86141</th>\n      <td>92691</td>\n      <td>28</td>\n      <td>1</td>\n      <td>45</td>\n      <td>1</td>\n      <td>1</td>\n      <td>13</td>\n      <td>2.0</td>\n      <td>3.0</td>\n      <td>NaN</td>\n      <td>...</td>\n      <td>0.932056</td>\n      <td>156.899994</td>\n      <td>1.625907</td>\n      <td>0.911150</td>\n      <td>1.000000</td>\n      <td>1</td>\n      <td>0.521694</td>\n      <td>3127.000000</td>\n      <td>3127.000000</td>\n      <td>8.047829</td>\n    </tr>\n  </tbody>\n</table>\n<p>23300 rows × 183 columns</p>\n</div>"
     },
     "metadata": {},
     "execution_count": 217
    }
   ],
   "source": [
    "cex84_02['ltotexp'] = np.log(cex84_02['tt']) - np.log(cex84_02['cpi_97'])\n",
    "cex84_02"
   ]
  },
  {
   "cell_type": "code",
   "execution_count": 218,
   "metadata": {},
   "outputs": [
    {
     "output_type": "execute_result",
     "data": {
      "text/plain": [
       "       newid  age  relation  educatio  race  sex  weeksin  emplcont  incoll  \\\n",
       "0      57811   68         1        24     1    2       52       NaN     3.0   \n",
       "1      57812   53         1        12     1    1       52       1.0     3.0   \n",
       "2      57813   37         1        12     1    1       52       1.0     3.0   \n",
       "3      57814   68         1        22     1    1       52       NaN     3.0   \n",
       "4      57815   35         1        12     2    2       39       NaN     NaN   \n",
       "...      ...  ...       ...       ...   ...  ...      ...       ...     ...   \n",
       "23293  92654   40         1        44     1    2       13       2.0     2.0   \n",
       "23294  92656   18         1        39     1    1       13       NaN     1.0   \n",
       "23295  92667   34         1        41     1    2       13       2.0     3.0   \n",
       "23296  92685   18         1        40     1    1       13       NaN     1.0   \n",
       "23297  92691   28         1        45     1    1       13       2.0     3.0   \n",
       "\n",
       "       nonwork  ...    cpi_00    cpi1_lag  cpi82_lag  cpi00_lag    cpi_97  \\\n",
       "0          5.0  ...  0.860627  144.500000   1.497409   0.839141  0.923364   \n",
       "1          NaN  ...  0.860627  144.500000   1.497409   0.839141  0.923364   \n",
       "2          NaN  ...  0.860627  144.500000   1.497409   0.839141  0.923364   \n",
       "3          NaN  ...  0.860627  144.500000   1.497409   0.839141  0.923364   \n",
       "4          NaN  ...  0.860627  144.500000   1.497409   0.839141  0.923364   \n",
       "...        ...  ...       ...         ...        ...        ...       ...   \n",
       "23293      NaN  ...  0.932056  156.899994   1.625907   0.911150  1.000000   \n",
       "23294      NaN  ...  0.932056  156.899994   1.625907   0.911150  1.000000   \n",
       "23295      NaN  ...  0.932056  156.899994   1.625907   0.911150  1.000000   \n",
       "23296      3.0  ...  0.932056  156.899994   1.625907   0.911150  1.000000   \n",
       "23297      NaN  ...  0.932056  156.899994   1.625907   0.911150  1.000000   \n",
       "\n",
       "        ee    meanee      totalexp            tt    ltotexp  \n",
       "0      1.0  0.521694  19856.199219  18945.199219   9.929037  \n",
       "1      0.0  0.521694  20149.000000  17131.000000   9.828376  \n",
       "2      0.0  0.521694  47880.000000  40649.000000  10.692461  \n",
       "3      1.0  0.521694  38343.351562  34663.601562  10.533176  \n",
       "4      0.0  0.521694   4516.000000   4516.000000   8.495113  \n",
       "...    ...       ...           ...           ...        ...  \n",
       "23293  1.0  0.521694  12130.959961   9609.959961   9.170555  \n",
       "23294  0.0  0.521694   2671.000000   2671.000000   7.890208  \n",
       "23295  1.0  0.521694   6042.000000   4092.000000   8.316789  \n",
       "23296  1.0  0.521694  13170.000000   1170.000000   7.064759  \n",
       "23297  1.0  0.521694   3127.000000   3127.000000   8.047830  \n",
       "\n",
       "[23298 rows x 180 columns]"
      ],
      "text/html": "<div>\n<style scoped>\n    .dataframe tbody tr th:only-of-type {\n        vertical-align: middle;\n    }\n\n    .dataframe tbody tr th {\n        vertical-align: top;\n    }\n\n    .dataframe thead th {\n        text-align: right;\n    }\n</style>\n<table border=\"1\" class=\"dataframe\">\n  <thead>\n    <tr style=\"text-align: right;\">\n      <th></th>\n      <th>newid</th>\n      <th>age</th>\n      <th>relation</th>\n      <th>educatio</th>\n      <th>race</th>\n      <th>sex</th>\n      <th>weeksin</th>\n      <th>emplcont</th>\n      <th>incoll</th>\n      <th>nonwork</th>\n      <th>...</th>\n      <th>cpi_00</th>\n      <th>cpi1_lag</th>\n      <th>cpi82_lag</th>\n      <th>cpi00_lag</th>\n      <th>cpi_97</th>\n      <th>ee</th>\n      <th>meanee</th>\n      <th>totalexp</th>\n      <th>tt</th>\n      <th>ltotexp</th>\n    </tr>\n  </thead>\n  <tbody>\n    <tr>\n      <th>0</th>\n      <td>57811</td>\n      <td>68</td>\n      <td>1</td>\n      <td>24</td>\n      <td>1</td>\n      <td>2</td>\n      <td>52</td>\n      <td>NaN</td>\n      <td>3.0</td>\n      <td>5.0</td>\n      <td>...</td>\n      <td>0.860627</td>\n      <td>144.500000</td>\n      <td>1.497409</td>\n      <td>0.839141</td>\n      <td>0.923364</td>\n      <td>1.0</td>\n      <td>0.521694</td>\n      <td>19856.199219</td>\n      <td>18945.199219</td>\n      <td>9.929037</td>\n    </tr>\n    <tr>\n      <th>1</th>\n      <td>57812</td>\n      <td>53</td>\n      <td>1</td>\n      <td>12</td>\n      <td>1</td>\n      <td>1</td>\n      <td>52</td>\n      <td>1.0</td>\n      <td>3.0</td>\n      <td>NaN</td>\n      <td>...</td>\n      <td>0.860627</td>\n      <td>144.500000</td>\n      <td>1.497409</td>\n      <td>0.839141</td>\n      <td>0.923364</td>\n      <td>0.0</td>\n      <td>0.521694</td>\n      <td>20149.000000</td>\n      <td>17131.000000</td>\n      <td>9.828376</td>\n    </tr>\n    <tr>\n      <th>2</th>\n      <td>57813</td>\n      <td>37</td>\n      <td>1</td>\n      <td>12</td>\n      <td>1</td>\n      <td>1</td>\n      <td>52</td>\n      <td>1.0</td>\n      <td>3.0</td>\n      <td>NaN</td>\n      <td>...</td>\n      <td>0.860627</td>\n      <td>144.500000</td>\n      <td>1.497409</td>\n      <td>0.839141</td>\n      <td>0.923364</td>\n      <td>0.0</td>\n      <td>0.521694</td>\n      <td>47880.000000</td>\n      <td>40649.000000</td>\n      <td>10.692461</td>\n    </tr>\n    <tr>\n      <th>3</th>\n      <td>57814</td>\n      <td>68</td>\n      <td>1</td>\n      <td>22</td>\n      <td>1</td>\n      <td>1</td>\n      <td>52</td>\n      <td>NaN</td>\n      <td>3.0</td>\n      <td>NaN</td>\n      <td>...</td>\n      <td>0.860627</td>\n      <td>144.500000</td>\n      <td>1.497409</td>\n      <td>0.839141</td>\n      <td>0.923364</td>\n      <td>1.0</td>\n      <td>0.521694</td>\n      <td>38343.351562</td>\n      <td>34663.601562</td>\n      <td>10.533176</td>\n    </tr>\n    <tr>\n      <th>4</th>\n      <td>57815</td>\n      <td>35</td>\n      <td>1</td>\n      <td>12</td>\n      <td>2</td>\n      <td>2</td>\n      <td>39</td>\n      <td>NaN</td>\n      <td>NaN</td>\n      <td>NaN</td>\n      <td>...</td>\n      <td>0.860627</td>\n      <td>144.500000</td>\n      <td>1.497409</td>\n      <td>0.839141</td>\n      <td>0.923364</td>\n      <td>0.0</td>\n      <td>0.521694</td>\n      <td>4516.000000</td>\n      <td>4516.000000</td>\n      <td>8.495113</td>\n    </tr>\n    <tr>\n      <th>...</th>\n      <td>...</td>\n      <td>...</td>\n      <td>...</td>\n      <td>...</td>\n      <td>...</td>\n      <td>...</td>\n      <td>...</td>\n      <td>...</td>\n      <td>...</td>\n      <td>...</td>\n      <td>...</td>\n      <td>...</td>\n      <td>...</td>\n      <td>...</td>\n      <td>...</td>\n      <td>...</td>\n      <td>...</td>\n      <td>...</td>\n      <td>...</td>\n      <td>...</td>\n      <td>...</td>\n    </tr>\n    <tr>\n      <th>23293</th>\n      <td>92654</td>\n      <td>40</td>\n      <td>1</td>\n      <td>44</td>\n      <td>1</td>\n      <td>2</td>\n      <td>13</td>\n      <td>2.0</td>\n      <td>2.0</td>\n      <td>NaN</td>\n      <td>...</td>\n      <td>0.932056</td>\n      <td>156.899994</td>\n      <td>1.625907</td>\n      <td>0.911150</td>\n      <td>1.000000</td>\n      <td>1.0</td>\n      <td>0.521694</td>\n      <td>12130.959961</td>\n      <td>9609.959961</td>\n      <td>9.170555</td>\n    </tr>\n    <tr>\n      <th>23294</th>\n      <td>92656</td>\n      <td>18</td>\n      <td>1</td>\n      <td>39</td>\n      <td>1</td>\n      <td>1</td>\n      <td>13</td>\n      <td>NaN</td>\n      <td>1.0</td>\n      <td>NaN</td>\n      <td>...</td>\n      <td>0.932056</td>\n      <td>156.899994</td>\n      <td>1.625907</td>\n      <td>0.911150</td>\n      <td>1.000000</td>\n      <td>0.0</td>\n      <td>0.521694</td>\n      <td>2671.000000</td>\n      <td>2671.000000</td>\n      <td>7.890208</td>\n    </tr>\n    <tr>\n      <th>23295</th>\n      <td>92667</td>\n      <td>34</td>\n      <td>1</td>\n      <td>41</td>\n      <td>1</td>\n      <td>2</td>\n      <td>13</td>\n      <td>2.0</td>\n      <td>3.0</td>\n      <td>NaN</td>\n      <td>...</td>\n      <td>0.932056</td>\n      <td>156.899994</td>\n      <td>1.625907</td>\n      <td>0.911150</td>\n      <td>1.000000</td>\n      <td>1.0</td>\n      <td>0.521694</td>\n      <td>6042.000000</td>\n      <td>4092.000000</td>\n      <td>8.316789</td>\n    </tr>\n    <tr>\n      <th>23296</th>\n      <td>92685</td>\n      <td>18</td>\n      <td>1</td>\n      <td>40</td>\n      <td>1</td>\n      <td>1</td>\n      <td>13</td>\n      <td>NaN</td>\n      <td>1.0</td>\n      <td>3.0</td>\n      <td>...</td>\n      <td>0.932056</td>\n      <td>156.899994</td>\n      <td>1.625907</td>\n      <td>0.911150</td>\n      <td>1.000000</td>\n      <td>1.0</td>\n      <td>0.521694</td>\n      <td>13170.000000</td>\n      <td>1170.000000</td>\n      <td>7.064759</td>\n    </tr>\n    <tr>\n      <th>23297</th>\n      <td>92691</td>\n      <td>28</td>\n      <td>1</td>\n      <td>45</td>\n      <td>1</td>\n      <td>1</td>\n      <td>13</td>\n      <td>2.0</td>\n      <td>3.0</td>\n      <td>NaN</td>\n      <td>...</td>\n      <td>0.932056</td>\n      <td>156.899994</td>\n      <td>1.625907</td>\n      <td>0.911150</td>\n      <td>1.000000</td>\n      <td>1.0</td>\n      <td>0.521694</td>\n      <td>3127.000000</td>\n      <td>3127.000000</td>\n      <td>8.047830</td>\n    </tr>\n  </tbody>\n</table>\n<p>23298 rows × 180 columns</p>\n</div>"
     },
     "metadata": {},
     "execution_count": 218
    }
   ],
   "source": [
    "cex84_02_div = pd.read_stata('cex84_02_div.dta')\n",
    "cex84_02_div = cex84_02_div.drop(columns=['gambling', 'toiletry', 'housuppl'])\n",
    "cex84_02_div"
   ]
  },
  {
   "cell_type": "code",
   "execution_count": 219,
   "metadata": {},
   "outputs": [
    {
     "output_type": "execute_result",
     "data": {
      "text/plain": [
       "       newid  age  relation  educatio  race  sex  weeksin  emplcont  incoll  \\\n",
       "0      57811   68         1        24     1    2       52       NaN     3.0   \n",
       "1      57812   53         1        12     1    1       52       1.0     3.0   \n",
       "2      57813   37         1        12     1    1       52       1.0     3.0   \n",
       "3      57814   68         1        22     1    1       52       NaN     3.0   \n",
       "4      57815   35         1        12     2    2       39       NaN     NaN   \n",
       "...      ...  ...       ...       ...   ...  ...      ...       ...     ...   \n",
       "23293  92654   40         1        44     1    2       13       2.0     2.0   \n",
       "23294  92656   18         1        39     1    1       13       NaN     1.0   \n",
       "23295  92667   34         1        41     1    2       13       2.0     3.0   \n",
       "23296  92685   18         1        40     1    1       13       NaN     1.0   \n",
       "23297  92691   28         1        45     1    1       13       2.0     3.0   \n",
       "\n",
       "       nonwork  ...    cpi_00    cpi1_lag  cpi82_lag  cpi00_lag    cpi_97  \\\n",
       "0          5.0  ...  0.860627  144.500000   1.497409   0.839141  0.923364   \n",
       "1          NaN  ...  0.860627  144.500000   1.497409   0.839141  0.923364   \n",
       "2          NaN  ...  0.860627  144.500000   1.497409   0.839141  0.923364   \n",
       "3          NaN  ...  0.860627  144.500000   1.497409   0.839141  0.923364   \n",
       "4          NaN  ...  0.860627  144.500000   1.497409   0.839141  0.923364   \n",
       "...        ...  ...       ...         ...        ...        ...       ...   \n",
       "23293      NaN  ...  0.932056  156.899994   1.625907   0.911150  1.000000   \n",
       "23294      NaN  ...  0.932056  156.899994   1.625907   0.911150  1.000000   \n",
       "23295      NaN  ...  0.932056  156.899994   1.625907   0.911150  1.000000   \n",
       "23296      3.0  ...  0.932056  156.899994   1.625907   0.911150  1.000000   \n",
       "23297      NaN  ...  0.932056  156.899994   1.625907   0.911150  1.000000   \n",
       "\n",
       "        ee    meanee      totalexp            tt    ltotexp  \n",
       "0      1.0  0.521694  19856.199219  18945.199219   9.929037  \n",
       "1      0.0  0.521694  20149.000000  17131.000000   9.828376  \n",
       "2      0.0  0.521694  47880.000000  40649.000000  10.692461  \n",
       "3      1.0  0.521694  38343.351562  34663.601562  10.533176  \n",
       "4      0.0  0.521694   4516.000000   4516.000000   8.495113  \n",
       "...    ...       ...           ...           ...        ...  \n",
       "23293  1.0  0.521694  12130.959961   9609.959961   9.170555  \n",
       "23294  0.0  0.521694   2671.000000   2671.000000   7.890208  \n",
       "23295  1.0  0.521694   6042.000000   4092.000000   8.316789  \n",
       "23296  1.0  0.521694  13170.000000   1170.000000   7.064759  \n",
       "23297  1.0  0.521694   3127.000000   3127.000000   8.047830  \n",
       "\n",
       "[23298 rows x 175 columns]"
      ],
      "text/html": "<div>\n<style scoped>\n    .dataframe tbody tr th:only-of-type {\n        vertical-align: middle;\n    }\n\n    .dataframe tbody tr th {\n        vertical-align: top;\n    }\n\n    .dataframe thead th {\n        text-align: right;\n    }\n</style>\n<table border=\"1\" class=\"dataframe\">\n  <thead>\n    <tr style=\"text-align: right;\">\n      <th></th>\n      <th>newid</th>\n      <th>age</th>\n      <th>relation</th>\n      <th>educatio</th>\n      <th>race</th>\n      <th>sex</th>\n      <th>weeksin</th>\n      <th>emplcont</th>\n      <th>incoll</th>\n      <th>nonwork</th>\n      <th>...</th>\n      <th>cpi_00</th>\n      <th>cpi1_lag</th>\n      <th>cpi82_lag</th>\n      <th>cpi00_lag</th>\n      <th>cpi_97</th>\n      <th>ee</th>\n      <th>meanee</th>\n      <th>totalexp</th>\n      <th>tt</th>\n      <th>ltotexp</th>\n    </tr>\n  </thead>\n  <tbody>\n    <tr>\n      <th>0</th>\n      <td>57811</td>\n      <td>68</td>\n      <td>1</td>\n      <td>24</td>\n      <td>1</td>\n      <td>2</td>\n      <td>52</td>\n      <td>NaN</td>\n      <td>3.0</td>\n      <td>5.0</td>\n      <td>...</td>\n      <td>0.860627</td>\n      <td>144.500000</td>\n      <td>1.497409</td>\n      <td>0.839141</td>\n      <td>0.923364</td>\n      <td>1.0</td>\n      <td>0.521694</td>\n      <td>19856.199219</td>\n      <td>18945.199219</td>\n      <td>9.929037</td>\n    </tr>\n    <tr>\n      <th>1</th>\n      <td>57812</td>\n      <td>53</td>\n      <td>1</td>\n      <td>12</td>\n      <td>1</td>\n      <td>1</td>\n      <td>52</td>\n      <td>1.0</td>\n      <td>3.0</td>\n      <td>NaN</td>\n      <td>...</td>\n      <td>0.860627</td>\n      <td>144.500000</td>\n      <td>1.497409</td>\n      <td>0.839141</td>\n      <td>0.923364</td>\n      <td>0.0</td>\n      <td>0.521694</td>\n      <td>20149.000000</td>\n      <td>17131.000000</td>\n      <td>9.828376</td>\n    </tr>\n    <tr>\n      <th>2</th>\n      <td>57813</td>\n      <td>37</td>\n      <td>1</td>\n      <td>12</td>\n      <td>1</td>\n      <td>1</td>\n      <td>52</td>\n      <td>1.0</td>\n      <td>3.0</td>\n      <td>NaN</td>\n      <td>...</td>\n      <td>0.860627</td>\n      <td>144.500000</td>\n      <td>1.497409</td>\n      <td>0.839141</td>\n      <td>0.923364</td>\n      <td>0.0</td>\n      <td>0.521694</td>\n      <td>47880.000000</td>\n      <td>40649.000000</td>\n      <td>10.692461</td>\n    </tr>\n    <tr>\n      <th>3</th>\n      <td>57814</td>\n      <td>68</td>\n      <td>1</td>\n      <td>22</td>\n      <td>1</td>\n      <td>1</td>\n      <td>52</td>\n      <td>NaN</td>\n      <td>3.0</td>\n      <td>NaN</td>\n      <td>...</td>\n      <td>0.860627</td>\n      <td>144.500000</td>\n      <td>1.497409</td>\n      <td>0.839141</td>\n      <td>0.923364</td>\n      <td>1.0</td>\n      <td>0.521694</td>\n      <td>38343.351562</td>\n      <td>34663.601562</td>\n      <td>10.533176</td>\n    </tr>\n    <tr>\n      <th>4</th>\n      <td>57815</td>\n      <td>35</td>\n      <td>1</td>\n      <td>12</td>\n      <td>2</td>\n      <td>2</td>\n      <td>39</td>\n      <td>NaN</td>\n      <td>NaN</td>\n      <td>NaN</td>\n      <td>...</td>\n      <td>0.860627</td>\n      <td>144.500000</td>\n      <td>1.497409</td>\n      <td>0.839141</td>\n      <td>0.923364</td>\n      <td>0.0</td>\n      <td>0.521694</td>\n      <td>4516.000000</td>\n      <td>4516.000000</td>\n      <td>8.495113</td>\n    </tr>\n    <tr>\n      <th>...</th>\n      <td>...</td>\n      <td>...</td>\n      <td>...</td>\n      <td>...</td>\n      <td>...</td>\n      <td>...</td>\n      <td>...</td>\n      <td>...</td>\n      <td>...</td>\n      <td>...</td>\n      <td>...</td>\n      <td>...</td>\n      <td>...</td>\n      <td>...</td>\n      <td>...</td>\n      <td>...</td>\n      <td>...</td>\n      <td>...</td>\n      <td>...</td>\n      <td>...</td>\n      <td>...</td>\n    </tr>\n    <tr>\n      <th>23293</th>\n      <td>92654</td>\n      <td>40</td>\n      <td>1</td>\n      <td>44</td>\n      <td>1</td>\n      <td>2</td>\n      <td>13</td>\n      <td>2.0</td>\n      <td>2.0</td>\n      <td>NaN</td>\n      <td>...</td>\n      <td>0.932056</td>\n      <td>156.899994</td>\n      <td>1.625907</td>\n      <td>0.911150</td>\n      <td>1.000000</td>\n      <td>1.0</td>\n      <td>0.521694</td>\n      <td>12130.959961</td>\n      <td>9609.959961</td>\n      <td>9.170555</td>\n    </tr>\n    <tr>\n      <th>23294</th>\n      <td>92656</td>\n      <td>18</td>\n      <td>1</td>\n      <td>39</td>\n      <td>1</td>\n      <td>1</td>\n      <td>13</td>\n      <td>NaN</td>\n      <td>1.0</td>\n      <td>NaN</td>\n      <td>...</td>\n      <td>0.932056</td>\n      <td>156.899994</td>\n      <td>1.625907</td>\n      <td>0.911150</td>\n      <td>1.000000</td>\n      <td>0.0</td>\n      <td>0.521694</td>\n      <td>2671.000000</td>\n      <td>2671.000000</td>\n      <td>7.890208</td>\n    </tr>\n    <tr>\n      <th>23295</th>\n      <td>92667</td>\n      <td>34</td>\n      <td>1</td>\n      <td>41</td>\n      <td>1</td>\n      <td>2</td>\n      <td>13</td>\n      <td>2.0</td>\n      <td>3.0</td>\n      <td>NaN</td>\n      <td>...</td>\n      <td>0.932056</td>\n      <td>156.899994</td>\n      <td>1.625907</td>\n      <td>0.911150</td>\n      <td>1.000000</td>\n      <td>1.0</td>\n      <td>0.521694</td>\n      <td>6042.000000</td>\n      <td>4092.000000</td>\n      <td>8.316789</td>\n    </tr>\n    <tr>\n      <th>23296</th>\n      <td>92685</td>\n      <td>18</td>\n      <td>1</td>\n      <td>40</td>\n      <td>1</td>\n      <td>1</td>\n      <td>13</td>\n      <td>NaN</td>\n      <td>1.0</td>\n      <td>3.0</td>\n      <td>...</td>\n      <td>0.932056</td>\n      <td>156.899994</td>\n      <td>1.625907</td>\n      <td>0.911150</td>\n      <td>1.000000</td>\n      <td>1.0</td>\n      <td>0.521694</td>\n      <td>13170.000000</td>\n      <td>1170.000000</td>\n      <td>7.064759</td>\n    </tr>\n    <tr>\n      <th>23297</th>\n      <td>92691</td>\n      <td>28</td>\n      <td>1</td>\n      <td>45</td>\n      <td>1</td>\n      <td>1</td>\n      <td>13</td>\n      <td>2.0</td>\n      <td>3.0</td>\n      <td>NaN</td>\n      <td>...</td>\n      <td>0.932056</td>\n      <td>156.899994</td>\n      <td>1.625907</td>\n      <td>0.911150</td>\n      <td>1.000000</td>\n      <td>1.0</td>\n      <td>0.521694</td>\n      <td>3127.000000</td>\n      <td>3127.000000</td>\n      <td>8.047830</td>\n    </tr>\n  </tbody>\n</table>\n<p>23298 rows × 175 columns</p>\n</div>"
     },
     "metadata": {},
     "execution_count": 219
    }
   ],
   "source": [
    "#*aggregate some small expenses with similar expenses\n",
    "cex84_02_div['foodout'] = cex84_02_div['foodout'] + cex84_02_div['foodwork'] \n",
    "cex84_02_div['renthome'] = cex84_02_div['renthome'] + cex84_02_div['rentothr']\n",
    "cex84_02_div['pubs'] = cex84_02_div['pubs'] + cex84_02_div['books']\n",
    "cex84_02_div['hospital'] = cex84_02_div['hospital'] + cex84_02_div['nurshome']\n",
    "cex84_02_div['masstran'] = cex84_02_div['masstran'] + cex84_02_div['tolls']\n",
    "cex84_02_div = cex84_02_div.drop(columns=['foodwork', 'rentothr', 'books', 'nurshome', 'tolls'])\n",
    "cex84_02_div"
   ]
  },
  {
   "cell_type": "code",
   "execution_count": 220,
   "metadata": {},
   "outputs": [],
   "source": [
    "cex84_02_div['single'] = 1\n",
    "cex84_02.loc[cex84_02['wife_ed'] >=1, 'single'] = 0 \n",
    "cex84_02_div['wifeH'] = 0\n",
    "cex84_02_div.loc[cex84_02_div['wife_ed'] >=2, 'wifeH'] = 1 #/*spouse with some college, wife_ed with college ==3*/"
   ]
  },
  {
   "cell_type": "code",
   "execution_count": 221,
   "metadata": {},
   "outputs": [
    {
     "output_type": "stream",
     "name": "stderr",
     "text": [
      "C:\\Users\\gimat\\anaconda3\\envs\\assignment_week_6\\lib\\site-packages\\pandas\\core\\arraylike.py:358: RuntimeWarning: divide by zero encountered in log\n  result = getattr(ufunc, method)(*inputs, **kwargs)\nC:\\Users\\gimat\\anaconda3\\envs\\assignment_week_6\\lib\\site-packages\\pandas\\core\\arraylike.py:358: RuntimeWarning: invalid value encountered in log\n  result = getattr(ufunc, method)(*inputs, **kwargs)\n"
     ]
    },
    {
     "output_type": "execute_result",
     "data": {
      "text/plain": [
       "       newid  age  relation  educatio  race  sex  weeksin  emplcont  incoll  \\\n",
       "0      57811   68         1        24     1    1       52       NaN     3.0   \n",
       "1      57812   53         1        12     1    0       52       1.0     3.0   \n",
       "2      57813   37         1        12     1    0       52       1.0     3.0   \n",
       "3      57814   68         1        22     1    0       52       NaN     3.0   \n",
       "4      57815   35         1        12     2    1       39       NaN     NaN   \n",
       "...      ...  ...       ...       ...   ...  ...      ...       ...     ...   \n",
       "23293  92654   40         1        44     1    1       13       2.0     2.0   \n",
       "23294  92656   18         1        39     1    0       13       NaN     1.0   \n",
       "23295  92667   34         1        41     1    1       13       2.0     3.0   \n",
       "23296  92685   18         1        40     1    0       13       NaN     1.0   \n",
       "23297  92691   28         1        45     1    0       13       2.0     3.0   \n",
       "\n",
       "       nonwork  ...   ee    meanee      totalexp            tt    ltotexp  \\\n",
       "0          5.0  ...  1.0  0.521694  19856.199219  18945.199219   9.929037   \n",
       "1          NaN  ...  0.0  0.521694  20149.000000  17131.000000   9.828376   \n",
       "2          NaN  ...  0.0  0.521694  47880.000000  40649.000000  10.692461   \n",
       "3          NaN  ...  1.0  0.521694  38343.351562  34663.601562  10.533176   \n",
       "4          NaN  ...  0.0  0.521694   4516.000000   4516.000000   8.495113   \n",
       "...        ...  ...  ...       ...           ...           ...        ...   \n",
       "23293      NaN  ...  1.0  0.521694  12130.959961   9609.959961   9.170555   \n",
       "23294      NaN  ...  0.0  0.521694   2671.000000   2671.000000   7.890208   \n",
       "23295      NaN  ...  1.0  0.521694   6042.000000   4092.000000   8.316789   \n",
       "23296      3.0  ...  1.0  0.521694  13170.000000   1170.000000   7.064759   \n",
       "23297      NaN  ...  1.0  0.521694   3127.000000   3127.000000   8.047830   \n",
       "\n",
       "       single  wifeH   exptot97  expnondur97    wages97  \n",
       "0           1      0   9.976003     9.929037   9.398836  \n",
       "1           1      1   9.990642     9.828376       -inf  \n",
       "2           1      1  10.856184    10.692461       -inf  \n",
       "3           1      1  10.634068    10.533176  10.518718  \n",
       "4           1      0   8.495113     8.495113       -inf  \n",
       "...       ...    ...        ...          ...        ...  \n",
       "23293       1      0   9.403516     9.170555  10.900621  \n",
       "23294       1      0   7.890208     7.890208       -inf  \n",
       "23295       1      0   8.706491     8.316789  10.679711  \n",
       "23296       1      0   9.485697     7.064759       -inf  \n",
       "23297       1      0   8.047830     8.047830       -inf  \n",
       "\n",
       "[23298 rows x 180 columns]"
      ],
      "text/html": "<div>\n<style scoped>\n    .dataframe tbody tr th:only-of-type {\n        vertical-align: middle;\n    }\n\n    .dataframe tbody tr th {\n        vertical-align: top;\n    }\n\n    .dataframe thead th {\n        text-align: right;\n    }\n</style>\n<table border=\"1\" class=\"dataframe\">\n  <thead>\n    <tr style=\"text-align: right;\">\n      <th></th>\n      <th>newid</th>\n      <th>age</th>\n      <th>relation</th>\n      <th>educatio</th>\n      <th>race</th>\n      <th>sex</th>\n      <th>weeksin</th>\n      <th>emplcont</th>\n      <th>incoll</th>\n      <th>nonwork</th>\n      <th>...</th>\n      <th>ee</th>\n      <th>meanee</th>\n      <th>totalexp</th>\n      <th>tt</th>\n      <th>ltotexp</th>\n      <th>single</th>\n      <th>wifeH</th>\n      <th>exptot97</th>\n      <th>expnondur97</th>\n      <th>wages97</th>\n    </tr>\n  </thead>\n  <tbody>\n    <tr>\n      <th>0</th>\n      <td>57811</td>\n      <td>68</td>\n      <td>1</td>\n      <td>24</td>\n      <td>1</td>\n      <td>1</td>\n      <td>52</td>\n      <td>NaN</td>\n      <td>3.0</td>\n      <td>5.0</td>\n      <td>...</td>\n      <td>1.0</td>\n      <td>0.521694</td>\n      <td>19856.199219</td>\n      <td>18945.199219</td>\n      <td>9.929037</td>\n      <td>1</td>\n      <td>0</td>\n      <td>9.976003</td>\n      <td>9.929037</td>\n      <td>9.398836</td>\n    </tr>\n    <tr>\n      <th>1</th>\n      <td>57812</td>\n      <td>53</td>\n      <td>1</td>\n      <td>12</td>\n      <td>1</td>\n      <td>0</td>\n      <td>52</td>\n      <td>1.0</td>\n      <td>3.0</td>\n      <td>NaN</td>\n      <td>...</td>\n      <td>0.0</td>\n      <td>0.521694</td>\n      <td>20149.000000</td>\n      <td>17131.000000</td>\n      <td>9.828376</td>\n      <td>1</td>\n      <td>1</td>\n      <td>9.990642</td>\n      <td>9.828376</td>\n      <td>-inf</td>\n    </tr>\n    <tr>\n      <th>2</th>\n      <td>57813</td>\n      <td>37</td>\n      <td>1</td>\n      <td>12</td>\n      <td>1</td>\n      <td>0</td>\n      <td>52</td>\n      <td>1.0</td>\n      <td>3.0</td>\n      <td>NaN</td>\n      <td>...</td>\n      <td>0.0</td>\n      <td>0.521694</td>\n      <td>47880.000000</td>\n      <td>40649.000000</td>\n      <td>10.692461</td>\n      <td>1</td>\n      <td>1</td>\n      <td>10.856184</td>\n      <td>10.692461</td>\n      <td>-inf</td>\n    </tr>\n    <tr>\n      <th>3</th>\n      <td>57814</td>\n      <td>68</td>\n      <td>1</td>\n      <td>22</td>\n      <td>1</td>\n      <td>0</td>\n      <td>52</td>\n      <td>NaN</td>\n      <td>3.0</td>\n      <td>NaN</td>\n      <td>...</td>\n      <td>1.0</td>\n      <td>0.521694</td>\n      <td>38343.351562</td>\n      <td>34663.601562</td>\n      <td>10.533176</td>\n      <td>1</td>\n      <td>1</td>\n      <td>10.634068</td>\n      <td>10.533176</td>\n      <td>10.518718</td>\n    </tr>\n    <tr>\n      <th>4</th>\n      <td>57815</td>\n      <td>35</td>\n      <td>1</td>\n      <td>12</td>\n      <td>2</td>\n      <td>1</td>\n      <td>39</td>\n      <td>NaN</td>\n      <td>NaN</td>\n      <td>NaN</td>\n      <td>...</td>\n      <td>0.0</td>\n      <td>0.521694</td>\n      <td>4516.000000</td>\n      <td>4516.000000</td>\n      <td>8.495113</td>\n      <td>1</td>\n      <td>0</td>\n      <td>8.495113</td>\n      <td>8.495113</td>\n      <td>-inf</td>\n    </tr>\n    <tr>\n      <th>...</th>\n      <td>...</td>\n      <td>...</td>\n      <td>...</td>\n      <td>...</td>\n      <td>...</td>\n      <td>...</td>\n      <td>...</td>\n      <td>...</td>\n      <td>...</td>\n      <td>...</td>\n      <td>...</td>\n      <td>...</td>\n      <td>...</td>\n      <td>...</td>\n      <td>...</td>\n      <td>...</td>\n      <td>...</td>\n      <td>...</td>\n      <td>...</td>\n      <td>...</td>\n      <td>...</td>\n    </tr>\n    <tr>\n      <th>23293</th>\n      <td>92654</td>\n      <td>40</td>\n      <td>1</td>\n      <td>44</td>\n      <td>1</td>\n      <td>1</td>\n      <td>13</td>\n      <td>2.0</td>\n      <td>2.0</td>\n      <td>NaN</td>\n      <td>...</td>\n      <td>1.0</td>\n      <td>0.521694</td>\n      <td>12130.959961</td>\n      <td>9609.959961</td>\n      <td>9.170555</td>\n      <td>1</td>\n      <td>0</td>\n      <td>9.403516</td>\n      <td>9.170555</td>\n      <td>10.900621</td>\n    </tr>\n    <tr>\n      <th>23294</th>\n      <td>92656</td>\n      <td>18</td>\n      <td>1</td>\n      <td>39</td>\n      <td>1</td>\n      <td>0</td>\n      <td>13</td>\n      <td>NaN</td>\n      <td>1.0</td>\n      <td>NaN</td>\n      <td>...</td>\n      <td>0.0</td>\n      <td>0.521694</td>\n      <td>2671.000000</td>\n      <td>2671.000000</td>\n      <td>7.890208</td>\n      <td>1</td>\n      <td>0</td>\n      <td>7.890208</td>\n      <td>7.890208</td>\n      <td>-inf</td>\n    </tr>\n    <tr>\n      <th>23295</th>\n      <td>92667</td>\n      <td>34</td>\n      <td>1</td>\n      <td>41</td>\n      <td>1</td>\n      <td>1</td>\n      <td>13</td>\n      <td>2.0</td>\n      <td>3.0</td>\n      <td>NaN</td>\n      <td>...</td>\n      <td>1.0</td>\n      <td>0.521694</td>\n      <td>6042.000000</td>\n      <td>4092.000000</td>\n      <td>8.316789</td>\n      <td>1</td>\n      <td>0</td>\n      <td>8.706491</td>\n      <td>8.316789</td>\n      <td>10.679711</td>\n    </tr>\n    <tr>\n      <th>23296</th>\n      <td>92685</td>\n      <td>18</td>\n      <td>1</td>\n      <td>40</td>\n      <td>1</td>\n      <td>0</td>\n      <td>13</td>\n      <td>NaN</td>\n      <td>1.0</td>\n      <td>3.0</td>\n      <td>...</td>\n      <td>1.0</td>\n      <td>0.521694</td>\n      <td>13170.000000</td>\n      <td>1170.000000</td>\n      <td>7.064759</td>\n      <td>1</td>\n      <td>0</td>\n      <td>9.485697</td>\n      <td>7.064759</td>\n      <td>-inf</td>\n    </tr>\n    <tr>\n      <th>23297</th>\n      <td>92691</td>\n      <td>28</td>\n      <td>1</td>\n      <td>45</td>\n      <td>1</td>\n      <td>0</td>\n      <td>13</td>\n      <td>2.0</td>\n      <td>3.0</td>\n      <td>NaN</td>\n      <td>...</td>\n      <td>1.0</td>\n      <td>0.521694</td>\n      <td>3127.000000</td>\n      <td>3127.000000</td>\n      <td>8.047830</td>\n      <td>1</td>\n      <td>0</td>\n      <td>8.047830</td>\n      <td>8.047830</td>\n      <td>-inf</td>\n    </tr>\n  </tbody>\n</table>\n<p>23298 rows × 180 columns</p>\n</div>"
     },
     "metadata": {},
     "execution_count": 221
    }
   ],
   "source": [
    "#**************THIS IS TABLE DESCRIPTIVE\n",
    "\n",
    "cex84_02_div['exptot97'] = np.log(cex84_02_div['totalexp']/cex84_02_div['cpi_97'])\n",
    "cex84_02_div['expnondur97'] = np.log(cex84_02_div['tt']/cex84_02_div['cpi_97'])\n",
    "cex84_02_div['wages97'] = np.log(cex84_02_div['income']/cex84_02_div['cpi_97'])\n",
    "cex84_02_div['sex'] = cex84_02_div['sex'] - 1\n",
    "cex84_02_div"
   ]
  },
  {
   "cell_type": "code",
   "execution_count": 222,
   "metadata": {},
   "outputs": [
    {
     "output_type": "execute_result",
     "data": {
      "text/plain": [
       "       newid  age  relation  educatio  race  sex  weeksin  emplcont  incoll  \\\n",
       "0      57811   68         1        24     1    1       52       NaN     3.0   \n",
       "1      57812   53         1        12     1    0       52       1.0     3.0   \n",
       "2      57813   37         1        12     1    0       52       1.0     3.0   \n",
       "3      57814   68         1        22     1    0       52       NaN     3.0   \n",
       "4      57815   35         1        12     2    1       39       NaN     NaN   \n",
       "...      ...  ...       ...       ...   ...  ...      ...       ...     ...   \n",
       "23293  92654   40         1        44     1    1       13       2.0     2.0   \n",
       "23294  92656   18         1        39     1    0       13       NaN     1.0   \n",
       "23295  92667   34         1        41     1    1       13       2.0     3.0   \n",
       "23296  92685   18         1        40     1    0       13       NaN     1.0   \n",
       "23297  92691   28         1        45     1    0       13       2.0     3.0   \n",
       "\n",
       "       nonwork  ...   ee    meanee      totalexp            tt    ltotexp  \\\n",
       "0          5.0  ...  1.0  0.521694  19856.199219  18945.199219   9.929037   \n",
       "1          NaN  ...  0.0  0.521694  20149.000000  17131.000000   9.828376   \n",
       "2          NaN  ...  0.0  0.521694  47880.000000  40649.000000  10.692461   \n",
       "3          NaN  ...  1.0  0.521694  38343.351562  34663.601562  10.533176   \n",
       "4          NaN  ...  0.0  0.521694   4516.000000   4516.000000   8.495113   \n",
       "...        ...  ...  ...       ...           ...           ...        ...   \n",
       "23293      NaN  ...  1.0  0.521694  12130.959961   9609.959961   9.170555   \n",
       "23294      NaN  ...  0.0  0.521694   2671.000000   2671.000000   7.890208   \n",
       "23295      NaN  ...  1.0  0.521694   6042.000000   4092.000000   8.316789   \n",
       "23296      3.0  ...  1.0  0.521694  13170.000000   1170.000000   7.064759   \n",
       "23297      NaN  ...  1.0  0.521694   3127.000000   3127.000000   8.047830   \n",
       "\n",
       "       single  wifeH   exptot97  expnondur97    wages97  \n",
       "0           1      0   9.976003     9.929037   9.398836  \n",
       "1           1      1   9.990642     9.828376       -inf  \n",
       "2           1      1  10.856184    10.692461       -inf  \n",
       "3           1      1  10.634068    10.533176  10.518718  \n",
       "4           1      0   8.495113     8.495113       -inf  \n",
       "...       ...    ...        ...          ...        ...  \n",
       "23293       1      0   9.403516     9.170555  10.900621  \n",
       "23294       1      0   7.890208     7.890208       -inf  \n",
       "23295       1      0   8.706491     8.316789  10.679711  \n",
       "23296       1      0   9.485697     7.064759       -inf  \n",
       "23297       1      0   8.047830     8.047830       -inf  \n",
       "\n",
       "[23298 rows x 180 columns]"
      ],
      "text/html": "<div>\n<style scoped>\n    .dataframe tbody tr th:only-of-type {\n        vertical-align: middle;\n    }\n\n    .dataframe tbody tr th {\n        vertical-align: top;\n    }\n\n    .dataframe thead th {\n        text-align: right;\n    }\n</style>\n<table border=\"1\" class=\"dataframe\">\n  <thead>\n    <tr style=\"text-align: right;\">\n      <th></th>\n      <th>newid</th>\n      <th>age</th>\n      <th>relation</th>\n      <th>educatio</th>\n      <th>race</th>\n      <th>sex</th>\n      <th>weeksin</th>\n      <th>emplcont</th>\n      <th>incoll</th>\n      <th>nonwork</th>\n      <th>...</th>\n      <th>ee</th>\n      <th>meanee</th>\n      <th>totalexp</th>\n      <th>tt</th>\n      <th>ltotexp</th>\n      <th>single</th>\n      <th>wifeH</th>\n      <th>exptot97</th>\n      <th>expnondur97</th>\n      <th>wages97</th>\n    </tr>\n  </thead>\n  <tbody>\n    <tr>\n      <th>0</th>\n      <td>57811</td>\n      <td>68</td>\n      <td>1</td>\n      <td>24</td>\n      <td>1</td>\n      <td>1</td>\n      <td>52</td>\n      <td>NaN</td>\n      <td>3.0</td>\n      <td>5.0</td>\n      <td>...</td>\n      <td>1.0</td>\n      <td>0.521694</td>\n      <td>19856.199219</td>\n      <td>18945.199219</td>\n      <td>9.929037</td>\n      <td>1</td>\n      <td>0</td>\n      <td>9.976003</td>\n      <td>9.929037</td>\n      <td>9.398836</td>\n    </tr>\n    <tr>\n      <th>1</th>\n      <td>57812</td>\n      <td>53</td>\n      <td>1</td>\n      <td>12</td>\n      <td>1</td>\n      <td>0</td>\n      <td>52</td>\n      <td>1.0</td>\n      <td>3.0</td>\n      <td>NaN</td>\n      <td>...</td>\n      <td>0.0</td>\n      <td>0.521694</td>\n      <td>20149.000000</td>\n      <td>17131.000000</td>\n      <td>9.828376</td>\n      <td>1</td>\n      <td>1</td>\n      <td>9.990642</td>\n      <td>9.828376</td>\n      <td>-inf</td>\n    </tr>\n    <tr>\n      <th>2</th>\n      <td>57813</td>\n      <td>37</td>\n      <td>1</td>\n      <td>12</td>\n      <td>1</td>\n      <td>0</td>\n      <td>52</td>\n      <td>1.0</td>\n      <td>3.0</td>\n      <td>NaN</td>\n      <td>...</td>\n      <td>0.0</td>\n      <td>0.521694</td>\n      <td>47880.000000</td>\n      <td>40649.000000</td>\n      <td>10.692461</td>\n      <td>1</td>\n      <td>1</td>\n      <td>10.856184</td>\n      <td>10.692461</td>\n      <td>-inf</td>\n    </tr>\n    <tr>\n      <th>3</th>\n      <td>57814</td>\n      <td>68</td>\n      <td>1</td>\n      <td>22</td>\n      <td>1</td>\n      <td>0</td>\n      <td>52</td>\n      <td>NaN</td>\n      <td>3.0</td>\n      <td>NaN</td>\n      <td>...</td>\n      <td>1.0</td>\n      <td>0.521694</td>\n      <td>38343.351562</td>\n      <td>34663.601562</td>\n      <td>10.533176</td>\n      <td>1</td>\n      <td>1</td>\n      <td>10.634068</td>\n      <td>10.533176</td>\n      <td>10.518718</td>\n    </tr>\n    <tr>\n      <th>4</th>\n      <td>57815</td>\n      <td>35</td>\n      <td>1</td>\n      <td>12</td>\n      <td>2</td>\n      <td>1</td>\n      <td>39</td>\n      <td>NaN</td>\n      <td>NaN</td>\n      <td>NaN</td>\n      <td>...</td>\n      <td>0.0</td>\n      <td>0.521694</td>\n      <td>4516.000000</td>\n      <td>4516.000000</td>\n      <td>8.495113</td>\n      <td>1</td>\n      <td>0</td>\n      <td>8.495113</td>\n      <td>8.495113</td>\n      <td>-inf</td>\n    </tr>\n    <tr>\n      <th>...</th>\n      <td>...</td>\n      <td>...</td>\n      <td>...</td>\n      <td>...</td>\n      <td>...</td>\n      <td>...</td>\n      <td>...</td>\n      <td>...</td>\n      <td>...</td>\n      <td>...</td>\n      <td>...</td>\n      <td>...</td>\n      <td>...</td>\n      <td>...</td>\n      <td>...</td>\n      <td>...</td>\n      <td>...</td>\n      <td>...</td>\n      <td>...</td>\n      <td>...</td>\n      <td>...</td>\n    </tr>\n    <tr>\n      <th>23293</th>\n      <td>92654</td>\n      <td>40</td>\n      <td>1</td>\n      <td>44</td>\n      <td>1</td>\n      <td>1</td>\n      <td>13</td>\n      <td>2.0</td>\n      <td>2.0</td>\n      <td>NaN</td>\n      <td>...</td>\n      <td>1.0</td>\n      <td>0.521694</td>\n      <td>12130.959961</td>\n      <td>9609.959961</td>\n      <td>9.170555</td>\n      <td>1</td>\n      <td>0</td>\n      <td>9.403516</td>\n      <td>9.170555</td>\n      <td>10.900621</td>\n    </tr>\n    <tr>\n      <th>23294</th>\n      <td>92656</td>\n      <td>18</td>\n      <td>1</td>\n      <td>39</td>\n      <td>1</td>\n      <td>0</td>\n      <td>13</td>\n      <td>NaN</td>\n      <td>1.0</td>\n      <td>NaN</td>\n      <td>...</td>\n      <td>0.0</td>\n      <td>0.521694</td>\n      <td>2671.000000</td>\n      <td>2671.000000</td>\n      <td>7.890208</td>\n      <td>1</td>\n      <td>0</td>\n      <td>7.890208</td>\n      <td>7.890208</td>\n      <td>-inf</td>\n    </tr>\n    <tr>\n      <th>23295</th>\n      <td>92667</td>\n      <td>34</td>\n      <td>1</td>\n      <td>41</td>\n      <td>1</td>\n      <td>1</td>\n      <td>13</td>\n      <td>2.0</td>\n      <td>3.0</td>\n      <td>NaN</td>\n      <td>...</td>\n      <td>1.0</td>\n      <td>0.521694</td>\n      <td>6042.000000</td>\n      <td>4092.000000</td>\n      <td>8.316789</td>\n      <td>1</td>\n      <td>0</td>\n      <td>8.706491</td>\n      <td>8.316789</td>\n      <td>10.679711</td>\n    </tr>\n    <tr>\n      <th>23296</th>\n      <td>92685</td>\n      <td>18</td>\n      <td>1</td>\n      <td>40</td>\n      <td>1</td>\n      <td>0</td>\n      <td>13</td>\n      <td>NaN</td>\n      <td>1.0</td>\n      <td>3.0</td>\n      <td>...</td>\n      <td>1.0</td>\n      <td>0.521694</td>\n      <td>13170.000000</td>\n      <td>1170.000000</td>\n      <td>7.064759</td>\n      <td>1</td>\n      <td>0</td>\n      <td>9.485697</td>\n      <td>7.064759</td>\n      <td>-inf</td>\n    </tr>\n    <tr>\n      <th>23297</th>\n      <td>92691</td>\n      <td>28</td>\n      <td>1</td>\n      <td>45</td>\n      <td>1</td>\n      <td>0</td>\n      <td>13</td>\n      <td>2.0</td>\n      <td>3.0</td>\n      <td>NaN</td>\n      <td>...</td>\n      <td>1.0</td>\n      <td>0.521694</td>\n      <td>3127.000000</td>\n      <td>3127.000000</td>\n      <td>8.047830</td>\n      <td>1</td>\n      <td>0</td>\n      <td>8.047830</td>\n      <td>8.047830</td>\n      <td>-inf</td>\n    </tr>\n  </tbody>\n</table>\n<p>23298 rows × 180 columns</p>\n</div>"
     },
     "metadata": {},
     "execution_count": 222
    }
   ],
   "source": [
    "cex84_02_div.rename(columns={'foodhome':'share_1', 'foodout':'share_2', 'tobacco':'share_3', 'alcohol':'share_4', 'niteclub':'share_5', 'clothes':'share_6','tailors':'share_7', 'jewelry':'share_8', 'hlthbeau':'share_9', 'renthome':'share_10', 'furnish':'share_11', 'elect':'share_12', 'gas':'share_13','water':'share_14', 'homefuel':'share_15','telephon':'share_16', 'servants':'share_17', 'drugs':'share_18', 'orthopd':'share_19', 'doctors':'share_20', 'hospital':'share_21', 'helthins':'share_22', 'busiserv':'share_23', 'lifeins':'share_24', 'parts':'share_25','carservs':'share_26', 'gasoline':'share_27', 'autoins':'share_28', 'masstran':'share_29', 'othtrans':'share_30', 'airfare':'share_31', 'pubs':'share_32', 'recsport':'share_33', 'othrec':'share_34', 'highedu':'share_35','lowedu':'share_36', 'othedu':'share_37', 'charity':'share_38'}, inplace=True)\n",
    "cex84_02_div"
   ]
  },
  {
   "cell_type": "code",
   "execution_count": 223,
   "metadata": {},
   "outputs": [
    {
     "output_type": "execute_result",
     "data": {
      "text/plain": [
       "['share_1',\n",
       " 'share_2',\n",
       " 'share_3',\n",
       " 'share_4',\n",
       " 'share_5',\n",
       " 'share_6',\n",
       " 'share_7',\n",
       " 'share_8',\n",
       " 'share_9',\n",
       " 'share_10',\n",
       " 'share_11',\n",
       " 'share_12',\n",
       " 'share_13',\n",
       " 'share_14',\n",
       " 'share_15',\n",
       " 'share_16',\n",
       " 'share_17',\n",
       " 'share_18',\n",
       " 'share_19',\n",
       " 'share_20',\n",
       " 'share_21',\n",
       " 'share_22',\n",
       " 'share_23',\n",
       " 'share_24',\n",
       " 'share_25',\n",
       " 'share_26',\n",
       " 'share_27',\n",
       " 'share_28',\n",
       " 'share_29',\n",
       " 'share_30',\n",
       " 'share_31',\n",
       " 'share_32',\n",
       " 'share_33',\n",
       " 'share_34',\n",
       " 'share_35',\n",
       " 'share_36',\n",
       " 'share_37',\n",
       " 'share_38']"
      ]
     },
     "metadata": {},
     "execution_count": 223
    }
   ],
   "source": [
    "filter_col = [col for col in cex84_02_div if col.startswith('share')]\n",
    "filter_col"
   ]
  },
  {
   "cell_type": "code",
   "execution_count": 193,
   "metadata": {},
   "outputs": [],
   "source": [
    "cex84_02_div = cex84_02_div[['share_1',\n",
    " 'share_2',\n",
    " 'share_3',\n",
    " 'share_4',\n",
    " 'share_5',\n",
    " 'share_6',\n",
    " 'share_7',\n",
    " 'share_8',\n",
    " 'share_9',\n",
    " 'share_10',\n",
    " 'share_11',\n",
    " 'share_12',\n",
    " 'share_13',\n",
    " 'share_14',\n",
    " 'share_15',\n",
    " 'share_16',\n",
    " 'share_17',\n",
    " 'share_18',\n",
    " 'share_19',\n",
    " 'share_20',\n",
    " 'share_21',\n",
    " 'share_22',\n",
    " 'share_23',\n",
    " 'share_24',\n",
    " 'share_25',\n",
    " 'share_26',\n",
    " 'share_27',\n",
    " 'share_28',\n",
    " 'share_29',\n",
    " 'share_30',\n",
    " 'share_31',\n",
    " 'share_32',\n",
    " 'share_33',\n",
    " 'share_34',\n",
    " 'share_35',\n",
    " 'share_36',\n",
    " 'share_37',\n",
    " 'share_38','year', 'ltotexp', 'age', 'ee', 'sex', 'nchild', 'year', 'meanee']]\n"
   ]
  },
  {
   "cell_type": "code",
   "execution_count": 194,
   "metadata": {},
   "outputs": [
    {
     "output_type": "execute_result",
     "data": {
      "text/plain": [
       "        share_1   share_2   share_3   share_4   share_5   share_6   share_7  \\\n",
       "0      0.170861  0.038004  0.000000  0.023278  0.007284  0.015043  0.007231   \n",
       "1      0.248088  0.122526  0.000000  0.000000  0.000992  0.034207  0.003211   \n",
       "2      0.140372  0.086005  0.000000  0.016015  0.005904  0.063200  0.004920   \n",
       "3      0.128665  0.070391  0.024002  0.000000  0.001731  0.132733  0.005885   \n",
       "4      0.437555  0.026572  0.000000  0.003322  0.000000  0.032551  0.015500   \n",
       "...         ...       ...       ...       ...       ...       ...       ...   \n",
       "23293  0.088970  0.045266  0.000000  0.004683  0.003122  0.096775  0.053070   \n",
       "23294  0.048671  0.172220  0.000000  0.000000  0.000000  0.088731  0.000000   \n",
       "23295  0.190616  0.130010  0.095308  0.036657  0.014174  0.010020  0.000000   \n",
       "23296  0.333333  0.401709  0.000000  0.000000  0.000000  0.000000  0.000000   \n",
       "23297  0.228654  0.047969  0.000000  0.000000  0.009594  0.115126  0.009594   \n",
       "\n",
       "        share_8   share_9  share_10  ...  share_37  share_38  year    ltotexp  \\\n",
       "0      0.000000  0.058273  0.007073  ...  0.000000  0.015835  94.0   9.929037   \n",
       "1      0.000000  0.019964  0.007997  ...  0.000000  0.001167  94.0   9.828376   \n",
       "2      0.001722  0.009963  0.022141  ...  0.001107  0.000000  94.0  10.692461   \n",
       "3      0.006174  0.020079  0.001875  ...  0.008655  0.063467  94.0  10.533176   \n",
       "4      0.000000  0.038530  0.070416  ...  0.000000  0.000000  94.0   8.495113   \n",
       "...         ...       ...       ...  ...       ...       ...   ...        ...   \n",
       "23293  0.031218  0.006244  0.000000  ...  0.013007  0.078564  97.0   9.170555   \n",
       "23294  0.000000  0.007862  0.219019  ...  0.000000  0.000000  97.0   7.890208   \n",
       "23295  0.000000  0.008798  0.205279  ...  0.000489  0.000000  97.0   8.316789   \n",
       "23296  0.000000  0.025641  0.000000  ...  0.000000  0.000000  97.0   7.064759   \n",
       "23297  0.000000  0.019188  0.169492  ...  0.000000  0.000000  97.0   8.047830   \n",
       "\n",
       "       age   ee  sex  nchild  year    meanee  \n",
       "0       68  1.0    1     0.0  94.0  0.521694  \n",
       "1       53  0.0    0     1.0  94.0  0.521694  \n",
       "2       37  0.0    0     2.0  94.0  0.521694  \n",
       "3       68  1.0    0     0.0  94.0  0.521694  \n",
       "4       35  0.0    1     1.0  94.0  0.521694  \n",
       "...    ...  ...  ...     ...   ...       ...  \n",
       "23293   40  1.0    1     0.0  97.0  0.521694  \n",
       "23294   18  0.0    0     0.0  97.0  0.521694  \n",
       "23295   34  1.0    1     1.0  97.0  0.521694  \n",
       "23296   18  1.0    0     0.0  97.0  0.521694  \n",
       "23297   28  1.0    0     0.0  97.0  0.521694  \n",
       "\n",
       "[23298 rows x 46 columns]"
      ],
      "text/html": "<div>\n<style scoped>\n    .dataframe tbody tr th:only-of-type {\n        vertical-align: middle;\n    }\n\n    .dataframe tbody tr th {\n        vertical-align: top;\n    }\n\n    .dataframe thead th {\n        text-align: right;\n    }\n</style>\n<table border=\"1\" class=\"dataframe\">\n  <thead>\n    <tr style=\"text-align: right;\">\n      <th></th>\n      <th>share_1</th>\n      <th>share_2</th>\n      <th>share_3</th>\n      <th>share_4</th>\n      <th>share_5</th>\n      <th>share_6</th>\n      <th>share_7</th>\n      <th>share_8</th>\n      <th>share_9</th>\n      <th>share_10</th>\n      <th>...</th>\n      <th>share_37</th>\n      <th>share_38</th>\n      <th>year</th>\n      <th>ltotexp</th>\n      <th>age</th>\n      <th>ee</th>\n      <th>sex</th>\n      <th>nchild</th>\n      <th>year</th>\n      <th>meanee</th>\n    </tr>\n  </thead>\n  <tbody>\n    <tr>\n      <th>0</th>\n      <td>0.170861</td>\n      <td>0.038004</td>\n      <td>0.000000</td>\n      <td>0.023278</td>\n      <td>0.007284</td>\n      <td>0.015043</td>\n      <td>0.007231</td>\n      <td>0.000000</td>\n      <td>0.058273</td>\n      <td>0.007073</td>\n      <td>...</td>\n      <td>0.000000</td>\n      <td>0.015835</td>\n      <td>94.0</td>\n      <td>9.929037</td>\n      <td>68</td>\n      <td>1.0</td>\n      <td>1</td>\n      <td>0.0</td>\n      <td>94.0</td>\n      <td>0.521694</td>\n    </tr>\n    <tr>\n      <th>1</th>\n      <td>0.248088</td>\n      <td>0.122526</td>\n      <td>0.000000</td>\n      <td>0.000000</td>\n      <td>0.000992</td>\n      <td>0.034207</td>\n      <td>0.003211</td>\n      <td>0.000000</td>\n      <td>0.019964</td>\n      <td>0.007997</td>\n      <td>...</td>\n      <td>0.000000</td>\n      <td>0.001167</td>\n      <td>94.0</td>\n      <td>9.828376</td>\n      <td>53</td>\n      <td>0.0</td>\n      <td>0</td>\n      <td>1.0</td>\n      <td>94.0</td>\n      <td>0.521694</td>\n    </tr>\n    <tr>\n      <th>2</th>\n      <td>0.140372</td>\n      <td>0.086005</td>\n      <td>0.000000</td>\n      <td>0.016015</td>\n      <td>0.005904</td>\n      <td>0.063200</td>\n      <td>0.004920</td>\n      <td>0.001722</td>\n      <td>0.009963</td>\n      <td>0.022141</td>\n      <td>...</td>\n      <td>0.001107</td>\n      <td>0.000000</td>\n      <td>94.0</td>\n      <td>10.692461</td>\n      <td>37</td>\n      <td>0.0</td>\n      <td>0</td>\n      <td>2.0</td>\n      <td>94.0</td>\n      <td>0.521694</td>\n    </tr>\n    <tr>\n      <th>3</th>\n      <td>0.128665</td>\n      <td>0.070391</td>\n      <td>0.024002</td>\n      <td>0.000000</td>\n      <td>0.001731</td>\n      <td>0.132733</td>\n      <td>0.005885</td>\n      <td>0.006174</td>\n      <td>0.020079</td>\n      <td>0.001875</td>\n      <td>...</td>\n      <td>0.008655</td>\n      <td>0.063467</td>\n      <td>94.0</td>\n      <td>10.533176</td>\n      <td>68</td>\n      <td>1.0</td>\n      <td>0</td>\n      <td>0.0</td>\n      <td>94.0</td>\n      <td>0.521694</td>\n    </tr>\n    <tr>\n      <th>4</th>\n      <td>0.437555</td>\n      <td>0.026572</td>\n      <td>0.000000</td>\n      <td>0.003322</td>\n      <td>0.000000</td>\n      <td>0.032551</td>\n      <td>0.015500</td>\n      <td>0.000000</td>\n      <td>0.038530</td>\n      <td>0.070416</td>\n      <td>...</td>\n      <td>0.000000</td>\n      <td>0.000000</td>\n      <td>94.0</td>\n      <td>8.495113</td>\n      <td>35</td>\n      <td>0.0</td>\n      <td>1</td>\n      <td>1.0</td>\n      <td>94.0</td>\n      <td>0.521694</td>\n    </tr>\n    <tr>\n      <th>...</th>\n      <td>...</td>\n      <td>...</td>\n      <td>...</td>\n      <td>...</td>\n      <td>...</td>\n      <td>...</td>\n      <td>...</td>\n      <td>...</td>\n      <td>...</td>\n      <td>...</td>\n      <td>...</td>\n      <td>...</td>\n      <td>...</td>\n      <td>...</td>\n      <td>...</td>\n      <td>...</td>\n      <td>...</td>\n      <td>...</td>\n      <td>...</td>\n      <td>...</td>\n      <td>...</td>\n    </tr>\n    <tr>\n      <th>23293</th>\n      <td>0.088970</td>\n      <td>0.045266</td>\n      <td>0.000000</td>\n      <td>0.004683</td>\n      <td>0.003122</td>\n      <td>0.096775</td>\n      <td>0.053070</td>\n      <td>0.031218</td>\n      <td>0.006244</td>\n      <td>0.000000</td>\n      <td>...</td>\n      <td>0.013007</td>\n      <td>0.078564</td>\n      <td>97.0</td>\n      <td>9.170555</td>\n      <td>40</td>\n      <td>1.0</td>\n      <td>1</td>\n      <td>0.0</td>\n      <td>97.0</td>\n      <td>0.521694</td>\n    </tr>\n    <tr>\n      <th>23294</th>\n      <td>0.048671</td>\n      <td>0.172220</td>\n      <td>0.000000</td>\n      <td>0.000000</td>\n      <td>0.000000</td>\n      <td>0.088731</td>\n      <td>0.000000</td>\n      <td>0.000000</td>\n      <td>0.007862</td>\n      <td>0.219019</td>\n      <td>...</td>\n      <td>0.000000</td>\n      <td>0.000000</td>\n      <td>97.0</td>\n      <td>7.890208</td>\n      <td>18</td>\n      <td>0.0</td>\n      <td>0</td>\n      <td>0.0</td>\n      <td>97.0</td>\n      <td>0.521694</td>\n    </tr>\n    <tr>\n      <th>23295</th>\n      <td>0.190616</td>\n      <td>0.130010</td>\n      <td>0.095308</td>\n      <td>0.036657</td>\n      <td>0.014174</td>\n      <td>0.010020</td>\n      <td>0.000000</td>\n      <td>0.000000</td>\n      <td>0.008798</td>\n      <td>0.205279</td>\n      <td>...</td>\n      <td>0.000489</td>\n      <td>0.000000</td>\n      <td>97.0</td>\n      <td>8.316789</td>\n      <td>34</td>\n      <td>1.0</td>\n      <td>1</td>\n      <td>1.0</td>\n      <td>97.0</td>\n      <td>0.521694</td>\n    </tr>\n    <tr>\n      <th>23296</th>\n      <td>0.333333</td>\n      <td>0.401709</td>\n      <td>0.000000</td>\n      <td>0.000000</td>\n      <td>0.000000</td>\n      <td>0.000000</td>\n      <td>0.000000</td>\n      <td>0.000000</td>\n      <td>0.025641</td>\n      <td>0.000000</td>\n      <td>...</td>\n      <td>0.000000</td>\n      <td>0.000000</td>\n      <td>97.0</td>\n      <td>7.064759</td>\n      <td>18</td>\n      <td>1.0</td>\n      <td>0</td>\n      <td>0.0</td>\n      <td>97.0</td>\n      <td>0.521694</td>\n    </tr>\n    <tr>\n      <th>23297</th>\n      <td>0.228654</td>\n      <td>0.047969</td>\n      <td>0.000000</td>\n      <td>0.000000</td>\n      <td>0.009594</td>\n      <td>0.115126</td>\n      <td>0.009594</td>\n      <td>0.000000</td>\n      <td>0.019188</td>\n      <td>0.169492</td>\n      <td>...</td>\n      <td>0.000000</td>\n      <td>0.000000</td>\n      <td>97.0</td>\n      <td>8.047830</td>\n      <td>28</td>\n      <td>1.0</td>\n      <td>0</td>\n      <td>0.0</td>\n      <td>97.0</td>\n      <td>0.521694</td>\n    </tr>\n  </tbody>\n</table>\n<p>23298 rows × 46 columns</p>\n</div>"
     },
     "metadata": {},
     "execution_count": 194
    }
   ],
   "source": [
    "cex84_02_div"
   ]
  },
  {
   "cell_type": "code",
   "execution_count": 195,
   "metadata": {},
   "outputs": [
    {
     "output_type": "stream",
     "name": "stderr",
     "text": [
      "<ipython-input-195-714d7b4112dc>:1: SettingWithCopyWarning: \nA value is trying to be set on a copy of a slice from a DataFrame.\nTry using .loc[row_indexer,col_indexer] = value instead\n\nSee the caveats in the documentation: https://pandas.pydata.org/pandas-docs/stable/user_guide/indexing.html#returning-a-view-versus-a-copy\n  cex84_02_div['id'] = np.arange(1, len(cex84_02_div)+1)\n"
     ]
    },
    {
     "output_type": "execute_result",
     "data": {
      "text/plain": [
       "        share_1   share_2   share_3   share_4   share_5   share_6   share_7  \\\n",
       "0      0.170861  0.038004  0.000000  0.023278  0.007284  0.015043  0.007231   \n",
       "1      0.248088  0.122526  0.000000  0.000000  0.000992  0.034207  0.003211   \n",
       "2      0.140372  0.086005  0.000000  0.016015  0.005904  0.063200  0.004920   \n",
       "3      0.128665  0.070391  0.024002  0.000000  0.001731  0.132733  0.005885   \n",
       "4      0.437555  0.026572  0.000000  0.003322  0.000000  0.032551  0.015500   \n",
       "...         ...       ...       ...       ...       ...       ...       ...   \n",
       "23293  0.088970  0.045266  0.000000  0.004683  0.003122  0.096775  0.053070   \n",
       "23294  0.048671  0.172220  0.000000  0.000000  0.000000  0.088731  0.000000   \n",
       "23295  0.190616  0.130010  0.095308  0.036657  0.014174  0.010020  0.000000   \n",
       "23296  0.333333  0.401709  0.000000  0.000000  0.000000  0.000000  0.000000   \n",
       "23297  0.228654  0.047969  0.000000  0.000000  0.009594  0.115126  0.009594   \n",
       "\n",
       "        share_8   share_9  share_10  ...  share_38  year    ltotexp  age   ee  \\\n",
       "0      0.000000  0.058273  0.007073  ...  0.015835  94.0   9.929037   68  1.0   \n",
       "1      0.000000  0.019964  0.007997  ...  0.001167  94.0   9.828376   53  0.0   \n",
       "2      0.001722  0.009963  0.022141  ...  0.000000  94.0  10.692461   37  0.0   \n",
       "3      0.006174  0.020079  0.001875  ...  0.063467  94.0  10.533176   68  1.0   \n",
       "4      0.000000  0.038530  0.070416  ...  0.000000  94.0   8.495113   35  0.0   \n",
       "...         ...       ...       ...  ...       ...   ...        ...  ...  ...   \n",
       "23293  0.031218  0.006244  0.000000  ...  0.078564  97.0   9.170555   40  1.0   \n",
       "23294  0.000000  0.007862  0.219019  ...  0.000000  97.0   7.890208   18  0.0   \n",
       "23295  0.000000  0.008798  0.205279  ...  0.000000  97.0   8.316789   34  1.0   \n",
       "23296  0.000000  0.025641  0.000000  ...  0.000000  97.0   7.064759   18  1.0   \n",
       "23297  0.000000  0.019188  0.169492  ...  0.000000  97.0   8.047830   28  1.0   \n",
       "\n",
       "       sex  nchild  year    meanee     id  \n",
       "0        1     0.0  94.0  0.521694      1  \n",
       "1        0     1.0  94.0  0.521694      2  \n",
       "2        0     2.0  94.0  0.521694      3  \n",
       "3        0     0.0  94.0  0.521694      4  \n",
       "4        1     1.0  94.0  0.521694      5  \n",
       "...    ...     ...   ...       ...    ...  \n",
       "23293    1     0.0  97.0  0.521694  23294  \n",
       "23294    0     0.0  97.0  0.521694  23295  \n",
       "23295    1     1.0  97.0  0.521694  23296  \n",
       "23296    0     0.0  97.0  0.521694  23297  \n",
       "23297    0     0.0  97.0  0.521694  23298  \n",
       "\n",
       "[23298 rows x 47 columns]"
      ],
      "text/html": "<div>\n<style scoped>\n    .dataframe tbody tr th:only-of-type {\n        vertical-align: middle;\n    }\n\n    .dataframe tbody tr th {\n        vertical-align: top;\n    }\n\n    .dataframe thead th {\n        text-align: right;\n    }\n</style>\n<table border=\"1\" class=\"dataframe\">\n  <thead>\n    <tr style=\"text-align: right;\">\n      <th></th>\n      <th>share_1</th>\n      <th>share_2</th>\n      <th>share_3</th>\n      <th>share_4</th>\n      <th>share_5</th>\n      <th>share_6</th>\n      <th>share_7</th>\n      <th>share_8</th>\n      <th>share_9</th>\n      <th>share_10</th>\n      <th>...</th>\n      <th>share_38</th>\n      <th>year</th>\n      <th>ltotexp</th>\n      <th>age</th>\n      <th>ee</th>\n      <th>sex</th>\n      <th>nchild</th>\n      <th>year</th>\n      <th>meanee</th>\n      <th>id</th>\n    </tr>\n  </thead>\n  <tbody>\n    <tr>\n      <th>0</th>\n      <td>0.170861</td>\n      <td>0.038004</td>\n      <td>0.000000</td>\n      <td>0.023278</td>\n      <td>0.007284</td>\n      <td>0.015043</td>\n      <td>0.007231</td>\n      <td>0.000000</td>\n      <td>0.058273</td>\n      <td>0.007073</td>\n      <td>...</td>\n      <td>0.015835</td>\n      <td>94.0</td>\n      <td>9.929037</td>\n      <td>68</td>\n      <td>1.0</td>\n      <td>1</td>\n      <td>0.0</td>\n      <td>94.0</td>\n      <td>0.521694</td>\n      <td>1</td>\n    </tr>\n    <tr>\n      <th>1</th>\n      <td>0.248088</td>\n      <td>0.122526</td>\n      <td>0.000000</td>\n      <td>0.000000</td>\n      <td>0.000992</td>\n      <td>0.034207</td>\n      <td>0.003211</td>\n      <td>0.000000</td>\n      <td>0.019964</td>\n      <td>0.007997</td>\n      <td>...</td>\n      <td>0.001167</td>\n      <td>94.0</td>\n      <td>9.828376</td>\n      <td>53</td>\n      <td>0.0</td>\n      <td>0</td>\n      <td>1.0</td>\n      <td>94.0</td>\n      <td>0.521694</td>\n      <td>2</td>\n    </tr>\n    <tr>\n      <th>2</th>\n      <td>0.140372</td>\n      <td>0.086005</td>\n      <td>0.000000</td>\n      <td>0.016015</td>\n      <td>0.005904</td>\n      <td>0.063200</td>\n      <td>0.004920</td>\n      <td>0.001722</td>\n      <td>0.009963</td>\n      <td>0.022141</td>\n      <td>...</td>\n      <td>0.000000</td>\n      <td>94.0</td>\n      <td>10.692461</td>\n      <td>37</td>\n      <td>0.0</td>\n      <td>0</td>\n      <td>2.0</td>\n      <td>94.0</td>\n      <td>0.521694</td>\n      <td>3</td>\n    </tr>\n    <tr>\n      <th>3</th>\n      <td>0.128665</td>\n      <td>0.070391</td>\n      <td>0.024002</td>\n      <td>0.000000</td>\n      <td>0.001731</td>\n      <td>0.132733</td>\n      <td>0.005885</td>\n      <td>0.006174</td>\n      <td>0.020079</td>\n      <td>0.001875</td>\n      <td>...</td>\n      <td>0.063467</td>\n      <td>94.0</td>\n      <td>10.533176</td>\n      <td>68</td>\n      <td>1.0</td>\n      <td>0</td>\n      <td>0.0</td>\n      <td>94.0</td>\n      <td>0.521694</td>\n      <td>4</td>\n    </tr>\n    <tr>\n      <th>4</th>\n      <td>0.437555</td>\n      <td>0.026572</td>\n      <td>0.000000</td>\n      <td>0.003322</td>\n      <td>0.000000</td>\n      <td>0.032551</td>\n      <td>0.015500</td>\n      <td>0.000000</td>\n      <td>0.038530</td>\n      <td>0.070416</td>\n      <td>...</td>\n      <td>0.000000</td>\n      <td>94.0</td>\n      <td>8.495113</td>\n      <td>35</td>\n      <td>0.0</td>\n      <td>1</td>\n      <td>1.0</td>\n      <td>94.0</td>\n      <td>0.521694</td>\n      <td>5</td>\n    </tr>\n    <tr>\n      <th>...</th>\n      <td>...</td>\n      <td>...</td>\n      <td>...</td>\n      <td>...</td>\n      <td>...</td>\n      <td>...</td>\n      <td>...</td>\n      <td>...</td>\n      <td>...</td>\n      <td>...</td>\n      <td>...</td>\n      <td>...</td>\n      <td>...</td>\n      <td>...</td>\n      <td>...</td>\n      <td>...</td>\n      <td>...</td>\n      <td>...</td>\n      <td>...</td>\n      <td>...</td>\n      <td>...</td>\n    </tr>\n    <tr>\n      <th>23293</th>\n      <td>0.088970</td>\n      <td>0.045266</td>\n      <td>0.000000</td>\n      <td>0.004683</td>\n      <td>0.003122</td>\n      <td>0.096775</td>\n      <td>0.053070</td>\n      <td>0.031218</td>\n      <td>0.006244</td>\n      <td>0.000000</td>\n      <td>...</td>\n      <td>0.078564</td>\n      <td>97.0</td>\n      <td>9.170555</td>\n      <td>40</td>\n      <td>1.0</td>\n      <td>1</td>\n      <td>0.0</td>\n      <td>97.0</td>\n      <td>0.521694</td>\n      <td>23294</td>\n    </tr>\n    <tr>\n      <th>23294</th>\n      <td>0.048671</td>\n      <td>0.172220</td>\n      <td>0.000000</td>\n      <td>0.000000</td>\n      <td>0.000000</td>\n      <td>0.088731</td>\n      <td>0.000000</td>\n      <td>0.000000</td>\n      <td>0.007862</td>\n      <td>0.219019</td>\n      <td>...</td>\n      <td>0.000000</td>\n      <td>97.0</td>\n      <td>7.890208</td>\n      <td>18</td>\n      <td>0.0</td>\n      <td>0</td>\n      <td>0.0</td>\n      <td>97.0</td>\n      <td>0.521694</td>\n      <td>23295</td>\n    </tr>\n    <tr>\n      <th>23295</th>\n      <td>0.190616</td>\n      <td>0.130010</td>\n      <td>0.095308</td>\n      <td>0.036657</td>\n      <td>0.014174</td>\n      <td>0.010020</td>\n      <td>0.000000</td>\n      <td>0.000000</td>\n      <td>0.008798</td>\n      <td>0.205279</td>\n      <td>...</td>\n      <td>0.000000</td>\n      <td>97.0</td>\n      <td>8.316789</td>\n      <td>34</td>\n      <td>1.0</td>\n      <td>1</td>\n      <td>1.0</td>\n      <td>97.0</td>\n      <td>0.521694</td>\n      <td>23296</td>\n    </tr>\n    <tr>\n      <th>23296</th>\n      <td>0.333333</td>\n      <td>0.401709</td>\n      <td>0.000000</td>\n      <td>0.000000</td>\n      <td>0.000000</td>\n      <td>0.000000</td>\n      <td>0.000000</td>\n      <td>0.000000</td>\n      <td>0.025641</td>\n      <td>0.000000</td>\n      <td>...</td>\n      <td>0.000000</td>\n      <td>97.0</td>\n      <td>7.064759</td>\n      <td>18</td>\n      <td>1.0</td>\n      <td>0</td>\n      <td>0.0</td>\n      <td>97.0</td>\n      <td>0.521694</td>\n      <td>23297</td>\n    </tr>\n    <tr>\n      <th>23297</th>\n      <td>0.228654</td>\n      <td>0.047969</td>\n      <td>0.000000</td>\n      <td>0.000000</td>\n      <td>0.009594</td>\n      <td>0.115126</td>\n      <td>0.009594</td>\n      <td>0.000000</td>\n      <td>0.019188</td>\n      <td>0.169492</td>\n      <td>...</td>\n      <td>0.000000</td>\n      <td>97.0</td>\n      <td>8.047830</td>\n      <td>28</td>\n      <td>1.0</td>\n      <td>0</td>\n      <td>0.0</td>\n      <td>97.0</td>\n      <td>0.521694</td>\n      <td>23298</td>\n    </tr>\n  </tbody>\n</table>\n<p>23298 rows × 47 columns</p>\n</div>"
     },
     "metadata": {},
     "execution_count": 195
    }
   ],
   "source": [
    "cex84_02_div['id'] = np.arange(1, len(cex84_02_div)+1)\n",
    "cex84_02_div"
   ]
  },
  {
   "cell_type": "code",
   "execution_count": 203,
   "metadata": {},
   "outputs": [
    {
     "output_type": "execute_result",
     "data": {
      "text/plain": [
       "             id  ind  age  sex  nchild     share  year   ee    meanee  \\\n",
       "0           1.0    1   68    1     0.0  0.170861  94.0  1.0  0.521694   \n",
       "1           1.0    2   68    1     0.0  0.038004  94.0  1.0  0.521694   \n",
       "2           1.0    3   68    1     0.0  0.000000  94.0  1.0  0.521694   \n",
       "3           1.0    4   68    1     0.0  0.023278  94.0  1.0  0.521694   \n",
       "4           1.0    5   68    1     0.0  0.007284  94.0  1.0  0.521694   \n",
       "...         ...  ...  ...  ...     ...       ...   ...  ...       ...   \n",
       "885319  23298.0   34   28    0     0.0  0.009594  97.0  1.0  0.521694   \n",
       "885320  23298.0   35   28    0     0.0  0.000000  97.0  1.0  0.521694   \n",
       "885321  23298.0   36   28    0     0.0  0.000000  97.0  1.0  0.521694   \n",
       "885322  23298.0   37   28    0     0.0  0.000000  97.0  1.0  0.521694   \n",
       "885323  23298.0   38   28    0     0.0  0.000000  97.0  1.0  0.521694   \n",
       "\n",
       "         ltotexp  \n",
       "0       9.929037  \n",
       "1       9.929037  \n",
       "2       9.929037  \n",
       "3       9.929037  \n",
       "4       9.929037  \n",
       "...          ...  \n",
       "885319  8.047830  \n",
       "885320  8.047830  \n",
       "885321  8.047830  \n",
       "885322  8.047830  \n",
       "885323  8.047830  \n",
       "\n",
       "[885324 rows x 10 columns]"
      ],
      "text/html": "<div>\n<style scoped>\n    .dataframe tbody tr th:only-of-type {\n        vertical-align: middle;\n    }\n\n    .dataframe tbody tr th {\n        vertical-align: top;\n    }\n\n    .dataframe thead th {\n        text-align: right;\n    }\n</style>\n<table border=\"1\" class=\"dataframe\">\n  <thead>\n    <tr style=\"text-align: right;\">\n      <th></th>\n      <th>id</th>\n      <th>ind</th>\n      <th>age</th>\n      <th>sex</th>\n      <th>nchild</th>\n      <th>share</th>\n      <th>year</th>\n      <th>ee</th>\n      <th>meanee</th>\n      <th>ltotexp</th>\n    </tr>\n  </thead>\n  <tbody>\n    <tr>\n      <th>0</th>\n      <td>1.0</td>\n      <td>1</td>\n      <td>68</td>\n      <td>1</td>\n      <td>0.0</td>\n      <td>0.170861</td>\n      <td>94.0</td>\n      <td>1.0</td>\n      <td>0.521694</td>\n      <td>9.929037</td>\n    </tr>\n    <tr>\n      <th>1</th>\n      <td>1.0</td>\n      <td>2</td>\n      <td>68</td>\n      <td>1</td>\n      <td>0.0</td>\n      <td>0.038004</td>\n      <td>94.0</td>\n      <td>1.0</td>\n      <td>0.521694</td>\n      <td>9.929037</td>\n    </tr>\n    <tr>\n      <th>2</th>\n      <td>1.0</td>\n      <td>3</td>\n      <td>68</td>\n      <td>1</td>\n      <td>0.0</td>\n      <td>0.000000</td>\n      <td>94.0</td>\n      <td>1.0</td>\n      <td>0.521694</td>\n      <td>9.929037</td>\n    </tr>\n    <tr>\n      <th>3</th>\n      <td>1.0</td>\n      <td>4</td>\n      <td>68</td>\n      <td>1</td>\n      <td>0.0</td>\n      <td>0.023278</td>\n      <td>94.0</td>\n      <td>1.0</td>\n      <td>0.521694</td>\n      <td>9.929037</td>\n    </tr>\n    <tr>\n      <th>4</th>\n      <td>1.0</td>\n      <td>5</td>\n      <td>68</td>\n      <td>1</td>\n      <td>0.0</td>\n      <td>0.007284</td>\n      <td>94.0</td>\n      <td>1.0</td>\n      <td>0.521694</td>\n      <td>9.929037</td>\n    </tr>\n    <tr>\n      <th>...</th>\n      <td>...</td>\n      <td>...</td>\n      <td>...</td>\n      <td>...</td>\n      <td>...</td>\n      <td>...</td>\n      <td>...</td>\n      <td>...</td>\n      <td>...</td>\n      <td>...</td>\n    </tr>\n    <tr>\n      <th>885319</th>\n      <td>23298.0</td>\n      <td>34</td>\n      <td>28</td>\n      <td>0</td>\n      <td>0.0</td>\n      <td>0.009594</td>\n      <td>97.0</td>\n      <td>1.0</td>\n      <td>0.521694</td>\n      <td>8.047830</td>\n    </tr>\n    <tr>\n      <th>885320</th>\n      <td>23298.0</td>\n      <td>35</td>\n      <td>28</td>\n      <td>0</td>\n      <td>0.0</td>\n      <td>0.000000</td>\n      <td>97.0</td>\n      <td>1.0</td>\n      <td>0.521694</td>\n      <td>8.047830</td>\n    </tr>\n    <tr>\n      <th>885321</th>\n      <td>23298.0</td>\n      <td>36</td>\n      <td>28</td>\n      <td>0</td>\n      <td>0.0</td>\n      <td>0.000000</td>\n      <td>97.0</td>\n      <td>1.0</td>\n      <td>0.521694</td>\n      <td>8.047830</td>\n    </tr>\n    <tr>\n      <th>885322</th>\n      <td>23298.0</td>\n      <td>37</td>\n      <td>28</td>\n      <td>0</td>\n      <td>0.0</td>\n      <td>0.000000</td>\n      <td>97.0</td>\n      <td>1.0</td>\n      <td>0.521694</td>\n      <td>8.047830</td>\n    </tr>\n    <tr>\n      <th>885323</th>\n      <td>23298.0</td>\n      <td>38</td>\n      <td>28</td>\n      <td>0</td>\n      <td>0.0</td>\n      <td>0.000000</td>\n      <td>97.0</td>\n      <td>1.0</td>\n      <td>0.521694</td>\n      <td>8.047830</td>\n    </tr>\n  </tbody>\n</table>\n<p>885324 rows × 10 columns</p>\n</div>"
     },
     "metadata": {},
     "execution_count": 203
    }
   ],
   "source": [
    "#wide to long \n",
    "wide_to_long = pd.read_stata('wide_to_long.dta')\n",
    "wide_to_long"
   ]
  },
  {
   "cell_type": "code",
   "execution_count": 243,
   "metadata": {},
   "outputs": [
    {
     "output_type": "stream",
     "name": "stderr",
     "text": [
      "<ipython-input-243-0b9079d73d9c>:1: FutureWarning: Indexing with multiple keys (implicitly converted to a tuple of keys) will be deprecated, use a list instead.\n  wl1 = wide_to_long.groupby('ind')['share', 'meanee'].mean()\n"
     ]
    },
    {
     "output_type": "execute_result",
     "data": {
      "text/plain": [
       "        share    meanee   sigmash\n",
       "ind                              \n",
       "1    0.182473  0.521694  0.010237\n",
       "2    0.055977  0.521694  0.002969\n",
       "3    0.014688  0.521694  0.000890\n",
       "4    0.007091  0.521694  0.000247\n",
       "5    0.006383  0.521694  0.000279\n",
       "6    0.047360  0.521694  0.002110\n",
       "7    0.006510  0.521694  0.000111\n",
       "8    0.004512  0.521694  0.000330\n",
       "9    0.013001  0.521694  0.000226\n",
       "10   0.130707  0.521694  0.026813\n",
       "11   0.033699  0.521694  0.003143\n",
       "12   0.044493  0.521694  0.001436\n",
       "13   0.014779  0.521694  0.000622\n",
       "14   0.012799  0.521694  0.000300\n",
       "15   0.004648  0.521694  0.000296\n",
       "16   0.039301  0.521694  0.001014\n",
       "17   0.021974  0.521694  0.001362\n",
       "18   0.009991  0.521694  0.000711\n",
       "19   0.002991  0.521694  0.000115\n",
       "20   0.017219  0.521694  0.001386\n",
       "21   0.003381  0.521694  0.000687\n",
       "22   0.040409  0.521694  0.003093\n",
       "23   0.014537  0.521694  0.001894\n",
       "24   0.013880  0.521694  0.000782\n",
       "25   0.006232  0.521694  0.000222\n",
       "26   0.030496  0.521694  0.002417\n",
       "27   0.051176  0.521694  0.001648\n",
       "28   0.032027  0.521694  0.001349\n",
       "29   0.003540  0.521694  0.000157\n",
       "30   0.002683  0.521694  0.000126\n",
       "31   0.008598  0.521694  0.000542\n",
       "32   0.019781  0.521694  0.000831\n",
       "33   0.024454  0.521694  0.002423\n",
       "34   0.039274  0.521694  0.001337\n",
       "35   0.012216  0.521694  0.003324\n",
       "36   0.007497  0.521694  0.000968\n",
       "37   0.002128  0.521694  0.000187\n",
       "38   0.017097  0.521694  0.002243"
      ],
      "text/html": "<div>\n<style scoped>\n    .dataframe tbody tr th:only-of-type {\n        vertical-align: middle;\n    }\n\n    .dataframe tbody tr th {\n        vertical-align: top;\n    }\n\n    .dataframe thead th {\n        text-align: right;\n    }\n</style>\n<table border=\"1\" class=\"dataframe\">\n  <thead>\n    <tr style=\"text-align: right;\">\n      <th></th>\n      <th>share</th>\n      <th>meanee</th>\n      <th>sigmash</th>\n    </tr>\n    <tr>\n      <th>ind</th>\n      <th></th>\n      <th></th>\n      <th></th>\n    </tr>\n  </thead>\n  <tbody>\n    <tr>\n      <th>1</th>\n      <td>0.182473</td>\n      <td>0.521694</td>\n      <td>0.010237</td>\n    </tr>\n    <tr>\n      <th>2</th>\n      <td>0.055977</td>\n      <td>0.521694</td>\n      <td>0.002969</td>\n    </tr>\n    <tr>\n      <th>3</th>\n      <td>0.014688</td>\n      <td>0.521694</td>\n      <td>0.000890</td>\n    </tr>\n    <tr>\n      <th>4</th>\n      <td>0.007091</td>\n      <td>0.521694</td>\n      <td>0.000247</td>\n    </tr>\n    <tr>\n      <th>5</th>\n      <td>0.006383</td>\n      <td>0.521694</td>\n      <td>0.000279</td>\n    </tr>\n    <tr>\n      <th>6</th>\n      <td>0.047360</td>\n      <td>0.521694</td>\n      <td>0.002110</td>\n    </tr>\n    <tr>\n      <th>7</th>\n      <td>0.006510</td>\n      <td>0.521694</td>\n      <td>0.000111</td>\n    </tr>\n    <tr>\n      <th>8</th>\n      <td>0.004512</td>\n      <td>0.521694</td>\n      <td>0.000330</td>\n    </tr>\n    <tr>\n      <th>9</th>\n      <td>0.013001</td>\n      <td>0.521694</td>\n      <td>0.000226</td>\n    </tr>\n    <tr>\n      <th>10</th>\n      <td>0.130707</td>\n      <td>0.521694</td>\n      <td>0.026813</td>\n    </tr>\n    <tr>\n      <th>11</th>\n      <td>0.033699</td>\n      <td>0.521694</td>\n      <td>0.003143</td>\n    </tr>\n    <tr>\n      <th>12</th>\n      <td>0.044493</td>\n      <td>0.521694</td>\n      <td>0.001436</td>\n    </tr>\n    <tr>\n      <th>13</th>\n      <td>0.014779</td>\n      <td>0.521694</td>\n      <td>0.000622</td>\n    </tr>\n    <tr>\n      <th>14</th>\n      <td>0.012799</td>\n      <td>0.521694</td>\n      <td>0.000300</td>\n    </tr>\n    <tr>\n      <th>15</th>\n      <td>0.004648</td>\n      <td>0.521694</td>\n      <td>0.000296</td>\n    </tr>\n    <tr>\n      <th>16</th>\n      <td>0.039301</td>\n      <td>0.521694</td>\n      <td>0.001014</td>\n    </tr>\n    <tr>\n      <th>17</th>\n      <td>0.021974</td>\n      <td>0.521694</td>\n      <td>0.001362</td>\n    </tr>\n    <tr>\n      <th>18</th>\n      <td>0.009991</td>\n      <td>0.521694</td>\n      <td>0.000711</td>\n    </tr>\n    <tr>\n      <th>19</th>\n      <td>0.002991</td>\n      <td>0.521694</td>\n      <td>0.000115</td>\n    </tr>\n    <tr>\n      <th>20</th>\n      <td>0.017219</td>\n      <td>0.521694</td>\n      <td>0.001386</td>\n    </tr>\n    <tr>\n      <th>21</th>\n      <td>0.003381</td>\n      <td>0.521694</td>\n      <td>0.000687</td>\n    </tr>\n    <tr>\n      <th>22</th>\n      <td>0.040409</td>\n      <td>0.521694</td>\n      <td>0.003093</td>\n    </tr>\n    <tr>\n      <th>23</th>\n      <td>0.014537</td>\n      <td>0.521694</td>\n      <td>0.001894</td>\n    </tr>\n    <tr>\n      <th>24</th>\n      <td>0.013880</td>\n      <td>0.521694</td>\n      <td>0.000782</td>\n    </tr>\n    <tr>\n      <th>25</th>\n      <td>0.006232</td>\n      <td>0.521694</td>\n      <td>0.000222</td>\n    </tr>\n    <tr>\n      <th>26</th>\n      <td>0.030496</td>\n      <td>0.521694</td>\n      <td>0.002417</td>\n    </tr>\n    <tr>\n      <th>27</th>\n      <td>0.051176</td>\n      <td>0.521694</td>\n      <td>0.001648</td>\n    </tr>\n    <tr>\n      <th>28</th>\n      <td>0.032027</td>\n      <td>0.521694</td>\n      <td>0.001349</td>\n    </tr>\n    <tr>\n      <th>29</th>\n      <td>0.003540</td>\n      <td>0.521694</td>\n      <td>0.000157</td>\n    </tr>\n    <tr>\n      <th>30</th>\n      <td>0.002683</td>\n      <td>0.521694</td>\n      <td>0.000126</td>\n    </tr>\n    <tr>\n      <th>31</th>\n      <td>0.008598</td>\n      <td>0.521694</td>\n      <td>0.000542</td>\n    </tr>\n    <tr>\n      <th>32</th>\n      <td>0.019781</td>\n      <td>0.521694</td>\n      <td>0.000831</td>\n    </tr>\n    <tr>\n      <th>33</th>\n      <td>0.024454</td>\n      <td>0.521694</td>\n      <td>0.002423</td>\n    </tr>\n    <tr>\n      <th>34</th>\n      <td>0.039274</td>\n      <td>0.521694</td>\n      <td>0.001337</td>\n    </tr>\n    <tr>\n      <th>35</th>\n      <td>0.012216</td>\n      <td>0.521694</td>\n      <td>0.003324</td>\n    </tr>\n    <tr>\n      <th>36</th>\n      <td>0.007497</td>\n      <td>0.521694</td>\n      <td>0.000968</td>\n    </tr>\n    <tr>\n      <th>37</th>\n      <td>0.002128</td>\n      <td>0.521694</td>\n      <td>0.000187</td>\n    </tr>\n    <tr>\n      <th>38</th>\n      <td>0.017097</td>\n      <td>0.521694</td>\n      <td>0.002243</td>\n    </tr>\n  </tbody>\n</table>\n</div>"
     },
     "metadata": {},
     "execution_count": 243
    }
   ],
   "source": [
    "wl1 = wide_to_long.groupby('ind')['share', 'meanee'].mean()\n",
    "wl2 = wide_to_long.groupby('ind')['share'].agg(['std'])\n",
    "wl3 = pd.merge(wl1, wl2, on='ind').rename(columns={'std': 'sigmash'})\n",
    "wl3['sigmash'] = wl3['sigmash']**2\n",
    "wl3 "
   ]
  },
  {
   "cell_type": "code",
   "execution_count": 244,
   "metadata": {},
   "outputs": [],
   "source": [
    "wl3.to_stata('shares')"
   ]
  },
  {
   "cell_type": "code",
   "execution_count": 247,
   "metadata": {},
   "outputs": [
    {
     "output_type": "execute_result",
     "data": {
      "text/plain": [
       "        1   2   3   4   5   6   7   8   9   10  ...  29  30  31  32  33  34  \\\n",
       "0        1   0   0   0   0   0   0   0   0   0  ...   0   0   0   0   0   0   \n",
       "1        0   1   0   0   0   0   0   0   0   0  ...   0   0   0   0   0   0   \n",
       "2        0   0   1   0   0   0   0   0   0   0  ...   0   0   0   0   0   0   \n",
       "3        0   0   0   1   0   0   0   0   0   0  ...   0   0   0   0   0   0   \n",
       "4        0   0   0   0   1   0   0   0   0   0  ...   0   0   0   0   0   0   \n",
       "...     ..  ..  ..  ..  ..  ..  ..  ..  ..  ..  ...  ..  ..  ..  ..  ..  ..   \n",
       "885319   0   0   0   0   0   0   0   0   0   0  ...   0   0   0   0   0   1   \n",
       "885320   0   0   0   0   0   0   0   0   0   0  ...   0   0   0   0   0   0   \n",
       "885321   0   0   0   0   0   0   0   0   0   0  ...   0   0   0   0   0   0   \n",
       "885322   0   0   0   0   0   0   0   0   0   0  ...   0   0   0   0   0   0   \n",
       "885323   0   0   0   0   0   0   0   0   0   0  ...   0   0   0   0   0   0   \n",
       "\n",
       "        35  36  37  38  \n",
       "0        0   0   0   0  \n",
       "1        0   0   0   0  \n",
       "2        0   0   0   0  \n",
       "3        0   0   0   0  \n",
       "4        0   0   0   0  \n",
       "...     ..  ..  ..  ..  \n",
       "885319   0   0   0   0  \n",
       "885320   1   0   0   0  \n",
       "885321   0   1   0   0  \n",
       "885322   0   0   1   0  \n",
       "885323   0   0   0   1  \n",
       "\n",
       "[885324 rows x 38 columns]"
      ],
      "text/html": "<div>\n<style scoped>\n    .dataframe tbody tr th:only-of-type {\n        vertical-align: middle;\n    }\n\n    .dataframe tbody tr th {\n        vertical-align: top;\n    }\n\n    .dataframe thead th {\n        text-align: right;\n    }\n</style>\n<table border=\"1\" class=\"dataframe\">\n  <thead>\n    <tr style=\"text-align: right;\">\n      <th></th>\n      <th>1</th>\n      <th>2</th>\n      <th>3</th>\n      <th>4</th>\n      <th>5</th>\n      <th>6</th>\n      <th>7</th>\n      <th>8</th>\n      <th>9</th>\n      <th>10</th>\n      <th>...</th>\n      <th>29</th>\n      <th>30</th>\n      <th>31</th>\n      <th>32</th>\n      <th>33</th>\n      <th>34</th>\n      <th>35</th>\n      <th>36</th>\n      <th>37</th>\n      <th>38</th>\n    </tr>\n  </thead>\n  <tbody>\n    <tr>\n      <th>0</th>\n      <td>1</td>\n      <td>0</td>\n      <td>0</td>\n      <td>0</td>\n      <td>0</td>\n      <td>0</td>\n      <td>0</td>\n      <td>0</td>\n      <td>0</td>\n      <td>0</td>\n      <td>...</td>\n      <td>0</td>\n      <td>0</td>\n      <td>0</td>\n      <td>0</td>\n      <td>0</td>\n      <td>0</td>\n      <td>0</td>\n      <td>0</td>\n      <td>0</td>\n      <td>0</td>\n    </tr>\n    <tr>\n      <th>1</th>\n      <td>0</td>\n      <td>1</td>\n      <td>0</td>\n      <td>0</td>\n      <td>0</td>\n      <td>0</td>\n      <td>0</td>\n      <td>0</td>\n      <td>0</td>\n      <td>0</td>\n      <td>...</td>\n      <td>0</td>\n      <td>0</td>\n      <td>0</td>\n      <td>0</td>\n      <td>0</td>\n      <td>0</td>\n      <td>0</td>\n      <td>0</td>\n      <td>0</td>\n      <td>0</td>\n    </tr>\n    <tr>\n      <th>2</th>\n      <td>0</td>\n      <td>0</td>\n      <td>1</td>\n      <td>0</td>\n      <td>0</td>\n      <td>0</td>\n      <td>0</td>\n      <td>0</td>\n      <td>0</td>\n      <td>0</td>\n      <td>...</td>\n      <td>0</td>\n      <td>0</td>\n      <td>0</td>\n      <td>0</td>\n      <td>0</td>\n      <td>0</td>\n      <td>0</td>\n      <td>0</td>\n      <td>0</td>\n      <td>0</td>\n    </tr>\n    <tr>\n      <th>3</th>\n      <td>0</td>\n      <td>0</td>\n      <td>0</td>\n      <td>1</td>\n      <td>0</td>\n      <td>0</td>\n      <td>0</td>\n      <td>0</td>\n      <td>0</td>\n      <td>0</td>\n      <td>...</td>\n      <td>0</td>\n      <td>0</td>\n      <td>0</td>\n      <td>0</td>\n      <td>0</td>\n      <td>0</td>\n      <td>0</td>\n      <td>0</td>\n      <td>0</td>\n      <td>0</td>\n    </tr>\n    <tr>\n      <th>4</th>\n      <td>0</td>\n      <td>0</td>\n      <td>0</td>\n      <td>0</td>\n      <td>1</td>\n      <td>0</td>\n      <td>0</td>\n      <td>0</td>\n      <td>0</td>\n      <td>0</td>\n      <td>...</td>\n      <td>0</td>\n      <td>0</td>\n      <td>0</td>\n      <td>0</td>\n      <td>0</td>\n      <td>0</td>\n      <td>0</td>\n      <td>0</td>\n      <td>0</td>\n      <td>0</td>\n    </tr>\n    <tr>\n      <th>...</th>\n      <td>...</td>\n      <td>...</td>\n      <td>...</td>\n      <td>...</td>\n      <td>...</td>\n      <td>...</td>\n      <td>...</td>\n      <td>...</td>\n      <td>...</td>\n      <td>...</td>\n      <td>...</td>\n      <td>...</td>\n      <td>...</td>\n      <td>...</td>\n      <td>...</td>\n      <td>...</td>\n      <td>...</td>\n      <td>...</td>\n      <td>...</td>\n      <td>...</td>\n      <td>...</td>\n    </tr>\n    <tr>\n      <th>885319</th>\n      <td>0</td>\n      <td>0</td>\n      <td>0</td>\n      <td>0</td>\n      <td>0</td>\n      <td>0</td>\n      <td>0</td>\n      <td>0</td>\n      <td>0</td>\n      <td>0</td>\n      <td>...</td>\n      <td>0</td>\n      <td>0</td>\n      <td>0</td>\n      <td>0</td>\n      <td>0</td>\n      <td>1</td>\n      <td>0</td>\n      <td>0</td>\n      <td>0</td>\n      <td>0</td>\n    </tr>\n    <tr>\n      <th>885320</th>\n      <td>0</td>\n      <td>0</td>\n      <td>0</td>\n      <td>0</td>\n      <td>0</td>\n      <td>0</td>\n      <td>0</td>\n      <td>0</td>\n      <td>0</td>\n      <td>0</td>\n      <td>...</td>\n      <td>0</td>\n      <td>0</td>\n      <td>0</td>\n      <td>0</td>\n      <td>0</td>\n      <td>0</td>\n      <td>1</td>\n      <td>0</td>\n      <td>0</td>\n      <td>0</td>\n    </tr>\n    <tr>\n      <th>885321</th>\n      <td>0</td>\n      <td>0</td>\n      <td>0</td>\n      <td>0</td>\n      <td>0</td>\n      <td>0</td>\n      <td>0</td>\n      <td>0</td>\n      <td>0</td>\n      <td>0</td>\n      <td>...</td>\n      <td>0</td>\n      <td>0</td>\n      <td>0</td>\n      <td>0</td>\n      <td>0</td>\n      <td>0</td>\n      <td>0</td>\n      <td>1</td>\n      <td>0</td>\n      <td>0</td>\n    </tr>\n    <tr>\n      <th>885322</th>\n      <td>0</td>\n      <td>0</td>\n      <td>0</td>\n      <td>0</td>\n      <td>0</td>\n      <td>0</td>\n      <td>0</td>\n      <td>0</td>\n      <td>0</td>\n      <td>0</td>\n      <td>...</td>\n      <td>0</td>\n      <td>0</td>\n      <td>0</td>\n      <td>0</td>\n      <td>0</td>\n      <td>0</td>\n      <td>0</td>\n      <td>0</td>\n      <td>1</td>\n      <td>0</td>\n    </tr>\n    <tr>\n      <th>885323</th>\n      <td>0</td>\n      <td>0</td>\n      <td>0</td>\n      <td>0</td>\n      <td>0</td>\n      <td>0</td>\n      <td>0</td>\n      <td>0</td>\n      <td>0</td>\n      <td>0</td>\n      <td>...</td>\n      <td>0</td>\n      <td>0</td>\n      <td>0</td>\n      <td>0</td>\n      <td>0</td>\n      <td>0</td>\n      <td>0</td>\n      <td>0</td>\n      <td>0</td>\n      <td>1</td>\n    </tr>\n  </tbody>\n</table>\n<p>885324 rows × 38 columns</p>\n</div>"
     },
     "metadata": {},
     "execution_count": 247
    }
   ],
   "source": [
    "dummies = pd.get_dummies(wide_to_long['ind'])\n",
    "wide_to_long_w_dummies = pd.concat([wide_to_long, dummies], axis=1)\n",
    "wide_to_long_w_dummies"
   ]
  },
  {
   "cell_type": "code",
   "execution_count": 259,
   "metadata": {},
   "outputs": [],
   "source": [
    "#Unable to allocate 5.70 TiB for an array with shape (885286, 885324) and data type float64\n",
    "# ltotexp_dum = dummies*wide_to_long['ltotexp']"
   ]
  },
  {
   "cell_type": "code",
   "execution_count": null,
   "metadata": {},
   "outputs": [],
   "source": [
    "for var dum1-dum38: gen lX=ltotexp*X\n",
    "for var dum1-dum38: gen nX=nchild*X\n",
    "for var dum1-dum38: gen aX=age*X\n",
    "for var dum1-dum38: gen sX=sex*X"
   ]
  }
 ]
}