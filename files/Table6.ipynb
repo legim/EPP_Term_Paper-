{
 "cells": [
  {
   "cell_type": "code",
   "execution_count": 52,
   "metadata": {},
   "outputs": [],
   "source": [
    "import pandas as pd\n",
    "import numpy as np\n",
    "import operator\n",
    "import os\n",
    "from pathlib import Path\n",
    "cwd = os.getcwd() # get path of current working directory\n",
    "main_folder = str(Path(cwd).parents[0]) # main folder is the lowest level in project"
   ]
  },
  {
   "cell_type": "code",
   "execution_count": 53,
   "metadata": {},
   "outputs": [
    {
     "data": {
      "text/html": [
       "<div>\n",
       "<style scoped>\n",
       "    .dataframe tbody tr th:only-of-type {\n",
       "        vertical-align: middle;\n",
       "    }\n",
       "\n",
       "    .dataframe tbody tr th {\n",
       "        vertical-align: top;\n",
       "    }\n",
       "\n",
       "    .dataframe thead th {\n",
       "        text-align: right;\n",
       "    }\n",
       "</style>\n",
       "<table border=\"1\" class=\"dataframe\">\n",
       "  <thead>\n",
       "    <tr style=\"text-align: right;\">\n",
       "      <th></th>\n",
       "      <th>meanee</th>\n",
       "    </tr>\n",
       "  </thead>\n",
       "  <tbody>\n",
       "    <tr>\n",
       "      <th>count</th>\n",
       "      <td>2.330100e+04</td>\n",
       "    </tr>\n",
       "    <tr>\n",
       "      <th>mean</th>\n",
       "      <td>5.216943e-01</td>\n",
       "    </tr>\n",
       "    <tr>\n",
       "      <th>std</th>\n",
       "      <td>1.036971e-13</td>\n",
       "    </tr>\n",
       "    <tr>\n",
       "      <th>min</th>\n",
       "      <td>5.216943e-01</td>\n",
       "    </tr>\n",
       "    <tr>\n",
       "      <th>25%</th>\n",
       "      <td>5.216943e-01</td>\n",
       "    </tr>\n",
       "    <tr>\n",
       "      <th>50%</th>\n",
       "      <td>5.216943e-01</td>\n",
       "    </tr>\n",
       "    <tr>\n",
       "      <th>75%</th>\n",
       "      <td>5.216943e-01</td>\n",
       "    </tr>\n",
       "    <tr>\n",
       "      <th>max</th>\n",
       "      <td>5.216943e-01</td>\n",
       "    </tr>\n",
       "  </tbody>\n",
       "</table>\n",
       "</div>"
      ],
      "text/plain": [
       "             meanee\n",
       "count  2.330100e+04\n",
       "mean   5.216943e-01\n",
       "std    1.036971e-13\n",
       "min    5.216943e-01\n",
       "25%    5.216943e-01\n",
       "50%    5.216943e-01\n",
       "75%    5.216943e-01\n",
       "max    5.216943e-01"
      ]
     },
     "execution_count": 53,
     "metadata": {},
     "output_type": "execute_result"
    }
   ],
   "source": [
    "cex84_02 = pd.read_stata(main_folder + \"\\data\\cex84_02.dta\")\n",
    "cex84_02 = cex84_02[cex84_02.year >= 94]\n",
    "cex84_02 = cex84_02[cex84_02.year <= 97]\n",
    "cex84_02['ee'] = 0\n",
    "cex84_02.loc[(cex84_02['year'] <=95) & (cex84_02['educatio'] >=21), 'ee'] = 1\n",
    "cex84_02.loc[(cex84_02['year'] >=96) & (cex84_02['educatio'] >=40), 'ee'] = 1\n",
    "cex84_02['meanee'] = cex84_02['ee'].mean()\n",
    "#cex84_02\n",
    "cex84_02[['meanee']].describe()"
   ]
  },
  {
   "cell_type": "code",
   "execution_count": 54,
   "metadata": {},
   "outputs": [],
   "source": [
    "#/*expenditure used in this paper*/\n",
    "cex84_02 = cex84_02.drop(columns=['autos'])\n",
    "cex84_02['tt'] = cex84_02.loc[:, 'foodhome':'charity'].sum(axis=1)\n",
    "cex84_02 = cex84_02[cex84_02.tt >= 0]\n",
    "cex84_02['ltotexp'] = np.log(cex84_02['tt']) - np.log(cex84_02['cpi_97'])\n",
    "#cex84_02"
   ]
  },
  {
   "cell_type": "code",
   "execution_count": 55,
   "metadata": {},
   "outputs": [],
   "source": [
    "#MemoryError: Unable to allocate 4.04 GiB for an array with shape (23300, 23300) and data type float64\n",
    "#cex84_02.loc[:, 'foodhome':'charity']/cex84_02['tt']\n",
    "cex84_02_div = pd.read_stata('cex84_02_div.dta')\n",
    "cex84_02_div = cex84_02_div.drop(columns=['gambling', 'toiletry', 'housuppl'])\n",
    "#cex84_02_div"
   ]
  },
  {
   "cell_type": "code",
   "execution_count": 56,
   "metadata": {},
   "outputs": [],
   "source": [
    "#Aggregate some small expenses with similar expenses\n",
    "cex84_02_div['foodout'] = cex84_02_div['foodout'] + cex84_02_div['foodwork'] \n",
    "cex84_02_div['renthome'] = cex84_02_div['renthome'] + cex84_02_div['rentothr']\n",
    "cex84_02_div['pubs'] = cex84_02_div['pubs'] + cex84_02_div['books']\n",
    "cex84_02_div['hospital'] = cex84_02_div['hospital'] + cex84_02_div['nurshome']\n",
    "cex84_02_div['masstran'] = cex84_02_div['masstran'] + cex84_02_div['tolls']\n",
    "cex84_02_div = cex84_02_div.drop(columns=['foodwork', 'rentothr', 'books', 'nurshome', 'tolls'])\n",
    "\n",
    "cex84_02_div['sex'] = cex84_02_div['sex'] - 1\n",
    "#cex84_02_div"
   ]
  },
  {
   "cell_type": "code",
   "execution_count": 57,
   "metadata": {},
   "outputs": [],
   "source": [
    "cex84_02_div.to_stata('sampleUS6')"
   ]
  },
  {
   "cell_type": "code",
   "execution_count": 58,
   "metadata": {},
   "outputs": [],
   "source": [
    "#*shares\n",
    "cex84_02_div.rename(columns={'foodhome':'share1', 'foodout':'share2', 'tobacco':'share3', 'alcohol':'share4', 'niteclub':'share5', 'clothes':'share6','tailors':'share7', 'jewelry':'share8', 'hlthbeau':'share9', 'renthome':'share10', 'furnish':'share11', 'elect':'share12', 'gas':'share13','water':'share14', 'homefuel':'share15','telephon':'share16', 'servants':'share17', 'drugs':'share18', 'orthopd':'share19', 'doctors':'share20', 'hospital':'share21', 'helthins':'share22', 'busiserv':'share23', 'lifeins':'share24', 'parts':'share25','carservs':'share26', 'gasoline':'share27', 'autoins':'share28', 'masstran':'share29', 'othtrans':'share30', 'airfare':'share31', 'pubs':'share32', 'recsport':'share33', 'othrec':'share34', 'highedu':'share35','lowedu':'share36', 'othedu':'share37', 'charity':'share38'}, inplace=True)"
   ]
  },
  {
   "cell_type": "code",
   "execution_count": 59,
   "metadata": {},
   "outputs": [],
   "source": [
    "list_shares = ['share1', 'share2', 'share3', 'share4', 'share5', 'share6', 'share7', 'share8', 'share9','share10', 'share11',\n",
    "               'share12', 'share13', 'share14', 'share15', 'share16', 'share17', 'share18', 'share19', 'share20', 'share21',\n",
    "               'share22', 'share23', 'share24', 'share25', 'share26', 'share27', 'share28', 'share29', 'share30', 'share31', \n",
    "               'share32', 'share33', 'share34', 'share35', 'share36', 'share37', 'share38']"
   ]
  },
  {
   "cell_type": "code",
   "execution_count": 60,
   "metadata": {},
   "outputs": [],
   "source": [
    "cex84_02_divg = cex84_02_div.groupby('year')[list_shares].mean()\n",
    "cex84_02_divg = cex84_02_divg.reset_index()\n",
    "cex84_02_divg['year'] = cex84_02_divg['year'] + 1900 \n",
    "#cex84_02_divg"
   ]
  },
  {
   "cell_type": "code",
   "execution_count": 61,
   "metadata": {},
   "outputs": [],
   "source": [
    "cex84_02_divg.to_stata('temp26')"
   ]
  },
  {
   "cell_type": "code",
   "execution_count": 62,
   "metadata": {},
   "outputs": [],
   "source": [
    "#Construction of aggregate prices as weighted average of prices\n",
    "pricesUS = pd.read_stata(main_folder + \"\\data\\pricesUS.dta\")\n",
    "pricesUS = pricesUS.drop(0).replace('',0)\n",
    "pricesUS = pricesUS.applymap(float)\n",
    "#pricesUS\n",
    "\n",
    "#for var c1-c126: replace X=X/X[140]\n",
    "pricesUS_1 = pricesUS.drop(pricesUS.loc[:, 'c2':'c39'], axis=1)\n",
    "columns =  pricesUS.loc[:, 'c2':'c39'].loc[0:22]\n",
    "new_col = columns/columns.loc[14]\n",
    "pricesUS_2 = pd.concat([pricesUS_1, new_col], axis=1).rename(columns={\"c1\": \"year\"})\n",
    "#pricesUS_2\n",
    "\n",
    "pricesUS_2.rename(columns={'c2':'c1', 'c3':'c2', 'c4':'c3', 'c5':'c4', 'c6':'c5', 'c7':'c6', 'c8':'c7', 'c9':'c8',\n",
    "                             'c10':'c9', 'c11':'c10', 'c12':'c11', 'c13':'c12','c14':'c13', 'c15':'c14', 'c16':'c15',\n",
    "                             'c17':'c16', 'c18':'c17', 'c19':'c18', 'c20':'c19', 'c21':'c20','c22':'c21', 'c23':'c22',\n",
    "                             'c24':'c23', 'c25':'c24', 'c26':'c25', 'c27':'c26', 'c28':'c27', 'c29':'c28', 'c30':'c29',\n",
    "                             'c31':'c30','c32':'c31', 'c33':'c32', 'c34':'c33', 'c35':'c34', 'c36':'c35', 'c37':'c36',\n",
    "                             'c38':'c37', 'c39':'c38'}, inplace=True)"
   ]
  },
  {
   "cell_type": "code",
   "execution_count": 63,
   "metadata": {},
   "outputs": [],
   "source": [
    "temp2 = pd.read_stata('temp26')\n",
    "pricesUS_3 = pd.merge(pricesUS_2,temp2, on='year')\n",
    "#pricesUS_3"
   ]
  },
  {
   "cell_type": "code",
   "execution_count": 64,
   "metadata": {},
   "outputs": [],
   "source": [
    "pricesUS_3['id'] = np.arange(1, len(pricesUS_3)+1)\n",
    "pricesUS_3_wl = pd.wide_to_long(pricesUS_3,[\"c\", \"share\"], i='id', j=\"ind\")\n",
    "pricesUS_3_wl = pricesUS_3_wl.sort_values(by=['id','ind']).drop(columns=['index'])\n",
    "#pricesUS_3_wl"
   ]
  },
  {
   "cell_type": "code",
   "execution_count": 65,
   "metadata": {},
   "outputs": [],
   "source": [
    "skillintUS = pd.read_stata('skillintUS6.dta', convert_categoricals=False)\n",
    "pricesUS_4 = pd.merge(pricesUS_3_wl,skillintUS, on='ind')\n",
    "#pricesUS_4"
   ]
  },
  {
   "cell_type": "code",
   "execution_count": 66,
   "metadata": {},
   "outputs": [],
   "source": [
    "#some industries match to multiple goods\n",
    "pricesUS_4.loc[(pricesUS_4['ind'] == 7), 'ratio80'] = 0.2395\n",
    "pricesUS_4.loc[(pricesUS_4['ind'] == 7) | (pricesUS_4['ind'] ==28), 'ratio80'] = 0.539\n",
    "pricesUS_4.loc[(pricesUS_4['ind'] == 5), 'ratio80'] = 0.265"
   ]
  },
  {
   "cell_type": "code",
   "execution_count": 67,
   "metadata": {},
   "outputs": [],
   "source": [
    "#weighted average of prices of skill-intensive/low-skill-intensive items\n",
    "pricesUS_4['HH'] = 0\n",
    "pricesUS_4.loc[(pricesUS_4['ratio80'] >0.37), 'HH'] = 1\n",
    "#pricesUS_4"
   ]
  },
  {
   "cell_type": "code",
   "execution_count": 68,
   "metadata": {},
   "outputs": [],
   "source": [
    "pricesUS_5 = pricesUS_4.groupby(['year','HH'])['c'].mean()\n",
    "pricesUS_55 = pd.DataFrame(pricesUS_5).reset_index('HH').reset_index('year')\n",
    "pricesUS_55['id'] = [1,2,3,4,5,6,7,8]\n",
    "#pricesUS_55"
   ]
  },
  {
   "cell_type": "code",
   "execution_count": 69,
   "metadata": {},
   "outputs": [
    {
     "name": "stderr",
     "output_type": "stream",
     "text": [
      "<ipython-input-69-db5ab58caeb6>:2: FutureWarning: Indexing with multiple keys (implicitly converted to a tuple of keys) will be deprecated, use a list instead.\n",
      "  pricesUS_6 = pricesUS_6.groupby('year')['c0', 'c1'].sum().reset_index()\n"
     ]
    }
   ],
   "source": [
    "pricesUS_6 = pd.read_stata('ltw6.dta').fillna(0)\n",
    "pricesUS_6 = pricesUS_6.groupby('year')['c0', 'c1'].sum().reset_index()\n",
    "pricesUS_6['lplow'] =np.log(pricesUS_6['c0'])\n",
    "pricesUS_6['lphigh'] = np.log(pricesUS_6['c1']) - pricesUS_6['lplow']\n",
    "pricesUS_6['year'] = pricesUS_6['year'] - 1900 \n",
    "#pricesUS_6\n",
    "pricesUS_6.to_stata('prices6')"
   ]
  },
  {
   "cell_type": "code",
   "execution_count": 70,
   "metadata": {},
   "outputs": [],
   "source": [
    "sampleUS = pd.read_stata('sampleUS')\n",
    "sampleUS_1 = pd.merge(sampleUS,pricesUS_6, on='year')\n",
    "#sampleUS_1"
   ]
  },
  {
   "cell_type": "code",
   "execution_count": 71,
   "metadata": {},
   "outputs": [],
   "source": [
    "sampleUS_1.rename(columns={'foodhome':'share1', 'foodout':'share2', 'tobacco':'share3', 'alcohol':'share4', \n",
    "                             'niteclub':'share5', 'clothes':'share6','tailors':'share7', 'jewelry':'share8', \n",
    "                             'hlthbeau':'share9', 'renthome':'share10', 'furnish':'share11', 'elect':'share12', \n",
    "                             'gas':'share13','water':'share14', 'homefuel':'share15','telephon':'share16', \n",
    "                             'servants':'share17', 'drugs':'share18', 'orthopd':'share19', 'doctors':'share20', \n",
    "                             'hospital':'share21', 'helthins':'share22', 'busiserv':'share23', 'lifeins':'share24',\n",
    "                             'parts':'share25','carservs':'share26', 'gasoline':'share27', 'autoins':'share28', \n",
    "                             'masstran':'share29', 'othtrans':'share30', 'airfare':'share31', 'pubs':'share32', \n",
    "                             'recsport':'share33', 'othrec':'share34', 'highedu':'share35','lowedu':'share36', \n",
    "                             'othedu':'share37', 'charity':'share38'}, inplace=True)"
   ]
  },
  {
   "cell_type": "code",
   "execution_count": 72,
   "metadata": {},
   "outputs": [],
   "source": [
    "sampleUS_1['lpallit'] = np.log(sampleUS_1['cpi_00'])"
   ]
  },
  {
   "cell_type": "code",
   "execution_count": 73,
   "metadata": {},
   "outputs": [],
   "source": [
    "sampleUS_1 = sampleUS_1[['year', 'share1', 'share2', 'share3', 'share4', 'share5', 'share6', 'share7', 'share8', 'share9',\n",
    "                               'share10', 'share11', 'share12', 'share13', 'share14', 'share15', 'share16', 'share17', \n",
    "                               'share18', 'share19', 'share20', 'share21', 'share22', 'share23', 'share24', 'share25',\n",
    "                               'share26', 'share27', 'share28', 'share29', 'share30', 'share31', 'share32', 'share33', \n",
    "                               'share34', 'share35', 'share36', 'share37', 'share38', 'ltotexp', 'exptotal', 'age', 'ee',\n",
    "                             'lpallit', 'lphigh', 'sex', 'nchild']]\n",
    "sampleUS_1['id'] = np.arange(1, len(sampleUS_1)+1)\n",
    "#sampleUS_1"
   ]
  },
  {
   "cell_type": "code",
   "execution_count": 74,
   "metadata": {},
   "outputs": [],
   "source": [
    "#wide to long \n",
    "sampleUS_2 = pd.wide_to_long(sampleUS_1,[\"share\"], i='id', j=\"inden\")\n",
    "#sampleUS_2"
   ]
  },
  {
   "cell_type": "code",
   "execution_count": 75,
   "metadata": {},
   "outputs": [],
   "source": [
    "sampleUS_2 = sampleUS_2.reset_index('inden').sort_values(by=['id','inden'])\n",
    "sampleUS_2['ind'] = sampleUS_2['inden']\n",
    "#sampleUS_2"
   ]
  },
  {
   "cell_type": "code",
   "execution_count": 76,
   "metadata": {},
   "outputs": [],
   "source": [
    "sampleUS_3 = pd.merge(sampleUS_2,skillintUS, on='ind')\n",
    "#sampleUS_3"
   ]
  },
  {
   "cell_type": "code",
   "execution_count": 77,
   "metadata": {},
   "outputs": [],
   "source": [
    "sampleUS_3.loc[(sampleUS_3['sex'] == 1), 'sex1'] = 0\n",
    "sampleUS_3.loc[(sampleUS_3['sex'] == 2), 'sex1'] = 1"
   ]
  },
  {
   "cell_type": "code",
   "execution_count": 78,
   "metadata": {},
   "outputs": [],
   "source": [
    "sampleUS_3['HH'] = 0\n",
    "sampleUS_3.loc[(sampleUS_3['ratio80'] >0.37), 'HH'] = 1\n",
    "\n",
    "sampleUS_3['LL'] = 0\n",
    "sampleUS_3.loc[(sampleUS_3['ratio80'] <= 0.37), 'LL'] = 1\n",
    "#sampleUS_3"
   ]
  },
  {
   "cell_type": "code",
   "execution_count": 79,
   "metadata": {},
   "outputs": [],
   "source": [
    "sampleUS_3.loc[(sampleUS_3['ee'] == 1) & (sampleUS_3['ratio80'] > 0.37), 'exphh'] = 1\n",
    "sampleUS_3.loc[sampleUS_3.exphh == 1, 'exphh'] = 6.75e+09\n",
    "\n",
    "sampleUS_3.loc[sampleUS_3['ratio80'] > 0.37, 'exphigh'] = 1\n",
    "sampleUS_3.loc[sampleUS_3.exphigh == 1, 'exphigh'] = 1.11e+10\n",
    "#sampleUS_3"
   ]
  },
  {
   "cell_type": "code",
   "execution_count": 80,
   "metadata": {},
   "outputs": [
    {
     "data": {
      "text/html": [
       "<div>\n",
       "<style scoped>\n",
       "    .dataframe tbody tr th:only-of-type {\n",
       "        vertical-align: middle;\n",
       "    }\n",
       "\n",
       "    .dataframe tbody tr th {\n",
       "        vertical-align: top;\n",
       "    }\n",
       "\n",
       "    .dataframe thead th {\n",
       "        text-align: right;\n",
       "    }\n",
       "</style>\n",
       "<table border=\"1\" class=\"dataframe\">\n",
       "  <thead>\n",
       "    <tr style=\"text-align: right;\">\n",
       "      <th></th>\n",
       "      <th>R1</th>\n",
       "    </tr>\n",
       "  </thead>\n",
       "  <tbody>\n",
       "    <tr>\n",
       "      <th>count</th>\n",
       "      <td>2.066180e+05</td>\n",
       "    </tr>\n",
       "    <tr>\n",
       "      <th>mean</th>\n",
       "      <td>6.081081e-01</td>\n",
       "    </tr>\n",
       "    <tr>\n",
       "      <th>std</th>\n",
       "      <td>1.347148e-12</td>\n",
       "    </tr>\n",
       "    <tr>\n",
       "      <th>min</th>\n",
       "      <td>6.081081e-01</td>\n",
       "    </tr>\n",
       "    <tr>\n",
       "      <th>25%</th>\n",
       "      <td>6.081081e-01</td>\n",
       "    </tr>\n",
       "    <tr>\n",
       "      <th>50%</th>\n",
       "      <td>6.081081e-01</td>\n",
       "    </tr>\n",
       "    <tr>\n",
       "      <th>75%</th>\n",
       "      <td>6.081081e-01</td>\n",
       "    </tr>\n",
       "    <tr>\n",
       "      <th>max</th>\n",
       "      <td>6.081081e-01</td>\n",
       "    </tr>\n",
       "  </tbody>\n",
       "</table>\n",
       "</div>"
      ],
      "text/plain": [
       "                 R1\n",
       "count  2.066180e+05\n",
       "mean   6.081081e-01\n",
       "std    1.347148e-12\n",
       "min    6.081081e-01\n",
       "25%    6.081081e-01\n",
       "50%    6.081081e-01\n",
       "75%    6.081081e-01\n",
       "max    6.081081e-01"
      ]
     },
     "execution_count": 80,
     "metadata": {},
     "output_type": "execute_result"
    }
   ],
   "source": [
    "#THIS GIVES R1 FOR CALIBRATION\n",
    "sampleUS_3['R1'] = sampleUS_3['exphh']/sampleUS_3['exphigh'] \n",
    "sampleUS_3[['R1']].describe()"
   ]
  },
  {
   "cell_type": "code",
   "execution_count": 81,
   "metadata": {},
   "outputs": [],
   "source": [
    "sampleUS_3['ltotexpLL']= sampleUS_3['ltotexp']*sampleUS_3['LL'] \n",
    "sampleUS_3['lphighLL']=sampleUS_3['lphigh']*sampleUS_3['LL'] \n",
    "sampleUS_3['ltotexpHH']=sampleUS_3['ltotexp']*sampleUS_3['HH'] \n",
    "sampleUS_3['lphighHH']=sampleUS_3['lphigh']*sampleUS_3['HH']\n",
    "\n",
    "sampleUS_3['ageLL']= sampleUS_3['age']*sampleUS_3['LL']\n",
    "sampleUS_3['sexLL']= sampleUS_3['sex']*sampleUS_3['LL']\n",
    "sampleUS_3['nchildLL']= sampleUS_3['nchild']*sampleUS_3['LL']\n",
    "\n",
    "sampleUS_3['ageHH']= sampleUS_3['age']*sampleUS_3['HH']\n",
    "sampleUS_3['sexHH']= sampleUS_3['sex']*sampleUS_3['HH']\n",
    "sampleUS_3['nchildHH']= sampleUS_3['nchild']*sampleUS_3['HH']"
   ]
  },
  {
   "cell_type": "code",
   "execution_count": 82,
   "metadata": {},
   "outputs": [],
   "source": [
    "#sampleUS_3"
   ]
  },
  {
   "cell_type": "code",
   "execution_count": 83,
   "metadata": {},
   "outputs": [],
   "source": [
    "sampleUS_4 = pd.read_stata('t6reg1.dta')\n",
    "sampleUS_4['incL'] = sampleUS_4['inc_elast_L'].max()\n",
    "sampleUS_4['incH'] = sampleUS_4['inc_elast_H'].max()\n",
    "\n",
    "sampleUS_4['priceL'] = sampleUS_4['price_elast_L'].max()\n",
    "sampleUS_4['priceH'] = sampleUS_4['price_elast_H'].max()\n",
    "\n",
    "sampleUS_4 = sampleUS_4.drop(columns=['inc_elast_L', 'price_elast_L', 'inc_elast_H', 'price_elast_H'])\n",
    "sampleUS_4.rename(columns={'incL':'inc_elast_L','incH':'inc_elast_H','priceL':'price_elast_L','priceH':'price_elast_H'}, inplace=True)\n",
    "#sampleUS_4"
   ]
  },
  {
   "cell_type": "code",
   "execution_count": 84,
   "metadata": {},
   "outputs": [
    {
     "data": {
      "text/plain": [
       "count    22288.0\n",
       "mean         0.5\n",
       "std          0.0\n",
       "min          0.5\n",
       "25%          0.5\n",
       "50%          0.5\n",
       "75%          0.5\n",
       "max          0.5\n",
       "Name: mshare, dtype: float64"
      ]
     },
     "execution_count": 84,
     "metadata": {},
     "output_type": "execute_result"
    }
   ],
   "source": [
    "sampleUS_4[sampleUS_4['ee'] == 0]['mshare'].describe()"
   ]
  },
  {
   "cell_type": "code",
   "execution_count": 85,
   "metadata": {},
   "outputs": [
    {
     "data": {
      "text/plain": [
       "count    24308.0\n",
       "mean         0.5\n",
       "std          0.0\n",
       "min          0.5\n",
       "25%          0.5\n",
       "50%          0.5\n",
       "75%          0.5\n",
       "max          0.5\n",
       "Name: mshare, dtype: float64"
      ]
     },
     "execution_count": 85,
     "metadata": {},
     "output_type": "execute_result"
    }
   ],
   "source": [
    "sampleUS_4[sampleUS_4['ee'] == 1]['mshare'].describe()"
   ]
  },
  {
   "cell_type": "code",
   "execution_count": 86,
   "metadata": {},
   "outputs": [],
   "source": [
    "#from Table 5\n",
    "sampleUS_4['lH'] = 1.96\n",
    "sampleUS_4['lL'] = 0.45\n",
    "sampleUS_4['a1'] = 0.80\n",
    "sampleUS_4['a2'] = 0.43\n",
    "\n",
    "sampleUS_4['ratio80'] = 1.22 #/*H/L*/\n",
    "sampleUS_4['ratio'] = 0.55 #/*H/H+L*/\n",
    "#sampleUS_4"
   ]
  },
  {
   "cell_type": "code",
   "execution_count": 87,
   "metadata": {},
   "outputs": [],
   "source": [
    "def T(R1,a1,a2,price_elast_H,inc_elast_H,price_elast_L,inc_elast_L):\n",
    "    T = R1*((a1-a2)*price_elast_H+(1-a2)*inc_elast_H)+(1-R1)*((a1-a2)*price_elast_L-a2*inc_elast_L)\n",
    "    return T\n",
    "\n",
    "sampleUS_4['T'] = T(sampleUS_4['R1'], sampleUS_4['a1'],sampleUS_4['a2'],\n",
    "                    sampleUS_4['price_elast_H'],sampleUS_4['inc_elast_H'],\n",
    "                    sampleUS_4['price_elast_L'],sampleUS_4['inc_elast_L'])"
   ]
  },
  {
   "cell_type": "code",
   "execution_count": 88,
   "metadata": {},
   "outputs": [],
   "source": [
    "def result(a1,a2,lH,lL,R1,ratio80,T):\n",
    "    result=(1-a2)*((lH-lL)*(R1-(1-R1)*ratio80)-(1+lH+ratio80*(1+lL)))/((lL+1)*1.4+(lH-lL)*(1-a1)*1.4+(lH-lL)*T)\n",
    "    return result\n",
    "\n",
    "sampleUS_4['result'] = result(sampleUS_4['a1'],sampleUS_4['a2'],sampleUS_4['lH'],sampleUS_4['lL'],  \n",
    "                    sampleUS_4['R1'],sampleUS_4['ratio80'],sampleUS_4['T']) "
   ]
  },
  {
   "cell_type": "code",
   "execution_count": 89,
   "metadata": {},
   "outputs": [
    {
     "data": {
      "text/html": [
       "<div>\n",
       "<style scoped>\n",
       "    .dataframe tbody tr th:only-of-type {\n",
       "        vertical-align: middle;\n",
       "    }\n",
       "\n",
       "    .dataframe tbody tr th {\n",
       "        vertical-align: top;\n",
       "    }\n",
       "\n",
       "    .dataframe thead th {\n",
       "        text-align: right;\n",
       "    }\n",
       "</style>\n",
       "<table border=\"1\" class=\"dataframe\">\n",
       "  <thead>\n",
       "    <tr style=\"text-align: right;\">\n",
       "      <th></th>\n",
       "      <th>result</th>\n",
       "    </tr>\n",
       "  </thead>\n",
       "  <tbody>\n",
       "    <tr>\n",
       "      <th>count</th>\n",
       "      <td>1.215400e+04</td>\n",
       "    </tr>\n",
       "    <tr>\n",
       "      <th>mean</th>\n",
       "      <td>-1.121195e+00</td>\n",
       "    </tr>\n",
       "    <tr>\n",
       "      <th>std</th>\n",
       "      <td>1.381174e-13</td>\n",
       "    </tr>\n",
       "    <tr>\n",
       "      <th>min</th>\n",
       "      <td>-1.121195e+00</td>\n",
       "    </tr>\n",
       "    <tr>\n",
       "      <th>25%</th>\n",
       "      <td>-1.121195e+00</td>\n",
       "    </tr>\n",
       "    <tr>\n",
       "      <th>50%</th>\n",
       "      <td>-1.121195e+00</td>\n",
       "    </tr>\n",
       "    <tr>\n",
       "      <th>75%</th>\n",
       "      <td>-1.121195e+00</td>\n",
       "    </tr>\n",
       "    <tr>\n",
       "      <th>max</th>\n",
       "      <td>-1.121195e+00</td>\n",
       "    </tr>\n",
       "  </tbody>\n",
       "</table>\n",
       "</div>"
      ],
      "text/plain": [
       "             result\n",
       "count  1.215400e+04\n",
       "mean  -1.121195e+00\n",
       "std    1.381174e-13\n",
       "min   -1.121195e+00\n",
       "25%   -1.121195e+00\n",
       "50%   -1.121195e+00\n",
       "75%   -1.121195e+00\n",
       "max   -1.121195e+00"
      ]
     },
     "execution_count": 89,
     "metadata": {},
     "output_type": "execute_result"
    }
   ],
   "source": [
    "sampleUS_4[['result']].describe()"
   ]
  },
  {
   "cell_type": "code",
   "execution_count": 90,
   "metadata": {},
   "outputs": [],
   "source": [
    "#counterfactual\n",
    "def counter(a1,a2,lH,lL,ratio,ratio80,price_elast):\n",
    "    counter=-(1-a2)*(1+lH+ratio80*(1+lL))/((lL+1)*1.4+(lH-lL)*(1-a1)*1.4+(lH-lL)*(price_elast*(a1-a2)+ratio-a2))\n",
    "    return counter\n",
    "\n",
    "sampleUS_4['counter'] = counter(sampleUS_4['a1'],sampleUS_4['a2'],sampleUS_4['lH'],sampleUS_4['lL'],  \n",
    "                    sampleUS_4['ratio'],sampleUS_4['ratio80'],sampleUS_4['price_elast']) "
   ]
  },
  {
   "cell_type": "code",
   "execution_count": 91,
   "metadata": {},
   "outputs": [],
   "source": [
    "#sampleUS_4[['counter']].describe()"
   ]
  },
  {
   "cell_type": "code",
   "execution_count": 92,
   "metadata": {},
   "outputs": [],
   "source": [
    "#DECOMPOSITION\n",
    "#The direct effect of education elasticities can be quantified in \n",
    "\n",
    "def edd(a2,lH,lL,R1,ratio80):\n",
    "    edd=(1-a2)*(lH-lL)*(R1-(1-R1)*ratio80)\n",
    "    return edd\n",
    "\n",
    "sampleUS_4['edd'] = edd(sampleUS_4['a2'],sampleUS_4['lH'],sampleUS_4['lL'],sampleUS_4['R1'],sampleUS_4['ratio80'])\n",
    "#sampleUS_4[['edd']].describe()"
   ]
  },
  {
   "cell_type": "code",
   "execution_count": 93,
   "metadata": {},
   "outputs": [],
   "source": [
    "#The difference in income elasticities is calculated at\n",
    "def incc(R1,a2,inc_elast_H,inc_elast_L):\n",
    "    incc= (R1*(1-a2)*inc_elast_H-(1-R1)*a2*inc_elast_L)\n",
    "    return incc\n",
    "\n",
    "sampleUS_4['incc'] = incc(sampleUS_4['R1'],sampleUS_4['a2'],sampleUS_4['inc_elast_H'],sampleUS_4['inc_elast_L']) \n",
    "#sampleUS_4[['incc']].describe()"
   ]
  },
  {
   "cell_type": "code",
   "execution_count": 94,
   "metadata": {},
   "outputs": [],
   "source": [
    "#The difference in price elasticities is calculated \n",
    "def priced(R1,a1,a2,price_elast_H,price_elast_L, price_elast):\n",
    "    priced= (R1*(a1-a2)*price_elast_H+(1-R1)*(a1-a2)*price_elast_L-(a1-a2)*price_elast)\n",
    "    return priced\n",
    "\n",
    "sampleUS_4['priced'] = priced(sampleUS_4['R1'],sampleUS_4['a1'],sampleUS_4['a2'],sampleUS_4['price_elast_H'],\n",
    "                              sampleUS_4['price_elast_L'],sampleUS_4['price_elast']) \n",
    "#sampleUS_4[['priced']].describe()"
   ]
  },
  {
   "cell_type": "code",
   "execution_count": 95,
   "metadata": {},
   "outputs": [
    {
     "data": {
      "text/html": [
       "<div>\n",
       "<style scoped>\n",
       "    .dataframe tbody tr th:only-of-type {\n",
       "        vertical-align: middle;\n",
       "    }\n",
       "\n",
       "    .dataframe tbody tr th {\n",
       "        vertical-align: top;\n",
       "    }\n",
       "\n",
       "    .dataframe thead th {\n",
       "        text-align: right;\n",
       "    }\n",
       "</style>\n",
       "<table border=\"1\" class=\"dataframe\">\n",
       "  <thead>\n",
       "    <tr style=\"text-align: right;\">\n",
       "      <th></th>\n",
       "      <th>result</th>\n",
       "      <th>counter</th>\n",
       "      <th>edd</th>\n",
       "      <th>incc</th>\n",
       "      <th>priced</th>\n",
       "    </tr>\n",
       "  </thead>\n",
       "  <tbody>\n",
       "    <tr>\n",
       "      <th>count</th>\n",
       "      <td>1.215400e+04</td>\n",
       "      <td>4.659600e+04</td>\n",
       "      <td>1.215400e+04</td>\n",
       "      <td>1.215400e+04</td>\n",
       "      <td>1.215400e+04</td>\n",
       "    </tr>\n",
       "    <tr>\n",
       "      <th>mean</th>\n",
       "      <td>-1.121195e+00</td>\n",
       "      <td>-1.217543e+00</td>\n",
       "      <td>1.125083e-01</td>\n",
       "      <td>1.956781e-01</td>\n",
       "      <td>-1.614050e-02</td>\n",
       "    </tr>\n",
       "    <tr>\n",
       "      <th>std</th>\n",
       "      <td>1.381174e-13</td>\n",
       "      <td>1.121337e-12</td>\n",
       "      <td>2.012362e-14</td>\n",
       "      <td>1.904111e-14</td>\n",
       "      <td>4.559041e-15</td>\n",
       "    </tr>\n",
       "    <tr>\n",
       "      <th>min</th>\n",
       "      <td>-1.121195e+00</td>\n",
       "      <td>-1.217543e+00</td>\n",
       "      <td>1.125083e-01</td>\n",
       "      <td>1.956781e-01</td>\n",
       "      <td>-1.614050e-02</td>\n",
       "    </tr>\n",
       "    <tr>\n",
       "      <th>25%</th>\n",
       "      <td>-1.121195e+00</td>\n",
       "      <td>-1.217543e+00</td>\n",
       "      <td>1.125083e-01</td>\n",
       "      <td>1.956781e-01</td>\n",
       "      <td>-1.614050e-02</td>\n",
       "    </tr>\n",
       "    <tr>\n",
       "      <th>50%</th>\n",
       "      <td>-1.121195e+00</td>\n",
       "      <td>-1.217543e+00</td>\n",
       "      <td>1.125083e-01</td>\n",
       "      <td>1.956781e-01</td>\n",
       "      <td>-1.614050e-02</td>\n",
       "    </tr>\n",
       "    <tr>\n",
       "      <th>75%</th>\n",
       "      <td>-1.121195e+00</td>\n",
       "      <td>-1.217543e+00</td>\n",
       "      <td>1.125083e-01</td>\n",
       "      <td>1.956781e-01</td>\n",
       "      <td>-1.614050e-02</td>\n",
       "    </tr>\n",
       "    <tr>\n",
       "      <th>max</th>\n",
       "      <td>-1.121195e+00</td>\n",
       "      <td>-1.217543e+00</td>\n",
       "      <td>1.125083e-01</td>\n",
       "      <td>1.956781e-01</td>\n",
       "      <td>-1.614050e-02</td>\n",
       "    </tr>\n",
       "  </tbody>\n",
       "</table>\n",
       "</div>"
      ],
      "text/plain": [
       "             result       counter           edd          incc        priced\n",
       "count  1.215400e+04  4.659600e+04  1.215400e+04  1.215400e+04  1.215400e+04\n",
       "mean  -1.121195e+00 -1.217543e+00  1.125083e-01  1.956781e-01 -1.614050e-02\n",
       "std    1.381174e-13  1.121337e-12  2.012362e-14  1.904111e-14  4.559041e-15\n",
       "min   -1.121195e+00 -1.217543e+00  1.125083e-01  1.956781e-01 -1.614050e-02\n",
       "25%   -1.121195e+00 -1.217543e+00  1.125083e-01  1.956781e-01 -1.614050e-02\n",
       "50%   -1.121195e+00 -1.217543e+00  1.125083e-01  1.956781e-01 -1.614050e-02\n",
       "75%   -1.121195e+00 -1.217543e+00  1.125083e-01  1.956781e-01 -1.614050e-02\n",
       "max   -1.121195e+00 -1.217543e+00  1.125083e-01  1.956781e-01 -1.614050e-02"
      ]
     },
     "execution_count": 95,
     "metadata": {},
     "output_type": "execute_result"
    }
   ],
   "source": [
    "sampleUS_4[['result','counter','edd','incc','priced']].describe()"
   ]
  },
  {
   "cell_type": "code",
   "execution_count": 96,
   "metadata": {},
   "outputs": [],
   "source": [
    "#persentage terms\n",
    "pt1 = sampleUS_4['result'].mean()*0.66\n",
    "pt2 = sampleUS_4['counter'].mean()*0.66\n",
    "pt3 = pt1 - pt2\n",
    "pt4 = 0.13- pt2\n",
    "pt5 = pt3/pt4"
   ]
  },
  {
   "cell_type": "code",
   "execution_count": 97,
   "metadata": {},
   "outputs": [
    {
     "data": {
      "text/html": [
       "<div>\n",
       "<style scoped>\n",
       "    .dataframe tbody tr th:only-of-type {\n",
       "        vertical-align: middle;\n",
       "    }\n",
       "\n",
       "    .dataframe tbody tr th {\n",
       "        vertical-align: top;\n",
       "    }\n",
       "\n",
       "    .dataframe thead th {\n",
       "        text-align: right;\n",
       "    }\n",
       "</style>\n",
       "<table border=\"1\" class=\"dataframe\">\n",
       "  <thead>\n",
       "    <tr style=\"text-align: right;\">\n",
       "      <th></th>\n",
       "      <th>one</th>\n",
       "      <th>two</th>\n",
       "      <th>three</th>\n",
       "      <th>four</th>\n",
       "      <th>five</th>\n",
       "    </tr>\n",
       "  </thead>\n",
       "  <tbody>\n",
       "    <tr>\n",
       "      <th>US CEX</th>\n",
       "      <td>-1.12</td>\n",
       "      <td>-1.22</td>\n",
       "      <td></td>\n",
       "      <td></td>\n",
       "      <td></td>\n",
       "    </tr>\n",
       "    <tr>\n",
       "      <th>Percentage terms</th>\n",
       "      <td>-0.74</td>\n",
       "      <td>-0.80</td>\n",
       "      <td>0.0635897</td>\n",
       "      <td>0.933578</td>\n",
       "      <td>0.0681139</td>\n",
       "    </tr>\n",
       "  </tbody>\n",
       "</table>\n",
       "</div>"
      ],
      "text/plain": [
       "                   one   two      three      four       five\n",
       "US CEX           -1.12 -1.22                                \n",
       "Percentage terms -0.74 -0.80  0.0635897  0.933578  0.0681139"
      ]
     },
     "execution_count": 97,
     "metadata": {},
     "output_type": "execute_result"
    }
   ],
   "source": [
    "#TABLE6\n",
    "USCEX = [-1.12,-1.22,'','','']\n",
    "Percentage_terms = [pt1,pt2,pt3,pt4,pt5]\n",
    "\n",
    "index = ['US CEX','Percentage terms']\n",
    "\n",
    "rows = [USCEX,Percentage_terms]\n",
    "#columns=['Model with income and education elasticities','Model without income and education elasticities','Difference','Demand shift','Contribution of elasticities']\n",
    "\n",
    "TABLE6 = pd.DataFrame(data = rows, index=index, columns=['one','two','three','four','five'])                                                          \n",
    "TABLE6.round(2)"
   ]
  },
  {
   "cell_type": "code",
   "execution_count": null,
   "metadata": {},
   "outputs": [],
   "source": []
  }
 ],
 "metadata": {
  "kernelspec": {
   "display_name": "Python 3",
   "language": "python",
   "name": "python3"
  },
  "language_info": {
   "codemirror_mode": {
    "name": "ipython",
    "version": 3
   },
   "file_extension": ".py",
   "mimetype": "text/x-python",
   "name": "python",
   "nbconvert_exporter": "python",
   "pygments_lexer": "ipython3",
   "version": "3.8.5"
  }
 },
 "nbformat": 4,
 "nbformat_minor": 2
}